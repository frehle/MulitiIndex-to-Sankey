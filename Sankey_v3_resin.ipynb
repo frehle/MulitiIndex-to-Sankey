{
 "cells": [
  {
   "cell_type": "code",
   "id": "5acc55cb",
   "metadata": {
    "ExecuteTime": {
     "end_time": "2024-08-19T15:43:32.497987Z",
     "start_time": "2024-08-19T15:43:32.482390Z"
    }
   },
   "source": [
    "import pandas as pd\n",
    "import plotly.graph_objects as go"
   ],
   "outputs": [],
   "execution_count": 27
  },
  {
   "cell_type": "code",
   "id": "96959a65",
   "metadata": {
    "scrolled": true,
    "ExecuteTime": {
     "end_time": "2024-08-19T15:43:32.988372Z",
     "start_time": "2024-08-19T15:43:32.957132Z"
    }
   },
   "source": [
    "#import df derived from Statistics Canada physical flow account for plastic material, by resin, \n",
    "#from .csv, release date: 2024-03-18\n",
    "#code used to process is in 'multiIndex_v4.1_from_to_StatCan_resin'\n",
    "#df_StatCan_resin_2020_CA = pd.read_excel('38100151_df_2020_CA.xlsx')\n",
    "df_StatCan_resin_2020_CA = pd.read_csv(\"../Results/38100151_df_2020_CA.csv\")\n",
    "df_StatCan_resin_2020_CA#.reset_index()"
   ],
   "outputs": [
    {
     "data": {
      "text/plain": [
       "     Unnamed: 0                                           Variable  \\\n",
       "0             0          Plastic in domestically produced products   \n",
       "1             1          Plastic in domestically produced products   \n",
       "2             2          Plastic in domestically produced products   \n",
       "3             3          Plastic in domestically produced products   \n",
       "4             4          Plastic in domestically produced products   \n",
       "..          ...                                                ...   \n",
       "298         298             Total disposed plastic waste and scrap   \n",
       "299         299             Total disposed plastic waste and scrap   \n",
       "300         300  Disposed plastic waste and scrap sent to landf...   \n",
       "301         301  Disposed plastic waste and scrap sent for inci...   \n",
       "302         302  Net trade (imports less exports) of disposed p...   \n",
       "\n",
       "                                       Resin     UOM COORDINATE      VALUE  \\\n",
       "0                          Total, all resins  Tonnes      1.1.1  4474733.0   \n",
       "1    Polyethylene terephthalate (PET) resins  Tonnes      1.1.2   597458.0   \n",
       "2       Other thermoplastic polyester resins  Tonnes      1.1.3    89175.0   \n",
       "3            Low-density polyethylene resins  Tonnes      1.1.4   321013.0   \n",
       "4     Linear low-density polyethylene resins  Tonnes      1.1.5   225756.0   \n",
       "..                                       ...     ...        ...        ...   \n",
       "298        Thermosetting polyurethane resins  Tonnes    1.15.19    26100.0   \n",
       "299               Other thermosetting resins  Tonnes    1.15.20    38071.0   \n",
       "300                        Total, all resins  Tonnes     1.16.1  3916862.0   \n",
       "301                        Total, all resins  Tonnes     1.17.1   107577.0   \n",
       "302                        Total, all resins  Tonnes     1.18.1  -496166.0   \n",
       "\n",
       "                        From                                  To  \n",
       "0     CA domestic production                      CA consumption  \n",
       "1     CA domestic production                      CA consumption  \n",
       "2     CA domestic production                      CA consumption  \n",
       "3     CA domestic production                      CA consumption  \n",
       "4     CA domestic production                      CA consumption  \n",
       "..                       ...                                 ...  \n",
       "298                      NaN                                 NaN  \n",
       "299                      NaN                                 NaN  \n",
       "300  Total disposed plastics            Landfill or incineration  \n",
       "301  Total disposed plastics  Incineration (WtE) or gasification  \n",
       "302  Total disposed plastics         Net trade disposed plastics  \n",
       "\n",
       "[303 rows x 8 columns]"
      ],
      "text/html": [
       "<div>\n",
       "<style scoped>\n",
       "    .dataframe tbody tr th:only-of-type {\n",
       "        vertical-align: middle;\n",
       "    }\n",
       "\n",
       "    .dataframe tbody tr th {\n",
       "        vertical-align: top;\n",
       "    }\n",
       "\n",
       "    .dataframe thead th {\n",
       "        text-align: right;\n",
       "    }\n",
       "</style>\n",
       "<table border=\"1\" class=\"dataframe\">\n",
       "  <thead>\n",
       "    <tr style=\"text-align: right;\">\n",
       "      <th></th>\n",
       "      <th>Unnamed: 0</th>\n",
       "      <th>Variable</th>\n",
       "      <th>Resin</th>\n",
       "      <th>UOM</th>\n",
       "      <th>COORDINATE</th>\n",
       "      <th>VALUE</th>\n",
       "      <th>From</th>\n",
       "      <th>To</th>\n",
       "    </tr>\n",
       "  </thead>\n",
       "  <tbody>\n",
       "    <tr>\n",
       "      <th>0</th>\n",
       "      <td>0</td>\n",
       "      <td>Plastic in domestically produced products</td>\n",
       "      <td>Total, all resins</td>\n",
       "      <td>Tonnes</td>\n",
       "      <td>1.1.1</td>\n",
       "      <td>4474733.0</td>\n",
       "      <td>CA domestic production</td>\n",
       "      <td>CA consumption</td>\n",
       "    </tr>\n",
       "    <tr>\n",
       "      <th>1</th>\n",
       "      <td>1</td>\n",
       "      <td>Plastic in domestically produced products</td>\n",
       "      <td>Polyethylene terephthalate (PET) resins</td>\n",
       "      <td>Tonnes</td>\n",
       "      <td>1.1.2</td>\n",
       "      <td>597458.0</td>\n",
       "      <td>CA domestic production</td>\n",
       "      <td>CA consumption</td>\n",
       "    </tr>\n",
       "    <tr>\n",
       "      <th>2</th>\n",
       "      <td>2</td>\n",
       "      <td>Plastic in domestically produced products</td>\n",
       "      <td>Other thermoplastic polyester resins</td>\n",
       "      <td>Tonnes</td>\n",
       "      <td>1.1.3</td>\n",
       "      <td>89175.0</td>\n",
       "      <td>CA domestic production</td>\n",
       "      <td>CA consumption</td>\n",
       "    </tr>\n",
       "    <tr>\n",
       "      <th>3</th>\n",
       "      <td>3</td>\n",
       "      <td>Plastic in domestically produced products</td>\n",
       "      <td>Low-density polyethylene resins</td>\n",
       "      <td>Tonnes</td>\n",
       "      <td>1.1.4</td>\n",
       "      <td>321013.0</td>\n",
       "      <td>CA domestic production</td>\n",
       "      <td>CA consumption</td>\n",
       "    </tr>\n",
       "    <tr>\n",
       "      <th>4</th>\n",
       "      <td>4</td>\n",
       "      <td>Plastic in domestically produced products</td>\n",
       "      <td>Linear low-density polyethylene resins</td>\n",
       "      <td>Tonnes</td>\n",
       "      <td>1.1.5</td>\n",
       "      <td>225756.0</td>\n",
       "      <td>CA domestic production</td>\n",
       "      <td>CA consumption</td>\n",
       "    </tr>\n",
       "    <tr>\n",
       "      <th>...</th>\n",
       "      <td>...</td>\n",
       "      <td>...</td>\n",
       "      <td>...</td>\n",
       "      <td>...</td>\n",
       "      <td>...</td>\n",
       "      <td>...</td>\n",
       "      <td>...</td>\n",
       "      <td>...</td>\n",
       "    </tr>\n",
       "    <tr>\n",
       "      <th>298</th>\n",
       "      <td>298</td>\n",
       "      <td>Total disposed plastic waste and scrap</td>\n",
       "      <td>Thermosetting polyurethane resins</td>\n",
       "      <td>Tonnes</td>\n",
       "      <td>1.15.19</td>\n",
       "      <td>26100.0</td>\n",
       "      <td>NaN</td>\n",
       "      <td>NaN</td>\n",
       "    </tr>\n",
       "    <tr>\n",
       "      <th>299</th>\n",
       "      <td>299</td>\n",
       "      <td>Total disposed plastic waste and scrap</td>\n",
       "      <td>Other thermosetting resins</td>\n",
       "      <td>Tonnes</td>\n",
       "      <td>1.15.20</td>\n",
       "      <td>38071.0</td>\n",
       "      <td>NaN</td>\n",
       "      <td>NaN</td>\n",
       "    </tr>\n",
       "    <tr>\n",
       "      <th>300</th>\n",
       "      <td>300</td>\n",
       "      <td>Disposed plastic waste and scrap sent to landf...</td>\n",
       "      <td>Total, all resins</td>\n",
       "      <td>Tonnes</td>\n",
       "      <td>1.16.1</td>\n",
       "      <td>3916862.0</td>\n",
       "      <td>Total disposed plastics</td>\n",
       "      <td>Landfill or incineration</td>\n",
       "    </tr>\n",
       "    <tr>\n",
       "      <th>301</th>\n",
       "      <td>301</td>\n",
       "      <td>Disposed plastic waste and scrap sent for inci...</td>\n",
       "      <td>Total, all resins</td>\n",
       "      <td>Tonnes</td>\n",
       "      <td>1.17.1</td>\n",
       "      <td>107577.0</td>\n",
       "      <td>Total disposed plastics</td>\n",
       "      <td>Incineration (WtE) or gasification</td>\n",
       "    </tr>\n",
       "    <tr>\n",
       "      <th>302</th>\n",
       "      <td>302</td>\n",
       "      <td>Net trade (imports less exports) of disposed p...</td>\n",
       "      <td>Total, all resins</td>\n",
       "      <td>Tonnes</td>\n",
       "      <td>1.18.1</td>\n",
       "      <td>-496166.0</td>\n",
       "      <td>Total disposed plastics</td>\n",
       "      <td>Net trade disposed plastics</td>\n",
       "    </tr>\n",
       "  </tbody>\n",
       "</table>\n",
       "<p>303 rows × 8 columns</p>\n",
       "</div>"
      ]
     },
     "execution_count": 28,
     "metadata": {},
     "output_type": "execute_result"
    }
   ],
   "execution_count": 28
  },
  {
   "cell_type": "code",
   "id": "d8908690",
   "metadata": {
    "ExecuteTime": {
     "end_time": "2024-08-19T15:43:33.888844Z",
     "start_time": "2024-08-19T15:43:33.857122Z"
    }
   },
   "source": [
    "#turn VALUE into absolute values\n",
    "df_StatCan_resin_2020_CA['VALUE'] =df_StatCan_resin_2020_CA['VALUE'].apply(lambda x: abs(x))\n",
    "display(df_StatCan_resin_2020_CA)"
   ],
   "outputs": [
    {
     "data": {
      "text/plain": [
       "     Unnamed: 0                                           Variable  \\\n",
       "0             0          Plastic in domestically produced products   \n",
       "1             1          Plastic in domestically produced products   \n",
       "2             2          Plastic in domestically produced products   \n",
       "3             3          Plastic in domestically produced products   \n",
       "4             4          Plastic in domestically produced products   \n",
       "..          ...                                                ...   \n",
       "298         298             Total disposed plastic waste and scrap   \n",
       "299         299             Total disposed plastic waste and scrap   \n",
       "300         300  Disposed plastic waste and scrap sent to landf...   \n",
       "301         301  Disposed plastic waste and scrap sent for inci...   \n",
       "302         302  Net trade (imports less exports) of disposed p...   \n",
       "\n",
       "                                       Resin     UOM COORDINATE      VALUE  \\\n",
       "0                          Total, all resins  Tonnes      1.1.1  4474733.0   \n",
       "1    Polyethylene terephthalate (PET) resins  Tonnes      1.1.2   597458.0   \n",
       "2       Other thermoplastic polyester resins  Tonnes      1.1.3    89175.0   \n",
       "3            Low-density polyethylene resins  Tonnes      1.1.4   321013.0   \n",
       "4     Linear low-density polyethylene resins  Tonnes      1.1.5   225756.0   \n",
       "..                                       ...     ...        ...        ...   \n",
       "298        Thermosetting polyurethane resins  Tonnes    1.15.19    26100.0   \n",
       "299               Other thermosetting resins  Tonnes    1.15.20    38071.0   \n",
       "300                        Total, all resins  Tonnes     1.16.1  3916862.0   \n",
       "301                        Total, all resins  Tonnes     1.17.1   107577.0   \n",
       "302                        Total, all resins  Tonnes     1.18.1   496166.0   \n",
       "\n",
       "                        From                                  To  \n",
       "0     CA domestic production                      CA consumption  \n",
       "1     CA domestic production                      CA consumption  \n",
       "2     CA domestic production                      CA consumption  \n",
       "3     CA domestic production                      CA consumption  \n",
       "4     CA domestic production                      CA consumption  \n",
       "..                       ...                                 ...  \n",
       "298                      NaN                                 NaN  \n",
       "299                      NaN                                 NaN  \n",
       "300  Total disposed plastics            Landfill or incineration  \n",
       "301  Total disposed plastics  Incineration (WtE) or gasification  \n",
       "302  Total disposed plastics         Net trade disposed plastics  \n",
       "\n",
       "[303 rows x 8 columns]"
      ],
      "text/html": [
       "<div>\n",
       "<style scoped>\n",
       "    .dataframe tbody tr th:only-of-type {\n",
       "        vertical-align: middle;\n",
       "    }\n",
       "\n",
       "    .dataframe tbody tr th {\n",
       "        vertical-align: top;\n",
       "    }\n",
       "\n",
       "    .dataframe thead th {\n",
       "        text-align: right;\n",
       "    }\n",
       "</style>\n",
       "<table border=\"1\" class=\"dataframe\">\n",
       "  <thead>\n",
       "    <tr style=\"text-align: right;\">\n",
       "      <th></th>\n",
       "      <th>Unnamed: 0</th>\n",
       "      <th>Variable</th>\n",
       "      <th>Resin</th>\n",
       "      <th>UOM</th>\n",
       "      <th>COORDINATE</th>\n",
       "      <th>VALUE</th>\n",
       "      <th>From</th>\n",
       "      <th>To</th>\n",
       "    </tr>\n",
       "  </thead>\n",
       "  <tbody>\n",
       "    <tr>\n",
       "      <th>0</th>\n",
       "      <td>0</td>\n",
       "      <td>Plastic in domestically produced products</td>\n",
       "      <td>Total, all resins</td>\n",
       "      <td>Tonnes</td>\n",
       "      <td>1.1.1</td>\n",
       "      <td>4474733.0</td>\n",
       "      <td>CA domestic production</td>\n",
       "      <td>CA consumption</td>\n",
       "    </tr>\n",
       "    <tr>\n",
       "      <th>1</th>\n",
       "      <td>1</td>\n",
       "      <td>Plastic in domestically produced products</td>\n",
       "      <td>Polyethylene terephthalate (PET) resins</td>\n",
       "      <td>Tonnes</td>\n",
       "      <td>1.1.2</td>\n",
       "      <td>597458.0</td>\n",
       "      <td>CA domestic production</td>\n",
       "      <td>CA consumption</td>\n",
       "    </tr>\n",
       "    <tr>\n",
       "      <th>2</th>\n",
       "      <td>2</td>\n",
       "      <td>Plastic in domestically produced products</td>\n",
       "      <td>Other thermoplastic polyester resins</td>\n",
       "      <td>Tonnes</td>\n",
       "      <td>1.1.3</td>\n",
       "      <td>89175.0</td>\n",
       "      <td>CA domestic production</td>\n",
       "      <td>CA consumption</td>\n",
       "    </tr>\n",
       "    <tr>\n",
       "      <th>3</th>\n",
       "      <td>3</td>\n",
       "      <td>Plastic in domestically produced products</td>\n",
       "      <td>Low-density polyethylene resins</td>\n",
       "      <td>Tonnes</td>\n",
       "      <td>1.1.4</td>\n",
       "      <td>321013.0</td>\n",
       "      <td>CA domestic production</td>\n",
       "      <td>CA consumption</td>\n",
       "    </tr>\n",
       "    <tr>\n",
       "      <th>4</th>\n",
       "      <td>4</td>\n",
       "      <td>Plastic in domestically produced products</td>\n",
       "      <td>Linear low-density polyethylene resins</td>\n",
       "      <td>Tonnes</td>\n",
       "      <td>1.1.5</td>\n",
       "      <td>225756.0</td>\n",
       "      <td>CA domestic production</td>\n",
       "      <td>CA consumption</td>\n",
       "    </tr>\n",
       "    <tr>\n",
       "      <th>...</th>\n",
       "      <td>...</td>\n",
       "      <td>...</td>\n",
       "      <td>...</td>\n",
       "      <td>...</td>\n",
       "      <td>...</td>\n",
       "      <td>...</td>\n",
       "      <td>...</td>\n",
       "      <td>...</td>\n",
       "    </tr>\n",
       "    <tr>\n",
       "      <th>298</th>\n",
       "      <td>298</td>\n",
       "      <td>Total disposed plastic waste and scrap</td>\n",
       "      <td>Thermosetting polyurethane resins</td>\n",
       "      <td>Tonnes</td>\n",
       "      <td>1.15.19</td>\n",
       "      <td>26100.0</td>\n",
       "      <td>NaN</td>\n",
       "      <td>NaN</td>\n",
       "    </tr>\n",
       "    <tr>\n",
       "      <th>299</th>\n",
       "      <td>299</td>\n",
       "      <td>Total disposed plastic waste and scrap</td>\n",
       "      <td>Other thermosetting resins</td>\n",
       "      <td>Tonnes</td>\n",
       "      <td>1.15.20</td>\n",
       "      <td>38071.0</td>\n",
       "      <td>NaN</td>\n",
       "      <td>NaN</td>\n",
       "    </tr>\n",
       "    <tr>\n",
       "      <th>300</th>\n",
       "      <td>300</td>\n",
       "      <td>Disposed plastic waste and scrap sent to landf...</td>\n",
       "      <td>Total, all resins</td>\n",
       "      <td>Tonnes</td>\n",
       "      <td>1.16.1</td>\n",
       "      <td>3916862.0</td>\n",
       "      <td>Total disposed plastics</td>\n",
       "      <td>Landfill or incineration</td>\n",
       "    </tr>\n",
       "    <tr>\n",
       "      <th>301</th>\n",
       "      <td>301</td>\n",
       "      <td>Disposed plastic waste and scrap sent for inci...</td>\n",
       "      <td>Total, all resins</td>\n",
       "      <td>Tonnes</td>\n",
       "      <td>1.17.1</td>\n",
       "      <td>107577.0</td>\n",
       "      <td>Total disposed plastics</td>\n",
       "      <td>Incineration (WtE) or gasification</td>\n",
       "    </tr>\n",
       "    <tr>\n",
       "      <th>302</th>\n",
       "      <td>302</td>\n",
       "      <td>Net trade (imports less exports) of disposed p...</td>\n",
       "      <td>Total, all resins</td>\n",
       "      <td>Tonnes</td>\n",
       "      <td>1.18.1</td>\n",
       "      <td>496166.0</td>\n",
       "      <td>Total disposed plastics</td>\n",
       "      <td>Net trade disposed plastics</td>\n",
       "    </tr>\n",
       "  </tbody>\n",
       "</table>\n",
       "<p>303 rows × 8 columns</p>\n",
       "</div>"
      ]
     },
     "metadata": {},
     "output_type": "display_data"
    }
   ],
   "execution_count": 29
  },
  {
   "cell_type": "code",
   "id": "50806804",
   "metadata": {
    "scrolled": true,
    "ExecuteTime": {
     "end_time": "2024-08-19T15:43:34.665463Z",
     "start_time": "2024-08-19T15:43:34.649807Z"
    }
   },
   "source": [
    "#import hierarchy of Resins, \n",
    "#compiled 2024-05-06\n",
    "data_hierarchy_StatCan_resin = pd.read_csv('../Code_Test/38100151_resin_hierarchy.csv',sep=',')\n",
    "data_hierarchy_StatCan_resin"
   ],
   "outputs": [
    {
     "data": {
      "text/plain": [
       "    Level                                         Resin\n",
       "0       1                             Total, all resins\n",
       "1       2       Polyethylene terephthalate (PET) resins\n",
       "2       2          Other thermoplastic polyester resins\n",
       "3       2               Low-density polyethylene resins\n",
       "4       2        Linear low-density polyethylene resins\n",
       "5       2              High-density polyethylene resins\n",
       "6       2                     Other polyethylene resins\n",
       "7       2                            Polystyrene resins\n",
       "8       2        Acrylonitrile-butadiene-styrene resins\n",
       "9       2                     Polyvinyl chloride resins\n",
       "10      2                          Polypropylene resins\n",
       "11      2             Thermoplastic polyurethane resins\n",
       "12      2                      Polyamide (nylon) resins\n",
       "13      2                All other thermoplastic resins\n",
       "14      2                               Phenolic resins\n",
       "15      2                      Urea formaldehyde resins\n",
       "16      2           All other formaldehyde based resins\n",
       "17      2  Unsaturated polyester (thermosetting) resins\n",
       "18      2             Thermosetting polyurethane resins\n",
       "19      2                    Other thermosetting resins"
      ],
      "text/html": [
       "<div>\n",
       "<style scoped>\n",
       "    .dataframe tbody tr th:only-of-type {\n",
       "        vertical-align: middle;\n",
       "    }\n",
       "\n",
       "    .dataframe tbody tr th {\n",
       "        vertical-align: top;\n",
       "    }\n",
       "\n",
       "    .dataframe thead th {\n",
       "        text-align: right;\n",
       "    }\n",
       "</style>\n",
       "<table border=\"1\" class=\"dataframe\">\n",
       "  <thead>\n",
       "    <tr style=\"text-align: right;\">\n",
       "      <th></th>\n",
       "      <th>Level</th>\n",
       "      <th>Resin</th>\n",
       "    </tr>\n",
       "  </thead>\n",
       "  <tbody>\n",
       "    <tr>\n",
       "      <th>0</th>\n",
       "      <td>1</td>\n",
       "      <td>Total, all resins</td>\n",
       "    </tr>\n",
       "    <tr>\n",
       "      <th>1</th>\n",
       "      <td>2</td>\n",
       "      <td>Polyethylene terephthalate (PET) resins</td>\n",
       "    </tr>\n",
       "    <tr>\n",
       "      <th>2</th>\n",
       "      <td>2</td>\n",
       "      <td>Other thermoplastic polyester resins</td>\n",
       "    </tr>\n",
       "    <tr>\n",
       "      <th>3</th>\n",
       "      <td>2</td>\n",
       "      <td>Low-density polyethylene resins</td>\n",
       "    </tr>\n",
       "    <tr>\n",
       "      <th>4</th>\n",
       "      <td>2</td>\n",
       "      <td>Linear low-density polyethylene resins</td>\n",
       "    </tr>\n",
       "    <tr>\n",
       "      <th>5</th>\n",
       "      <td>2</td>\n",
       "      <td>High-density polyethylene resins</td>\n",
       "    </tr>\n",
       "    <tr>\n",
       "      <th>6</th>\n",
       "      <td>2</td>\n",
       "      <td>Other polyethylene resins</td>\n",
       "    </tr>\n",
       "    <tr>\n",
       "      <th>7</th>\n",
       "      <td>2</td>\n",
       "      <td>Polystyrene resins</td>\n",
       "    </tr>\n",
       "    <tr>\n",
       "      <th>8</th>\n",
       "      <td>2</td>\n",
       "      <td>Acrylonitrile-butadiene-styrene resins</td>\n",
       "    </tr>\n",
       "    <tr>\n",
       "      <th>9</th>\n",
       "      <td>2</td>\n",
       "      <td>Polyvinyl chloride resins</td>\n",
       "    </tr>\n",
       "    <tr>\n",
       "      <th>10</th>\n",
       "      <td>2</td>\n",
       "      <td>Polypropylene resins</td>\n",
       "    </tr>\n",
       "    <tr>\n",
       "      <th>11</th>\n",
       "      <td>2</td>\n",
       "      <td>Thermoplastic polyurethane resins</td>\n",
       "    </tr>\n",
       "    <tr>\n",
       "      <th>12</th>\n",
       "      <td>2</td>\n",
       "      <td>Polyamide (nylon) resins</td>\n",
       "    </tr>\n",
       "    <tr>\n",
       "      <th>13</th>\n",
       "      <td>2</td>\n",
       "      <td>All other thermoplastic resins</td>\n",
       "    </tr>\n",
       "    <tr>\n",
       "      <th>14</th>\n",
       "      <td>2</td>\n",
       "      <td>Phenolic resins</td>\n",
       "    </tr>\n",
       "    <tr>\n",
       "      <th>15</th>\n",
       "      <td>2</td>\n",
       "      <td>Urea formaldehyde resins</td>\n",
       "    </tr>\n",
       "    <tr>\n",
       "      <th>16</th>\n",
       "      <td>2</td>\n",
       "      <td>All other formaldehyde based resins</td>\n",
       "    </tr>\n",
       "    <tr>\n",
       "      <th>17</th>\n",
       "      <td>2</td>\n",
       "      <td>Unsaturated polyester (thermosetting) resins</td>\n",
       "    </tr>\n",
       "    <tr>\n",
       "      <th>18</th>\n",
       "      <td>2</td>\n",
       "      <td>Thermosetting polyurethane resins</td>\n",
       "    </tr>\n",
       "    <tr>\n",
       "      <th>19</th>\n",
       "      <td>2</td>\n",
       "      <td>Other thermosetting resins</td>\n",
       "    </tr>\n",
       "  </tbody>\n",
       "</table>\n",
       "</div>"
      ]
     },
     "execution_count": 30,
     "metadata": {},
     "output_type": "execute_result"
    }
   ],
   "execution_count": 30
  },
  {
   "cell_type": "code",
   "id": "a8baceb5",
   "metadata": {
    "scrolled": true,
    "ExecuteTime": {
     "end_time": "2024-08-19T15:43:36.725445Z",
     "start_time": "2024-08-19T15:43:36.694373Z"
    }
   },
   "source": [
    "#merge data frames: df_StatCan_resin_2020_CA and hierarchy (Levels)\n",
    "df_StatCan_resin_2020_CA = pd.merge(df_StatCan_resin_2020_CA, data_hierarchy_StatCan_resin, on='Resin', how='outer',validate='many_to_many')\n",
    "display(df_StatCan_resin_2020_CA)"
   ],
   "outputs": [
    {
     "data": {
      "text/plain": [
       "     Unnamed: 0                                           Variable  \\\n",
       "0             0          Plastic in domestically produced products   \n",
       "1            20  Net trade (imports less exports) of newly prod...   \n",
       "2            40  Plastic in products produced for Canadian cons...   \n",
       "3            60  Net stock of plastic in products that remain i...   \n",
       "4            80                Total discarded plastic in products   \n",
       "..          ...                                                ...   \n",
       "298         219  Residual plastic waste and scrap sent for disp...   \n",
       "299         239  Net trade (imports less exports) of sorted and...   \n",
       "300         259  Recycled plastic pellets and flakes ready for ...   \n",
       "301         279  Residual plastic waste and scrap sent for disp...   \n",
       "302         299             Total disposed plastic waste and scrap   \n",
       "\n",
       "                          Resin     UOM COORDINATE      VALUE  \\\n",
       "0             Total, all resins  Tonnes      1.1.1  4474733.0   \n",
       "1             Total, all resins  Tonnes      1.2.1  2646334.0   \n",
       "2             Total, all resins  Tonnes      1.3.1  7121068.0   \n",
       "3             Total, all resins  Tonnes      1.4.1  2193412.0   \n",
       "4             Total, all resins  Tonnes      1.5.1  4927656.0   \n",
       "..                          ...     ...        ...        ...   \n",
       "298  Other thermosetting resins  Tonnes    1.11.20     1552.0   \n",
       "299  Other thermosetting resins  Tonnes    1.12.20       13.0   \n",
       "300  Other thermosetting resins  Tonnes    1.13.20      465.0   \n",
       "301  Other thermosetting resins  Tonnes    1.14.20      116.0   \n",
       "302  Other thermosetting resins  Tonnes    1.15.20    38071.0   \n",
       "\n",
       "                          From                         To  Level  \n",
       "0       CA domestic production             CA consumption      1  \n",
       "1    Net trade of new products             CA consumption      1  \n",
       "2                          NaN                        NaN      1  \n",
       "3               CA consumption  Net in-use stock addition      1  \n",
       "4               CA consumption   Total discarded plastics      1  \n",
       "..                         ...                        ...    ...  \n",
       "298          Material recovery    Total disposed plastics      2  \n",
       "299          Material recovery    Net trade baled plastic      2  \n",
       "300                  Recycling        Secondary feedstock      2  \n",
       "301                  Recycling    Total disposed plastics      2  \n",
       "302                        NaN                        NaN      2  \n",
       "\n",
       "[303 rows x 9 columns]"
      ],
      "text/html": [
       "<div>\n",
       "<style scoped>\n",
       "    .dataframe tbody tr th:only-of-type {\n",
       "        vertical-align: middle;\n",
       "    }\n",
       "\n",
       "    .dataframe tbody tr th {\n",
       "        vertical-align: top;\n",
       "    }\n",
       "\n",
       "    .dataframe thead th {\n",
       "        text-align: right;\n",
       "    }\n",
       "</style>\n",
       "<table border=\"1\" class=\"dataframe\">\n",
       "  <thead>\n",
       "    <tr style=\"text-align: right;\">\n",
       "      <th></th>\n",
       "      <th>Unnamed: 0</th>\n",
       "      <th>Variable</th>\n",
       "      <th>Resin</th>\n",
       "      <th>UOM</th>\n",
       "      <th>COORDINATE</th>\n",
       "      <th>VALUE</th>\n",
       "      <th>From</th>\n",
       "      <th>To</th>\n",
       "      <th>Level</th>\n",
       "    </tr>\n",
       "  </thead>\n",
       "  <tbody>\n",
       "    <tr>\n",
       "      <th>0</th>\n",
       "      <td>0</td>\n",
       "      <td>Plastic in domestically produced products</td>\n",
       "      <td>Total, all resins</td>\n",
       "      <td>Tonnes</td>\n",
       "      <td>1.1.1</td>\n",
       "      <td>4474733.0</td>\n",
       "      <td>CA domestic production</td>\n",
       "      <td>CA consumption</td>\n",
       "      <td>1</td>\n",
       "    </tr>\n",
       "    <tr>\n",
       "      <th>1</th>\n",
       "      <td>20</td>\n",
       "      <td>Net trade (imports less exports) of newly prod...</td>\n",
       "      <td>Total, all resins</td>\n",
       "      <td>Tonnes</td>\n",
       "      <td>1.2.1</td>\n",
       "      <td>2646334.0</td>\n",
       "      <td>Net trade of new products</td>\n",
       "      <td>CA consumption</td>\n",
       "      <td>1</td>\n",
       "    </tr>\n",
       "    <tr>\n",
       "      <th>2</th>\n",
       "      <td>40</td>\n",
       "      <td>Plastic in products produced for Canadian cons...</td>\n",
       "      <td>Total, all resins</td>\n",
       "      <td>Tonnes</td>\n",
       "      <td>1.3.1</td>\n",
       "      <td>7121068.0</td>\n",
       "      <td>NaN</td>\n",
       "      <td>NaN</td>\n",
       "      <td>1</td>\n",
       "    </tr>\n",
       "    <tr>\n",
       "      <th>3</th>\n",
       "      <td>60</td>\n",
       "      <td>Net stock of plastic in products that remain i...</td>\n",
       "      <td>Total, all resins</td>\n",
       "      <td>Tonnes</td>\n",
       "      <td>1.4.1</td>\n",
       "      <td>2193412.0</td>\n",
       "      <td>CA consumption</td>\n",
       "      <td>Net in-use stock addition</td>\n",
       "      <td>1</td>\n",
       "    </tr>\n",
       "    <tr>\n",
       "      <th>4</th>\n",
       "      <td>80</td>\n",
       "      <td>Total discarded plastic in products</td>\n",
       "      <td>Total, all resins</td>\n",
       "      <td>Tonnes</td>\n",
       "      <td>1.5.1</td>\n",
       "      <td>4927656.0</td>\n",
       "      <td>CA consumption</td>\n",
       "      <td>Total discarded plastics</td>\n",
       "      <td>1</td>\n",
       "    </tr>\n",
       "    <tr>\n",
       "      <th>...</th>\n",
       "      <td>...</td>\n",
       "      <td>...</td>\n",
       "      <td>...</td>\n",
       "      <td>...</td>\n",
       "      <td>...</td>\n",
       "      <td>...</td>\n",
       "      <td>...</td>\n",
       "      <td>...</td>\n",
       "      <td>...</td>\n",
       "    </tr>\n",
       "    <tr>\n",
       "      <th>298</th>\n",
       "      <td>219</td>\n",
       "      <td>Residual plastic waste and scrap sent for disp...</td>\n",
       "      <td>Other thermosetting resins</td>\n",
       "      <td>Tonnes</td>\n",
       "      <td>1.11.20</td>\n",
       "      <td>1552.0</td>\n",
       "      <td>Material recovery</td>\n",
       "      <td>Total disposed plastics</td>\n",
       "      <td>2</td>\n",
       "    </tr>\n",
       "    <tr>\n",
       "      <th>299</th>\n",
       "      <td>239</td>\n",
       "      <td>Net trade (imports less exports) of sorted and...</td>\n",
       "      <td>Other thermosetting resins</td>\n",
       "      <td>Tonnes</td>\n",
       "      <td>1.12.20</td>\n",
       "      <td>13.0</td>\n",
       "      <td>Material recovery</td>\n",
       "      <td>Net trade baled plastic</td>\n",
       "      <td>2</td>\n",
       "    </tr>\n",
       "    <tr>\n",
       "      <th>300</th>\n",
       "      <td>259</td>\n",
       "      <td>Recycled plastic pellets and flakes ready for ...</td>\n",
       "      <td>Other thermosetting resins</td>\n",
       "      <td>Tonnes</td>\n",
       "      <td>1.13.20</td>\n",
       "      <td>465.0</td>\n",
       "      <td>Recycling</td>\n",
       "      <td>Secondary feedstock</td>\n",
       "      <td>2</td>\n",
       "    </tr>\n",
       "    <tr>\n",
       "      <th>301</th>\n",
       "      <td>279</td>\n",
       "      <td>Residual plastic waste and scrap sent for disp...</td>\n",
       "      <td>Other thermosetting resins</td>\n",
       "      <td>Tonnes</td>\n",
       "      <td>1.14.20</td>\n",
       "      <td>116.0</td>\n",
       "      <td>Recycling</td>\n",
       "      <td>Total disposed plastics</td>\n",
       "      <td>2</td>\n",
       "    </tr>\n",
       "    <tr>\n",
       "      <th>302</th>\n",
       "      <td>299</td>\n",
       "      <td>Total disposed plastic waste and scrap</td>\n",
       "      <td>Other thermosetting resins</td>\n",
       "      <td>Tonnes</td>\n",
       "      <td>1.15.20</td>\n",
       "      <td>38071.0</td>\n",
       "      <td>NaN</td>\n",
       "      <td>NaN</td>\n",
       "      <td>2</td>\n",
       "    </tr>\n",
       "  </tbody>\n",
       "</table>\n",
       "<p>303 rows × 9 columns</p>\n",
       "</div>"
      ]
     },
     "metadata": {},
     "output_type": "display_data"
    }
   ],
   "execution_count": 31
  },
  {
   "cell_type": "code",
   "id": "abe7f6cd",
   "metadata": {
    "ExecuteTime": {
     "end_time": "2024-08-19T15:43:38.787598Z",
     "start_time": "2024-08-19T15:43:38.765508Z"
    }
   },
   "source": [
    "#Set Level of End-of-life flows level 2 (even though only for 'Total, all resins')\n",
    "    #Disposed plastic waste and scrap sent to landfill or incinerated without energy recovery\n",
    "    #Disposed plastic waste and scrap sent for incineration or gasification with energy recovery\n",
    "    #Net trade (imports less exports) of disposed plastic waste and scrap\n",
    "df_StatCan_resin_2020_CA.loc[df_StatCan_resin_2020_CA['Variable'] \n",
    "== 'Disposed plastic waste and scrap sent to landfill or incinerated without energy recovery','Level']=2\n",
    "\n",
    "df_StatCan_resin_2020_CA.loc[df_StatCan_resin_2020_CA['Variable'] \n",
    "== 'Disposed plastic waste and scrap sent for incineration or gasification with energy recovery','Level']=2\n",
    "\n",
    "df_StatCan_resin_2020_CA.loc[df_StatCan_resin_2020_CA['Variable'] \n",
    "== 'Net trade (imports less exports) of disposed plastic waste and scrap','Level']=2\n",
    "#exclude all other levels (1)\n",
    "df_StatCan_resin_2020_CA_2 = df_StatCan_resin_2020_CA[df_StatCan_resin_2020_CA['Level']== 2]\n",
    "df_StatCan_resin_2020_CA_2"
   ],
   "outputs": [
    {
     "data": {
      "text/plain": [
       "     Unnamed: 0                                           Variable  \\\n",
       "15          300  Disposed plastic waste and scrap sent to landf...   \n",
       "16          301  Disposed plastic waste and scrap sent for inci...   \n",
       "17          302  Net trade (imports less exports) of disposed p...   \n",
       "18            1          Plastic in domestically produced products   \n",
       "19           21  Net trade (imports less exports) of newly prod...   \n",
       "..          ...                                                ...   \n",
       "298         219  Residual plastic waste and scrap sent for disp...   \n",
       "299         239  Net trade (imports less exports) of sorted and...   \n",
       "300         259  Recycled plastic pellets and flakes ready for ...   \n",
       "301         279  Residual plastic waste and scrap sent for disp...   \n",
       "302         299             Total disposed plastic waste and scrap   \n",
       "\n",
       "                                       Resin     UOM COORDINATE      VALUE  \\\n",
       "15                         Total, all resins  Tonnes     1.16.1  3916862.0   \n",
       "16                         Total, all resins  Tonnes     1.17.1   107577.0   \n",
       "17                         Total, all resins  Tonnes     1.18.1   496166.0   \n",
       "18   Polyethylene terephthalate (PET) resins  Tonnes      1.1.2   597458.0   \n",
       "19   Polyethylene terephthalate (PET) resins  Tonnes      1.2.2   201889.0   \n",
       "..                                       ...     ...        ...        ...   \n",
       "298               Other thermosetting resins  Tonnes    1.11.20     1552.0   \n",
       "299               Other thermosetting resins  Tonnes    1.12.20       13.0   \n",
       "300               Other thermosetting resins  Tonnes    1.13.20      465.0   \n",
       "301               Other thermosetting resins  Tonnes    1.14.20      116.0   \n",
       "302               Other thermosetting resins  Tonnes    1.15.20    38071.0   \n",
       "\n",
       "                          From                                  To  Level  \n",
       "15     Total disposed plastics            Landfill or incineration      2  \n",
       "16     Total disposed plastics  Incineration (WtE) or gasification      2  \n",
       "17     Total disposed plastics         Net trade disposed plastics      2  \n",
       "18      CA domestic production                      CA consumption      2  \n",
       "19   Net trade of new products                      CA consumption      2  \n",
       "..                         ...                                 ...    ...  \n",
       "298          Material recovery             Total disposed plastics      2  \n",
       "299          Material recovery             Net trade baled plastic      2  \n",
       "300                  Recycling                 Secondary feedstock      2  \n",
       "301                  Recycling             Total disposed plastics      2  \n",
       "302                        NaN                                 NaN      2  \n",
       "\n",
       "[288 rows x 9 columns]"
      ],
      "text/html": [
       "<div>\n",
       "<style scoped>\n",
       "    .dataframe tbody tr th:only-of-type {\n",
       "        vertical-align: middle;\n",
       "    }\n",
       "\n",
       "    .dataframe tbody tr th {\n",
       "        vertical-align: top;\n",
       "    }\n",
       "\n",
       "    .dataframe thead th {\n",
       "        text-align: right;\n",
       "    }\n",
       "</style>\n",
       "<table border=\"1\" class=\"dataframe\">\n",
       "  <thead>\n",
       "    <tr style=\"text-align: right;\">\n",
       "      <th></th>\n",
       "      <th>Unnamed: 0</th>\n",
       "      <th>Variable</th>\n",
       "      <th>Resin</th>\n",
       "      <th>UOM</th>\n",
       "      <th>COORDINATE</th>\n",
       "      <th>VALUE</th>\n",
       "      <th>From</th>\n",
       "      <th>To</th>\n",
       "      <th>Level</th>\n",
       "    </tr>\n",
       "  </thead>\n",
       "  <tbody>\n",
       "    <tr>\n",
       "      <th>15</th>\n",
       "      <td>300</td>\n",
       "      <td>Disposed plastic waste and scrap sent to landf...</td>\n",
       "      <td>Total, all resins</td>\n",
       "      <td>Tonnes</td>\n",
       "      <td>1.16.1</td>\n",
       "      <td>3916862.0</td>\n",
       "      <td>Total disposed plastics</td>\n",
       "      <td>Landfill or incineration</td>\n",
       "      <td>2</td>\n",
       "    </tr>\n",
       "    <tr>\n",
       "      <th>16</th>\n",
       "      <td>301</td>\n",
       "      <td>Disposed plastic waste and scrap sent for inci...</td>\n",
       "      <td>Total, all resins</td>\n",
       "      <td>Tonnes</td>\n",
       "      <td>1.17.1</td>\n",
       "      <td>107577.0</td>\n",
       "      <td>Total disposed plastics</td>\n",
       "      <td>Incineration (WtE) or gasification</td>\n",
       "      <td>2</td>\n",
       "    </tr>\n",
       "    <tr>\n",
       "      <th>17</th>\n",
       "      <td>302</td>\n",
       "      <td>Net trade (imports less exports) of disposed p...</td>\n",
       "      <td>Total, all resins</td>\n",
       "      <td>Tonnes</td>\n",
       "      <td>1.18.1</td>\n",
       "      <td>496166.0</td>\n",
       "      <td>Total disposed plastics</td>\n",
       "      <td>Net trade disposed plastics</td>\n",
       "      <td>2</td>\n",
       "    </tr>\n",
       "    <tr>\n",
       "      <th>18</th>\n",
       "      <td>1</td>\n",
       "      <td>Plastic in domestically produced products</td>\n",
       "      <td>Polyethylene terephthalate (PET) resins</td>\n",
       "      <td>Tonnes</td>\n",
       "      <td>1.1.2</td>\n",
       "      <td>597458.0</td>\n",
       "      <td>CA domestic production</td>\n",
       "      <td>CA consumption</td>\n",
       "      <td>2</td>\n",
       "    </tr>\n",
       "    <tr>\n",
       "      <th>19</th>\n",
       "      <td>21</td>\n",
       "      <td>Net trade (imports less exports) of newly prod...</td>\n",
       "      <td>Polyethylene terephthalate (PET) resins</td>\n",
       "      <td>Tonnes</td>\n",
       "      <td>1.2.2</td>\n",
       "      <td>201889.0</td>\n",
       "      <td>Net trade of new products</td>\n",
       "      <td>CA consumption</td>\n",
       "      <td>2</td>\n",
       "    </tr>\n",
       "    <tr>\n",
       "      <th>...</th>\n",
       "      <td>...</td>\n",
       "      <td>...</td>\n",
       "      <td>...</td>\n",
       "      <td>...</td>\n",
       "      <td>...</td>\n",
       "      <td>...</td>\n",
       "      <td>...</td>\n",
       "      <td>...</td>\n",
       "      <td>...</td>\n",
       "    </tr>\n",
       "    <tr>\n",
       "      <th>298</th>\n",
       "      <td>219</td>\n",
       "      <td>Residual plastic waste and scrap sent for disp...</td>\n",
       "      <td>Other thermosetting resins</td>\n",
       "      <td>Tonnes</td>\n",
       "      <td>1.11.20</td>\n",
       "      <td>1552.0</td>\n",
       "      <td>Material recovery</td>\n",
       "      <td>Total disposed plastics</td>\n",
       "      <td>2</td>\n",
       "    </tr>\n",
       "    <tr>\n",
       "      <th>299</th>\n",
       "      <td>239</td>\n",
       "      <td>Net trade (imports less exports) of sorted and...</td>\n",
       "      <td>Other thermosetting resins</td>\n",
       "      <td>Tonnes</td>\n",
       "      <td>1.12.20</td>\n",
       "      <td>13.0</td>\n",
       "      <td>Material recovery</td>\n",
       "      <td>Net trade baled plastic</td>\n",
       "      <td>2</td>\n",
       "    </tr>\n",
       "    <tr>\n",
       "      <th>300</th>\n",
       "      <td>259</td>\n",
       "      <td>Recycled plastic pellets and flakes ready for ...</td>\n",
       "      <td>Other thermosetting resins</td>\n",
       "      <td>Tonnes</td>\n",
       "      <td>1.13.20</td>\n",
       "      <td>465.0</td>\n",
       "      <td>Recycling</td>\n",
       "      <td>Secondary feedstock</td>\n",
       "      <td>2</td>\n",
       "    </tr>\n",
       "    <tr>\n",
       "      <th>301</th>\n",
       "      <td>279</td>\n",
       "      <td>Residual plastic waste and scrap sent for disp...</td>\n",
       "      <td>Other thermosetting resins</td>\n",
       "      <td>Tonnes</td>\n",
       "      <td>1.14.20</td>\n",
       "      <td>116.0</td>\n",
       "      <td>Recycling</td>\n",
       "      <td>Total disposed plastics</td>\n",
       "      <td>2</td>\n",
       "    </tr>\n",
       "    <tr>\n",
       "      <th>302</th>\n",
       "      <td>299</td>\n",
       "      <td>Total disposed plastic waste and scrap</td>\n",
       "      <td>Other thermosetting resins</td>\n",
       "      <td>Tonnes</td>\n",
       "      <td>1.15.20</td>\n",
       "      <td>38071.0</td>\n",
       "      <td>NaN</td>\n",
       "      <td>NaN</td>\n",
       "      <td>2</td>\n",
       "    </tr>\n",
       "  </tbody>\n",
       "</table>\n",
       "<p>288 rows × 9 columns</p>\n",
       "</div>"
      ]
     },
     "execution_count": 32,
     "metadata": {},
     "output_type": "execute_result"
    }
   ],
   "execution_count": 32
  },
  {
   "cell_type": "code",
   "id": "6d849fee",
   "metadata": {
    "ExecuteTime": {
     "end_time": "2024-08-19T15:43:42.754893Z",
     "start_time": "2024-08-19T15:43:42.735136Z"
    }
   },
   "source": [
    "#group resins how we want to analyse them: \n",
    "    #PET: Polyethylene terephthalate (PET) resins\n",
    "    #LDPE, LLDPE: Low-density polyethylene (LDPE) resins and Linear low-density polyethylene (LLDPE) resins\n",
    "    #HDPE: High-density polyethylene (HDPE) resins\n",
    "    #PS: Polystyrene (PS) resins\n",
    "    #PVC: Polyvinyl chloride (PVC) resins\n",
    "    #PP: Polypropylene (PP) resins\n",
    "    #Other: remaining Other thermoplastic polyester resins, Other polyethylene resins, Acrylonitrile-butadiene-styrene (ABS) resins,\n",
    "        #Thermoplastic polyurethane (PU) resins, Polyamide (nylon) resins, All other thermoplastic resins,\n",
    "        #Phenolic (PF) resins, Urea formaldehyde (UF) resins, All other formaldehyde based resins, Unsaturated polyester (thermosetting) resins,\n",
    "        #Thermosetting polyurethane resins, Other thermosetting resins\n",
    "#import selection file (selection and grouping of relevant resins)\n",
    "#compiled 2024-05-09\n",
    "data_selection_StatCan_resin = pd.read_csv('../Code_Test/38100151_resin_reduced_selection.csv',sep=',')\n",
    "data_selection_StatCan_resin"
   ],
   "outputs": [
    {
     "data": {
      "text/plain": [
       "                                           Resin      Resin_Selection  \\\n",
       "0                              Total, all resins  0_Total, all resins   \n",
       "1        Polyethylene terephthalate (PET) resins                1_PET   \n",
       "2           Other thermoplastic polyester resins              7_Other   \n",
       "3                Low-density polyethylene resins        4_LDPE, LLDPE   \n",
       "4         Linear low-density polyethylene resins        4_LDPE, LLDPE   \n",
       "5               High-density polyethylene resins               2_HDPE   \n",
       "6                      Other polyethylene resins              7_Other   \n",
       "7                             Polystyrene resins                 6_PS   \n",
       "8         Acrylonitrile-butadiene-styrene resins              7_Other   \n",
       "9                      Polyvinyl chloride resins                3_PVC   \n",
       "10                          Polypropylene resins                 5_PP   \n",
       "11             Thermoplastic polyurethane resins              7_Other   \n",
       "12                      Polyamide (nylon) resins              7_Other   \n",
       "13                All other thermoplastic resins              7_Other   \n",
       "14                               Phenolic resins              7_Other   \n",
       "15                      Urea formaldehyde resins              7_Other   \n",
       "16           All other formaldehyde based resins              7_Other   \n",
       "17  Unsaturated polyester (thermosetting) resins              7_Other   \n",
       "18             Thermosetting polyurethane resins              7_Other   \n",
       "19                    Other thermosetting resins              7_Other   \n",
       "\n",
       "   Colour_HEX          Colour  \n",
       "0     #7F7F7F            grey  \n",
       "1     #00A1C0        turqoise  \n",
       "2     #40E0FF  light-turqoise  \n",
       "3     #B91E32             red  \n",
       "4     #B91E32             red  \n",
       "5     #FA961E          orange  \n",
       "6     #40E0FF  light-turqoise  \n",
       "7     #FDDA64          yellow  \n",
       "8     #40E0FF  light-turqoise  \n",
       "9     #0BAC43           green  \n",
       "10    #005379        darkblue  \n",
       "11    #40E0FF  light-turqoise  \n",
       "12    #40E0FF  light-turqoise  \n",
       "13    #40E0FF  light-turqoise  \n",
       "14    #40E0FF  light-turqoise  \n",
       "15    #40E0FF  light-turqoise  \n",
       "16    #40E0FF  light-turqoise  \n",
       "17    #40E0FF  light-turqoise  \n",
       "18    #40E0FF  light-turqoise  \n",
       "19    #40E0FF  light-turqoise  "
      ],
      "text/html": [
       "<div>\n",
       "<style scoped>\n",
       "    .dataframe tbody tr th:only-of-type {\n",
       "        vertical-align: middle;\n",
       "    }\n",
       "\n",
       "    .dataframe tbody tr th {\n",
       "        vertical-align: top;\n",
       "    }\n",
       "\n",
       "    .dataframe thead th {\n",
       "        text-align: right;\n",
       "    }\n",
       "</style>\n",
       "<table border=\"1\" class=\"dataframe\">\n",
       "  <thead>\n",
       "    <tr style=\"text-align: right;\">\n",
       "      <th></th>\n",
       "      <th>Resin</th>\n",
       "      <th>Resin_Selection</th>\n",
       "      <th>Colour_HEX</th>\n",
       "      <th>Colour</th>\n",
       "    </tr>\n",
       "  </thead>\n",
       "  <tbody>\n",
       "    <tr>\n",
       "      <th>0</th>\n",
       "      <td>Total, all resins</td>\n",
       "      <td>0_Total, all resins</td>\n",
       "      <td>#7F7F7F</td>\n",
       "      <td>grey</td>\n",
       "    </tr>\n",
       "    <tr>\n",
       "      <th>1</th>\n",
       "      <td>Polyethylene terephthalate (PET) resins</td>\n",
       "      <td>1_PET</td>\n",
       "      <td>#00A1C0</td>\n",
       "      <td>turqoise</td>\n",
       "    </tr>\n",
       "    <tr>\n",
       "      <th>2</th>\n",
       "      <td>Other thermoplastic polyester resins</td>\n",
       "      <td>7_Other</td>\n",
       "      <td>#40E0FF</td>\n",
       "      <td>light-turqoise</td>\n",
       "    </tr>\n",
       "    <tr>\n",
       "      <th>3</th>\n",
       "      <td>Low-density polyethylene resins</td>\n",
       "      <td>4_LDPE, LLDPE</td>\n",
       "      <td>#B91E32</td>\n",
       "      <td>red</td>\n",
       "    </tr>\n",
       "    <tr>\n",
       "      <th>4</th>\n",
       "      <td>Linear low-density polyethylene resins</td>\n",
       "      <td>4_LDPE, LLDPE</td>\n",
       "      <td>#B91E32</td>\n",
       "      <td>red</td>\n",
       "    </tr>\n",
       "    <tr>\n",
       "      <th>5</th>\n",
       "      <td>High-density polyethylene resins</td>\n",
       "      <td>2_HDPE</td>\n",
       "      <td>#FA961E</td>\n",
       "      <td>orange</td>\n",
       "    </tr>\n",
       "    <tr>\n",
       "      <th>6</th>\n",
       "      <td>Other polyethylene resins</td>\n",
       "      <td>7_Other</td>\n",
       "      <td>#40E0FF</td>\n",
       "      <td>light-turqoise</td>\n",
       "    </tr>\n",
       "    <tr>\n",
       "      <th>7</th>\n",
       "      <td>Polystyrene resins</td>\n",
       "      <td>6_PS</td>\n",
       "      <td>#FDDA64</td>\n",
       "      <td>yellow</td>\n",
       "    </tr>\n",
       "    <tr>\n",
       "      <th>8</th>\n",
       "      <td>Acrylonitrile-butadiene-styrene resins</td>\n",
       "      <td>7_Other</td>\n",
       "      <td>#40E0FF</td>\n",
       "      <td>light-turqoise</td>\n",
       "    </tr>\n",
       "    <tr>\n",
       "      <th>9</th>\n",
       "      <td>Polyvinyl chloride resins</td>\n",
       "      <td>3_PVC</td>\n",
       "      <td>#0BAC43</td>\n",
       "      <td>green</td>\n",
       "    </tr>\n",
       "    <tr>\n",
       "      <th>10</th>\n",
       "      <td>Polypropylene resins</td>\n",
       "      <td>5_PP</td>\n",
       "      <td>#005379</td>\n",
       "      <td>darkblue</td>\n",
       "    </tr>\n",
       "    <tr>\n",
       "      <th>11</th>\n",
       "      <td>Thermoplastic polyurethane resins</td>\n",
       "      <td>7_Other</td>\n",
       "      <td>#40E0FF</td>\n",
       "      <td>light-turqoise</td>\n",
       "    </tr>\n",
       "    <tr>\n",
       "      <th>12</th>\n",
       "      <td>Polyamide (nylon) resins</td>\n",
       "      <td>7_Other</td>\n",
       "      <td>#40E0FF</td>\n",
       "      <td>light-turqoise</td>\n",
       "    </tr>\n",
       "    <tr>\n",
       "      <th>13</th>\n",
       "      <td>All other thermoplastic resins</td>\n",
       "      <td>7_Other</td>\n",
       "      <td>#40E0FF</td>\n",
       "      <td>light-turqoise</td>\n",
       "    </tr>\n",
       "    <tr>\n",
       "      <th>14</th>\n",
       "      <td>Phenolic resins</td>\n",
       "      <td>7_Other</td>\n",
       "      <td>#40E0FF</td>\n",
       "      <td>light-turqoise</td>\n",
       "    </tr>\n",
       "    <tr>\n",
       "      <th>15</th>\n",
       "      <td>Urea formaldehyde resins</td>\n",
       "      <td>7_Other</td>\n",
       "      <td>#40E0FF</td>\n",
       "      <td>light-turqoise</td>\n",
       "    </tr>\n",
       "    <tr>\n",
       "      <th>16</th>\n",
       "      <td>All other formaldehyde based resins</td>\n",
       "      <td>7_Other</td>\n",
       "      <td>#40E0FF</td>\n",
       "      <td>light-turqoise</td>\n",
       "    </tr>\n",
       "    <tr>\n",
       "      <th>17</th>\n",
       "      <td>Unsaturated polyester (thermosetting) resins</td>\n",
       "      <td>7_Other</td>\n",
       "      <td>#40E0FF</td>\n",
       "      <td>light-turqoise</td>\n",
       "    </tr>\n",
       "    <tr>\n",
       "      <th>18</th>\n",
       "      <td>Thermosetting polyurethane resins</td>\n",
       "      <td>7_Other</td>\n",
       "      <td>#40E0FF</td>\n",
       "      <td>light-turqoise</td>\n",
       "    </tr>\n",
       "    <tr>\n",
       "      <th>19</th>\n",
       "      <td>Other thermosetting resins</td>\n",
       "      <td>7_Other</td>\n",
       "      <td>#40E0FF</td>\n",
       "      <td>light-turqoise</td>\n",
       "    </tr>\n",
       "  </tbody>\n",
       "</table>\n",
       "</div>"
      ]
     },
     "execution_count": 33,
     "metadata": {},
     "output_type": "execute_result"
    }
   ],
   "execution_count": 33
  },
  {
   "cell_type": "code",
   "id": "2b94ee15",
   "metadata": {
    "scrolled": true,
    "ExecuteTime": {
     "end_time": "2024-08-19T15:43:48.535525Z",
     "start_time": "2024-08-19T15:43:48.503813Z"
    }
   },
   "source": [
    "#merge data frames: df_StatCan_resin_2020_CA_2 and resin_selection\n",
    "df_StatCan_resin_2020_CA_2 = pd.merge(df_StatCan_resin_2020_CA_2, data_selection_StatCan_resin, on='Resin', how='outer', validate='many_to_many')\n",
    "df_StatCan_resin_2020_CA_2"
   ],
   "outputs": [
    {
     "data": {
      "text/plain": [
       "     Unnamed: 0                                           Variable  \\\n",
       "0           300  Disposed plastic waste and scrap sent to landf...   \n",
       "1           301  Disposed plastic waste and scrap sent for inci...   \n",
       "2           302  Net trade (imports less exports) of disposed p...   \n",
       "3             1          Plastic in domestically produced products   \n",
       "4            21  Net trade (imports less exports) of newly prod...   \n",
       "..          ...                                                ...   \n",
       "283         219  Residual plastic waste and scrap sent for disp...   \n",
       "284         239  Net trade (imports less exports) of sorted and...   \n",
       "285         259  Recycled plastic pellets and flakes ready for ...   \n",
       "286         279  Residual plastic waste and scrap sent for disp...   \n",
       "287         299             Total disposed plastic waste and scrap   \n",
       "\n",
       "                                       Resin     UOM COORDINATE      VALUE  \\\n",
       "0                          Total, all resins  Tonnes     1.16.1  3916862.0   \n",
       "1                          Total, all resins  Tonnes     1.17.1   107577.0   \n",
       "2                          Total, all resins  Tonnes     1.18.1   496166.0   \n",
       "3    Polyethylene terephthalate (PET) resins  Tonnes      1.1.2   597458.0   \n",
       "4    Polyethylene terephthalate (PET) resins  Tonnes      1.2.2   201889.0   \n",
       "..                                       ...     ...        ...        ...   \n",
       "283               Other thermosetting resins  Tonnes    1.11.20     1552.0   \n",
       "284               Other thermosetting resins  Tonnes    1.12.20       13.0   \n",
       "285               Other thermosetting resins  Tonnes    1.13.20      465.0   \n",
       "286               Other thermosetting resins  Tonnes    1.14.20      116.0   \n",
       "287               Other thermosetting resins  Tonnes    1.15.20    38071.0   \n",
       "\n",
       "                          From                                  To  Level  \\\n",
       "0      Total disposed plastics            Landfill or incineration      2   \n",
       "1      Total disposed plastics  Incineration (WtE) or gasification      2   \n",
       "2      Total disposed plastics         Net trade disposed plastics      2   \n",
       "3       CA domestic production                      CA consumption      2   \n",
       "4    Net trade of new products                      CA consumption      2   \n",
       "..                         ...                                 ...    ...   \n",
       "283          Material recovery             Total disposed plastics      2   \n",
       "284          Material recovery             Net trade baled plastic      2   \n",
       "285                  Recycling                 Secondary feedstock      2   \n",
       "286                  Recycling             Total disposed plastics      2   \n",
       "287                        NaN                                 NaN      2   \n",
       "\n",
       "         Resin_Selection Colour_HEX          Colour  \n",
       "0    0_Total, all resins    #7F7F7F            grey  \n",
       "1    0_Total, all resins    #7F7F7F            grey  \n",
       "2    0_Total, all resins    #7F7F7F            grey  \n",
       "3                  1_PET    #00A1C0        turqoise  \n",
       "4                  1_PET    #00A1C0        turqoise  \n",
       "..                   ...        ...             ...  \n",
       "283              7_Other    #40E0FF  light-turqoise  \n",
       "284              7_Other    #40E0FF  light-turqoise  \n",
       "285              7_Other    #40E0FF  light-turqoise  \n",
       "286              7_Other    #40E0FF  light-turqoise  \n",
       "287              7_Other    #40E0FF  light-turqoise  \n",
       "\n",
       "[288 rows x 12 columns]"
      ],
      "text/html": [
       "<div>\n",
       "<style scoped>\n",
       "    .dataframe tbody tr th:only-of-type {\n",
       "        vertical-align: middle;\n",
       "    }\n",
       "\n",
       "    .dataframe tbody tr th {\n",
       "        vertical-align: top;\n",
       "    }\n",
       "\n",
       "    .dataframe thead th {\n",
       "        text-align: right;\n",
       "    }\n",
       "</style>\n",
       "<table border=\"1\" class=\"dataframe\">\n",
       "  <thead>\n",
       "    <tr style=\"text-align: right;\">\n",
       "      <th></th>\n",
       "      <th>Unnamed: 0</th>\n",
       "      <th>Variable</th>\n",
       "      <th>Resin</th>\n",
       "      <th>UOM</th>\n",
       "      <th>COORDINATE</th>\n",
       "      <th>VALUE</th>\n",
       "      <th>From</th>\n",
       "      <th>To</th>\n",
       "      <th>Level</th>\n",
       "      <th>Resin_Selection</th>\n",
       "      <th>Colour_HEX</th>\n",
       "      <th>Colour</th>\n",
       "    </tr>\n",
       "  </thead>\n",
       "  <tbody>\n",
       "    <tr>\n",
       "      <th>0</th>\n",
       "      <td>300</td>\n",
       "      <td>Disposed plastic waste and scrap sent to landf...</td>\n",
       "      <td>Total, all resins</td>\n",
       "      <td>Tonnes</td>\n",
       "      <td>1.16.1</td>\n",
       "      <td>3916862.0</td>\n",
       "      <td>Total disposed plastics</td>\n",
       "      <td>Landfill or incineration</td>\n",
       "      <td>2</td>\n",
       "      <td>0_Total, all resins</td>\n",
       "      <td>#7F7F7F</td>\n",
       "      <td>grey</td>\n",
       "    </tr>\n",
       "    <tr>\n",
       "      <th>1</th>\n",
       "      <td>301</td>\n",
       "      <td>Disposed plastic waste and scrap sent for inci...</td>\n",
       "      <td>Total, all resins</td>\n",
       "      <td>Tonnes</td>\n",
       "      <td>1.17.1</td>\n",
       "      <td>107577.0</td>\n",
       "      <td>Total disposed plastics</td>\n",
       "      <td>Incineration (WtE) or gasification</td>\n",
       "      <td>2</td>\n",
       "      <td>0_Total, all resins</td>\n",
       "      <td>#7F7F7F</td>\n",
       "      <td>grey</td>\n",
       "    </tr>\n",
       "    <tr>\n",
       "      <th>2</th>\n",
       "      <td>302</td>\n",
       "      <td>Net trade (imports less exports) of disposed p...</td>\n",
       "      <td>Total, all resins</td>\n",
       "      <td>Tonnes</td>\n",
       "      <td>1.18.1</td>\n",
       "      <td>496166.0</td>\n",
       "      <td>Total disposed plastics</td>\n",
       "      <td>Net trade disposed plastics</td>\n",
       "      <td>2</td>\n",
       "      <td>0_Total, all resins</td>\n",
       "      <td>#7F7F7F</td>\n",
       "      <td>grey</td>\n",
       "    </tr>\n",
       "    <tr>\n",
       "      <th>3</th>\n",
       "      <td>1</td>\n",
       "      <td>Plastic in domestically produced products</td>\n",
       "      <td>Polyethylene terephthalate (PET) resins</td>\n",
       "      <td>Tonnes</td>\n",
       "      <td>1.1.2</td>\n",
       "      <td>597458.0</td>\n",
       "      <td>CA domestic production</td>\n",
       "      <td>CA consumption</td>\n",
       "      <td>2</td>\n",
       "      <td>1_PET</td>\n",
       "      <td>#00A1C0</td>\n",
       "      <td>turqoise</td>\n",
       "    </tr>\n",
       "    <tr>\n",
       "      <th>4</th>\n",
       "      <td>21</td>\n",
       "      <td>Net trade (imports less exports) of newly prod...</td>\n",
       "      <td>Polyethylene terephthalate (PET) resins</td>\n",
       "      <td>Tonnes</td>\n",
       "      <td>1.2.2</td>\n",
       "      <td>201889.0</td>\n",
       "      <td>Net trade of new products</td>\n",
       "      <td>CA consumption</td>\n",
       "      <td>2</td>\n",
       "      <td>1_PET</td>\n",
       "      <td>#00A1C0</td>\n",
       "      <td>turqoise</td>\n",
       "    </tr>\n",
       "    <tr>\n",
       "      <th>...</th>\n",
       "      <td>...</td>\n",
       "      <td>...</td>\n",
       "      <td>...</td>\n",
       "      <td>...</td>\n",
       "      <td>...</td>\n",
       "      <td>...</td>\n",
       "      <td>...</td>\n",
       "      <td>...</td>\n",
       "      <td>...</td>\n",
       "      <td>...</td>\n",
       "      <td>...</td>\n",
       "      <td>...</td>\n",
       "    </tr>\n",
       "    <tr>\n",
       "      <th>283</th>\n",
       "      <td>219</td>\n",
       "      <td>Residual plastic waste and scrap sent for disp...</td>\n",
       "      <td>Other thermosetting resins</td>\n",
       "      <td>Tonnes</td>\n",
       "      <td>1.11.20</td>\n",
       "      <td>1552.0</td>\n",
       "      <td>Material recovery</td>\n",
       "      <td>Total disposed plastics</td>\n",
       "      <td>2</td>\n",
       "      <td>7_Other</td>\n",
       "      <td>#40E0FF</td>\n",
       "      <td>light-turqoise</td>\n",
       "    </tr>\n",
       "    <tr>\n",
       "      <th>284</th>\n",
       "      <td>239</td>\n",
       "      <td>Net trade (imports less exports) of sorted and...</td>\n",
       "      <td>Other thermosetting resins</td>\n",
       "      <td>Tonnes</td>\n",
       "      <td>1.12.20</td>\n",
       "      <td>13.0</td>\n",
       "      <td>Material recovery</td>\n",
       "      <td>Net trade baled plastic</td>\n",
       "      <td>2</td>\n",
       "      <td>7_Other</td>\n",
       "      <td>#40E0FF</td>\n",
       "      <td>light-turqoise</td>\n",
       "    </tr>\n",
       "    <tr>\n",
       "      <th>285</th>\n",
       "      <td>259</td>\n",
       "      <td>Recycled plastic pellets and flakes ready for ...</td>\n",
       "      <td>Other thermosetting resins</td>\n",
       "      <td>Tonnes</td>\n",
       "      <td>1.13.20</td>\n",
       "      <td>465.0</td>\n",
       "      <td>Recycling</td>\n",
       "      <td>Secondary feedstock</td>\n",
       "      <td>2</td>\n",
       "      <td>7_Other</td>\n",
       "      <td>#40E0FF</td>\n",
       "      <td>light-turqoise</td>\n",
       "    </tr>\n",
       "    <tr>\n",
       "      <th>286</th>\n",
       "      <td>279</td>\n",
       "      <td>Residual plastic waste and scrap sent for disp...</td>\n",
       "      <td>Other thermosetting resins</td>\n",
       "      <td>Tonnes</td>\n",
       "      <td>1.14.20</td>\n",
       "      <td>116.0</td>\n",
       "      <td>Recycling</td>\n",
       "      <td>Total disposed plastics</td>\n",
       "      <td>2</td>\n",
       "      <td>7_Other</td>\n",
       "      <td>#40E0FF</td>\n",
       "      <td>light-turqoise</td>\n",
       "    </tr>\n",
       "    <tr>\n",
       "      <th>287</th>\n",
       "      <td>299</td>\n",
       "      <td>Total disposed plastic waste and scrap</td>\n",
       "      <td>Other thermosetting resins</td>\n",
       "      <td>Tonnes</td>\n",
       "      <td>1.15.20</td>\n",
       "      <td>38071.0</td>\n",
       "      <td>NaN</td>\n",
       "      <td>NaN</td>\n",
       "      <td>2</td>\n",
       "      <td>7_Other</td>\n",
       "      <td>#40E0FF</td>\n",
       "      <td>light-turqoise</td>\n",
       "    </tr>\n",
       "  </tbody>\n",
       "</table>\n",
       "<p>288 rows × 12 columns</p>\n",
       "</div>"
      ]
     },
     "execution_count": 34,
     "metadata": {},
     "output_type": "execute_result"
    }
   ],
   "execution_count": 34
  },
  {
   "cell_type": "code",
   "id": "35ffab4b",
   "metadata": {
    "ExecuteTime": {
     "end_time": "2024-08-19T15:43:54.450422Z",
     "start_time": "2024-08-19T15:43:54.429128Z"
    }
   },
   "source": [
    "#reduce df to only VALUE, From and To that are needed for the Sankey\n",
    "links = pd.DataFrame(df_StatCan_resin_2020_CA_2, columns=['VALUE','From','To','Level'])\n",
    "links"
   ],
   "outputs": [
    {
     "data": {
      "text/plain": [
       "         VALUE                       From                                  To  \\\n",
       "0    3916862.0    Total disposed plastics            Landfill or incineration   \n",
       "1     107577.0    Total disposed plastics  Incineration (WtE) or gasification   \n",
       "2     496166.0    Total disposed plastics         Net trade disposed plastics   \n",
       "3     597458.0     CA domestic production                      CA consumption   \n",
       "4     201889.0  Net trade of new products                      CA consumption   \n",
       "..         ...                        ...                                 ...   \n",
       "283     1552.0          Material recovery             Total disposed plastics   \n",
       "284       13.0          Material recovery             Net trade baled plastic   \n",
       "285      465.0                  Recycling                 Secondary feedstock   \n",
       "286      116.0                  Recycling             Total disposed plastics   \n",
       "287    38071.0                        NaN                                 NaN   \n",
       "\n",
       "     Level  \n",
       "0        2  \n",
       "1        2  \n",
       "2        2  \n",
       "3        2  \n",
       "4        2  \n",
       "..     ...  \n",
       "283      2  \n",
       "284      2  \n",
       "285      2  \n",
       "286      2  \n",
       "287      2  \n",
       "\n",
       "[288 rows x 4 columns]"
      ],
      "text/html": [
       "<div>\n",
       "<style scoped>\n",
       "    .dataframe tbody tr th:only-of-type {\n",
       "        vertical-align: middle;\n",
       "    }\n",
       "\n",
       "    .dataframe tbody tr th {\n",
       "        vertical-align: top;\n",
       "    }\n",
       "\n",
       "    .dataframe thead th {\n",
       "        text-align: right;\n",
       "    }\n",
       "</style>\n",
       "<table border=\"1\" class=\"dataframe\">\n",
       "  <thead>\n",
       "    <tr style=\"text-align: right;\">\n",
       "      <th></th>\n",
       "      <th>VALUE</th>\n",
       "      <th>From</th>\n",
       "      <th>To</th>\n",
       "      <th>Level</th>\n",
       "    </tr>\n",
       "  </thead>\n",
       "  <tbody>\n",
       "    <tr>\n",
       "      <th>0</th>\n",
       "      <td>3916862.0</td>\n",
       "      <td>Total disposed plastics</td>\n",
       "      <td>Landfill or incineration</td>\n",
       "      <td>2</td>\n",
       "    </tr>\n",
       "    <tr>\n",
       "      <th>1</th>\n",
       "      <td>107577.0</td>\n",
       "      <td>Total disposed plastics</td>\n",
       "      <td>Incineration (WtE) or gasification</td>\n",
       "      <td>2</td>\n",
       "    </tr>\n",
       "    <tr>\n",
       "      <th>2</th>\n",
       "      <td>496166.0</td>\n",
       "      <td>Total disposed plastics</td>\n",
       "      <td>Net trade disposed plastics</td>\n",
       "      <td>2</td>\n",
       "    </tr>\n",
       "    <tr>\n",
       "      <th>3</th>\n",
       "      <td>597458.0</td>\n",
       "      <td>CA domestic production</td>\n",
       "      <td>CA consumption</td>\n",
       "      <td>2</td>\n",
       "    </tr>\n",
       "    <tr>\n",
       "      <th>4</th>\n",
       "      <td>201889.0</td>\n",
       "      <td>Net trade of new products</td>\n",
       "      <td>CA consumption</td>\n",
       "      <td>2</td>\n",
       "    </tr>\n",
       "    <tr>\n",
       "      <th>...</th>\n",
       "      <td>...</td>\n",
       "      <td>...</td>\n",
       "      <td>...</td>\n",
       "      <td>...</td>\n",
       "    </tr>\n",
       "    <tr>\n",
       "      <th>283</th>\n",
       "      <td>1552.0</td>\n",
       "      <td>Material recovery</td>\n",
       "      <td>Total disposed plastics</td>\n",
       "      <td>2</td>\n",
       "    </tr>\n",
       "    <tr>\n",
       "      <th>284</th>\n",
       "      <td>13.0</td>\n",
       "      <td>Material recovery</td>\n",
       "      <td>Net trade baled plastic</td>\n",
       "      <td>2</td>\n",
       "    </tr>\n",
       "    <tr>\n",
       "      <th>285</th>\n",
       "      <td>465.0</td>\n",
       "      <td>Recycling</td>\n",
       "      <td>Secondary feedstock</td>\n",
       "      <td>2</td>\n",
       "    </tr>\n",
       "    <tr>\n",
       "      <th>286</th>\n",
       "      <td>116.0</td>\n",
       "      <td>Recycling</td>\n",
       "      <td>Total disposed plastics</td>\n",
       "      <td>2</td>\n",
       "    </tr>\n",
       "    <tr>\n",
       "      <th>287</th>\n",
       "      <td>38071.0</td>\n",
       "      <td>NaN</td>\n",
       "      <td>NaN</td>\n",
       "      <td>2</td>\n",
       "    </tr>\n",
       "  </tbody>\n",
       "</table>\n",
       "<p>288 rows × 4 columns</p>\n",
       "</div>"
      ]
     },
     "execution_count": 35,
     "metadata": {},
     "output_type": "execute_result"
    }
   ],
   "execution_count": 35
  },
  {
   "cell_type": "code",
   "id": "5c02d1df",
   "metadata": {
    "ExecuteTime": {
     "end_time": "2024-08-19T15:43:57.870729Z",
     "start_time": "2024-08-19T15:43:57.855071Z"
    }
   },
   "source": [
    "#remove rows where From (and To) are \"NaN\"\n",
    "links = links.dropna(subset=['From'])\n",
    "links"
   ],
   "outputs": [
    {
     "data": {
      "text/plain": [
       "         VALUE                       From                                  To  \\\n",
       "0    3916862.0    Total disposed plastics            Landfill or incineration   \n",
       "1     107577.0    Total disposed plastics  Incineration (WtE) or gasification   \n",
       "2     496166.0    Total disposed plastics         Net trade disposed plastics   \n",
       "3     597458.0     CA domestic production                      CA consumption   \n",
       "4     201889.0  Net trade of new products                      CA consumption   \n",
       "..         ...                        ...                                 ...   \n",
       "282      604.0          Material recovery                           Recycling   \n",
       "283     1552.0          Material recovery             Total disposed plastics   \n",
       "284       13.0          Material recovery             Net trade baled plastic   \n",
       "285      465.0                  Recycling                 Secondary feedstock   \n",
       "286      116.0                  Recycling             Total disposed plastics   \n",
       "\n",
       "     Level  \n",
       "0        2  \n",
       "1        2  \n",
       "2        2  \n",
       "3        2  \n",
       "4        2  \n",
       "..     ...  \n",
       "282      2  \n",
       "283      2  \n",
       "284      2  \n",
       "285      2  \n",
       "286      2  \n",
       "\n",
       "[250 rows x 4 columns]"
      ],
      "text/html": [
       "<div>\n",
       "<style scoped>\n",
       "    .dataframe tbody tr th:only-of-type {\n",
       "        vertical-align: middle;\n",
       "    }\n",
       "\n",
       "    .dataframe tbody tr th {\n",
       "        vertical-align: top;\n",
       "    }\n",
       "\n",
       "    .dataframe thead th {\n",
       "        text-align: right;\n",
       "    }\n",
       "</style>\n",
       "<table border=\"1\" class=\"dataframe\">\n",
       "  <thead>\n",
       "    <tr style=\"text-align: right;\">\n",
       "      <th></th>\n",
       "      <th>VALUE</th>\n",
       "      <th>From</th>\n",
       "      <th>To</th>\n",
       "      <th>Level</th>\n",
       "    </tr>\n",
       "  </thead>\n",
       "  <tbody>\n",
       "    <tr>\n",
       "      <th>0</th>\n",
       "      <td>3916862.0</td>\n",
       "      <td>Total disposed plastics</td>\n",
       "      <td>Landfill or incineration</td>\n",
       "      <td>2</td>\n",
       "    </tr>\n",
       "    <tr>\n",
       "      <th>1</th>\n",
       "      <td>107577.0</td>\n",
       "      <td>Total disposed plastics</td>\n",
       "      <td>Incineration (WtE) or gasification</td>\n",
       "      <td>2</td>\n",
       "    </tr>\n",
       "    <tr>\n",
       "      <th>2</th>\n",
       "      <td>496166.0</td>\n",
       "      <td>Total disposed plastics</td>\n",
       "      <td>Net trade disposed plastics</td>\n",
       "      <td>2</td>\n",
       "    </tr>\n",
       "    <tr>\n",
       "      <th>3</th>\n",
       "      <td>597458.0</td>\n",
       "      <td>CA domestic production</td>\n",
       "      <td>CA consumption</td>\n",
       "      <td>2</td>\n",
       "    </tr>\n",
       "    <tr>\n",
       "      <th>4</th>\n",
       "      <td>201889.0</td>\n",
       "      <td>Net trade of new products</td>\n",
       "      <td>CA consumption</td>\n",
       "      <td>2</td>\n",
       "    </tr>\n",
       "    <tr>\n",
       "      <th>...</th>\n",
       "      <td>...</td>\n",
       "      <td>...</td>\n",
       "      <td>...</td>\n",
       "      <td>...</td>\n",
       "    </tr>\n",
       "    <tr>\n",
       "      <th>282</th>\n",
       "      <td>604.0</td>\n",
       "      <td>Material recovery</td>\n",
       "      <td>Recycling</td>\n",
       "      <td>2</td>\n",
       "    </tr>\n",
       "    <tr>\n",
       "      <th>283</th>\n",
       "      <td>1552.0</td>\n",
       "      <td>Material recovery</td>\n",
       "      <td>Total disposed plastics</td>\n",
       "      <td>2</td>\n",
       "    </tr>\n",
       "    <tr>\n",
       "      <th>284</th>\n",
       "      <td>13.0</td>\n",
       "      <td>Material recovery</td>\n",
       "      <td>Net trade baled plastic</td>\n",
       "      <td>2</td>\n",
       "    </tr>\n",
       "    <tr>\n",
       "      <th>285</th>\n",
       "      <td>465.0</td>\n",
       "      <td>Recycling</td>\n",
       "      <td>Secondary feedstock</td>\n",
       "      <td>2</td>\n",
       "    </tr>\n",
       "    <tr>\n",
       "      <th>286</th>\n",
       "      <td>116.0</td>\n",
       "      <td>Recycling</td>\n",
       "      <td>Total disposed plastics</td>\n",
       "      <td>2</td>\n",
       "    </tr>\n",
       "  </tbody>\n",
       "</table>\n",
       "<p>250 rows × 4 columns</p>\n",
       "</div>"
      ]
     },
     "execution_count": 36,
     "metadata": {},
     "output_type": "execute_result"
    }
   ],
   "execution_count": 36
  },
  {
   "metadata": {
    "ExecuteTime": {
     "end_time": "2024-08-19T15:44:01.115029Z",
     "start_time": "2024-08-19T15:44:01.099399Z"
    }
   },
   "cell_type": "code",
   "source": [
    "#create unique list of source/from and target/to for plotly\n",
    "unique_from_to = list(pd.unique(links[['From','To']].values.ravel('K')))\n",
    "display(unique_from_to)"
   ],
   "id": "f3e540995dbe301d",
   "outputs": [
    {
     "data": {
      "text/plain": [
       "['Total disposed plastics',\n",
       " 'CA domestic production',\n",
       " 'Net trade of new products',\n",
       " 'CA consumption',\n",
       " 'Total discarded plastics',\n",
       " 'Collection',\n",
       " 'Material recovery',\n",
       " 'Recycling',\n",
       " 'Landfill or incineration',\n",
       " 'Incineration (WtE) or gasification',\n",
       " 'Net trade disposed plastics',\n",
       " 'Net in-use stock addition',\n",
       " 'Leak into environment',\n",
       " 'Net trade baled plastic',\n",
       " 'Secondary feedstock']"
      ]
     },
     "metadata": {},
     "output_type": "display_data"
    }
   ],
   "execution_count": 37
  },
  {
   "cell_type": "code",
   "id": "e333289a",
   "metadata": {
    "ExecuteTime": {
     "end_time": "2024-08-19T15:44:21.794431Z",
     "start_time": "2024-08-19T15:44:21.762951Z"
    }
   },
   "source": [
    "#create unique list of source/from and target/to for plotly\n",
    "#unique_from_to = list(pd.unique(links[['From','To']].values.ravel('K')))\n",
    "\n",
    "#mapping_dict={k:v for v,k in enumerate(unique_from_to)}\n",
    "#links['From']=links['From'].map(mapping_dict)\n",
    "#links['To']=links['To'].map(mapping_dict)\n",
    "#links_dict=links.to_dict(orient='list')\n",
    "#links_dict\n",
    "\n",
    "#try new approach (with the help of chatGPT) due to error message in panadas 3.0\n",
    "# Create a list of unique nodes\n",
    "unique_nodes = pd.concat([links['From'], links['To']]).unique()\n",
    "node_index = {node: i for i, node in enumerate(unique_nodes)}\n",
    "\n",
    "# Create new columns for indices in a safe way\n",
    "links = links.assign(\n",
    "    FromIndex=links['From'].map(node_index),\n",
    "    ToIndex=links['To'].map(node_index))"
   ],
   "outputs": [],
   "execution_count": 38
  },
  {
   "cell_type": "code",
   "id": "0111a372",
   "metadata": {
    "ExecuteTime": {
     "end_time": "2024-08-19T15:44:23.788066Z",
     "start_time": "2024-08-19T15:44:23.756808Z"
    }
   },
   "source": [
    "#test of basic plotly Sankey\n",
    "fig = go.Figure(data=[go.Sankey(\n",
    "    node = dict(\n",
    "      pad = 15,\n",
    "      thickness = 20,\n",
    "      line = dict(color = \"black\", width = 0.5),\n",
    "      label = unique_from_to,\n",
    "      color = \"black\"\n",
    "    ),\n",
    "    link = dict(\n",
    "      source = links['FromIndex'], # indices correspond to labels\n",
    "      target = links['ToIndex'],\n",
    "      value = links['VALUE']\n",
    "  ))])\n",
    "\n",
    "fig.update_layout(title_text=\"Sankey Diagram, Plastics by resin, 2020, Canada\", font_size=10)\n",
    "fig.show()"
   ],
   "outputs": [
    {
     "data": {
      "application/vnd.plotly.v1+json": {
       "data": [
        {
         "link": {
          "source": [
           0,
           0,
           0,
           1,
           2,
           3,
           3,
           4,
           4,
           5,
           5,
           6,
           6,
           6,
           7,
           7,
           1,
           2,
           3,
           3,
           4,
           4,
           5,
           5,
           6,
           6,
           6,
           7,
           7,
           1,
           2,
           3,
           3,
           4,
           4,
           5,
           5,
           6,
           6,
           6,
           7,
           7,
           1,
           2,
           3,
           3,
           4,
           4,
           5,
           5,
           6,
           6,
           6,
           7,
           7,
           1,
           2,
           3,
           3,
           4,
           4,
           5,
           5,
           6,
           6,
           6,
           7,
           7,
           1,
           2,
           3,
           3,
           4,
           4,
           5,
           5,
           6,
           6,
           6,
           7,
           7,
           1,
           2,
           3,
           3,
           4,
           4,
           5,
           5,
           6,
           6,
           6,
           7,
           7,
           1,
           2,
           3,
           3,
           4,
           4,
           5,
           5,
           6,
           6,
           6,
           7,
           7,
           1,
           2,
           3,
           3,
           4,
           4,
           5,
           5,
           6,
           6,
           6,
           7,
           7,
           1,
           2,
           3,
           3,
           4,
           4,
           5,
           5,
           6,
           6,
           6,
           7,
           7,
           1,
           2,
           3,
           3,
           4,
           4,
           5,
           5,
           6,
           6,
           6,
           7,
           7,
           1,
           2,
           3,
           3,
           4,
           4,
           5,
           5,
           6,
           6,
           6,
           7,
           7,
           1,
           2,
           3,
           3,
           4,
           4,
           5,
           5,
           6,
           6,
           6,
           7,
           7,
           1,
           2,
           3,
           3,
           4,
           4,
           5,
           5,
           6,
           6,
           6,
           7,
           7,
           1,
           2,
           3,
           3,
           4,
           4,
           5,
           5,
           6,
           6,
           6,
           7,
           7,
           1,
           2,
           3,
           3,
           4,
           4,
           5,
           5,
           6,
           6,
           6,
           7,
           7,
           1,
           2,
           3,
           3,
           4,
           4,
           5,
           5,
           6,
           6,
           6,
           7,
           7,
           1,
           2,
           3,
           3,
           4,
           4,
           5,
           5,
           6,
           6,
           6,
           7,
           7,
           1,
           2,
           3,
           3,
           4,
           4,
           5,
           5,
           6,
           6,
           6,
           7,
           7
          ],
          "target": [
           8,
           9,
           10,
           3,
           3,
           11,
           4,
           12,
           5,
           6,
           0,
           7,
           0,
           13,
           14,
           0,
           3,
           3,
           11,
           4,
           12,
           5,
           6,
           0,
           7,
           0,
           13,
           14,
           0,
           3,
           3,
           11,
           4,
           12,
           5,
           6,
           0,
           7,
           0,
           13,
           14,
           0,
           3,
           3,
           11,
           4,
           12,
           5,
           6,
           0,
           7,
           0,
           13,
           14,
           0,
           3,
           3,
           11,
           4,
           12,
           5,
           6,
           0,
           7,
           0,
           13,
           14,
           0,
           3,
           3,
           11,
           4,
           12,
           5,
           6,
           0,
           7,
           0,
           13,
           14,
           0,
           3,
           3,
           11,
           4,
           12,
           5,
           6,
           0,
           7,
           0,
           13,
           14,
           0,
           3,
           3,
           11,
           4,
           12,
           5,
           6,
           0,
           7,
           0,
           13,
           14,
           0,
           3,
           3,
           11,
           4,
           12,
           5,
           6,
           0,
           7,
           0,
           13,
           14,
           0,
           3,
           3,
           11,
           4,
           12,
           5,
           6,
           0,
           7,
           0,
           13,
           14,
           0,
           3,
           3,
           11,
           4,
           12,
           5,
           6,
           0,
           7,
           0,
           13,
           14,
           0,
           3,
           3,
           11,
           4,
           12,
           5,
           6,
           0,
           7,
           0,
           13,
           14,
           0,
           3,
           3,
           11,
           4,
           12,
           5,
           6,
           0,
           7,
           0,
           13,
           14,
           0,
           3,
           3,
           11,
           4,
           12,
           5,
           6,
           0,
           7,
           0,
           13,
           14,
           0,
           3,
           3,
           11,
           4,
           12,
           5,
           6,
           0,
           7,
           0,
           13,
           14,
           0,
           3,
           3,
           11,
           4,
           12,
           5,
           6,
           0,
           7,
           0,
           13,
           14,
           0,
           3,
           3,
           11,
           4,
           12,
           5,
           6,
           0,
           7,
           0,
           13,
           14,
           0,
           3,
           3,
           11,
           4,
           12,
           5,
           6,
           0,
           7,
           0,
           13,
           14,
           0,
           3,
           3,
           11,
           4,
           12,
           5,
           6,
           0,
           7,
           0,
           13,
           14,
           0
          ],
          "value": [
           3916862.0,
           107577.0,
           496166.0,
           597458.0,
           201889.0,
           236585.0,
           562762.0,
           4702.0,
           558060.0,
           291620.0,
           266201.0,
           131636.0,
           159984.0,
           1119.0,
           113027.0,
           19708.0,
           89175.0,
           26625.0,
           67363.0,
           48436.0,
           386.0,
           48050.0,
           13001.0,
           35032.0,
           1894.0,
           11108.0,
           183.0,
           1352.0,
           353.0,
           321013.0,
           255044.0,
           74116.0,
           501942.0,
           4370.0,
           497571.0,
           51811.0,
           445615.0,
           42714.0,
           9097.0,
           386.0,
           34439.0,
           8539.0,
           225756.0,
           162506.0,
           30895.0,
           357367.0,
           3152.0,
           354215.0,
           25870.0,
           328282.0,
           21601.0,
           4268.0,
           203.0,
           16733.0,
           5070.0,
           710065.0,
           358620.0,
           373535.0,
           695150.0,
           5802.0,
           689349.0,
           170868.0,
           518059.0,
           111877.0,
           58992.0,
           313.0,
           94711.0,
           17460.0,
           336696.0,
           205873.0,
           155391.0,
           387178.0,
           3304.0,
           383875.0,
           74759.0,
           308957.0,
           37842.0,
           36918.0,
           66.0,
           30671.0,
           6674.0,
           559158.0,
           210306.0,
           360412.0,
           409053.0,
           3326.0,
           405727.0,
           73596.0,
           332029.0,
           13129.0,
           60466.0,
           1026.0,
           9648.0,
           2449.0,
           32480.0,
           24684.0,
           33338.0,
           23827.0,
           180.0,
           23646.0,
           4432.0,
           19200.0,
           669.0,
           3763.0,
           55.0,
           483.0,
           130.0,
           441698.0,
           195324.0,
           323871.0,
           313150.0,
           2650.0,
           310500.0,
           57273.0,
           253096.0,
           14055.0,
           43218.0,
           809.0,
           10559.0,
           2638.0,
           430063.0,
           266220.0,
           164939.0,
           531344.0,
           4255.0,
           527089.0,
           150782.0,
           376061.0,
           23503.0,
           127279.0,
           12.0,
           18631.0,
           4454.0,
           33693.0,
           45828.0,
           21882.0,
           57639.0,
           450.0,
           57189.0,
           13607.0,
           43541.0,
           1771.0,
           11836.0,
           27.0,
           1329.0,
           313.0,
           67885.0,
           90783.0,
           42602.0,
           116066.0,
           859.0,
           115207.0,
           33104.0,
           82024.0,
           2881.0,
           30223.0,
           59.0,
           2138.0,
           514.0,
           533866.0,
           518693.0,
           254815.0,
           797744.0,
           6096.0,
           791649.0,
           270545.0,
           520740.0,
           33103.0,
           237442.0,
           21.0,
           26423.0,
           5936.0,
           3817.0,
           5181.0,
           4198.0,
           4799.0,
           23.0,
           4777.0,
           909.0,
           3867.0,
           58.0,
           851.0,
           5.0,
           41.0,
           11.0,
           1849.0,
           2857.0,
           1136.0,
           3571.0,
           13.0,
           3557.0,
           24.0,
           3533.0,
           20.0,
           3.0,
           1.0,
           15.0,
           4.0,
           863.0,
           1121.0,
           386.0,
           1599.0,
           7.0,
           1592.0,
           62.0,
           1530.0,
           22.0,
           40.0,
           0.0,
           17.0,
           5.0,
           40672.0,
           26648.0,
           16718.0,
           50601.0,
           349.0,
           50253.0,
           10955.0,
           39276.0,
           1662.0,
           9293.0,
           15.0,
           1323.0,
           352.0,
           28758.0,
           16631.0,
           18799.0,
           26590.0,
           176.0,
           26414.0,
           3292.0,
           23114.0,
           372.0,
           2920.0,
           53.0,
           247.0,
           65.0,
           19768.0,
           31500.0,
           12432.0,
           38837.0,
           267.0,
           38569.0,
           2156.0,
           36403.0,
           604.0,
           1552.0,
           13.0,
           465.0,
           116.0
          ]
         },
         "node": {
          "color": "black",
          "label": [
           "Total disposed plastics",
           "CA domestic production",
           "Net trade of new products",
           "CA consumption",
           "Total discarded plastics",
           "Collection",
           "Material recovery",
           "Recycling",
           "Landfill or incineration",
           "Incineration (WtE) or gasification",
           "Net trade disposed plastics",
           "Net in-use stock addition",
           "Leak into environment",
           "Net trade baled plastic",
           "Secondary feedstock"
          ],
          "line": {
           "color": "black",
           "width": 0.5
          },
          "pad": 15,
          "thickness": 20
         },
         "type": "sankey"
        }
       ],
       "layout": {
        "template": {
         "data": {
          "histogram2dcontour": [
           {
            "type": "histogram2dcontour",
            "colorbar": {
             "outlinewidth": 0,
             "ticks": ""
            },
            "colorscale": [
             [
              0.0,
              "#0d0887"
             ],
             [
              0.1111111111111111,
              "#46039f"
             ],
             [
              0.2222222222222222,
              "#7201a8"
             ],
             [
              0.3333333333333333,
              "#9c179e"
             ],
             [
              0.4444444444444444,
              "#bd3786"
             ],
             [
              0.5555555555555556,
              "#d8576b"
             ],
             [
              0.6666666666666666,
              "#ed7953"
             ],
             [
              0.7777777777777778,
              "#fb9f3a"
             ],
             [
              0.8888888888888888,
              "#fdca26"
             ],
             [
              1.0,
              "#f0f921"
             ]
            ]
           }
          ],
          "choropleth": [
           {
            "type": "choropleth",
            "colorbar": {
             "outlinewidth": 0,
             "ticks": ""
            }
           }
          ],
          "histogram2d": [
           {
            "type": "histogram2d",
            "colorbar": {
             "outlinewidth": 0,
             "ticks": ""
            },
            "colorscale": [
             [
              0.0,
              "#0d0887"
             ],
             [
              0.1111111111111111,
              "#46039f"
             ],
             [
              0.2222222222222222,
              "#7201a8"
             ],
             [
              0.3333333333333333,
              "#9c179e"
             ],
             [
              0.4444444444444444,
              "#bd3786"
             ],
             [
              0.5555555555555556,
              "#d8576b"
             ],
             [
              0.6666666666666666,
              "#ed7953"
             ],
             [
              0.7777777777777778,
              "#fb9f3a"
             ],
             [
              0.8888888888888888,
              "#fdca26"
             ],
             [
              1.0,
              "#f0f921"
             ]
            ]
           }
          ],
          "heatmap": [
           {
            "type": "heatmap",
            "colorbar": {
             "outlinewidth": 0,
             "ticks": ""
            },
            "colorscale": [
             [
              0.0,
              "#0d0887"
             ],
             [
              0.1111111111111111,
              "#46039f"
             ],
             [
              0.2222222222222222,
              "#7201a8"
             ],
             [
              0.3333333333333333,
              "#9c179e"
             ],
             [
              0.4444444444444444,
              "#bd3786"
             ],
             [
              0.5555555555555556,
              "#d8576b"
             ],
             [
              0.6666666666666666,
              "#ed7953"
             ],
             [
              0.7777777777777778,
              "#fb9f3a"
             ],
             [
              0.8888888888888888,
              "#fdca26"
             ],
             [
              1.0,
              "#f0f921"
             ]
            ]
           }
          ],
          "heatmapgl": [
           {
            "type": "heatmapgl",
            "colorbar": {
             "outlinewidth": 0,
             "ticks": ""
            },
            "colorscale": [
             [
              0.0,
              "#0d0887"
             ],
             [
              0.1111111111111111,
              "#46039f"
             ],
             [
              0.2222222222222222,
              "#7201a8"
             ],
             [
              0.3333333333333333,
              "#9c179e"
             ],
             [
              0.4444444444444444,
              "#bd3786"
             ],
             [
              0.5555555555555556,
              "#d8576b"
             ],
             [
              0.6666666666666666,
              "#ed7953"
             ],
             [
              0.7777777777777778,
              "#fb9f3a"
             ],
             [
              0.8888888888888888,
              "#fdca26"
             ],
             [
              1.0,
              "#f0f921"
             ]
            ]
           }
          ],
          "contourcarpet": [
           {
            "type": "contourcarpet",
            "colorbar": {
             "outlinewidth": 0,
             "ticks": ""
            }
           }
          ],
          "contour": [
           {
            "type": "contour",
            "colorbar": {
             "outlinewidth": 0,
             "ticks": ""
            },
            "colorscale": [
             [
              0.0,
              "#0d0887"
             ],
             [
              0.1111111111111111,
              "#46039f"
             ],
             [
              0.2222222222222222,
              "#7201a8"
             ],
             [
              0.3333333333333333,
              "#9c179e"
             ],
             [
              0.4444444444444444,
              "#bd3786"
             ],
             [
              0.5555555555555556,
              "#d8576b"
             ],
             [
              0.6666666666666666,
              "#ed7953"
             ],
             [
              0.7777777777777778,
              "#fb9f3a"
             ],
             [
              0.8888888888888888,
              "#fdca26"
             ],
             [
              1.0,
              "#f0f921"
             ]
            ]
           }
          ],
          "surface": [
           {
            "type": "surface",
            "colorbar": {
             "outlinewidth": 0,
             "ticks": ""
            },
            "colorscale": [
             [
              0.0,
              "#0d0887"
             ],
             [
              0.1111111111111111,
              "#46039f"
             ],
             [
              0.2222222222222222,
              "#7201a8"
             ],
             [
              0.3333333333333333,
              "#9c179e"
             ],
             [
              0.4444444444444444,
              "#bd3786"
             ],
             [
              0.5555555555555556,
              "#d8576b"
             ],
             [
              0.6666666666666666,
              "#ed7953"
             ],
             [
              0.7777777777777778,
              "#fb9f3a"
             ],
             [
              0.8888888888888888,
              "#fdca26"
             ],
             [
              1.0,
              "#f0f921"
             ]
            ]
           }
          ],
          "mesh3d": [
           {
            "type": "mesh3d",
            "colorbar": {
             "outlinewidth": 0,
             "ticks": ""
            }
           }
          ],
          "scatter": [
           {
            "marker": {
             "line": {
              "color": "#283442"
             }
            },
            "type": "scatter"
           }
          ],
          "parcoords": [
           {
            "type": "parcoords",
            "line": {
             "colorbar": {
              "outlinewidth": 0,
              "ticks": ""
             }
            }
           }
          ],
          "scatterpolargl": [
           {
            "type": "scatterpolargl",
            "marker": {
             "colorbar": {
              "outlinewidth": 0,
              "ticks": ""
             }
            }
           }
          ],
          "bar": [
           {
            "error_x": {
             "color": "#f2f5fa"
            },
            "error_y": {
             "color": "#f2f5fa"
            },
            "marker": {
             "line": {
              "color": "rgb(17,17,17)",
              "width": 0.5
             },
             "pattern": {
              "fillmode": "overlay",
              "size": 10,
              "solidity": 0.2
             }
            },
            "type": "bar"
           }
          ],
          "scattergeo": [
           {
            "type": "scattergeo",
            "marker": {
             "colorbar": {
              "outlinewidth": 0,
              "ticks": ""
             }
            }
           }
          ],
          "scatterpolar": [
           {
            "type": "scatterpolar",
            "marker": {
             "colorbar": {
              "outlinewidth": 0,
              "ticks": ""
             }
            }
           }
          ],
          "histogram": [
           {
            "marker": {
             "pattern": {
              "fillmode": "overlay",
              "size": 10,
              "solidity": 0.2
             }
            },
            "type": "histogram"
           }
          ],
          "scattergl": [
           {
            "marker": {
             "line": {
              "color": "#283442"
             }
            },
            "type": "scattergl"
           }
          ],
          "scatter3d": [
           {
            "type": "scatter3d",
            "line": {
             "colorbar": {
              "outlinewidth": 0,
              "ticks": ""
             }
            },
            "marker": {
             "colorbar": {
              "outlinewidth": 0,
              "ticks": ""
             }
            }
           }
          ],
          "scattermapbox": [
           {
            "type": "scattermapbox",
            "marker": {
             "colorbar": {
              "outlinewidth": 0,
              "ticks": ""
             }
            }
           }
          ],
          "scatterternary": [
           {
            "type": "scatterternary",
            "marker": {
             "colorbar": {
              "outlinewidth": 0,
              "ticks": ""
             }
            }
           }
          ],
          "scattercarpet": [
           {
            "type": "scattercarpet",
            "marker": {
             "colorbar": {
              "outlinewidth": 0,
              "ticks": ""
             }
            }
           }
          ],
          "carpet": [
           {
            "aaxis": {
             "endlinecolor": "#A2B1C6",
             "gridcolor": "#506784",
             "linecolor": "#506784",
             "minorgridcolor": "#506784",
             "startlinecolor": "#A2B1C6"
            },
            "baxis": {
             "endlinecolor": "#A2B1C6",
             "gridcolor": "#506784",
             "linecolor": "#506784",
             "minorgridcolor": "#506784",
             "startlinecolor": "#A2B1C6"
            },
            "type": "carpet"
           }
          ],
          "table": [
           {
            "cells": {
             "fill": {
              "color": "#506784"
             },
             "line": {
              "color": "rgb(17,17,17)"
             }
            },
            "header": {
             "fill": {
              "color": "#2a3f5f"
             },
             "line": {
              "color": "rgb(17,17,17)"
             }
            },
            "type": "table"
           }
          ],
          "barpolar": [
           {
            "marker": {
             "line": {
              "color": "rgb(17,17,17)",
              "width": 0.5
             },
             "pattern": {
              "fillmode": "overlay",
              "size": 10,
              "solidity": 0.2
             }
            },
            "type": "barpolar"
           }
          ],
          "pie": [
           {
            "automargin": true,
            "type": "pie"
           }
          ]
         },
         "layout": {
          "autotypenumbers": "strict",
          "colorway": [
           "#636efa",
           "#EF553B",
           "#00cc96",
           "#ab63fa",
           "#FFA15A",
           "#19d3f3",
           "#FF6692",
           "#B6E880",
           "#FF97FF",
           "#FECB52"
          ],
          "font": {
           "color": "#f2f5fa"
          },
          "hovermode": "closest",
          "hoverlabel": {
           "align": "left"
          },
          "paper_bgcolor": "rgb(17,17,17)",
          "plot_bgcolor": "rgb(17,17,17)",
          "polar": {
           "bgcolor": "rgb(17,17,17)",
           "angularaxis": {
            "gridcolor": "#506784",
            "linecolor": "#506784",
            "ticks": ""
           },
           "radialaxis": {
            "gridcolor": "#506784",
            "linecolor": "#506784",
            "ticks": ""
           }
          },
          "ternary": {
           "bgcolor": "rgb(17,17,17)",
           "aaxis": {
            "gridcolor": "#506784",
            "linecolor": "#506784",
            "ticks": ""
           },
           "baxis": {
            "gridcolor": "#506784",
            "linecolor": "#506784",
            "ticks": ""
           },
           "caxis": {
            "gridcolor": "#506784",
            "linecolor": "#506784",
            "ticks": ""
           }
          },
          "coloraxis": {
           "colorbar": {
            "outlinewidth": 0,
            "ticks": ""
           }
          },
          "colorscale": {
           "sequential": [
            [
             0.0,
             "#0d0887"
            ],
            [
             0.1111111111111111,
             "#46039f"
            ],
            [
             0.2222222222222222,
             "#7201a8"
            ],
            [
             0.3333333333333333,
             "#9c179e"
            ],
            [
             0.4444444444444444,
             "#bd3786"
            ],
            [
             0.5555555555555556,
             "#d8576b"
            ],
            [
             0.6666666666666666,
             "#ed7953"
            ],
            [
             0.7777777777777778,
             "#fb9f3a"
            ],
            [
             0.8888888888888888,
             "#fdca26"
            ],
            [
             1.0,
             "#f0f921"
            ]
           ],
           "sequentialminus": [
            [
             0.0,
             "#0d0887"
            ],
            [
             0.1111111111111111,
             "#46039f"
            ],
            [
             0.2222222222222222,
             "#7201a8"
            ],
            [
             0.3333333333333333,
             "#9c179e"
            ],
            [
             0.4444444444444444,
             "#bd3786"
            ],
            [
             0.5555555555555556,
             "#d8576b"
            ],
            [
             0.6666666666666666,
             "#ed7953"
            ],
            [
             0.7777777777777778,
             "#fb9f3a"
            ],
            [
             0.8888888888888888,
             "#fdca26"
            ],
            [
             1.0,
             "#f0f921"
            ]
           ],
           "diverging": [
            [
             0,
             "#8e0152"
            ],
            [
             0.1,
             "#c51b7d"
            ],
            [
             0.2,
             "#de77ae"
            ],
            [
             0.3,
             "#f1b6da"
            ],
            [
             0.4,
             "#fde0ef"
            ],
            [
             0.5,
             "#f7f7f7"
            ],
            [
             0.6,
             "#e6f5d0"
            ],
            [
             0.7,
             "#b8e186"
            ],
            [
             0.8,
             "#7fbc41"
            ],
            [
             0.9,
             "#4d9221"
            ],
            [
             1,
             "#276419"
            ]
           ]
          },
          "xaxis": {
           "gridcolor": "#283442",
           "linecolor": "#506784",
           "ticks": "",
           "title": {
            "standoff": 15
           },
           "zerolinecolor": "#283442",
           "automargin": true,
           "zerolinewidth": 2
          },
          "yaxis": {
           "gridcolor": "#283442",
           "linecolor": "#506784",
           "ticks": "",
           "title": {
            "standoff": 15
           },
           "zerolinecolor": "#283442",
           "automargin": true,
           "zerolinewidth": 2
          },
          "scene": {
           "xaxis": {
            "backgroundcolor": "rgb(17,17,17)",
            "gridcolor": "#506784",
            "linecolor": "#506784",
            "showbackground": true,
            "ticks": "",
            "zerolinecolor": "#C8D4E3",
            "gridwidth": 2
           },
           "yaxis": {
            "backgroundcolor": "rgb(17,17,17)",
            "gridcolor": "#506784",
            "linecolor": "#506784",
            "showbackground": true,
            "ticks": "",
            "zerolinecolor": "#C8D4E3",
            "gridwidth": 2
           },
           "zaxis": {
            "backgroundcolor": "rgb(17,17,17)",
            "gridcolor": "#506784",
            "linecolor": "#506784",
            "showbackground": true,
            "ticks": "",
            "zerolinecolor": "#C8D4E3",
            "gridwidth": 2
           }
          },
          "shapedefaults": {
           "line": {
            "color": "#f2f5fa"
           }
          },
          "annotationdefaults": {
           "arrowcolor": "#f2f5fa",
           "arrowhead": 0,
           "arrowwidth": 1
          },
          "geo": {
           "bgcolor": "rgb(17,17,17)",
           "landcolor": "rgb(17,17,17)",
           "subunitcolor": "#506784",
           "showland": true,
           "showlakes": true,
           "lakecolor": "rgb(17,17,17)"
          },
          "title": {
           "x": 0.05
          },
          "updatemenudefaults": {
           "bgcolor": "#506784",
           "borderwidth": 0
          },
          "sliderdefaults": {
           "bgcolor": "#C8D4E3",
           "borderwidth": 1,
           "bordercolor": "rgb(17,17,17)",
           "tickwidth": 0
          },
          "mapbox": {
           "style": "dark"
          }
         }
        },
        "title": {
         "text": "Sankey Diagram, Plastics by resin, 2020, Canada"
        },
        "font": {
         "size": 10
        }
       },
       "config": {
        "plotlyServerURL": "https://plot.ly"
       }
      },
      "text/html": [
       "<div>                            <div id=\"00c8f3bd-bc19-4d7c-a11d-1d1e4875ccd2\" class=\"plotly-graph-div\" style=\"height:525px; width:100%;\"></div>            <script type=\"text/javascript\">                require([\"plotly\"], function(Plotly) {                    window.PLOTLYENV=window.PLOTLYENV || {};                                    if (document.getElementById(\"00c8f3bd-bc19-4d7c-a11d-1d1e4875ccd2\")) {                    Plotly.newPlot(                        \"00c8f3bd-bc19-4d7c-a11d-1d1e4875ccd2\",                        [{\"link\":{\"source\":[0,0,0,1,2,3,3,4,4,5,5,6,6,6,7,7,1,2,3,3,4,4,5,5,6,6,6,7,7,1,2,3,3,4,4,5,5,6,6,6,7,7,1,2,3,3,4,4,5,5,6,6,6,7,7,1,2,3,3,4,4,5,5,6,6,6,7,7,1,2,3,3,4,4,5,5,6,6,6,7,7,1,2,3,3,4,4,5,5,6,6,6,7,7,1,2,3,3,4,4,5,5,6,6,6,7,7,1,2,3,3,4,4,5,5,6,6,6,7,7,1,2,3,3,4,4,5,5,6,6,6,7,7,1,2,3,3,4,4,5,5,6,6,6,7,7,1,2,3,3,4,4,5,5,6,6,6,7,7,1,2,3,3,4,4,5,5,6,6,6,7,7,1,2,3,3,4,4,5,5,6,6,6,7,7,1,2,3,3,4,4,5,5,6,6,6,7,7,1,2,3,3,4,4,5,5,6,6,6,7,7,1,2,3,3,4,4,5,5,6,6,6,7,7,1,2,3,3,4,4,5,5,6,6,6,7,7,1,2,3,3,4,4,5,5,6,6,6,7,7],\"target\":[8,9,10,3,3,11,4,12,5,6,0,7,0,13,14,0,3,3,11,4,12,5,6,0,7,0,13,14,0,3,3,11,4,12,5,6,0,7,0,13,14,0,3,3,11,4,12,5,6,0,7,0,13,14,0,3,3,11,4,12,5,6,0,7,0,13,14,0,3,3,11,4,12,5,6,0,7,0,13,14,0,3,3,11,4,12,5,6,0,7,0,13,14,0,3,3,11,4,12,5,6,0,7,0,13,14,0,3,3,11,4,12,5,6,0,7,0,13,14,0,3,3,11,4,12,5,6,0,7,0,13,14,0,3,3,11,4,12,5,6,0,7,0,13,14,0,3,3,11,4,12,5,6,0,7,0,13,14,0,3,3,11,4,12,5,6,0,7,0,13,14,0,3,3,11,4,12,5,6,0,7,0,13,14,0,3,3,11,4,12,5,6,0,7,0,13,14,0,3,3,11,4,12,5,6,0,7,0,13,14,0,3,3,11,4,12,5,6,0,7,0,13,14,0,3,3,11,4,12,5,6,0,7,0,13,14,0,3,3,11,4,12,5,6,0,7,0,13,14,0],\"value\":[3916862.0,107577.0,496166.0,597458.0,201889.0,236585.0,562762.0,4702.0,558060.0,291620.0,266201.0,131636.0,159984.0,1119.0,113027.0,19708.0,89175.0,26625.0,67363.0,48436.0,386.0,48050.0,13001.0,35032.0,1894.0,11108.0,183.0,1352.0,353.0,321013.0,255044.0,74116.0,501942.0,4370.0,497571.0,51811.0,445615.0,42714.0,9097.0,386.0,34439.0,8539.0,225756.0,162506.0,30895.0,357367.0,3152.0,354215.0,25870.0,328282.0,21601.0,4268.0,203.0,16733.0,5070.0,710065.0,358620.0,373535.0,695150.0,5802.0,689349.0,170868.0,518059.0,111877.0,58992.0,313.0,94711.0,17460.0,336696.0,205873.0,155391.0,387178.0,3304.0,383875.0,74759.0,308957.0,37842.0,36918.0,66.0,30671.0,6674.0,559158.0,210306.0,360412.0,409053.0,3326.0,405727.0,73596.0,332029.0,13129.0,60466.0,1026.0,9648.0,2449.0,32480.0,24684.0,33338.0,23827.0,180.0,23646.0,4432.0,19200.0,669.0,3763.0,55.0,483.0,130.0,441698.0,195324.0,323871.0,313150.0,2650.0,310500.0,57273.0,253096.0,14055.0,43218.0,809.0,10559.0,2638.0,430063.0,266220.0,164939.0,531344.0,4255.0,527089.0,150782.0,376061.0,23503.0,127279.0,12.0,18631.0,4454.0,33693.0,45828.0,21882.0,57639.0,450.0,57189.0,13607.0,43541.0,1771.0,11836.0,27.0,1329.0,313.0,67885.0,90783.0,42602.0,116066.0,859.0,115207.0,33104.0,82024.0,2881.0,30223.0,59.0,2138.0,514.0,533866.0,518693.0,254815.0,797744.0,6096.0,791649.0,270545.0,520740.0,33103.0,237442.0,21.0,26423.0,5936.0,3817.0,5181.0,4198.0,4799.0,23.0,4777.0,909.0,3867.0,58.0,851.0,5.0,41.0,11.0,1849.0,2857.0,1136.0,3571.0,13.0,3557.0,24.0,3533.0,20.0,3.0,1.0,15.0,4.0,863.0,1121.0,386.0,1599.0,7.0,1592.0,62.0,1530.0,22.0,40.0,0.0,17.0,5.0,40672.0,26648.0,16718.0,50601.0,349.0,50253.0,10955.0,39276.0,1662.0,9293.0,15.0,1323.0,352.0,28758.0,16631.0,18799.0,26590.0,176.0,26414.0,3292.0,23114.0,372.0,2920.0,53.0,247.0,65.0,19768.0,31500.0,12432.0,38837.0,267.0,38569.0,2156.0,36403.0,604.0,1552.0,13.0,465.0,116.0]},\"node\":{\"color\":\"black\",\"label\":[\"Total disposed plastics\",\"CA domestic production\",\"Net trade of new products\",\"CA consumption\",\"Total discarded plastics\",\"Collection\",\"Material recovery\",\"Recycling\",\"Landfill or incineration\",\"Incineration (WtE) or gasification\",\"Net trade disposed plastics\",\"Net in-use stock addition\",\"Leak into environment\",\"Net trade baled plastic\",\"Secondary feedstock\"],\"line\":{\"color\":\"black\",\"width\":0.5},\"pad\":15,\"thickness\":20},\"type\":\"sankey\"}],                        {\"template\":{\"data\":{\"histogram2dcontour\":[{\"type\":\"histogram2dcontour\",\"colorbar\":{\"outlinewidth\":0,\"ticks\":\"\"},\"colorscale\":[[0.0,\"#0d0887\"],[0.1111111111111111,\"#46039f\"],[0.2222222222222222,\"#7201a8\"],[0.3333333333333333,\"#9c179e\"],[0.4444444444444444,\"#bd3786\"],[0.5555555555555556,\"#d8576b\"],[0.6666666666666666,\"#ed7953\"],[0.7777777777777778,\"#fb9f3a\"],[0.8888888888888888,\"#fdca26\"],[1.0,\"#f0f921\"]]}],\"choropleth\":[{\"type\":\"choropleth\",\"colorbar\":{\"outlinewidth\":0,\"ticks\":\"\"}}],\"histogram2d\":[{\"type\":\"histogram2d\",\"colorbar\":{\"outlinewidth\":0,\"ticks\":\"\"},\"colorscale\":[[0.0,\"#0d0887\"],[0.1111111111111111,\"#46039f\"],[0.2222222222222222,\"#7201a8\"],[0.3333333333333333,\"#9c179e\"],[0.4444444444444444,\"#bd3786\"],[0.5555555555555556,\"#d8576b\"],[0.6666666666666666,\"#ed7953\"],[0.7777777777777778,\"#fb9f3a\"],[0.8888888888888888,\"#fdca26\"],[1.0,\"#f0f921\"]]}],\"heatmap\":[{\"type\":\"heatmap\",\"colorbar\":{\"outlinewidth\":0,\"ticks\":\"\"},\"colorscale\":[[0.0,\"#0d0887\"],[0.1111111111111111,\"#46039f\"],[0.2222222222222222,\"#7201a8\"],[0.3333333333333333,\"#9c179e\"],[0.4444444444444444,\"#bd3786\"],[0.5555555555555556,\"#d8576b\"],[0.6666666666666666,\"#ed7953\"],[0.7777777777777778,\"#fb9f3a\"],[0.8888888888888888,\"#fdca26\"],[1.0,\"#f0f921\"]]}],\"heatmapgl\":[{\"type\":\"heatmapgl\",\"colorbar\":{\"outlinewidth\":0,\"ticks\":\"\"},\"colorscale\":[[0.0,\"#0d0887\"],[0.1111111111111111,\"#46039f\"],[0.2222222222222222,\"#7201a8\"],[0.3333333333333333,\"#9c179e\"],[0.4444444444444444,\"#bd3786\"],[0.5555555555555556,\"#d8576b\"],[0.6666666666666666,\"#ed7953\"],[0.7777777777777778,\"#fb9f3a\"],[0.8888888888888888,\"#fdca26\"],[1.0,\"#f0f921\"]]}],\"contourcarpet\":[{\"type\":\"contourcarpet\",\"colorbar\":{\"outlinewidth\":0,\"ticks\":\"\"}}],\"contour\":[{\"type\":\"contour\",\"colorbar\":{\"outlinewidth\":0,\"ticks\":\"\"},\"colorscale\":[[0.0,\"#0d0887\"],[0.1111111111111111,\"#46039f\"],[0.2222222222222222,\"#7201a8\"],[0.3333333333333333,\"#9c179e\"],[0.4444444444444444,\"#bd3786\"],[0.5555555555555556,\"#d8576b\"],[0.6666666666666666,\"#ed7953\"],[0.7777777777777778,\"#fb9f3a\"],[0.8888888888888888,\"#fdca26\"],[1.0,\"#f0f921\"]]}],\"surface\":[{\"type\":\"surface\",\"colorbar\":{\"outlinewidth\":0,\"ticks\":\"\"},\"colorscale\":[[0.0,\"#0d0887\"],[0.1111111111111111,\"#46039f\"],[0.2222222222222222,\"#7201a8\"],[0.3333333333333333,\"#9c179e\"],[0.4444444444444444,\"#bd3786\"],[0.5555555555555556,\"#d8576b\"],[0.6666666666666666,\"#ed7953\"],[0.7777777777777778,\"#fb9f3a\"],[0.8888888888888888,\"#fdca26\"],[1.0,\"#f0f921\"]]}],\"mesh3d\":[{\"type\":\"mesh3d\",\"colorbar\":{\"outlinewidth\":0,\"ticks\":\"\"}}],\"scatter\":[{\"marker\":{\"line\":{\"color\":\"#283442\"}},\"type\":\"scatter\"}],\"parcoords\":[{\"type\":\"parcoords\",\"line\":{\"colorbar\":{\"outlinewidth\":0,\"ticks\":\"\"}}}],\"scatterpolargl\":[{\"type\":\"scatterpolargl\",\"marker\":{\"colorbar\":{\"outlinewidth\":0,\"ticks\":\"\"}}}],\"bar\":[{\"error_x\":{\"color\":\"#f2f5fa\"},\"error_y\":{\"color\":\"#f2f5fa\"},\"marker\":{\"line\":{\"color\":\"rgb(17,17,17)\",\"width\":0.5},\"pattern\":{\"fillmode\":\"overlay\",\"size\":10,\"solidity\":0.2}},\"type\":\"bar\"}],\"scattergeo\":[{\"type\":\"scattergeo\",\"marker\":{\"colorbar\":{\"outlinewidth\":0,\"ticks\":\"\"}}}],\"scatterpolar\":[{\"type\":\"scatterpolar\",\"marker\":{\"colorbar\":{\"outlinewidth\":0,\"ticks\":\"\"}}}],\"histogram\":[{\"marker\":{\"pattern\":{\"fillmode\":\"overlay\",\"size\":10,\"solidity\":0.2}},\"type\":\"histogram\"}],\"scattergl\":[{\"marker\":{\"line\":{\"color\":\"#283442\"}},\"type\":\"scattergl\"}],\"scatter3d\":[{\"type\":\"scatter3d\",\"line\":{\"colorbar\":{\"outlinewidth\":0,\"ticks\":\"\"}},\"marker\":{\"colorbar\":{\"outlinewidth\":0,\"ticks\":\"\"}}}],\"scattermapbox\":[{\"type\":\"scattermapbox\",\"marker\":{\"colorbar\":{\"outlinewidth\":0,\"ticks\":\"\"}}}],\"scatterternary\":[{\"type\":\"scatterternary\",\"marker\":{\"colorbar\":{\"outlinewidth\":0,\"ticks\":\"\"}}}],\"scattercarpet\":[{\"type\":\"scattercarpet\",\"marker\":{\"colorbar\":{\"outlinewidth\":0,\"ticks\":\"\"}}}],\"carpet\":[{\"aaxis\":{\"endlinecolor\":\"#A2B1C6\",\"gridcolor\":\"#506784\",\"linecolor\":\"#506784\",\"minorgridcolor\":\"#506784\",\"startlinecolor\":\"#A2B1C6\"},\"baxis\":{\"endlinecolor\":\"#A2B1C6\",\"gridcolor\":\"#506784\",\"linecolor\":\"#506784\",\"minorgridcolor\":\"#506784\",\"startlinecolor\":\"#A2B1C6\"},\"type\":\"carpet\"}],\"table\":[{\"cells\":{\"fill\":{\"color\":\"#506784\"},\"line\":{\"color\":\"rgb(17,17,17)\"}},\"header\":{\"fill\":{\"color\":\"#2a3f5f\"},\"line\":{\"color\":\"rgb(17,17,17)\"}},\"type\":\"table\"}],\"barpolar\":[{\"marker\":{\"line\":{\"color\":\"rgb(17,17,17)\",\"width\":0.5},\"pattern\":{\"fillmode\":\"overlay\",\"size\":10,\"solidity\":0.2}},\"type\":\"barpolar\"}],\"pie\":[{\"automargin\":true,\"type\":\"pie\"}]},\"layout\":{\"autotypenumbers\":\"strict\",\"colorway\":[\"#636efa\",\"#EF553B\",\"#00cc96\",\"#ab63fa\",\"#FFA15A\",\"#19d3f3\",\"#FF6692\",\"#B6E880\",\"#FF97FF\",\"#FECB52\"],\"font\":{\"color\":\"#f2f5fa\"},\"hovermode\":\"closest\",\"hoverlabel\":{\"align\":\"left\"},\"paper_bgcolor\":\"rgb(17,17,17)\",\"plot_bgcolor\":\"rgb(17,17,17)\",\"polar\":{\"bgcolor\":\"rgb(17,17,17)\",\"angularaxis\":{\"gridcolor\":\"#506784\",\"linecolor\":\"#506784\",\"ticks\":\"\"},\"radialaxis\":{\"gridcolor\":\"#506784\",\"linecolor\":\"#506784\",\"ticks\":\"\"}},\"ternary\":{\"bgcolor\":\"rgb(17,17,17)\",\"aaxis\":{\"gridcolor\":\"#506784\",\"linecolor\":\"#506784\",\"ticks\":\"\"},\"baxis\":{\"gridcolor\":\"#506784\",\"linecolor\":\"#506784\",\"ticks\":\"\"},\"caxis\":{\"gridcolor\":\"#506784\",\"linecolor\":\"#506784\",\"ticks\":\"\"}},\"coloraxis\":{\"colorbar\":{\"outlinewidth\":0,\"ticks\":\"\"}},\"colorscale\":{\"sequential\":[[0.0,\"#0d0887\"],[0.1111111111111111,\"#46039f\"],[0.2222222222222222,\"#7201a8\"],[0.3333333333333333,\"#9c179e\"],[0.4444444444444444,\"#bd3786\"],[0.5555555555555556,\"#d8576b\"],[0.6666666666666666,\"#ed7953\"],[0.7777777777777778,\"#fb9f3a\"],[0.8888888888888888,\"#fdca26\"],[1.0,\"#f0f921\"]],\"sequentialminus\":[[0.0,\"#0d0887\"],[0.1111111111111111,\"#46039f\"],[0.2222222222222222,\"#7201a8\"],[0.3333333333333333,\"#9c179e\"],[0.4444444444444444,\"#bd3786\"],[0.5555555555555556,\"#d8576b\"],[0.6666666666666666,\"#ed7953\"],[0.7777777777777778,\"#fb9f3a\"],[0.8888888888888888,\"#fdca26\"],[1.0,\"#f0f921\"]],\"diverging\":[[0,\"#8e0152\"],[0.1,\"#c51b7d\"],[0.2,\"#de77ae\"],[0.3,\"#f1b6da\"],[0.4,\"#fde0ef\"],[0.5,\"#f7f7f7\"],[0.6,\"#e6f5d0\"],[0.7,\"#b8e186\"],[0.8,\"#7fbc41\"],[0.9,\"#4d9221\"],[1,\"#276419\"]]},\"xaxis\":{\"gridcolor\":\"#283442\",\"linecolor\":\"#506784\",\"ticks\":\"\",\"title\":{\"standoff\":15},\"zerolinecolor\":\"#283442\",\"automargin\":true,\"zerolinewidth\":2},\"yaxis\":{\"gridcolor\":\"#283442\",\"linecolor\":\"#506784\",\"ticks\":\"\",\"title\":{\"standoff\":15},\"zerolinecolor\":\"#283442\",\"automargin\":true,\"zerolinewidth\":2},\"scene\":{\"xaxis\":{\"backgroundcolor\":\"rgb(17,17,17)\",\"gridcolor\":\"#506784\",\"linecolor\":\"#506784\",\"showbackground\":true,\"ticks\":\"\",\"zerolinecolor\":\"#C8D4E3\",\"gridwidth\":2},\"yaxis\":{\"backgroundcolor\":\"rgb(17,17,17)\",\"gridcolor\":\"#506784\",\"linecolor\":\"#506784\",\"showbackground\":true,\"ticks\":\"\",\"zerolinecolor\":\"#C8D4E3\",\"gridwidth\":2},\"zaxis\":{\"backgroundcolor\":\"rgb(17,17,17)\",\"gridcolor\":\"#506784\",\"linecolor\":\"#506784\",\"showbackground\":true,\"ticks\":\"\",\"zerolinecolor\":\"#C8D4E3\",\"gridwidth\":2}},\"shapedefaults\":{\"line\":{\"color\":\"#f2f5fa\"}},\"annotationdefaults\":{\"arrowcolor\":\"#f2f5fa\",\"arrowhead\":0,\"arrowwidth\":1},\"geo\":{\"bgcolor\":\"rgb(17,17,17)\",\"landcolor\":\"rgb(17,17,17)\",\"subunitcolor\":\"#506784\",\"showland\":true,\"showlakes\":true,\"lakecolor\":\"rgb(17,17,17)\"},\"title\":{\"x\":0.05},\"updatemenudefaults\":{\"bgcolor\":\"#506784\",\"borderwidth\":0},\"sliderdefaults\":{\"bgcolor\":\"#C8D4E3\",\"borderwidth\":1,\"bordercolor\":\"rgb(17,17,17)\",\"tickwidth\":0},\"mapbox\":{\"style\":\"dark\"}}},\"title\":{\"text\":\"Sankey Diagram, Plastics by resin, 2020, Canada\"},\"font\":{\"size\":10}},                        {\"responsive\": true}                    ).then(function(){\n",
       "                            \n",
       "var gd = document.getElementById('00c8f3bd-bc19-4d7c-a11d-1d1e4875ccd2');\n",
       "var x = new MutationObserver(function (mutations, observer) {{\n",
       "        var display = window.getComputedStyle(gd).display;\n",
       "        if (!display || display === 'none') {{\n",
       "            console.log([gd, 'removed!']);\n",
       "            Plotly.purge(gd);\n",
       "            observer.disconnect();\n",
       "        }}\n",
       "}});\n",
       "\n",
       "// Listen for the removal of the full notebook cells\n",
       "var notebookContainer = gd.closest('#notebook-container');\n",
       "if (notebookContainer) {{\n",
       "    x.observe(notebookContainer, {childList: true});\n",
       "}}\n",
       "\n",
       "// Listen for the clearing of the current output cell\n",
       "var outputEl = gd.closest('.output');\n",
       "if (outputEl) {{\n",
       "    x.observe(outputEl, {childList: true});\n",
       "}}\n",
       "\n",
       "                        })                };                });            </script>        </div>"
      ]
     },
     "metadata": {},
     "output_type": "display_data"
    }
   ],
   "execution_count": 39
  },
  {
   "cell_type": "code",
   "id": "6629b793",
   "metadata": {
    "ExecuteTime": {
     "end_time": "2024-08-19T15:45:13.792026Z",
     "start_time": "2024-08-19T15:45:13.771010Z"
    }
   },
   "source": [
    "#add unit: valuesuffix\n",
    "fig = go.Figure(data=[go.Sankey(\n",
    "    valueformat = None,\n",
    "    valuesuffix = 't', #all flows in unit tonnes\n",
    "    node = dict(\n",
    "      pad = 15,\n",
    "      thickness = 20,\n",
    "      line = dict(color = \"black\", width = 0.5),\n",
    "      label = unique_from_to,\n",
    "      color = \"black\"\n",
    "    ),\n",
    "    link = dict(\n",
    "      source = links['FromIndex'], # indices correspond to labels\n",
    "      target = links['ToIndex'],\n",
    "      value = links['VALUE']\n",
    "  ))])\n",
    "\n",
    "fig.update_layout(title_text=\"Sankey Diagram, Plastics by resin, 2020, Canada\", font_size=10)\n",
    "fig.show()"
   ],
   "outputs": [
    {
     "data": {
      "application/vnd.plotly.v1+json": {
       "data": [
        {
         "link": {
          "source": [
           0,
           0,
           0,
           1,
           2,
           3,
           3,
           4,
           4,
           5,
           5,
           6,
           6,
           6,
           7,
           7,
           1,
           2,
           3,
           3,
           4,
           4,
           5,
           5,
           6,
           6,
           6,
           7,
           7,
           1,
           2,
           3,
           3,
           4,
           4,
           5,
           5,
           6,
           6,
           6,
           7,
           7,
           1,
           2,
           3,
           3,
           4,
           4,
           5,
           5,
           6,
           6,
           6,
           7,
           7,
           1,
           2,
           3,
           3,
           4,
           4,
           5,
           5,
           6,
           6,
           6,
           7,
           7,
           1,
           2,
           3,
           3,
           4,
           4,
           5,
           5,
           6,
           6,
           6,
           7,
           7,
           1,
           2,
           3,
           3,
           4,
           4,
           5,
           5,
           6,
           6,
           6,
           7,
           7,
           1,
           2,
           3,
           3,
           4,
           4,
           5,
           5,
           6,
           6,
           6,
           7,
           7,
           1,
           2,
           3,
           3,
           4,
           4,
           5,
           5,
           6,
           6,
           6,
           7,
           7,
           1,
           2,
           3,
           3,
           4,
           4,
           5,
           5,
           6,
           6,
           6,
           7,
           7,
           1,
           2,
           3,
           3,
           4,
           4,
           5,
           5,
           6,
           6,
           6,
           7,
           7,
           1,
           2,
           3,
           3,
           4,
           4,
           5,
           5,
           6,
           6,
           6,
           7,
           7,
           1,
           2,
           3,
           3,
           4,
           4,
           5,
           5,
           6,
           6,
           6,
           7,
           7,
           1,
           2,
           3,
           3,
           4,
           4,
           5,
           5,
           6,
           6,
           6,
           7,
           7,
           1,
           2,
           3,
           3,
           4,
           4,
           5,
           5,
           6,
           6,
           6,
           7,
           7,
           1,
           2,
           3,
           3,
           4,
           4,
           5,
           5,
           6,
           6,
           6,
           7,
           7,
           1,
           2,
           3,
           3,
           4,
           4,
           5,
           5,
           6,
           6,
           6,
           7,
           7,
           1,
           2,
           3,
           3,
           4,
           4,
           5,
           5,
           6,
           6,
           6,
           7,
           7,
           1,
           2,
           3,
           3,
           4,
           4,
           5,
           5,
           6,
           6,
           6,
           7,
           7
          ],
          "target": [
           8,
           9,
           10,
           3,
           3,
           11,
           4,
           12,
           5,
           6,
           0,
           7,
           0,
           13,
           14,
           0,
           3,
           3,
           11,
           4,
           12,
           5,
           6,
           0,
           7,
           0,
           13,
           14,
           0,
           3,
           3,
           11,
           4,
           12,
           5,
           6,
           0,
           7,
           0,
           13,
           14,
           0,
           3,
           3,
           11,
           4,
           12,
           5,
           6,
           0,
           7,
           0,
           13,
           14,
           0,
           3,
           3,
           11,
           4,
           12,
           5,
           6,
           0,
           7,
           0,
           13,
           14,
           0,
           3,
           3,
           11,
           4,
           12,
           5,
           6,
           0,
           7,
           0,
           13,
           14,
           0,
           3,
           3,
           11,
           4,
           12,
           5,
           6,
           0,
           7,
           0,
           13,
           14,
           0,
           3,
           3,
           11,
           4,
           12,
           5,
           6,
           0,
           7,
           0,
           13,
           14,
           0,
           3,
           3,
           11,
           4,
           12,
           5,
           6,
           0,
           7,
           0,
           13,
           14,
           0,
           3,
           3,
           11,
           4,
           12,
           5,
           6,
           0,
           7,
           0,
           13,
           14,
           0,
           3,
           3,
           11,
           4,
           12,
           5,
           6,
           0,
           7,
           0,
           13,
           14,
           0,
           3,
           3,
           11,
           4,
           12,
           5,
           6,
           0,
           7,
           0,
           13,
           14,
           0,
           3,
           3,
           11,
           4,
           12,
           5,
           6,
           0,
           7,
           0,
           13,
           14,
           0,
           3,
           3,
           11,
           4,
           12,
           5,
           6,
           0,
           7,
           0,
           13,
           14,
           0,
           3,
           3,
           11,
           4,
           12,
           5,
           6,
           0,
           7,
           0,
           13,
           14,
           0,
           3,
           3,
           11,
           4,
           12,
           5,
           6,
           0,
           7,
           0,
           13,
           14,
           0,
           3,
           3,
           11,
           4,
           12,
           5,
           6,
           0,
           7,
           0,
           13,
           14,
           0,
           3,
           3,
           11,
           4,
           12,
           5,
           6,
           0,
           7,
           0,
           13,
           14,
           0,
           3,
           3,
           11,
           4,
           12,
           5,
           6,
           0,
           7,
           0,
           13,
           14,
           0
          ],
          "value": [
           3916862.0,
           107577.0,
           496166.0,
           597458.0,
           201889.0,
           236585.0,
           562762.0,
           4702.0,
           558060.0,
           291620.0,
           266201.0,
           131636.0,
           159984.0,
           1119.0,
           113027.0,
           19708.0,
           89175.0,
           26625.0,
           67363.0,
           48436.0,
           386.0,
           48050.0,
           13001.0,
           35032.0,
           1894.0,
           11108.0,
           183.0,
           1352.0,
           353.0,
           321013.0,
           255044.0,
           74116.0,
           501942.0,
           4370.0,
           497571.0,
           51811.0,
           445615.0,
           42714.0,
           9097.0,
           386.0,
           34439.0,
           8539.0,
           225756.0,
           162506.0,
           30895.0,
           357367.0,
           3152.0,
           354215.0,
           25870.0,
           328282.0,
           21601.0,
           4268.0,
           203.0,
           16733.0,
           5070.0,
           710065.0,
           358620.0,
           373535.0,
           695150.0,
           5802.0,
           689349.0,
           170868.0,
           518059.0,
           111877.0,
           58992.0,
           313.0,
           94711.0,
           17460.0,
           336696.0,
           205873.0,
           155391.0,
           387178.0,
           3304.0,
           383875.0,
           74759.0,
           308957.0,
           37842.0,
           36918.0,
           66.0,
           30671.0,
           6674.0,
           559158.0,
           210306.0,
           360412.0,
           409053.0,
           3326.0,
           405727.0,
           73596.0,
           332029.0,
           13129.0,
           60466.0,
           1026.0,
           9648.0,
           2449.0,
           32480.0,
           24684.0,
           33338.0,
           23827.0,
           180.0,
           23646.0,
           4432.0,
           19200.0,
           669.0,
           3763.0,
           55.0,
           483.0,
           130.0,
           441698.0,
           195324.0,
           323871.0,
           313150.0,
           2650.0,
           310500.0,
           57273.0,
           253096.0,
           14055.0,
           43218.0,
           809.0,
           10559.0,
           2638.0,
           430063.0,
           266220.0,
           164939.0,
           531344.0,
           4255.0,
           527089.0,
           150782.0,
           376061.0,
           23503.0,
           127279.0,
           12.0,
           18631.0,
           4454.0,
           33693.0,
           45828.0,
           21882.0,
           57639.0,
           450.0,
           57189.0,
           13607.0,
           43541.0,
           1771.0,
           11836.0,
           27.0,
           1329.0,
           313.0,
           67885.0,
           90783.0,
           42602.0,
           116066.0,
           859.0,
           115207.0,
           33104.0,
           82024.0,
           2881.0,
           30223.0,
           59.0,
           2138.0,
           514.0,
           533866.0,
           518693.0,
           254815.0,
           797744.0,
           6096.0,
           791649.0,
           270545.0,
           520740.0,
           33103.0,
           237442.0,
           21.0,
           26423.0,
           5936.0,
           3817.0,
           5181.0,
           4198.0,
           4799.0,
           23.0,
           4777.0,
           909.0,
           3867.0,
           58.0,
           851.0,
           5.0,
           41.0,
           11.0,
           1849.0,
           2857.0,
           1136.0,
           3571.0,
           13.0,
           3557.0,
           24.0,
           3533.0,
           20.0,
           3.0,
           1.0,
           15.0,
           4.0,
           863.0,
           1121.0,
           386.0,
           1599.0,
           7.0,
           1592.0,
           62.0,
           1530.0,
           22.0,
           40.0,
           0.0,
           17.0,
           5.0,
           40672.0,
           26648.0,
           16718.0,
           50601.0,
           349.0,
           50253.0,
           10955.0,
           39276.0,
           1662.0,
           9293.0,
           15.0,
           1323.0,
           352.0,
           28758.0,
           16631.0,
           18799.0,
           26590.0,
           176.0,
           26414.0,
           3292.0,
           23114.0,
           372.0,
           2920.0,
           53.0,
           247.0,
           65.0,
           19768.0,
           31500.0,
           12432.0,
           38837.0,
           267.0,
           38569.0,
           2156.0,
           36403.0,
           604.0,
           1552.0,
           13.0,
           465.0,
           116.0
          ]
         },
         "node": {
          "color": "black",
          "label": [
           "Total disposed plastics",
           "CA domestic production",
           "Net trade of new products",
           "CA consumption",
           "Total discarded plastics",
           "Collection",
           "Material recovery",
           "Recycling",
           "Landfill or incineration",
           "Incineration (WtE) or gasification",
           "Net trade disposed plastics",
           "Net in-use stock addition",
           "Leak into environment",
           "Net trade baled plastic",
           "Secondary feedstock"
          ],
          "line": {
           "color": "black",
           "width": 0.5
          },
          "pad": 15,
          "thickness": 20
         },
         "valuesuffix": "t",
         "type": "sankey"
        }
       ],
       "layout": {
        "template": {
         "data": {
          "histogram2dcontour": [
           {
            "type": "histogram2dcontour",
            "colorbar": {
             "outlinewidth": 0,
             "ticks": ""
            },
            "colorscale": [
             [
              0.0,
              "#0d0887"
             ],
             [
              0.1111111111111111,
              "#46039f"
             ],
             [
              0.2222222222222222,
              "#7201a8"
             ],
             [
              0.3333333333333333,
              "#9c179e"
             ],
             [
              0.4444444444444444,
              "#bd3786"
             ],
             [
              0.5555555555555556,
              "#d8576b"
             ],
             [
              0.6666666666666666,
              "#ed7953"
             ],
             [
              0.7777777777777778,
              "#fb9f3a"
             ],
             [
              0.8888888888888888,
              "#fdca26"
             ],
             [
              1.0,
              "#f0f921"
             ]
            ]
           }
          ],
          "choropleth": [
           {
            "type": "choropleth",
            "colorbar": {
             "outlinewidth": 0,
             "ticks": ""
            }
           }
          ],
          "histogram2d": [
           {
            "type": "histogram2d",
            "colorbar": {
             "outlinewidth": 0,
             "ticks": ""
            },
            "colorscale": [
             [
              0.0,
              "#0d0887"
             ],
             [
              0.1111111111111111,
              "#46039f"
             ],
             [
              0.2222222222222222,
              "#7201a8"
             ],
             [
              0.3333333333333333,
              "#9c179e"
             ],
             [
              0.4444444444444444,
              "#bd3786"
             ],
             [
              0.5555555555555556,
              "#d8576b"
             ],
             [
              0.6666666666666666,
              "#ed7953"
             ],
             [
              0.7777777777777778,
              "#fb9f3a"
             ],
             [
              0.8888888888888888,
              "#fdca26"
             ],
             [
              1.0,
              "#f0f921"
             ]
            ]
           }
          ],
          "heatmap": [
           {
            "type": "heatmap",
            "colorbar": {
             "outlinewidth": 0,
             "ticks": ""
            },
            "colorscale": [
             [
              0.0,
              "#0d0887"
             ],
             [
              0.1111111111111111,
              "#46039f"
             ],
             [
              0.2222222222222222,
              "#7201a8"
             ],
             [
              0.3333333333333333,
              "#9c179e"
             ],
             [
              0.4444444444444444,
              "#bd3786"
             ],
             [
              0.5555555555555556,
              "#d8576b"
             ],
             [
              0.6666666666666666,
              "#ed7953"
             ],
             [
              0.7777777777777778,
              "#fb9f3a"
             ],
             [
              0.8888888888888888,
              "#fdca26"
             ],
             [
              1.0,
              "#f0f921"
             ]
            ]
           }
          ],
          "heatmapgl": [
           {
            "type": "heatmapgl",
            "colorbar": {
             "outlinewidth": 0,
             "ticks": ""
            },
            "colorscale": [
             [
              0.0,
              "#0d0887"
             ],
             [
              0.1111111111111111,
              "#46039f"
             ],
             [
              0.2222222222222222,
              "#7201a8"
             ],
             [
              0.3333333333333333,
              "#9c179e"
             ],
             [
              0.4444444444444444,
              "#bd3786"
             ],
             [
              0.5555555555555556,
              "#d8576b"
             ],
             [
              0.6666666666666666,
              "#ed7953"
             ],
             [
              0.7777777777777778,
              "#fb9f3a"
             ],
             [
              0.8888888888888888,
              "#fdca26"
             ],
             [
              1.0,
              "#f0f921"
             ]
            ]
           }
          ],
          "contourcarpet": [
           {
            "type": "contourcarpet",
            "colorbar": {
             "outlinewidth": 0,
             "ticks": ""
            }
           }
          ],
          "contour": [
           {
            "type": "contour",
            "colorbar": {
             "outlinewidth": 0,
             "ticks": ""
            },
            "colorscale": [
             [
              0.0,
              "#0d0887"
             ],
             [
              0.1111111111111111,
              "#46039f"
             ],
             [
              0.2222222222222222,
              "#7201a8"
             ],
             [
              0.3333333333333333,
              "#9c179e"
             ],
             [
              0.4444444444444444,
              "#bd3786"
             ],
             [
              0.5555555555555556,
              "#d8576b"
             ],
             [
              0.6666666666666666,
              "#ed7953"
             ],
             [
              0.7777777777777778,
              "#fb9f3a"
             ],
             [
              0.8888888888888888,
              "#fdca26"
             ],
             [
              1.0,
              "#f0f921"
             ]
            ]
           }
          ],
          "surface": [
           {
            "type": "surface",
            "colorbar": {
             "outlinewidth": 0,
             "ticks": ""
            },
            "colorscale": [
             [
              0.0,
              "#0d0887"
             ],
             [
              0.1111111111111111,
              "#46039f"
             ],
             [
              0.2222222222222222,
              "#7201a8"
             ],
             [
              0.3333333333333333,
              "#9c179e"
             ],
             [
              0.4444444444444444,
              "#bd3786"
             ],
             [
              0.5555555555555556,
              "#d8576b"
             ],
             [
              0.6666666666666666,
              "#ed7953"
             ],
             [
              0.7777777777777778,
              "#fb9f3a"
             ],
             [
              0.8888888888888888,
              "#fdca26"
             ],
             [
              1.0,
              "#f0f921"
             ]
            ]
           }
          ],
          "mesh3d": [
           {
            "type": "mesh3d",
            "colorbar": {
             "outlinewidth": 0,
             "ticks": ""
            }
           }
          ],
          "scatter": [
           {
            "marker": {
             "line": {
              "color": "#283442"
             }
            },
            "type": "scatter"
           }
          ],
          "parcoords": [
           {
            "type": "parcoords",
            "line": {
             "colorbar": {
              "outlinewidth": 0,
              "ticks": ""
             }
            }
           }
          ],
          "scatterpolargl": [
           {
            "type": "scatterpolargl",
            "marker": {
             "colorbar": {
              "outlinewidth": 0,
              "ticks": ""
             }
            }
           }
          ],
          "bar": [
           {
            "error_x": {
             "color": "#f2f5fa"
            },
            "error_y": {
             "color": "#f2f5fa"
            },
            "marker": {
             "line": {
              "color": "rgb(17,17,17)",
              "width": 0.5
             },
             "pattern": {
              "fillmode": "overlay",
              "size": 10,
              "solidity": 0.2
             }
            },
            "type": "bar"
           }
          ],
          "scattergeo": [
           {
            "type": "scattergeo",
            "marker": {
             "colorbar": {
              "outlinewidth": 0,
              "ticks": ""
             }
            }
           }
          ],
          "scatterpolar": [
           {
            "type": "scatterpolar",
            "marker": {
             "colorbar": {
              "outlinewidth": 0,
              "ticks": ""
             }
            }
           }
          ],
          "histogram": [
           {
            "marker": {
             "pattern": {
              "fillmode": "overlay",
              "size": 10,
              "solidity": 0.2
             }
            },
            "type": "histogram"
           }
          ],
          "scattergl": [
           {
            "marker": {
             "line": {
              "color": "#283442"
             }
            },
            "type": "scattergl"
           }
          ],
          "scatter3d": [
           {
            "type": "scatter3d",
            "line": {
             "colorbar": {
              "outlinewidth": 0,
              "ticks": ""
             }
            },
            "marker": {
             "colorbar": {
              "outlinewidth": 0,
              "ticks": ""
             }
            }
           }
          ],
          "scattermapbox": [
           {
            "type": "scattermapbox",
            "marker": {
             "colorbar": {
              "outlinewidth": 0,
              "ticks": ""
             }
            }
           }
          ],
          "scatterternary": [
           {
            "type": "scatterternary",
            "marker": {
             "colorbar": {
              "outlinewidth": 0,
              "ticks": ""
             }
            }
           }
          ],
          "scattercarpet": [
           {
            "type": "scattercarpet",
            "marker": {
             "colorbar": {
              "outlinewidth": 0,
              "ticks": ""
             }
            }
           }
          ],
          "carpet": [
           {
            "aaxis": {
             "endlinecolor": "#A2B1C6",
             "gridcolor": "#506784",
             "linecolor": "#506784",
             "minorgridcolor": "#506784",
             "startlinecolor": "#A2B1C6"
            },
            "baxis": {
             "endlinecolor": "#A2B1C6",
             "gridcolor": "#506784",
             "linecolor": "#506784",
             "minorgridcolor": "#506784",
             "startlinecolor": "#A2B1C6"
            },
            "type": "carpet"
           }
          ],
          "table": [
           {
            "cells": {
             "fill": {
              "color": "#506784"
             },
             "line": {
              "color": "rgb(17,17,17)"
             }
            },
            "header": {
             "fill": {
              "color": "#2a3f5f"
             },
             "line": {
              "color": "rgb(17,17,17)"
             }
            },
            "type": "table"
           }
          ],
          "barpolar": [
           {
            "marker": {
             "line": {
              "color": "rgb(17,17,17)",
              "width": 0.5
             },
             "pattern": {
              "fillmode": "overlay",
              "size": 10,
              "solidity": 0.2
             }
            },
            "type": "barpolar"
           }
          ],
          "pie": [
           {
            "automargin": true,
            "type": "pie"
           }
          ]
         },
         "layout": {
          "autotypenumbers": "strict",
          "colorway": [
           "#636efa",
           "#EF553B",
           "#00cc96",
           "#ab63fa",
           "#FFA15A",
           "#19d3f3",
           "#FF6692",
           "#B6E880",
           "#FF97FF",
           "#FECB52"
          ],
          "font": {
           "color": "#f2f5fa"
          },
          "hovermode": "closest",
          "hoverlabel": {
           "align": "left"
          },
          "paper_bgcolor": "rgb(17,17,17)",
          "plot_bgcolor": "rgb(17,17,17)",
          "polar": {
           "bgcolor": "rgb(17,17,17)",
           "angularaxis": {
            "gridcolor": "#506784",
            "linecolor": "#506784",
            "ticks": ""
           },
           "radialaxis": {
            "gridcolor": "#506784",
            "linecolor": "#506784",
            "ticks": ""
           }
          },
          "ternary": {
           "bgcolor": "rgb(17,17,17)",
           "aaxis": {
            "gridcolor": "#506784",
            "linecolor": "#506784",
            "ticks": ""
           },
           "baxis": {
            "gridcolor": "#506784",
            "linecolor": "#506784",
            "ticks": ""
           },
           "caxis": {
            "gridcolor": "#506784",
            "linecolor": "#506784",
            "ticks": ""
           }
          },
          "coloraxis": {
           "colorbar": {
            "outlinewidth": 0,
            "ticks": ""
           }
          },
          "colorscale": {
           "sequential": [
            [
             0.0,
             "#0d0887"
            ],
            [
             0.1111111111111111,
             "#46039f"
            ],
            [
             0.2222222222222222,
             "#7201a8"
            ],
            [
             0.3333333333333333,
             "#9c179e"
            ],
            [
             0.4444444444444444,
             "#bd3786"
            ],
            [
             0.5555555555555556,
             "#d8576b"
            ],
            [
             0.6666666666666666,
             "#ed7953"
            ],
            [
             0.7777777777777778,
             "#fb9f3a"
            ],
            [
             0.8888888888888888,
             "#fdca26"
            ],
            [
             1.0,
             "#f0f921"
            ]
           ],
           "sequentialminus": [
            [
             0.0,
             "#0d0887"
            ],
            [
             0.1111111111111111,
             "#46039f"
            ],
            [
             0.2222222222222222,
             "#7201a8"
            ],
            [
             0.3333333333333333,
             "#9c179e"
            ],
            [
             0.4444444444444444,
             "#bd3786"
            ],
            [
             0.5555555555555556,
             "#d8576b"
            ],
            [
             0.6666666666666666,
             "#ed7953"
            ],
            [
             0.7777777777777778,
             "#fb9f3a"
            ],
            [
             0.8888888888888888,
             "#fdca26"
            ],
            [
             1.0,
             "#f0f921"
            ]
           ],
           "diverging": [
            [
             0,
             "#8e0152"
            ],
            [
             0.1,
             "#c51b7d"
            ],
            [
             0.2,
             "#de77ae"
            ],
            [
             0.3,
             "#f1b6da"
            ],
            [
             0.4,
             "#fde0ef"
            ],
            [
             0.5,
             "#f7f7f7"
            ],
            [
             0.6,
             "#e6f5d0"
            ],
            [
             0.7,
             "#b8e186"
            ],
            [
             0.8,
             "#7fbc41"
            ],
            [
             0.9,
             "#4d9221"
            ],
            [
             1,
             "#276419"
            ]
           ]
          },
          "xaxis": {
           "gridcolor": "#283442",
           "linecolor": "#506784",
           "ticks": "",
           "title": {
            "standoff": 15
           },
           "zerolinecolor": "#283442",
           "automargin": true,
           "zerolinewidth": 2
          },
          "yaxis": {
           "gridcolor": "#283442",
           "linecolor": "#506784",
           "ticks": "",
           "title": {
            "standoff": 15
           },
           "zerolinecolor": "#283442",
           "automargin": true,
           "zerolinewidth": 2
          },
          "scene": {
           "xaxis": {
            "backgroundcolor": "rgb(17,17,17)",
            "gridcolor": "#506784",
            "linecolor": "#506784",
            "showbackground": true,
            "ticks": "",
            "zerolinecolor": "#C8D4E3",
            "gridwidth": 2
           },
           "yaxis": {
            "backgroundcolor": "rgb(17,17,17)",
            "gridcolor": "#506784",
            "linecolor": "#506784",
            "showbackground": true,
            "ticks": "",
            "zerolinecolor": "#C8D4E3",
            "gridwidth": 2
           },
           "zaxis": {
            "backgroundcolor": "rgb(17,17,17)",
            "gridcolor": "#506784",
            "linecolor": "#506784",
            "showbackground": true,
            "ticks": "",
            "zerolinecolor": "#C8D4E3",
            "gridwidth": 2
           }
          },
          "shapedefaults": {
           "line": {
            "color": "#f2f5fa"
           }
          },
          "annotationdefaults": {
           "arrowcolor": "#f2f5fa",
           "arrowhead": 0,
           "arrowwidth": 1
          },
          "geo": {
           "bgcolor": "rgb(17,17,17)",
           "landcolor": "rgb(17,17,17)",
           "subunitcolor": "#506784",
           "showland": true,
           "showlakes": true,
           "lakecolor": "rgb(17,17,17)"
          },
          "title": {
           "x": 0.05
          },
          "updatemenudefaults": {
           "bgcolor": "#506784",
           "borderwidth": 0
          },
          "sliderdefaults": {
           "bgcolor": "#C8D4E3",
           "borderwidth": 1,
           "bordercolor": "rgb(17,17,17)",
           "tickwidth": 0
          },
          "mapbox": {
           "style": "dark"
          }
         }
        },
        "title": {
         "text": "Sankey Diagram, Plastics by resin, 2020, Canada"
        },
        "font": {
         "size": 10
        }
       },
       "config": {
        "plotlyServerURL": "https://plot.ly"
       }
      },
      "text/html": [
       "<div>                            <div id=\"690bd77b-e34f-47af-b1cc-85a3aa36e144\" class=\"plotly-graph-div\" style=\"height:525px; width:100%;\"></div>            <script type=\"text/javascript\">                require([\"plotly\"], function(Plotly) {                    window.PLOTLYENV=window.PLOTLYENV || {};                                    if (document.getElementById(\"690bd77b-e34f-47af-b1cc-85a3aa36e144\")) {                    Plotly.newPlot(                        \"690bd77b-e34f-47af-b1cc-85a3aa36e144\",                        [{\"link\":{\"source\":[0,0,0,1,2,3,3,4,4,5,5,6,6,6,7,7,1,2,3,3,4,4,5,5,6,6,6,7,7,1,2,3,3,4,4,5,5,6,6,6,7,7,1,2,3,3,4,4,5,5,6,6,6,7,7,1,2,3,3,4,4,5,5,6,6,6,7,7,1,2,3,3,4,4,5,5,6,6,6,7,7,1,2,3,3,4,4,5,5,6,6,6,7,7,1,2,3,3,4,4,5,5,6,6,6,7,7,1,2,3,3,4,4,5,5,6,6,6,7,7,1,2,3,3,4,4,5,5,6,6,6,7,7,1,2,3,3,4,4,5,5,6,6,6,7,7,1,2,3,3,4,4,5,5,6,6,6,7,7,1,2,3,3,4,4,5,5,6,6,6,7,7,1,2,3,3,4,4,5,5,6,6,6,7,7,1,2,3,3,4,4,5,5,6,6,6,7,7,1,2,3,3,4,4,5,5,6,6,6,7,7,1,2,3,3,4,4,5,5,6,6,6,7,7,1,2,3,3,4,4,5,5,6,6,6,7,7,1,2,3,3,4,4,5,5,6,6,6,7,7],\"target\":[8,9,10,3,3,11,4,12,5,6,0,7,0,13,14,0,3,3,11,4,12,5,6,0,7,0,13,14,0,3,3,11,4,12,5,6,0,7,0,13,14,0,3,3,11,4,12,5,6,0,7,0,13,14,0,3,3,11,4,12,5,6,0,7,0,13,14,0,3,3,11,4,12,5,6,0,7,0,13,14,0,3,3,11,4,12,5,6,0,7,0,13,14,0,3,3,11,4,12,5,6,0,7,0,13,14,0,3,3,11,4,12,5,6,0,7,0,13,14,0,3,3,11,4,12,5,6,0,7,0,13,14,0,3,3,11,4,12,5,6,0,7,0,13,14,0,3,3,11,4,12,5,6,0,7,0,13,14,0,3,3,11,4,12,5,6,0,7,0,13,14,0,3,3,11,4,12,5,6,0,7,0,13,14,0,3,3,11,4,12,5,6,0,7,0,13,14,0,3,3,11,4,12,5,6,0,7,0,13,14,0,3,3,11,4,12,5,6,0,7,0,13,14,0,3,3,11,4,12,5,6,0,7,0,13,14,0,3,3,11,4,12,5,6,0,7,0,13,14,0],\"value\":[3916862.0,107577.0,496166.0,597458.0,201889.0,236585.0,562762.0,4702.0,558060.0,291620.0,266201.0,131636.0,159984.0,1119.0,113027.0,19708.0,89175.0,26625.0,67363.0,48436.0,386.0,48050.0,13001.0,35032.0,1894.0,11108.0,183.0,1352.0,353.0,321013.0,255044.0,74116.0,501942.0,4370.0,497571.0,51811.0,445615.0,42714.0,9097.0,386.0,34439.0,8539.0,225756.0,162506.0,30895.0,357367.0,3152.0,354215.0,25870.0,328282.0,21601.0,4268.0,203.0,16733.0,5070.0,710065.0,358620.0,373535.0,695150.0,5802.0,689349.0,170868.0,518059.0,111877.0,58992.0,313.0,94711.0,17460.0,336696.0,205873.0,155391.0,387178.0,3304.0,383875.0,74759.0,308957.0,37842.0,36918.0,66.0,30671.0,6674.0,559158.0,210306.0,360412.0,409053.0,3326.0,405727.0,73596.0,332029.0,13129.0,60466.0,1026.0,9648.0,2449.0,32480.0,24684.0,33338.0,23827.0,180.0,23646.0,4432.0,19200.0,669.0,3763.0,55.0,483.0,130.0,441698.0,195324.0,323871.0,313150.0,2650.0,310500.0,57273.0,253096.0,14055.0,43218.0,809.0,10559.0,2638.0,430063.0,266220.0,164939.0,531344.0,4255.0,527089.0,150782.0,376061.0,23503.0,127279.0,12.0,18631.0,4454.0,33693.0,45828.0,21882.0,57639.0,450.0,57189.0,13607.0,43541.0,1771.0,11836.0,27.0,1329.0,313.0,67885.0,90783.0,42602.0,116066.0,859.0,115207.0,33104.0,82024.0,2881.0,30223.0,59.0,2138.0,514.0,533866.0,518693.0,254815.0,797744.0,6096.0,791649.0,270545.0,520740.0,33103.0,237442.0,21.0,26423.0,5936.0,3817.0,5181.0,4198.0,4799.0,23.0,4777.0,909.0,3867.0,58.0,851.0,5.0,41.0,11.0,1849.0,2857.0,1136.0,3571.0,13.0,3557.0,24.0,3533.0,20.0,3.0,1.0,15.0,4.0,863.0,1121.0,386.0,1599.0,7.0,1592.0,62.0,1530.0,22.0,40.0,0.0,17.0,5.0,40672.0,26648.0,16718.0,50601.0,349.0,50253.0,10955.0,39276.0,1662.0,9293.0,15.0,1323.0,352.0,28758.0,16631.0,18799.0,26590.0,176.0,26414.0,3292.0,23114.0,372.0,2920.0,53.0,247.0,65.0,19768.0,31500.0,12432.0,38837.0,267.0,38569.0,2156.0,36403.0,604.0,1552.0,13.0,465.0,116.0]},\"node\":{\"color\":\"black\",\"label\":[\"Total disposed plastics\",\"CA domestic production\",\"Net trade of new products\",\"CA consumption\",\"Total discarded plastics\",\"Collection\",\"Material recovery\",\"Recycling\",\"Landfill or incineration\",\"Incineration (WtE) or gasification\",\"Net trade disposed plastics\",\"Net in-use stock addition\",\"Leak into environment\",\"Net trade baled plastic\",\"Secondary feedstock\"],\"line\":{\"color\":\"black\",\"width\":0.5},\"pad\":15,\"thickness\":20},\"valuesuffix\":\"t\",\"type\":\"sankey\"}],                        {\"template\":{\"data\":{\"histogram2dcontour\":[{\"type\":\"histogram2dcontour\",\"colorbar\":{\"outlinewidth\":0,\"ticks\":\"\"},\"colorscale\":[[0.0,\"#0d0887\"],[0.1111111111111111,\"#46039f\"],[0.2222222222222222,\"#7201a8\"],[0.3333333333333333,\"#9c179e\"],[0.4444444444444444,\"#bd3786\"],[0.5555555555555556,\"#d8576b\"],[0.6666666666666666,\"#ed7953\"],[0.7777777777777778,\"#fb9f3a\"],[0.8888888888888888,\"#fdca26\"],[1.0,\"#f0f921\"]]}],\"choropleth\":[{\"type\":\"choropleth\",\"colorbar\":{\"outlinewidth\":0,\"ticks\":\"\"}}],\"histogram2d\":[{\"type\":\"histogram2d\",\"colorbar\":{\"outlinewidth\":0,\"ticks\":\"\"},\"colorscale\":[[0.0,\"#0d0887\"],[0.1111111111111111,\"#46039f\"],[0.2222222222222222,\"#7201a8\"],[0.3333333333333333,\"#9c179e\"],[0.4444444444444444,\"#bd3786\"],[0.5555555555555556,\"#d8576b\"],[0.6666666666666666,\"#ed7953\"],[0.7777777777777778,\"#fb9f3a\"],[0.8888888888888888,\"#fdca26\"],[1.0,\"#f0f921\"]]}],\"heatmap\":[{\"type\":\"heatmap\",\"colorbar\":{\"outlinewidth\":0,\"ticks\":\"\"},\"colorscale\":[[0.0,\"#0d0887\"],[0.1111111111111111,\"#46039f\"],[0.2222222222222222,\"#7201a8\"],[0.3333333333333333,\"#9c179e\"],[0.4444444444444444,\"#bd3786\"],[0.5555555555555556,\"#d8576b\"],[0.6666666666666666,\"#ed7953\"],[0.7777777777777778,\"#fb9f3a\"],[0.8888888888888888,\"#fdca26\"],[1.0,\"#f0f921\"]]}],\"heatmapgl\":[{\"type\":\"heatmapgl\",\"colorbar\":{\"outlinewidth\":0,\"ticks\":\"\"},\"colorscale\":[[0.0,\"#0d0887\"],[0.1111111111111111,\"#46039f\"],[0.2222222222222222,\"#7201a8\"],[0.3333333333333333,\"#9c179e\"],[0.4444444444444444,\"#bd3786\"],[0.5555555555555556,\"#d8576b\"],[0.6666666666666666,\"#ed7953\"],[0.7777777777777778,\"#fb9f3a\"],[0.8888888888888888,\"#fdca26\"],[1.0,\"#f0f921\"]]}],\"contourcarpet\":[{\"type\":\"contourcarpet\",\"colorbar\":{\"outlinewidth\":0,\"ticks\":\"\"}}],\"contour\":[{\"type\":\"contour\",\"colorbar\":{\"outlinewidth\":0,\"ticks\":\"\"},\"colorscale\":[[0.0,\"#0d0887\"],[0.1111111111111111,\"#46039f\"],[0.2222222222222222,\"#7201a8\"],[0.3333333333333333,\"#9c179e\"],[0.4444444444444444,\"#bd3786\"],[0.5555555555555556,\"#d8576b\"],[0.6666666666666666,\"#ed7953\"],[0.7777777777777778,\"#fb9f3a\"],[0.8888888888888888,\"#fdca26\"],[1.0,\"#f0f921\"]]}],\"surface\":[{\"type\":\"surface\",\"colorbar\":{\"outlinewidth\":0,\"ticks\":\"\"},\"colorscale\":[[0.0,\"#0d0887\"],[0.1111111111111111,\"#46039f\"],[0.2222222222222222,\"#7201a8\"],[0.3333333333333333,\"#9c179e\"],[0.4444444444444444,\"#bd3786\"],[0.5555555555555556,\"#d8576b\"],[0.6666666666666666,\"#ed7953\"],[0.7777777777777778,\"#fb9f3a\"],[0.8888888888888888,\"#fdca26\"],[1.0,\"#f0f921\"]]}],\"mesh3d\":[{\"type\":\"mesh3d\",\"colorbar\":{\"outlinewidth\":0,\"ticks\":\"\"}}],\"scatter\":[{\"marker\":{\"line\":{\"color\":\"#283442\"}},\"type\":\"scatter\"}],\"parcoords\":[{\"type\":\"parcoords\",\"line\":{\"colorbar\":{\"outlinewidth\":0,\"ticks\":\"\"}}}],\"scatterpolargl\":[{\"type\":\"scatterpolargl\",\"marker\":{\"colorbar\":{\"outlinewidth\":0,\"ticks\":\"\"}}}],\"bar\":[{\"error_x\":{\"color\":\"#f2f5fa\"},\"error_y\":{\"color\":\"#f2f5fa\"},\"marker\":{\"line\":{\"color\":\"rgb(17,17,17)\",\"width\":0.5},\"pattern\":{\"fillmode\":\"overlay\",\"size\":10,\"solidity\":0.2}},\"type\":\"bar\"}],\"scattergeo\":[{\"type\":\"scattergeo\",\"marker\":{\"colorbar\":{\"outlinewidth\":0,\"ticks\":\"\"}}}],\"scatterpolar\":[{\"type\":\"scatterpolar\",\"marker\":{\"colorbar\":{\"outlinewidth\":0,\"ticks\":\"\"}}}],\"histogram\":[{\"marker\":{\"pattern\":{\"fillmode\":\"overlay\",\"size\":10,\"solidity\":0.2}},\"type\":\"histogram\"}],\"scattergl\":[{\"marker\":{\"line\":{\"color\":\"#283442\"}},\"type\":\"scattergl\"}],\"scatter3d\":[{\"type\":\"scatter3d\",\"line\":{\"colorbar\":{\"outlinewidth\":0,\"ticks\":\"\"}},\"marker\":{\"colorbar\":{\"outlinewidth\":0,\"ticks\":\"\"}}}],\"scattermapbox\":[{\"type\":\"scattermapbox\",\"marker\":{\"colorbar\":{\"outlinewidth\":0,\"ticks\":\"\"}}}],\"scatterternary\":[{\"type\":\"scatterternary\",\"marker\":{\"colorbar\":{\"outlinewidth\":0,\"ticks\":\"\"}}}],\"scattercarpet\":[{\"type\":\"scattercarpet\",\"marker\":{\"colorbar\":{\"outlinewidth\":0,\"ticks\":\"\"}}}],\"carpet\":[{\"aaxis\":{\"endlinecolor\":\"#A2B1C6\",\"gridcolor\":\"#506784\",\"linecolor\":\"#506784\",\"minorgridcolor\":\"#506784\",\"startlinecolor\":\"#A2B1C6\"},\"baxis\":{\"endlinecolor\":\"#A2B1C6\",\"gridcolor\":\"#506784\",\"linecolor\":\"#506784\",\"minorgridcolor\":\"#506784\",\"startlinecolor\":\"#A2B1C6\"},\"type\":\"carpet\"}],\"table\":[{\"cells\":{\"fill\":{\"color\":\"#506784\"},\"line\":{\"color\":\"rgb(17,17,17)\"}},\"header\":{\"fill\":{\"color\":\"#2a3f5f\"},\"line\":{\"color\":\"rgb(17,17,17)\"}},\"type\":\"table\"}],\"barpolar\":[{\"marker\":{\"line\":{\"color\":\"rgb(17,17,17)\",\"width\":0.5},\"pattern\":{\"fillmode\":\"overlay\",\"size\":10,\"solidity\":0.2}},\"type\":\"barpolar\"}],\"pie\":[{\"automargin\":true,\"type\":\"pie\"}]},\"layout\":{\"autotypenumbers\":\"strict\",\"colorway\":[\"#636efa\",\"#EF553B\",\"#00cc96\",\"#ab63fa\",\"#FFA15A\",\"#19d3f3\",\"#FF6692\",\"#B6E880\",\"#FF97FF\",\"#FECB52\"],\"font\":{\"color\":\"#f2f5fa\"},\"hovermode\":\"closest\",\"hoverlabel\":{\"align\":\"left\"},\"paper_bgcolor\":\"rgb(17,17,17)\",\"plot_bgcolor\":\"rgb(17,17,17)\",\"polar\":{\"bgcolor\":\"rgb(17,17,17)\",\"angularaxis\":{\"gridcolor\":\"#506784\",\"linecolor\":\"#506784\",\"ticks\":\"\"},\"radialaxis\":{\"gridcolor\":\"#506784\",\"linecolor\":\"#506784\",\"ticks\":\"\"}},\"ternary\":{\"bgcolor\":\"rgb(17,17,17)\",\"aaxis\":{\"gridcolor\":\"#506784\",\"linecolor\":\"#506784\",\"ticks\":\"\"},\"baxis\":{\"gridcolor\":\"#506784\",\"linecolor\":\"#506784\",\"ticks\":\"\"},\"caxis\":{\"gridcolor\":\"#506784\",\"linecolor\":\"#506784\",\"ticks\":\"\"}},\"coloraxis\":{\"colorbar\":{\"outlinewidth\":0,\"ticks\":\"\"}},\"colorscale\":{\"sequential\":[[0.0,\"#0d0887\"],[0.1111111111111111,\"#46039f\"],[0.2222222222222222,\"#7201a8\"],[0.3333333333333333,\"#9c179e\"],[0.4444444444444444,\"#bd3786\"],[0.5555555555555556,\"#d8576b\"],[0.6666666666666666,\"#ed7953\"],[0.7777777777777778,\"#fb9f3a\"],[0.8888888888888888,\"#fdca26\"],[1.0,\"#f0f921\"]],\"sequentialminus\":[[0.0,\"#0d0887\"],[0.1111111111111111,\"#46039f\"],[0.2222222222222222,\"#7201a8\"],[0.3333333333333333,\"#9c179e\"],[0.4444444444444444,\"#bd3786\"],[0.5555555555555556,\"#d8576b\"],[0.6666666666666666,\"#ed7953\"],[0.7777777777777778,\"#fb9f3a\"],[0.8888888888888888,\"#fdca26\"],[1.0,\"#f0f921\"]],\"diverging\":[[0,\"#8e0152\"],[0.1,\"#c51b7d\"],[0.2,\"#de77ae\"],[0.3,\"#f1b6da\"],[0.4,\"#fde0ef\"],[0.5,\"#f7f7f7\"],[0.6,\"#e6f5d0\"],[0.7,\"#b8e186\"],[0.8,\"#7fbc41\"],[0.9,\"#4d9221\"],[1,\"#276419\"]]},\"xaxis\":{\"gridcolor\":\"#283442\",\"linecolor\":\"#506784\",\"ticks\":\"\",\"title\":{\"standoff\":15},\"zerolinecolor\":\"#283442\",\"automargin\":true,\"zerolinewidth\":2},\"yaxis\":{\"gridcolor\":\"#283442\",\"linecolor\":\"#506784\",\"ticks\":\"\",\"title\":{\"standoff\":15},\"zerolinecolor\":\"#283442\",\"automargin\":true,\"zerolinewidth\":2},\"scene\":{\"xaxis\":{\"backgroundcolor\":\"rgb(17,17,17)\",\"gridcolor\":\"#506784\",\"linecolor\":\"#506784\",\"showbackground\":true,\"ticks\":\"\",\"zerolinecolor\":\"#C8D4E3\",\"gridwidth\":2},\"yaxis\":{\"backgroundcolor\":\"rgb(17,17,17)\",\"gridcolor\":\"#506784\",\"linecolor\":\"#506784\",\"showbackground\":true,\"ticks\":\"\",\"zerolinecolor\":\"#C8D4E3\",\"gridwidth\":2},\"zaxis\":{\"backgroundcolor\":\"rgb(17,17,17)\",\"gridcolor\":\"#506784\",\"linecolor\":\"#506784\",\"showbackground\":true,\"ticks\":\"\",\"zerolinecolor\":\"#C8D4E3\",\"gridwidth\":2}},\"shapedefaults\":{\"line\":{\"color\":\"#f2f5fa\"}},\"annotationdefaults\":{\"arrowcolor\":\"#f2f5fa\",\"arrowhead\":0,\"arrowwidth\":1},\"geo\":{\"bgcolor\":\"rgb(17,17,17)\",\"landcolor\":\"rgb(17,17,17)\",\"subunitcolor\":\"#506784\",\"showland\":true,\"showlakes\":true,\"lakecolor\":\"rgb(17,17,17)\"},\"title\":{\"x\":0.05},\"updatemenudefaults\":{\"bgcolor\":\"#506784\",\"borderwidth\":0},\"sliderdefaults\":{\"bgcolor\":\"#C8D4E3\",\"borderwidth\":1,\"bordercolor\":\"rgb(17,17,17)\",\"tickwidth\":0},\"mapbox\":{\"style\":\"dark\"}}},\"title\":{\"text\":\"Sankey Diagram, Plastics by resin, 2020, Canada\"},\"font\":{\"size\":10}},                        {\"responsive\": true}                    ).then(function(){\n",
       "                            \n",
       "var gd = document.getElementById('690bd77b-e34f-47af-b1cc-85a3aa36e144');\n",
       "var x = new MutationObserver(function (mutations, observer) {{\n",
       "        var display = window.getComputedStyle(gd).display;\n",
       "        if (!display || display === 'none') {{\n",
       "            console.log([gd, 'removed!']);\n",
       "            Plotly.purge(gd);\n",
       "            observer.disconnect();\n",
       "        }}\n",
       "}});\n",
       "\n",
       "// Listen for the removal of the full notebook cells\n",
       "var notebookContainer = gd.closest('#notebook-container');\n",
       "if (notebookContainer) {{\n",
       "    x.observe(notebookContainer, {childList: true});\n",
       "}}\n",
       "\n",
       "// Listen for the clearing of the current output cell\n",
       "var outputEl = gd.closest('.output');\n",
       "if (outputEl) {{\n",
       "    x.observe(outputEl, {childList: true});\n",
       "}}\n",
       "\n",
       "                        })                };                });            </script>        </div>"
      ]
     },
     "metadata": {},
     "output_type": "display_data"
    }
   ],
   "execution_count": 40
  },
  {
   "cell_type": "markdown",
   "id": "f3b72bcf",
   "metadata": {},
   "source": [
    "## Coloured Sankey"
   ]
  },
  {
   "cell_type": "code",
   "execution_count": 100,
   "id": "5dce3577",
   "metadata": {},
   "outputs": [
    {
     "data": {
      "text/html": [
       "<div>\n",
       "<style scoped>\n",
       "    .dataframe tbody tr th:only-of-type {\n",
       "        vertical-align: middle;\n",
       "    }\n",
       "\n",
       "    .dataframe tbody tr th {\n",
       "        vertical-align: top;\n",
       "    }\n",
       "\n",
       "    .dataframe thead th {\n",
       "        text-align: right;\n",
       "    }\n",
       "</style>\n",
       "<table border=\"1\" class=\"dataframe\">\n",
       "  <thead>\n",
       "    <tr style=\"text-align: right;\">\n",
       "      <th></th>\n",
       "      <th>Unnamed: 0</th>\n",
       "      <th>Variable</th>\n",
       "      <th>Resin</th>\n",
       "      <th>UOM</th>\n",
       "      <th>COORDINATE</th>\n",
       "      <th>VALUE</th>\n",
       "      <th>From</th>\n",
       "      <th>To</th>\n",
       "    </tr>\n",
       "  </thead>\n",
       "  <tbody>\n",
       "    <tr>\n",
       "      <th>0</th>\n",
       "      <td>0</td>\n",
       "      <td>Plastic in domestically produced products</td>\n",
       "      <td>Total, all resins</td>\n",
       "      <td>Tonnes</td>\n",
       "      <td>1.1.1</td>\n",
       "      <td>4474733.0</td>\n",
       "      <td>CA domestic production</td>\n",
       "      <td>CA consumption</td>\n",
       "    </tr>\n",
       "    <tr>\n",
       "      <th>1</th>\n",
       "      <td>1</td>\n",
       "      <td>Plastic in domestically produced products</td>\n",
       "      <td>Polyethylene terephthalate (PET) resins</td>\n",
       "      <td>Tonnes</td>\n",
       "      <td>1.1.2</td>\n",
       "      <td>597458.0</td>\n",
       "      <td>CA domestic production</td>\n",
       "      <td>CA consumption</td>\n",
       "    </tr>\n",
       "    <tr>\n",
       "      <th>2</th>\n",
       "      <td>2</td>\n",
       "      <td>Plastic in domestically produced products</td>\n",
       "      <td>Other thermoplastic polyester resins</td>\n",
       "      <td>Tonnes</td>\n",
       "      <td>1.1.3</td>\n",
       "      <td>89175.0</td>\n",
       "      <td>CA domestic production</td>\n",
       "      <td>CA consumption</td>\n",
       "    </tr>\n",
       "    <tr>\n",
       "      <th>3</th>\n",
       "      <td>3</td>\n",
       "      <td>Plastic in domestically produced products</td>\n",
       "      <td>Low-density polyethylene resins</td>\n",
       "      <td>Tonnes</td>\n",
       "      <td>1.1.4</td>\n",
       "      <td>321013.0</td>\n",
       "      <td>CA domestic production</td>\n",
       "      <td>CA consumption</td>\n",
       "    </tr>\n",
       "    <tr>\n",
       "      <th>4</th>\n",
       "      <td>4</td>\n",
       "      <td>Plastic in domestically produced products</td>\n",
       "      <td>Linear low-density polyethylene resins</td>\n",
       "      <td>Tonnes</td>\n",
       "      <td>1.1.5</td>\n",
       "      <td>225756.0</td>\n",
       "      <td>CA domestic production</td>\n",
       "      <td>CA consumption</td>\n",
       "    </tr>\n",
       "    <tr>\n",
       "      <th>...</th>\n",
       "      <td>...</td>\n",
       "      <td>...</td>\n",
       "      <td>...</td>\n",
       "      <td>...</td>\n",
       "      <td>...</td>\n",
       "      <td>...</td>\n",
       "      <td>...</td>\n",
       "      <td>...</td>\n",
       "    </tr>\n",
       "    <tr>\n",
       "      <th>298</th>\n",
       "      <td>298</td>\n",
       "      <td>Total disposed plastic waste and scrap</td>\n",
       "      <td>Thermosetting polyurethane resins</td>\n",
       "      <td>Tonnes</td>\n",
       "      <td>1.15.19</td>\n",
       "      <td>26100.0</td>\n",
       "      <td>NaN</td>\n",
       "      <td>NaN</td>\n",
       "    </tr>\n",
       "    <tr>\n",
       "      <th>299</th>\n",
       "      <td>299</td>\n",
       "      <td>Total disposed plastic waste and scrap</td>\n",
       "      <td>Other thermosetting resins</td>\n",
       "      <td>Tonnes</td>\n",
       "      <td>1.15.20</td>\n",
       "      <td>38071.0</td>\n",
       "      <td>NaN</td>\n",
       "      <td>NaN</td>\n",
       "    </tr>\n",
       "    <tr>\n",
       "      <th>300</th>\n",
       "      <td>300</td>\n",
       "      <td>Disposed plastic waste and scrap sent to landf...</td>\n",
       "      <td>Total, all resins</td>\n",
       "      <td>Tonnes</td>\n",
       "      <td>1.16.1</td>\n",
       "      <td>3916862.0</td>\n",
       "      <td>Total disposed plastics</td>\n",
       "      <td>Landfill or incineration</td>\n",
       "    </tr>\n",
       "    <tr>\n",
       "      <th>301</th>\n",
       "      <td>301</td>\n",
       "      <td>Disposed plastic waste and scrap sent for inci...</td>\n",
       "      <td>Total, all resins</td>\n",
       "      <td>Tonnes</td>\n",
       "      <td>1.17.1</td>\n",
       "      <td>107577.0</td>\n",
       "      <td>Total disposed plastics</td>\n",
       "      <td>Incineration (WtE) or gasification</td>\n",
       "    </tr>\n",
       "    <tr>\n",
       "      <th>302</th>\n",
       "      <td>302</td>\n",
       "      <td>Net trade (imports less exports) of disposed p...</td>\n",
       "      <td>Total, all resins</td>\n",
       "      <td>Tonnes</td>\n",
       "      <td>1.18.1</td>\n",
       "      <td>-496166.0</td>\n",
       "      <td>Total disposed plastics</td>\n",
       "      <td>Net trade disposed plastics</td>\n",
       "    </tr>\n",
       "  </tbody>\n",
       "</table>\n",
       "<p>303 rows × 8 columns</p>\n",
       "</div>"
      ],
      "text/plain": [
       "     Unnamed: 0                                           Variable  \\\n",
       "0             0          Plastic in domestically produced products   \n",
       "1             1          Plastic in domestically produced products   \n",
       "2             2          Plastic in domestically produced products   \n",
       "3             3          Plastic in domestically produced products   \n",
       "4             4          Plastic in domestically produced products   \n",
       "..          ...                                                ...   \n",
       "298         298             Total disposed plastic waste and scrap   \n",
       "299         299             Total disposed plastic waste and scrap   \n",
       "300         300  Disposed plastic waste and scrap sent to landf...   \n",
       "301         301  Disposed plastic waste and scrap sent for inci...   \n",
       "302         302  Net trade (imports less exports) of disposed p...   \n",
       "\n",
       "                                       Resin     UOM COORDINATE      VALUE  \\\n",
       "0                          Total, all resins  Tonnes      1.1.1  4474733.0   \n",
       "1    Polyethylene terephthalate (PET) resins  Tonnes      1.1.2   597458.0   \n",
       "2       Other thermoplastic polyester resins  Tonnes      1.1.3    89175.0   \n",
       "3            Low-density polyethylene resins  Tonnes      1.1.4   321013.0   \n",
       "4     Linear low-density polyethylene resins  Tonnes      1.1.5   225756.0   \n",
       "..                                       ...     ...        ...        ...   \n",
       "298        Thermosetting polyurethane resins  Tonnes    1.15.19    26100.0   \n",
       "299               Other thermosetting resins  Tonnes    1.15.20    38071.0   \n",
       "300                        Total, all resins  Tonnes     1.16.1  3916862.0   \n",
       "301                        Total, all resins  Tonnes     1.17.1   107577.0   \n",
       "302                        Total, all resins  Tonnes     1.18.1  -496166.0   \n",
       "\n",
       "                        From                                  To  \n",
       "0     CA domestic production                      CA consumption  \n",
       "1     CA domestic production                      CA consumption  \n",
       "2     CA domestic production                      CA consumption  \n",
       "3     CA domestic production                      CA consumption  \n",
       "4     CA domestic production                      CA consumption  \n",
       "..                       ...                                 ...  \n",
       "298                      NaN                                 NaN  \n",
       "299                      NaN                                 NaN  \n",
       "300  Total disposed plastics            Landfill or incineration  \n",
       "301  Total disposed plastics  Incineration (WtE) or gasification  \n",
       "302  Total disposed plastics         Net trade disposed plastics  \n",
       "\n",
       "[303 rows x 8 columns]"
      ]
     },
     "execution_count": 100,
     "metadata": {},
     "output_type": "execute_result"
    }
   ],
   "source": [
    "#reimport df derived from Statistics Canada physical flow account for plastic material, by resin, \n",
    "#from .csv, release date: 2024-03-18\n",
    "#code used to process is in 'multiIndex_from_to_StatCan_resin'\n",
    "df_StatCan_resin_2020_CA = pd.read_csv('38100151_df_2020_CA.csv')\n",
    "df_StatCan_resin_2020_CA\n",
    "\n",
    "#do the groupby() and then the absolute value calculation"
   ]
  },
  {
   "cell_type": "code",
   "execution_count": 101,
   "id": "eaa12a4a",
   "metadata": {},
   "outputs": [
    {
     "data": {
      "text/html": [
       "<div>\n",
       "<style scoped>\n",
       "    .dataframe tbody tr th:only-of-type {\n",
       "        vertical-align: middle;\n",
       "    }\n",
       "\n",
       "    .dataframe tbody tr th {\n",
       "        vertical-align: top;\n",
       "    }\n",
       "\n",
       "    .dataframe thead th {\n",
       "        text-align: right;\n",
       "    }\n",
       "</style>\n",
       "<table border=\"1\" class=\"dataframe\">\n",
       "  <thead>\n",
       "    <tr style=\"text-align: right;\">\n",
       "      <th></th>\n",
       "      <th>Level</th>\n",
       "      <th>Resin</th>\n",
       "    </tr>\n",
       "  </thead>\n",
       "  <tbody>\n",
       "    <tr>\n",
       "      <th>0</th>\n",
       "      <td>1</td>\n",
       "      <td>Total, all resins</td>\n",
       "    </tr>\n",
       "    <tr>\n",
       "      <th>1</th>\n",
       "      <td>2</td>\n",
       "      <td>Polyethylene terephthalate (PET) resins</td>\n",
       "    </tr>\n",
       "    <tr>\n",
       "      <th>2</th>\n",
       "      <td>2</td>\n",
       "      <td>Other thermoplastic polyester resins</td>\n",
       "    </tr>\n",
       "    <tr>\n",
       "      <th>3</th>\n",
       "      <td>2</td>\n",
       "      <td>Low-density polyethylene resins</td>\n",
       "    </tr>\n",
       "    <tr>\n",
       "      <th>4</th>\n",
       "      <td>2</td>\n",
       "      <td>Linear low-density polyethylene resins</td>\n",
       "    </tr>\n",
       "    <tr>\n",
       "      <th>5</th>\n",
       "      <td>2</td>\n",
       "      <td>High-density polyethylene resins</td>\n",
       "    </tr>\n",
       "    <tr>\n",
       "      <th>6</th>\n",
       "      <td>2</td>\n",
       "      <td>Other polyethylene resins</td>\n",
       "    </tr>\n",
       "    <tr>\n",
       "      <th>7</th>\n",
       "      <td>2</td>\n",
       "      <td>Polystyrene resins</td>\n",
       "    </tr>\n",
       "    <tr>\n",
       "      <th>8</th>\n",
       "      <td>2</td>\n",
       "      <td>Acrylonitrile-butadiene-styrene resins</td>\n",
       "    </tr>\n",
       "    <tr>\n",
       "      <th>9</th>\n",
       "      <td>2</td>\n",
       "      <td>Polyvinyl chloride resins</td>\n",
       "    </tr>\n",
       "    <tr>\n",
       "      <th>10</th>\n",
       "      <td>2</td>\n",
       "      <td>Polypropylene resins</td>\n",
       "    </tr>\n",
       "    <tr>\n",
       "      <th>11</th>\n",
       "      <td>2</td>\n",
       "      <td>Thermoplastic polyurethane resins</td>\n",
       "    </tr>\n",
       "    <tr>\n",
       "      <th>12</th>\n",
       "      <td>2</td>\n",
       "      <td>Polyamide (nylon) resins</td>\n",
       "    </tr>\n",
       "    <tr>\n",
       "      <th>13</th>\n",
       "      <td>2</td>\n",
       "      <td>All other thermoplastic resins</td>\n",
       "    </tr>\n",
       "    <tr>\n",
       "      <th>14</th>\n",
       "      <td>2</td>\n",
       "      <td>Phenolic resins</td>\n",
       "    </tr>\n",
       "    <tr>\n",
       "      <th>15</th>\n",
       "      <td>2</td>\n",
       "      <td>Urea formaldehyde resins</td>\n",
       "    </tr>\n",
       "    <tr>\n",
       "      <th>16</th>\n",
       "      <td>2</td>\n",
       "      <td>All other formaldehyde based resins</td>\n",
       "    </tr>\n",
       "    <tr>\n",
       "      <th>17</th>\n",
       "      <td>2</td>\n",
       "      <td>Unsaturated polyester (thermosetting) resins</td>\n",
       "    </tr>\n",
       "    <tr>\n",
       "      <th>18</th>\n",
       "      <td>2</td>\n",
       "      <td>Thermosetting polyurethane resins</td>\n",
       "    </tr>\n",
       "    <tr>\n",
       "      <th>19</th>\n",
       "      <td>2</td>\n",
       "      <td>Other thermosetting resins</td>\n",
       "    </tr>\n",
       "  </tbody>\n",
       "</table>\n",
       "</div>"
      ],
      "text/plain": [
       "    Level                                         Resin\n",
       "0       1                             Total, all resins\n",
       "1       2       Polyethylene terephthalate (PET) resins\n",
       "2       2          Other thermoplastic polyester resins\n",
       "3       2               Low-density polyethylene resins\n",
       "4       2        Linear low-density polyethylene resins\n",
       "5       2              High-density polyethylene resins\n",
       "6       2                     Other polyethylene resins\n",
       "7       2                            Polystyrene resins\n",
       "8       2        Acrylonitrile-butadiene-styrene resins\n",
       "9       2                     Polyvinyl chloride resins\n",
       "10      2                          Polypropylene resins\n",
       "11      2             Thermoplastic polyurethane resins\n",
       "12      2                      Polyamide (nylon) resins\n",
       "13      2                All other thermoplastic resins\n",
       "14      2                               Phenolic resins\n",
       "15      2                      Urea formaldehyde resins\n",
       "16      2           All other formaldehyde based resins\n",
       "17      2  Unsaturated polyester (thermosetting) resins\n",
       "18      2             Thermosetting polyurethane resins\n",
       "19      2                    Other thermosetting resins"
      ]
     },
     "execution_count": 101,
     "metadata": {},
     "output_type": "execute_result"
    }
   ],
   "source": [
    "#import hierarchy of Resins, \n",
    "#compiled 2024-05-06\n",
    "data_hierarchy_StatCan_resin = pd.read_csv('38100151_resin_hierarchy.csv',sep=',')\n",
    "data_hierarchy_StatCan_resin"
   ]
  },
  {
   "cell_type": "code",
   "execution_count": 102,
   "id": "a5ff2ef2",
   "metadata": {},
   "outputs": [
    {
     "data": {
      "text/html": [
       "<div>\n",
       "<style scoped>\n",
       "    .dataframe tbody tr th:only-of-type {\n",
       "        vertical-align: middle;\n",
       "    }\n",
       "\n",
       "    .dataframe tbody tr th {\n",
       "        vertical-align: top;\n",
       "    }\n",
       "\n",
       "    .dataframe thead th {\n",
       "        text-align: right;\n",
       "    }\n",
       "</style>\n",
       "<table border=\"1\" class=\"dataframe\">\n",
       "  <thead>\n",
       "    <tr style=\"text-align: right;\">\n",
       "      <th></th>\n",
       "      <th>Unnamed: 0</th>\n",
       "      <th>Variable</th>\n",
       "      <th>Resin</th>\n",
       "      <th>UOM</th>\n",
       "      <th>COORDINATE</th>\n",
       "      <th>VALUE</th>\n",
       "      <th>From</th>\n",
       "      <th>To</th>\n",
       "      <th>Level</th>\n",
       "    </tr>\n",
       "  </thead>\n",
       "  <tbody>\n",
       "    <tr>\n",
       "      <th>0</th>\n",
       "      <td>0</td>\n",
       "      <td>Plastic in domestically produced products</td>\n",
       "      <td>Total, all resins</td>\n",
       "      <td>Tonnes</td>\n",
       "      <td>1.1.1</td>\n",
       "      <td>4474733.0</td>\n",
       "      <td>CA domestic production</td>\n",
       "      <td>CA consumption</td>\n",
       "      <td>1</td>\n",
       "    </tr>\n",
       "    <tr>\n",
       "      <th>1</th>\n",
       "      <td>20</td>\n",
       "      <td>Net trade (imports less exports) of newly prod...</td>\n",
       "      <td>Total, all resins</td>\n",
       "      <td>Tonnes</td>\n",
       "      <td>1.2.1</td>\n",
       "      <td>2646334.0</td>\n",
       "      <td>Net trade of new products</td>\n",
       "      <td>CA consumption</td>\n",
       "      <td>1</td>\n",
       "    </tr>\n",
       "    <tr>\n",
       "      <th>2</th>\n",
       "      <td>40</td>\n",
       "      <td>Plastic in products produced for Canadian cons...</td>\n",
       "      <td>Total, all resins</td>\n",
       "      <td>Tonnes</td>\n",
       "      <td>1.3.1</td>\n",
       "      <td>7121068.0</td>\n",
       "      <td>NaN</td>\n",
       "      <td>NaN</td>\n",
       "      <td>1</td>\n",
       "    </tr>\n",
       "    <tr>\n",
       "      <th>3</th>\n",
       "      <td>60</td>\n",
       "      <td>Net stock of plastic in products that remain i...</td>\n",
       "      <td>Total, all resins</td>\n",
       "      <td>Tonnes</td>\n",
       "      <td>1.4.1</td>\n",
       "      <td>2193412.0</td>\n",
       "      <td>CA consumption</td>\n",
       "      <td>Net in-use stock addition</td>\n",
       "      <td>1</td>\n",
       "    </tr>\n",
       "    <tr>\n",
       "      <th>4</th>\n",
       "      <td>80</td>\n",
       "      <td>Total discarded plastic in products</td>\n",
       "      <td>Total, all resins</td>\n",
       "      <td>Tonnes</td>\n",
       "      <td>1.5.1</td>\n",
       "      <td>4927656.0</td>\n",
       "      <td>CA consumption</td>\n",
       "      <td>Total discarded plastics</td>\n",
       "      <td>1</td>\n",
       "    </tr>\n",
       "    <tr>\n",
       "      <th>...</th>\n",
       "      <td>...</td>\n",
       "      <td>...</td>\n",
       "      <td>...</td>\n",
       "      <td>...</td>\n",
       "      <td>...</td>\n",
       "      <td>...</td>\n",
       "      <td>...</td>\n",
       "      <td>...</td>\n",
       "      <td>...</td>\n",
       "    </tr>\n",
       "    <tr>\n",
       "      <th>298</th>\n",
       "      <td>219</td>\n",
       "      <td>Residual plastic waste and scrap sent for disp...</td>\n",
       "      <td>Other thermosetting resins</td>\n",
       "      <td>Tonnes</td>\n",
       "      <td>1.11.20</td>\n",
       "      <td>1552.0</td>\n",
       "      <td>Material recovery</td>\n",
       "      <td>Total disposed plastics</td>\n",
       "      <td>2</td>\n",
       "    </tr>\n",
       "    <tr>\n",
       "      <th>299</th>\n",
       "      <td>239</td>\n",
       "      <td>Net trade (imports less exports) of sorted and...</td>\n",
       "      <td>Other thermosetting resins</td>\n",
       "      <td>Tonnes</td>\n",
       "      <td>1.12.20</td>\n",
       "      <td>-13.0</td>\n",
       "      <td>Material recovery</td>\n",
       "      <td>Net trade baled plastic</td>\n",
       "      <td>2</td>\n",
       "    </tr>\n",
       "    <tr>\n",
       "      <th>300</th>\n",
       "      <td>259</td>\n",
       "      <td>Recycled plastic pellets and flakes ready for ...</td>\n",
       "      <td>Other thermosetting resins</td>\n",
       "      <td>Tonnes</td>\n",
       "      <td>1.13.20</td>\n",
       "      <td>465.0</td>\n",
       "      <td>Recycling</td>\n",
       "      <td>Secondary feedstock</td>\n",
       "      <td>2</td>\n",
       "    </tr>\n",
       "    <tr>\n",
       "      <th>301</th>\n",
       "      <td>279</td>\n",
       "      <td>Residual plastic waste and scrap sent for disp...</td>\n",
       "      <td>Other thermosetting resins</td>\n",
       "      <td>Tonnes</td>\n",
       "      <td>1.14.20</td>\n",
       "      <td>116.0</td>\n",
       "      <td>Recycling</td>\n",
       "      <td>Total disposed plastics</td>\n",
       "      <td>2</td>\n",
       "    </tr>\n",
       "    <tr>\n",
       "      <th>302</th>\n",
       "      <td>299</td>\n",
       "      <td>Total disposed plastic waste and scrap</td>\n",
       "      <td>Other thermosetting resins</td>\n",
       "      <td>Tonnes</td>\n",
       "      <td>1.15.20</td>\n",
       "      <td>38071.0</td>\n",
       "      <td>NaN</td>\n",
       "      <td>NaN</td>\n",
       "      <td>2</td>\n",
       "    </tr>\n",
       "  </tbody>\n",
       "</table>\n",
       "<p>303 rows × 9 columns</p>\n",
       "</div>"
      ],
      "text/plain": [
       "     Unnamed: 0                                           Variable  \\\n",
       "0             0          Plastic in domestically produced products   \n",
       "1            20  Net trade (imports less exports) of newly prod...   \n",
       "2            40  Plastic in products produced for Canadian cons...   \n",
       "3            60  Net stock of plastic in products that remain i...   \n",
       "4            80                Total discarded plastic in products   \n",
       "..          ...                                                ...   \n",
       "298         219  Residual plastic waste and scrap sent for disp...   \n",
       "299         239  Net trade (imports less exports) of sorted and...   \n",
       "300         259  Recycled plastic pellets and flakes ready for ...   \n",
       "301         279  Residual plastic waste and scrap sent for disp...   \n",
       "302         299             Total disposed plastic waste and scrap   \n",
       "\n",
       "                          Resin     UOM COORDINATE      VALUE  \\\n",
       "0             Total, all resins  Tonnes      1.1.1  4474733.0   \n",
       "1             Total, all resins  Tonnes      1.2.1  2646334.0   \n",
       "2             Total, all resins  Tonnes      1.3.1  7121068.0   \n",
       "3             Total, all resins  Tonnes      1.4.1  2193412.0   \n",
       "4             Total, all resins  Tonnes      1.5.1  4927656.0   \n",
       "..                          ...     ...        ...        ...   \n",
       "298  Other thermosetting resins  Tonnes    1.11.20     1552.0   \n",
       "299  Other thermosetting resins  Tonnes    1.12.20      -13.0   \n",
       "300  Other thermosetting resins  Tonnes    1.13.20      465.0   \n",
       "301  Other thermosetting resins  Tonnes    1.14.20      116.0   \n",
       "302  Other thermosetting resins  Tonnes    1.15.20    38071.0   \n",
       "\n",
       "                          From                         To  Level  \n",
       "0       CA domestic production             CA consumption      1  \n",
       "1    Net trade of new products             CA consumption      1  \n",
       "2                          NaN                        NaN      1  \n",
       "3               CA consumption  Net in-use stock addition      1  \n",
       "4               CA consumption   Total discarded plastics      1  \n",
       "..                         ...                        ...    ...  \n",
       "298          Material recovery    Total disposed plastics      2  \n",
       "299          Material recovery    Net trade baled plastic      2  \n",
       "300                  Recycling        Secondary feedstock      2  \n",
       "301                  Recycling    Total disposed plastics      2  \n",
       "302                        NaN                        NaN      2  \n",
       "\n",
       "[303 rows x 9 columns]"
      ]
     },
     "execution_count": 102,
     "metadata": {},
     "output_type": "execute_result"
    }
   ],
   "source": [
    "#merge data frames: df_StatCan_resin_2020_CA and hierarchy (Levels)\n",
    "df_StatCan_resin_2020_CA = pd.merge(df_StatCan_resin_2020_CA, data_hierarchy_StatCan_resin, on='Resin', how='outer',\n",
    "                          validate='many_to_many')\n",
    "df_StatCan_resin_2020_CA"
   ]
  },
  {
   "cell_type": "code",
   "execution_count": 103,
   "id": "90a78cd9",
   "metadata": {},
   "outputs": [
    {
     "data": {
      "text/html": [
       "<div>\n",
       "<style scoped>\n",
       "    .dataframe tbody tr th:only-of-type {\n",
       "        vertical-align: middle;\n",
       "    }\n",
       "\n",
       "    .dataframe tbody tr th {\n",
       "        vertical-align: top;\n",
       "    }\n",
       "\n",
       "    .dataframe thead th {\n",
       "        text-align: right;\n",
       "    }\n",
       "</style>\n",
       "<table border=\"1\" class=\"dataframe\">\n",
       "  <thead>\n",
       "    <tr style=\"text-align: right;\">\n",
       "      <th></th>\n",
       "      <th>Unnamed: 0</th>\n",
       "      <th>Variable</th>\n",
       "      <th>Resin</th>\n",
       "      <th>UOM</th>\n",
       "      <th>COORDINATE</th>\n",
       "      <th>VALUE</th>\n",
       "      <th>From</th>\n",
       "      <th>To</th>\n",
       "      <th>Level</th>\n",
       "    </tr>\n",
       "  </thead>\n",
       "  <tbody>\n",
       "    <tr>\n",
       "      <th>15</th>\n",
       "      <td>300</td>\n",
       "      <td>Disposed plastic waste and scrap sent to landf...</td>\n",
       "      <td>Total, all resins</td>\n",
       "      <td>Tonnes</td>\n",
       "      <td>1.16.1</td>\n",
       "      <td>3916862.0</td>\n",
       "      <td>Total disposed plastics</td>\n",
       "      <td>Landfill or incineration</td>\n",
       "      <td>2</td>\n",
       "    </tr>\n",
       "    <tr>\n",
       "      <th>16</th>\n",
       "      <td>301</td>\n",
       "      <td>Disposed plastic waste and scrap sent for inci...</td>\n",
       "      <td>Total, all resins</td>\n",
       "      <td>Tonnes</td>\n",
       "      <td>1.17.1</td>\n",
       "      <td>107577.0</td>\n",
       "      <td>Total disposed plastics</td>\n",
       "      <td>Incineration (WtE) or gasification</td>\n",
       "      <td>2</td>\n",
       "    </tr>\n",
       "    <tr>\n",
       "      <th>17</th>\n",
       "      <td>302</td>\n",
       "      <td>Net trade (imports less exports) of disposed p...</td>\n",
       "      <td>Total, all resins</td>\n",
       "      <td>Tonnes</td>\n",
       "      <td>1.18.1</td>\n",
       "      <td>-496166.0</td>\n",
       "      <td>Total disposed plastics</td>\n",
       "      <td>Net trade disposed plastics</td>\n",
       "      <td>2</td>\n",
       "    </tr>\n",
       "    <tr>\n",
       "      <th>18</th>\n",
       "      <td>1</td>\n",
       "      <td>Plastic in domestically produced products</td>\n",
       "      <td>Polyethylene terephthalate (PET) resins</td>\n",
       "      <td>Tonnes</td>\n",
       "      <td>1.1.2</td>\n",
       "      <td>597458.0</td>\n",
       "      <td>CA domestic production</td>\n",
       "      <td>CA consumption</td>\n",
       "      <td>2</td>\n",
       "    </tr>\n",
       "    <tr>\n",
       "      <th>19</th>\n",
       "      <td>21</td>\n",
       "      <td>Net trade (imports less exports) of newly prod...</td>\n",
       "      <td>Polyethylene terephthalate (PET) resins</td>\n",
       "      <td>Tonnes</td>\n",
       "      <td>1.2.2</td>\n",
       "      <td>201889.0</td>\n",
       "      <td>Net trade of new products</td>\n",
       "      <td>CA consumption</td>\n",
       "      <td>2</td>\n",
       "    </tr>\n",
       "    <tr>\n",
       "      <th>...</th>\n",
       "      <td>...</td>\n",
       "      <td>...</td>\n",
       "      <td>...</td>\n",
       "      <td>...</td>\n",
       "      <td>...</td>\n",
       "      <td>...</td>\n",
       "      <td>...</td>\n",
       "      <td>...</td>\n",
       "      <td>...</td>\n",
       "    </tr>\n",
       "    <tr>\n",
       "      <th>298</th>\n",
       "      <td>219</td>\n",
       "      <td>Residual plastic waste and scrap sent for disp...</td>\n",
       "      <td>Other thermosetting resins</td>\n",
       "      <td>Tonnes</td>\n",
       "      <td>1.11.20</td>\n",
       "      <td>1552.0</td>\n",
       "      <td>Material recovery</td>\n",
       "      <td>Total disposed plastics</td>\n",
       "      <td>2</td>\n",
       "    </tr>\n",
       "    <tr>\n",
       "      <th>299</th>\n",
       "      <td>239</td>\n",
       "      <td>Net trade (imports less exports) of sorted and...</td>\n",
       "      <td>Other thermosetting resins</td>\n",
       "      <td>Tonnes</td>\n",
       "      <td>1.12.20</td>\n",
       "      <td>-13.0</td>\n",
       "      <td>Material recovery</td>\n",
       "      <td>Net trade baled plastic</td>\n",
       "      <td>2</td>\n",
       "    </tr>\n",
       "    <tr>\n",
       "      <th>300</th>\n",
       "      <td>259</td>\n",
       "      <td>Recycled plastic pellets and flakes ready for ...</td>\n",
       "      <td>Other thermosetting resins</td>\n",
       "      <td>Tonnes</td>\n",
       "      <td>1.13.20</td>\n",
       "      <td>465.0</td>\n",
       "      <td>Recycling</td>\n",
       "      <td>Secondary feedstock</td>\n",
       "      <td>2</td>\n",
       "    </tr>\n",
       "    <tr>\n",
       "      <th>301</th>\n",
       "      <td>279</td>\n",
       "      <td>Residual plastic waste and scrap sent for disp...</td>\n",
       "      <td>Other thermosetting resins</td>\n",
       "      <td>Tonnes</td>\n",
       "      <td>1.14.20</td>\n",
       "      <td>116.0</td>\n",
       "      <td>Recycling</td>\n",
       "      <td>Total disposed plastics</td>\n",
       "      <td>2</td>\n",
       "    </tr>\n",
       "    <tr>\n",
       "      <th>302</th>\n",
       "      <td>299</td>\n",
       "      <td>Total disposed plastic waste and scrap</td>\n",
       "      <td>Other thermosetting resins</td>\n",
       "      <td>Tonnes</td>\n",
       "      <td>1.15.20</td>\n",
       "      <td>38071.0</td>\n",
       "      <td>NaN</td>\n",
       "      <td>NaN</td>\n",
       "      <td>2</td>\n",
       "    </tr>\n",
       "  </tbody>\n",
       "</table>\n",
       "<p>288 rows × 9 columns</p>\n",
       "</div>"
      ],
      "text/plain": [
       "     Unnamed: 0                                           Variable  \\\n",
       "15          300  Disposed plastic waste and scrap sent to landf...   \n",
       "16          301  Disposed plastic waste and scrap sent for inci...   \n",
       "17          302  Net trade (imports less exports) of disposed p...   \n",
       "18            1          Plastic in domestically produced products   \n",
       "19           21  Net trade (imports less exports) of newly prod...   \n",
       "..          ...                                                ...   \n",
       "298         219  Residual plastic waste and scrap sent for disp...   \n",
       "299         239  Net trade (imports less exports) of sorted and...   \n",
       "300         259  Recycled plastic pellets and flakes ready for ...   \n",
       "301         279  Residual plastic waste and scrap sent for disp...   \n",
       "302         299             Total disposed plastic waste and scrap   \n",
       "\n",
       "                                       Resin     UOM COORDINATE      VALUE  \\\n",
       "15                         Total, all resins  Tonnes     1.16.1  3916862.0   \n",
       "16                         Total, all resins  Tonnes     1.17.1   107577.0   \n",
       "17                         Total, all resins  Tonnes     1.18.1  -496166.0   \n",
       "18   Polyethylene terephthalate (PET) resins  Tonnes      1.1.2   597458.0   \n",
       "19   Polyethylene terephthalate (PET) resins  Tonnes      1.2.2   201889.0   \n",
       "..                                       ...     ...        ...        ...   \n",
       "298               Other thermosetting resins  Tonnes    1.11.20     1552.0   \n",
       "299               Other thermosetting resins  Tonnes    1.12.20      -13.0   \n",
       "300               Other thermosetting resins  Tonnes    1.13.20      465.0   \n",
       "301               Other thermosetting resins  Tonnes    1.14.20      116.0   \n",
       "302               Other thermosetting resins  Tonnes    1.15.20    38071.0   \n",
       "\n",
       "                          From                                  To  Level  \n",
       "15     Total disposed plastics            Landfill or incineration      2  \n",
       "16     Total disposed plastics  Incineration (WtE) or gasification      2  \n",
       "17     Total disposed plastics         Net trade disposed plastics      2  \n",
       "18      CA domestic production                      CA consumption      2  \n",
       "19   Net trade of new products                      CA consumption      2  \n",
       "..                         ...                                 ...    ...  \n",
       "298          Material recovery             Total disposed plastics      2  \n",
       "299          Material recovery             Net trade baled plastic      2  \n",
       "300                  Recycling                 Secondary feedstock      2  \n",
       "301                  Recycling             Total disposed plastics      2  \n",
       "302                        NaN                                 NaN      2  \n",
       "\n",
       "[288 rows x 9 columns]"
      ]
     },
     "execution_count": 103,
     "metadata": {},
     "output_type": "execute_result"
    }
   ],
   "source": [
    "#Set Level of End-of-life flows level 2 (even though only for 'Total, all resins')\n",
    "    #Disposed plastic waste and scrap sent to landfill or incinerated without energy recovery\n",
    "    #Disposed plastic waste and scrap sent for incineration or gasification with energy recovery\n",
    "    #Net trade (imports less exports) of disposed plastic waste and scrap\n",
    "df_StatCan_resin_2020_CA.loc[df_StatCan_resin_2020_CA['Variable'] \n",
    "== 'Disposed plastic waste and scrap sent to landfill or incinerated without energy recovery','Level']=2\n",
    "\n",
    "df_StatCan_resin_2020_CA.loc[df_StatCan_resin_2020_CA['Variable'] \n",
    "== 'Disposed plastic waste and scrap sent for incineration or gasification with energy recovery','Level']=2\n",
    "\n",
    "df_StatCan_resin_2020_CA.loc[df_StatCan_resin_2020_CA['Variable'] \n",
    "== 'Net trade (imports less exports) of disposed plastic waste and scrap','Level']=2\n",
    "#exclude all other levels (1)\n",
    "df_StatCan_resin_2020_CA_2 = df_StatCan_resin_2020_CA[df_StatCan_resin_2020_CA['Level']== 2]\n",
    "df_StatCan_resin_2020_CA_2"
   ]
  },
  {
   "cell_type": "code",
   "execution_count": 104,
   "id": "c1317824",
   "metadata": {},
   "outputs": [
    {
     "data": {
      "text/html": [
       "<div>\n",
       "<style scoped>\n",
       "    .dataframe tbody tr th:only-of-type {\n",
       "        vertical-align: middle;\n",
       "    }\n",
       "\n",
       "    .dataframe tbody tr th {\n",
       "        vertical-align: top;\n",
       "    }\n",
       "\n",
       "    .dataframe thead th {\n",
       "        text-align: right;\n",
       "    }\n",
       "</style>\n",
       "<table border=\"1\" class=\"dataframe\">\n",
       "  <thead>\n",
       "    <tr style=\"text-align: right;\">\n",
       "      <th></th>\n",
       "      <th>Resin</th>\n",
       "      <th>Resin_Selection</th>\n",
       "      <th>Colour_HEX</th>\n",
       "      <th>Colour</th>\n",
       "    </tr>\n",
       "  </thead>\n",
       "  <tbody>\n",
       "    <tr>\n",
       "      <th>0</th>\n",
       "      <td>Total, all resins</td>\n",
       "      <td>0_Total, all resins</td>\n",
       "      <td>#7F7F7F</td>\n",
       "      <td>grey</td>\n",
       "    </tr>\n",
       "    <tr>\n",
       "      <th>1</th>\n",
       "      <td>Polyethylene terephthalate (PET) resins</td>\n",
       "      <td>1_PET</td>\n",
       "      <td>#00A1C0</td>\n",
       "      <td>turqoise</td>\n",
       "    </tr>\n",
       "    <tr>\n",
       "      <th>2</th>\n",
       "      <td>Other thermoplastic polyester resins</td>\n",
       "      <td>7_Other</td>\n",
       "      <td>#40E0FF</td>\n",
       "      <td>light-turqoise</td>\n",
       "    </tr>\n",
       "    <tr>\n",
       "      <th>3</th>\n",
       "      <td>Low-density polyethylene resins</td>\n",
       "      <td>4_LDPE, LLDPE</td>\n",
       "      <td>#B91E32</td>\n",
       "      <td>red</td>\n",
       "    </tr>\n",
       "    <tr>\n",
       "      <th>4</th>\n",
       "      <td>Linear low-density polyethylene resins</td>\n",
       "      <td>4_LDPE, LLDPE</td>\n",
       "      <td>#B91E32</td>\n",
       "      <td>red</td>\n",
       "    </tr>\n",
       "    <tr>\n",
       "      <th>5</th>\n",
       "      <td>High-density polyethylene resins</td>\n",
       "      <td>2_HDPE</td>\n",
       "      <td>#FA961E</td>\n",
       "      <td>orange</td>\n",
       "    </tr>\n",
       "    <tr>\n",
       "      <th>6</th>\n",
       "      <td>Other polyethylene resins</td>\n",
       "      <td>7_Other</td>\n",
       "      <td>#40E0FF</td>\n",
       "      <td>light-turqoise</td>\n",
       "    </tr>\n",
       "    <tr>\n",
       "      <th>7</th>\n",
       "      <td>Polystyrene resins</td>\n",
       "      <td>6_PS</td>\n",
       "      <td>#FDDA64</td>\n",
       "      <td>yellow</td>\n",
       "    </tr>\n",
       "    <tr>\n",
       "      <th>8</th>\n",
       "      <td>Acrylonitrile-butadiene-styrene resins</td>\n",
       "      <td>7_Other</td>\n",
       "      <td>#40E0FF</td>\n",
       "      <td>light-turqoise</td>\n",
       "    </tr>\n",
       "    <tr>\n",
       "      <th>9</th>\n",
       "      <td>Polyvinyl chloride resins</td>\n",
       "      <td>3_PVC</td>\n",
       "      <td>#0BAC43</td>\n",
       "      <td>green</td>\n",
       "    </tr>\n",
       "    <tr>\n",
       "      <th>10</th>\n",
       "      <td>Polypropylene resins</td>\n",
       "      <td>5_PP</td>\n",
       "      <td>#005379</td>\n",
       "      <td>darkblue</td>\n",
       "    </tr>\n",
       "    <tr>\n",
       "      <th>11</th>\n",
       "      <td>Thermoplastic polyurethane resins</td>\n",
       "      <td>7_Other</td>\n",
       "      <td>#40E0FF</td>\n",
       "      <td>light-turqoise</td>\n",
       "    </tr>\n",
       "    <tr>\n",
       "      <th>12</th>\n",
       "      <td>Polyamide (nylon) resins</td>\n",
       "      <td>7_Other</td>\n",
       "      <td>#40E0FF</td>\n",
       "      <td>light-turqoise</td>\n",
       "    </tr>\n",
       "    <tr>\n",
       "      <th>13</th>\n",
       "      <td>All other thermoplastic resins</td>\n",
       "      <td>7_Other</td>\n",
       "      <td>#40E0FF</td>\n",
       "      <td>light-turqoise</td>\n",
       "    </tr>\n",
       "    <tr>\n",
       "      <th>14</th>\n",
       "      <td>Phenolic resins</td>\n",
       "      <td>7_Other</td>\n",
       "      <td>#40E0FF</td>\n",
       "      <td>light-turqoise</td>\n",
       "    </tr>\n",
       "    <tr>\n",
       "      <th>15</th>\n",
       "      <td>Urea formaldehyde resins</td>\n",
       "      <td>7_Other</td>\n",
       "      <td>#40E0FF</td>\n",
       "      <td>light-turqoise</td>\n",
       "    </tr>\n",
       "    <tr>\n",
       "      <th>16</th>\n",
       "      <td>All other formaldehyde based resins</td>\n",
       "      <td>7_Other</td>\n",
       "      <td>#40E0FF</td>\n",
       "      <td>light-turqoise</td>\n",
       "    </tr>\n",
       "    <tr>\n",
       "      <th>17</th>\n",
       "      <td>Unsaturated polyester (thermosetting) resins</td>\n",
       "      <td>7_Other</td>\n",
       "      <td>#40E0FF</td>\n",
       "      <td>light-turqoise</td>\n",
       "    </tr>\n",
       "    <tr>\n",
       "      <th>18</th>\n",
       "      <td>Thermosetting polyurethane resins</td>\n",
       "      <td>7_Other</td>\n",
       "      <td>#40E0FF</td>\n",
       "      <td>light-turqoise</td>\n",
       "    </tr>\n",
       "    <tr>\n",
       "      <th>19</th>\n",
       "      <td>Other thermosetting resins</td>\n",
       "      <td>7_Other</td>\n",
       "      <td>#40E0FF</td>\n",
       "      <td>light-turqoise</td>\n",
       "    </tr>\n",
       "  </tbody>\n",
       "</table>\n",
       "</div>"
      ],
      "text/plain": [
       "                                           Resin      Resin_Selection  \\\n",
       "0                              Total, all resins  0_Total, all resins   \n",
       "1        Polyethylene terephthalate (PET) resins                1_PET   \n",
       "2           Other thermoplastic polyester resins              7_Other   \n",
       "3                Low-density polyethylene resins        4_LDPE, LLDPE   \n",
       "4         Linear low-density polyethylene resins        4_LDPE, LLDPE   \n",
       "5               High-density polyethylene resins               2_HDPE   \n",
       "6                      Other polyethylene resins              7_Other   \n",
       "7                             Polystyrene resins                 6_PS   \n",
       "8         Acrylonitrile-butadiene-styrene resins              7_Other   \n",
       "9                      Polyvinyl chloride resins                3_PVC   \n",
       "10                          Polypropylene resins                 5_PP   \n",
       "11             Thermoplastic polyurethane resins              7_Other   \n",
       "12                      Polyamide (nylon) resins              7_Other   \n",
       "13                All other thermoplastic resins              7_Other   \n",
       "14                               Phenolic resins              7_Other   \n",
       "15                      Urea formaldehyde resins              7_Other   \n",
       "16           All other formaldehyde based resins              7_Other   \n",
       "17  Unsaturated polyester (thermosetting) resins              7_Other   \n",
       "18             Thermosetting polyurethane resins              7_Other   \n",
       "19                    Other thermosetting resins              7_Other   \n",
       "\n",
       "   Colour_HEX          Colour  \n",
       "0     #7F7F7F            grey  \n",
       "1     #00A1C0        turqoise  \n",
       "2     #40E0FF  light-turqoise  \n",
       "3     #B91E32             red  \n",
       "4     #B91E32             red  \n",
       "5     #FA961E          orange  \n",
       "6     #40E0FF  light-turqoise  \n",
       "7     #FDDA64          yellow  \n",
       "8     #40E0FF  light-turqoise  \n",
       "9     #0BAC43           green  \n",
       "10    #005379        darkblue  \n",
       "11    #40E0FF  light-turqoise  \n",
       "12    #40E0FF  light-turqoise  \n",
       "13    #40E0FF  light-turqoise  \n",
       "14    #40E0FF  light-turqoise  \n",
       "15    #40E0FF  light-turqoise  \n",
       "16    #40E0FF  light-turqoise  \n",
       "17    #40E0FF  light-turqoise  \n",
       "18    #40E0FF  light-turqoise  \n",
       "19    #40E0FF  light-turqoise  "
      ]
     },
     "execution_count": 104,
     "metadata": {},
     "output_type": "execute_result"
    }
   ],
   "source": [
    "#import CIRAIG colour df (created 2024-05-09) see above\n",
    "data_selection_StatCan_resin"
   ]
  },
  {
   "cell_type": "code",
   "execution_count": 105,
   "id": "3fd720cb",
   "metadata": {},
   "outputs": [
    {
     "data": {
      "text/html": [
       "<div>\n",
       "<style scoped>\n",
       "    .dataframe tbody tr th:only-of-type {\n",
       "        vertical-align: middle;\n",
       "    }\n",
       "\n",
       "    .dataframe tbody tr th {\n",
       "        vertical-align: top;\n",
       "    }\n",
       "\n",
       "    .dataframe thead th {\n",
       "        text-align: right;\n",
       "    }\n",
       "</style>\n",
       "<table border=\"1\" class=\"dataframe\">\n",
       "  <thead>\n",
       "    <tr style=\"text-align: right;\">\n",
       "      <th></th>\n",
       "      <th>Unnamed: 0</th>\n",
       "      <th>Variable</th>\n",
       "      <th>Resin</th>\n",
       "      <th>UOM</th>\n",
       "      <th>COORDINATE</th>\n",
       "      <th>VALUE</th>\n",
       "      <th>From</th>\n",
       "      <th>To</th>\n",
       "      <th>Level</th>\n",
       "      <th>Resin_Selection</th>\n",
       "      <th>Colour_HEX</th>\n",
       "      <th>Colour</th>\n",
       "    </tr>\n",
       "  </thead>\n",
       "  <tbody>\n",
       "    <tr>\n",
       "      <th>0</th>\n",
       "      <td>300</td>\n",
       "      <td>Disposed plastic waste and scrap sent to landf...</td>\n",
       "      <td>Total, all resins</td>\n",
       "      <td>Tonnes</td>\n",
       "      <td>1.16.1</td>\n",
       "      <td>3916862.0</td>\n",
       "      <td>Total disposed plastics</td>\n",
       "      <td>Landfill or incineration</td>\n",
       "      <td>2</td>\n",
       "      <td>0_Total, all resins</td>\n",
       "      <td>#7F7F7F</td>\n",
       "      <td>grey</td>\n",
       "    </tr>\n",
       "    <tr>\n",
       "      <th>1</th>\n",
       "      <td>301</td>\n",
       "      <td>Disposed plastic waste and scrap sent for inci...</td>\n",
       "      <td>Total, all resins</td>\n",
       "      <td>Tonnes</td>\n",
       "      <td>1.17.1</td>\n",
       "      <td>107577.0</td>\n",
       "      <td>Total disposed plastics</td>\n",
       "      <td>Incineration (WtE) or gasification</td>\n",
       "      <td>2</td>\n",
       "      <td>0_Total, all resins</td>\n",
       "      <td>#7F7F7F</td>\n",
       "      <td>grey</td>\n",
       "    </tr>\n",
       "    <tr>\n",
       "      <th>2</th>\n",
       "      <td>302</td>\n",
       "      <td>Net trade (imports less exports) of disposed p...</td>\n",
       "      <td>Total, all resins</td>\n",
       "      <td>Tonnes</td>\n",
       "      <td>1.18.1</td>\n",
       "      <td>-496166.0</td>\n",
       "      <td>Total disposed plastics</td>\n",
       "      <td>Net trade disposed plastics</td>\n",
       "      <td>2</td>\n",
       "      <td>0_Total, all resins</td>\n",
       "      <td>#7F7F7F</td>\n",
       "      <td>grey</td>\n",
       "    </tr>\n",
       "    <tr>\n",
       "      <th>3</th>\n",
       "      <td>1</td>\n",
       "      <td>Plastic in domestically produced products</td>\n",
       "      <td>Polyethylene terephthalate (PET) resins</td>\n",
       "      <td>Tonnes</td>\n",
       "      <td>1.1.2</td>\n",
       "      <td>597458.0</td>\n",
       "      <td>CA domestic production</td>\n",
       "      <td>CA consumption</td>\n",
       "      <td>2</td>\n",
       "      <td>1_PET</td>\n",
       "      <td>#00A1C0</td>\n",
       "      <td>turqoise</td>\n",
       "    </tr>\n",
       "    <tr>\n",
       "      <th>4</th>\n",
       "      <td>21</td>\n",
       "      <td>Net trade (imports less exports) of newly prod...</td>\n",
       "      <td>Polyethylene terephthalate (PET) resins</td>\n",
       "      <td>Tonnes</td>\n",
       "      <td>1.2.2</td>\n",
       "      <td>201889.0</td>\n",
       "      <td>Net trade of new products</td>\n",
       "      <td>CA consumption</td>\n",
       "      <td>2</td>\n",
       "      <td>1_PET</td>\n",
       "      <td>#00A1C0</td>\n",
       "      <td>turqoise</td>\n",
       "    </tr>\n",
       "    <tr>\n",
       "      <th>...</th>\n",
       "      <td>...</td>\n",
       "      <td>...</td>\n",
       "      <td>...</td>\n",
       "      <td>...</td>\n",
       "      <td>...</td>\n",
       "      <td>...</td>\n",
       "      <td>...</td>\n",
       "      <td>...</td>\n",
       "      <td>...</td>\n",
       "      <td>...</td>\n",
       "      <td>...</td>\n",
       "      <td>...</td>\n",
       "    </tr>\n",
       "    <tr>\n",
       "      <th>283</th>\n",
       "      <td>219</td>\n",
       "      <td>Residual plastic waste and scrap sent for disp...</td>\n",
       "      <td>Other thermosetting resins</td>\n",
       "      <td>Tonnes</td>\n",
       "      <td>1.11.20</td>\n",
       "      <td>1552.0</td>\n",
       "      <td>Material recovery</td>\n",
       "      <td>Total disposed plastics</td>\n",
       "      <td>2</td>\n",
       "      <td>7_Other</td>\n",
       "      <td>#40E0FF</td>\n",
       "      <td>light-turqoise</td>\n",
       "    </tr>\n",
       "    <tr>\n",
       "      <th>284</th>\n",
       "      <td>239</td>\n",
       "      <td>Net trade (imports less exports) of sorted and...</td>\n",
       "      <td>Other thermosetting resins</td>\n",
       "      <td>Tonnes</td>\n",
       "      <td>1.12.20</td>\n",
       "      <td>-13.0</td>\n",
       "      <td>Material recovery</td>\n",
       "      <td>Net trade baled plastic</td>\n",
       "      <td>2</td>\n",
       "      <td>7_Other</td>\n",
       "      <td>#40E0FF</td>\n",
       "      <td>light-turqoise</td>\n",
       "    </tr>\n",
       "    <tr>\n",
       "      <th>285</th>\n",
       "      <td>259</td>\n",
       "      <td>Recycled plastic pellets and flakes ready for ...</td>\n",
       "      <td>Other thermosetting resins</td>\n",
       "      <td>Tonnes</td>\n",
       "      <td>1.13.20</td>\n",
       "      <td>465.0</td>\n",
       "      <td>Recycling</td>\n",
       "      <td>Secondary feedstock</td>\n",
       "      <td>2</td>\n",
       "      <td>7_Other</td>\n",
       "      <td>#40E0FF</td>\n",
       "      <td>light-turqoise</td>\n",
       "    </tr>\n",
       "    <tr>\n",
       "      <th>286</th>\n",
       "      <td>279</td>\n",
       "      <td>Residual plastic waste and scrap sent for disp...</td>\n",
       "      <td>Other thermosetting resins</td>\n",
       "      <td>Tonnes</td>\n",
       "      <td>1.14.20</td>\n",
       "      <td>116.0</td>\n",
       "      <td>Recycling</td>\n",
       "      <td>Total disposed plastics</td>\n",
       "      <td>2</td>\n",
       "      <td>7_Other</td>\n",
       "      <td>#40E0FF</td>\n",
       "      <td>light-turqoise</td>\n",
       "    </tr>\n",
       "    <tr>\n",
       "      <th>287</th>\n",
       "      <td>299</td>\n",
       "      <td>Total disposed plastic waste and scrap</td>\n",
       "      <td>Other thermosetting resins</td>\n",
       "      <td>Tonnes</td>\n",
       "      <td>1.15.20</td>\n",
       "      <td>38071.0</td>\n",
       "      <td>NaN</td>\n",
       "      <td>NaN</td>\n",
       "      <td>2</td>\n",
       "      <td>7_Other</td>\n",
       "      <td>#40E0FF</td>\n",
       "      <td>light-turqoise</td>\n",
       "    </tr>\n",
       "  </tbody>\n",
       "</table>\n",
       "<p>288 rows × 12 columns</p>\n",
       "</div>"
      ],
      "text/plain": [
       "     Unnamed: 0                                           Variable  \\\n",
       "0           300  Disposed plastic waste and scrap sent to landf...   \n",
       "1           301  Disposed plastic waste and scrap sent for inci...   \n",
       "2           302  Net trade (imports less exports) of disposed p...   \n",
       "3             1          Plastic in domestically produced products   \n",
       "4            21  Net trade (imports less exports) of newly prod...   \n",
       "..          ...                                                ...   \n",
       "283         219  Residual plastic waste and scrap sent for disp...   \n",
       "284         239  Net trade (imports less exports) of sorted and...   \n",
       "285         259  Recycled plastic pellets and flakes ready for ...   \n",
       "286         279  Residual plastic waste and scrap sent for disp...   \n",
       "287         299             Total disposed plastic waste and scrap   \n",
       "\n",
       "                                       Resin     UOM COORDINATE      VALUE  \\\n",
       "0                          Total, all resins  Tonnes     1.16.1  3916862.0   \n",
       "1                          Total, all resins  Tonnes     1.17.1   107577.0   \n",
       "2                          Total, all resins  Tonnes     1.18.1  -496166.0   \n",
       "3    Polyethylene terephthalate (PET) resins  Tonnes      1.1.2   597458.0   \n",
       "4    Polyethylene terephthalate (PET) resins  Tonnes      1.2.2   201889.0   \n",
       "..                                       ...     ...        ...        ...   \n",
       "283               Other thermosetting resins  Tonnes    1.11.20     1552.0   \n",
       "284               Other thermosetting resins  Tonnes    1.12.20      -13.0   \n",
       "285               Other thermosetting resins  Tonnes    1.13.20      465.0   \n",
       "286               Other thermosetting resins  Tonnes    1.14.20      116.0   \n",
       "287               Other thermosetting resins  Tonnes    1.15.20    38071.0   \n",
       "\n",
       "                          From                                  To  Level  \\\n",
       "0      Total disposed plastics            Landfill or incineration      2   \n",
       "1      Total disposed plastics  Incineration (WtE) or gasification      2   \n",
       "2      Total disposed plastics         Net trade disposed plastics      2   \n",
       "3       CA domestic production                      CA consumption      2   \n",
       "4    Net trade of new products                      CA consumption      2   \n",
       "..                         ...                                 ...    ...   \n",
       "283          Material recovery             Total disposed plastics      2   \n",
       "284          Material recovery             Net trade baled plastic      2   \n",
       "285                  Recycling                 Secondary feedstock      2   \n",
       "286                  Recycling             Total disposed plastics      2   \n",
       "287                        NaN                                 NaN      2   \n",
       "\n",
       "         Resin_Selection Colour_HEX          Colour  \n",
       "0    0_Total, all resins    #7F7F7F            grey  \n",
       "1    0_Total, all resins    #7F7F7F            grey  \n",
       "2    0_Total, all resins    #7F7F7F            grey  \n",
       "3                  1_PET    #00A1C0        turqoise  \n",
       "4                  1_PET    #00A1C0        turqoise  \n",
       "..                   ...        ...             ...  \n",
       "283              7_Other    #40E0FF  light-turqoise  \n",
       "284              7_Other    #40E0FF  light-turqoise  \n",
       "285              7_Other    #40E0FF  light-turqoise  \n",
       "286              7_Other    #40E0FF  light-turqoise  \n",
       "287              7_Other    #40E0FF  light-turqoise  \n",
       "\n",
       "[288 rows x 12 columns]"
      ]
     },
     "execution_count": 105,
     "metadata": {},
     "output_type": "execute_result"
    }
   ],
   "source": [
    "#merge data frames: df_StatCan_resin_2020_CA_2 and hierarchy (Levels)\n",
    "df_StatCan_resin_2020_CA_2 = pd.merge(df_StatCan_resin_2020_CA_2, data_selection_StatCan_resin, on='Resin', how='outer',\n",
    "                          validate='many_to_many')\n",
    "df_StatCan_resin_2020_CA_2"
   ]
  },
  {
   "cell_type": "code",
   "execution_count": 106,
   "id": "14bb888a",
   "metadata": {},
   "outputs": [
    {
     "data": {
      "text/html": [
       "<div>\n",
       "<style scoped>\n",
       "    .dataframe tbody tr th:only-of-type {\n",
       "        vertical-align: middle;\n",
       "    }\n",
       "\n",
       "    .dataframe tbody tr th {\n",
       "        vertical-align: top;\n",
       "    }\n",
       "\n",
       "    .dataframe thead th {\n",
       "        text-align: right;\n",
       "    }\n",
       "</style>\n",
       "<table border=\"1\" class=\"dataframe\">\n",
       "  <thead>\n",
       "    <tr style=\"text-align: right;\">\n",
       "      <th></th>\n",
       "      <th></th>\n",
       "      <th>VALUE</th>\n",
       "      <th>From</th>\n",
       "      <th>To</th>\n",
       "      <th>Colour_HEX</th>\n",
       "    </tr>\n",
       "    <tr>\n",
       "      <th>Variable</th>\n",
       "      <th>Resin_Selection</th>\n",
       "      <th></th>\n",
       "      <th></th>\n",
       "      <th></th>\n",
       "      <th></th>\n",
       "    </tr>\n",
       "  </thead>\n",
       "  <tbody>\n",
       "    <tr>\n",
       "      <th rowspan=\"5\" valign=\"top\">Collected plastic sent directly for disposal or diversion</th>\n",
       "      <th>1_PET</th>\n",
       "      <td>558060.0</td>\n",
       "      <td>Total discarded plastics</td>\n",
       "      <td>Collection</td>\n",
       "      <td>#00A1C0</td>\n",
       "    </tr>\n",
       "    <tr>\n",
       "      <th>2_HDPE</th>\n",
       "      <td>689349.0</td>\n",
       "      <td>Total discarded plastics</td>\n",
       "      <td>Collection</td>\n",
       "      <td>#FA961E</td>\n",
       "    </tr>\n",
       "    <tr>\n",
       "      <th>3_PVC</th>\n",
       "      <td>310500.0</td>\n",
       "      <td>Total discarded plastics</td>\n",
       "      <td>Collection</td>\n",
       "      <td>#0BAC43</td>\n",
       "    </tr>\n",
       "    <tr>\n",
       "      <th>4_LDPE, LLDPE</th>\n",
       "      <td>851786.0</td>\n",
       "      <td>Total discarded plastics</td>\n",
       "      <td>Collection</td>\n",
       "      <td>#B91E32</td>\n",
       "    </tr>\n",
       "    <tr>\n",
       "      <th>5_PP</th>\n",
       "      <td>527089.0</td>\n",
       "      <td>Total discarded plastics</td>\n",
       "      <td>Collection</td>\n",
       "      <td>#005379</td>\n",
       "    </tr>\n",
       "    <tr>\n",
       "      <th>...</th>\n",
       "      <th>...</th>\n",
       "      <td>...</td>\n",
       "      <td>...</td>\n",
       "      <td>...</td>\n",
       "      <td>...</td>\n",
       "    </tr>\n",
       "    <tr>\n",
       "      <th rowspan=\"5\" valign=\"top\">Total disposed plastic waste and scrap</th>\n",
       "      <th>3_PVC</th>\n",
       "      <td>298952.0</td>\n",
       "      <td>None</td>\n",
       "      <td>None</td>\n",
       "      <td>#0BAC43</td>\n",
       "    </tr>\n",
       "    <tr>\n",
       "      <th>4_LDPE, LLDPE</th>\n",
       "      <td>800870.0</td>\n",
       "      <td>None</td>\n",
       "      <td>None</td>\n",
       "      <td>#B91E32</td>\n",
       "    </tr>\n",
       "    <tr>\n",
       "      <th>5_PP</th>\n",
       "      <td>507793.0</td>\n",
       "      <td>None</td>\n",
       "      <td>None</td>\n",
       "      <td>#005379</td>\n",
       "    </tr>\n",
       "    <tr>\n",
       "      <th>6_PS</th>\n",
       "      <td>394944.0</td>\n",
       "      <td>None</td>\n",
       "      <td>None</td>\n",
       "      <td>#FDDA64</td>\n",
       "    </tr>\n",
       "    <tr>\n",
       "      <th>7_Other</th>\n",
       "      <td>1477640.0</td>\n",
       "      <td>None</td>\n",
       "      <td>None</td>\n",
       "      <td>#40E0FF</td>\n",
       "    </tr>\n",
       "  </tbody>\n",
       "</table>\n",
       "<p>108 rows × 4 columns</p>\n",
       "</div>"
      ],
      "text/plain": [
       "                                                                        VALUE  \\\n",
       "Variable                                           Resin_Selection              \n",
       "Collected plastic sent directly for disposal or... 1_PET             558060.0   \n",
       "                                                   2_HDPE            689349.0   \n",
       "                                                   3_PVC             310500.0   \n",
       "                                                   4_LDPE, LLDPE     851786.0   \n",
       "                                                   5_PP              527089.0   \n",
       "...                                                                       ...   \n",
       "Total disposed plastic waste and scrap             3_PVC             298952.0   \n",
       "                                                   4_LDPE, LLDPE     800870.0   \n",
       "                                                   5_PP              507793.0   \n",
       "                                                   6_PS              394944.0   \n",
       "                                                   7_Other          1477640.0   \n",
       "\n",
       "                                                                                        From  \\\n",
       "Variable                                           Resin_Selection                             \n",
       "Collected plastic sent directly for disposal or... 1_PET            Total discarded plastics   \n",
       "                                                   2_HDPE           Total discarded plastics   \n",
       "                                                   3_PVC            Total discarded plastics   \n",
       "                                                   4_LDPE, LLDPE    Total discarded plastics   \n",
       "                                                   5_PP             Total discarded plastics   \n",
       "...                                                                                      ...   \n",
       "Total disposed plastic waste and scrap             3_PVC                                None   \n",
       "                                                   4_LDPE, LLDPE                        None   \n",
       "                                                   5_PP                                 None   \n",
       "                                                   6_PS                                 None   \n",
       "                                                   7_Other                              None   \n",
       "\n",
       "                                                                            To  \\\n",
       "Variable                                           Resin_Selection               \n",
       "Collected plastic sent directly for disposal or... 1_PET            Collection   \n",
       "                                                   2_HDPE           Collection   \n",
       "                                                   3_PVC            Collection   \n",
       "                                                   4_LDPE, LLDPE    Collection   \n",
       "                                                   5_PP             Collection   \n",
       "...                                                                        ...   \n",
       "Total disposed plastic waste and scrap             3_PVC                  None   \n",
       "                                                   4_LDPE, LLDPE          None   \n",
       "                                                   5_PP                   None   \n",
       "                                                   6_PS                   None   \n",
       "                                                   7_Other                None   \n",
       "\n",
       "                                                                   Colour_HEX  \n",
       "Variable                                           Resin_Selection             \n",
       "Collected plastic sent directly for disposal or... 1_PET              #00A1C0  \n",
       "                                                   2_HDPE             #FA961E  \n",
       "                                                   3_PVC              #0BAC43  \n",
       "                                                   4_LDPE, LLDPE      #B91E32  \n",
       "                                                   5_PP               #005379  \n",
       "...                                                                       ...  \n",
       "Total disposed plastic waste and scrap             3_PVC              #0BAC43  \n",
       "                                                   4_LDPE, LLDPE      #B91E32  \n",
       "                                                   5_PP               #005379  \n",
       "                                                   6_PS               #FDDA64  \n",
       "                                                   7_Other            #40E0FF  \n",
       "\n",
       "[108 rows x 4 columns]"
      ]
     },
     "execution_count": 106,
     "metadata": {},
     "output_type": "execute_result"
    }
   ],
   "source": [
    "#reduce to relevant columns\n",
    "df_StatCan_resin_2020_CA_2 = pd.DataFrame(df_StatCan_resin_2020_CA_2, columns=['Variable','VALUE','From','To',\n",
    "                                                                               'Resin_Selection','Colour_HEX'])\n",
    "#group LDPE & LLDPE as well as all the 'other' Resin_Selection by Variable and Resin_Selection\n",
    "df_StatCan_resin_2020_CA_2_grouped = df_StatCan_resin_2020_CA_2.groupby(['Variable','Resin_Selection']).agg({'VALUE': 'sum',\n",
    "                                                                                                             'From': 'first',\n",
    "                                                                                                             'To': 'first',\n",
    "                                                                                                             'Colour_HEX':'first'})\n",
    "df_StatCan_resin_2020_CA_2_grouped"
   ]
  },
  {
   "cell_type": "code",
   "execution_count": 107,
   "id": "8a6d0d72",
   "metadata": {},
   "outputs": [
    {
     "data": {
      "text/html": [
       "<div>\n",
       "<style scoped>\n",
       "    .dataframe tbody tr th:only-of-type {\n",
       "        vertical-align: middle;\n",
       "    }\n",
       "\n",
       "    .dataframe tbody tr th {\n",
       "        vertical-align: top;\n",
       "    }\n",
       "\n",
       "    .dataframe thead th {\n",
       "        text-align: right;\n",
       "    }\n",
       "</style>\n",
       "<table border=\"1\" class=\"dataframe\">\n",
       "  <thead>\n",
       "    <tr style=\"text-align: right;\">\n",
       "      <th></th>\n",
       "      <th></th>\n",
       "      <th>VALUE</th>\n",
       "      <th>From</th>\n",
       "      <th>To</th>\n",
       "      <th>Colour_HEX</th>\n",
       "    </tr>\n",
       "    <tr>\n",
       "      <th>Variable</th>\n",
       "      <th>Resin_Selection</th>\n",
       "      <th></th>\n",
       "      <th></th>\n",
       "      <th></th>\n",
       "      <th></th>\n",
       "    </tr>\n",
       "  </thead>\n",
       "  <tbody>\n",
       "    <tr>\n",
       "      <th rowspan=\"5\" valign=\"top\">Collected plastic sent directly for disposal or diversion</th>\n",
       "      <th>1_PET</th>\n",
       "      <td>558060.0</td>\n",
       "      <td>Total discarded plastics</td>\n",
       "      <td>Collection</td>\n",
       "      <td>#00A1C0</td>\n",
       "    </tr>\n",
       "    <tr>\n",
       "      <th>2_HDPE</th>\n",
       "      <td>689349.0</td>\n",
       "      <td>Total discarded plastics</td>\n",
       "      <td>Collection</td>\n",
       "      <td>#FA961E</td>\n",
       "    </tr>\n",
       "    <tr>\n",
       "      <th>3_PVC</th>\n",
       "      <td>310500.0</td>\n",
       "      <td>Total discarded plastics</td>\n",
       "      <td>Collection</td>\n",
       "      <td>#0BAC43</td>\n",
       "    </tr>\n",
       "    <tr>\n",
       "      <th>4_LDPE, LLDPE</th>\n",
       "      <td>851786.0</td>\n",
       "      <td>Total discarded plastics</td>\n",
       "      <td>Collection</td>\n",
       "      <td>#B91E32</td>\n",
       "    </tr>\n",
       "    <tr>\n",
       "      <th>5_PP</th>\n",
       "      <td>527089.0</td>\n",
       "      <td>Total discarded plastics</td>\n",
       "      <td>Collection</td>\n",
       "      <td>#005379</td>\n",
       "    </tr>\n",
       "    <tr>\n",
       "      <th>...</th>\n",
       "      <th>...</th>\n",
       "      <td>...</td>\n",
       "      <td>...</td>\n",
       "      <td>...</td>\n",
       "      <td>...</td>\n",
       "    </tr>\n",
       "    <tr>\n",
       "      <th rowspan=\"5\" valign=\"top\">Total discarded plastic in products</th>\n",
       "      <th>3_PVC</th>\n",
       "      <td>313150.0</td>\n",
       "      <td>CA consumption</td>\n",
       "      <td>Total discarded plastics</td>\n",
       "      <td>#0BAC43</td>\n",
       "    </tr>\n",
       "    <tr>\n",
       "      <th>4_LDPE, LLDPE</th>\n",
       "      <td>859309.0</td>\n",
       "      <td>CA consumption</td>\n",
       "      <td>Total discarded plastics</td>\n",
       "      <td>#B91E32</td>\n",
       "    </tr>\n",
       "    <tr>\n",
       "      <th>5_PP</th>\n",
       "      <td>531344.0</td>\n",
       "      <td>CA consumption</td>\n",
       "      <td>Total discarded plastics</td>\n",
       "      <td>#005379</td>\n",
       "    </tr>\n",
       "    <tr>\n",
       "      <th>6_PS</th>\n",
       "      <td>409053.0</td>\n",
       "      <td>CA consumption</td>\n",
       "      <td>Total discarded plastics</td>\n",
       "      <td>#FDDA64</td>\n",
       "    </tr>\n",
       "    <tr>\n",
       "      <th>7_Other</th>\n",
       "      <td>1556887.0</td>\n",
       "      <td>CA consumption</td>\n",
       "      <td>Total discarded plastics</td>\n",
       "      <td>#40E0FF</td>\n",
       "    </tr>\n",
       "  </tbody>\n",
       "</table>\n",
       "<p>94 rows × 4 columns</p>\n",
       "</div>"
      ],
      "text/plain": [
       "                                                                        VALUE  \\\n",
       "Variable                                           Resin_Selection              \n",
       "Collected plastic sent directly for disposal or... 1_PET             558060.0   \n",
       "                                                   2_HDPE            689349.0   \n",
       "                                                   3_PVC             310500.0   \n",
       "                                                   4_LDPE, LLDPE     851786.0   \n",
       "                                                   5_PP              527089.0   \n",
       "...                                                                       ...   \n",
       "Total discarded plastic in products                3_PVC             313150.0   \n",
       "                                                   4_LDPE, LLDPE     859309.0   \n",
       "                                                   5_PP              531344.0   \n",
       "                                                   6_PS              409053.0   \n",
       "                                                   7_Other          1556887.0   \n",
       "\n",
       "                                                                                        From  \\\n",
       "Variable                                           Resin_Selection                             \n",
       "Collected plastic sent directly for disposal or... 1_PET            Total discarded plastics   \n",
       "                                                   2_HDPE           Total discarded plastics   \n",
       "                                                   3_PVC            Total discarded plastics   \n",
       "                                                   4_LDPE, LLDPE    Total discarded plastics   \n",
       "                                                   5_PP             Total discarded plastics   \n",
       "...                                                                                      ...   \n",
       "Total discarded plastic in products                3_PVC                      CA consumption   \n",
       "                                                   4_LDPE, LLDPE              CA consumption   \n",
       "                                                   5_PP                       CA consumption   \n",
       "                                                   6_PS                       CA consumption   \n",
       "                                                   7_Other                    CA consumption   \n",
       "\n",
       "                                                                                          To  \\\n",
       "Variable                                           Resin_Selection                             \n",
       "Collected plastic sent directly for disposal or... 1_PET                          Collection   \n",
       "                                                   2_HDPE                         Collection   \n",
       "                                                   3_PVC                          Collection   \n",
       "                                                   4_LDPE, LLDPE                  Collection   \n",
       "                                                   5_PP                           Collection   \n",
       "...                                                                                      ...   \n",
       "Total discarded plastic in products                3_PVC            Total discarded plastics   \n",
       "                                                   4_LDPE, LLDPE    Total discarded plastics   \n",
       "                                                   5_PP             Total discarded plastics   \n",
       "                                                   6_PS             Total discarded plastics   \n",
       "                                                   7_Other          Total discarded plastics   \n",
       "\n",
       "                                                                   Colour_HEX  \n",
       "Variable                                           Resin_Selection             \n",
       "Collected plastic sent directly for disposal or... 1_PET              #00A1C0  \n",
       "                                                   2_HDPE             #FA961E  \n",
       "                                                   3_PVC              #0BAC43  \n",
       "                                                   4_LDPE, LLDPE      #B91E32  \n",
       "                                                   5_PP               #005379  \n",
       "...                                                                       ...  \n",
       "Total discarded plastic in products                3_PVC              #0BAC43  \n",
       "                                                   4_LDPE, LLDPE      #B91E32  \n",
       "                                                   5_PP               #005379  \n",
       "                                                   6_PS               #FDDA64  \n",
       "                                                   7_Other            #40E0FF  \n",
       "\n",
       "[94 rows x 4 columns]"
      ]
     },
     "execution_count": 107,
     "metadata": {},
     "output_type": "execute_result"
    }
   ],
   "source": [
    "#reduce df to only VALUE, From, To and Colour_HEX that are needed for the Sankey\n",
    "links = pd.DataFrame(df_StatCan_resin_2020_CA_2_grouped, columns=['VALUE','From','To','Colour_HEX']) #'Level' or 'Resin'\n",
    "#or 'Resin selection' not needed anymore\n",
    "\n",
    "#remove rows where From (and To) are \"NaN\"\n",
    "links = links.dropna(subset=['From'])\n",
    "links"
   ]
  },
  {
   "cell_type": "code",
   "execution_count": 108,
   "id": "4f802bf6",
   "metadata": {},
   "outputs": [
    {
     "data": {
      "text/html": [
       "<div>\n",
       "<style scoped>\n",
       "    .dataframe tbody tr th:only-of-type {\n",
       "        vertical-align: middle;\n",
       "    }\n",
       "\n",
       "    .dataframe tbody tr th {\n",
       "        vertical-align: top;\n",
       "    }\n",
       "\n",
       "    .dataframe thead th {\n",
       "        text-align: right;\n",
       "    }\n",
       "</style>\n",
       "<table border=\"1\" class=\"dataframe\">\n",
       "  <thead>\n",
       "    <tr style=\"text-align: right;\">\n",
       "      <th></th>\n",
       "      <th></th>\n",
       "      <th>VALUE</th>\n",
       "      <th>From</th>\n",
       "      <th>To</th>\n",
       "      <th>Colour_HEX</th>\n",
       "    </tr>\n",
       "    <tr>\n",
       "      <th>Variable</th>\n",
       "      <th>Resin_Selection</th>\n",
       "      <th></th>\n",
       "      <th></th>\n",
       "      <th></th>\n",
       "      <th></th>\n",
       "    </tr>\n",
       "  </thead>\n",
       "  <tbody>\n",
       "    <tr>\n",
       "      <th rowspan=\"5\" valign=\"top\">Collected plastic sent directly for disposal or diversion</th>\n",
       "      <th>1_PET</th>\n",
       "      <td>558060.0</td>\n",
       "      <td>Total discarded plastics</td>\n",
       "      <td>Collection</td>\n",
       "      <td>#00A1C0</td>\n",
       "    </tr>\n",
       "    <tr>\n",
       "      <th>2_HDPE</th>\n",
       "      <td>689349.0</td>\n",
       "      <td>Total discarded plastics</td>\n",
       "      <td>Collection</td>\n",
       "      <td>#FA961E</td>\n",
       "    </tr>\n",
       "    <tr>\n",
       "      <th>3_PVC</th>\n",
       "      <td>310500.0</td>\n",
       "      <td>Total discarded plastics</td>\n",
       "      <td>Collection</td>\n",
       "      <td>#0BAC43</td>\n",
       "    </tr>\n",
       "    <tr>\n",
       "      <th>4_LDPE, LLDPE</th>\n",
       "      <td>851786.0</td>\n",
       "      <td>Total discarded plastics</td>\n",
       "      <td>Collection</td>\n",
       "      <td>#B91E32</td>\n",
       "    </tr>\n",
       "    <tr>\n",
       "      <th>5_PP</th>\n",
       "      <td>527089.0</td>\n",
       "      <td>Total discarded plastics</td>\n",
       "      <td>Collection</td>\n",
       "      <td>#005379</td>\n",
       "    </tr>\n",
       "    <tr>\n",
       "      <th>...</th>\n",
       "      <th>...</th>\n",
       "      <td>...</td>\n",
       "      <td>...</td>\n",
       "      <td>...</td>\n",
       "      <td>...</td>\n",
       "    </tr>\n",
       "    <tr>\n",
       "      <th rowspan=\"5\" valign=\"top\">Total discarded plastic in products</th>\n",
       "      <th>3_PVC</th>\n",
       "      <td>313150.0</td>\n",
       "      <td>CA consumption</td>\n",
       "      <td>Total discarded plastics</td>\n",
       "      <td>#0BAC43</td>\n",
       "    </tr>\n",
       "    <tr>\n",
       "      <th>4_LDPE, LLDPE</th>\n",
       "      <td>859309.0</td>\n",
       "      <td>CA consumption</td>\n",
       "      <td>Total discarded plastics</td>\n",
       "      <td>#B91E32</td>\n",
       "    </tr>\n",
       "    <tr>\n",
       "      <th>5_PP</th>\n",
       "      <td>531344.0</td>\n",
       "      <td>CA consumption</td>\n",
       "      <td>Total discarded plastics</td>\n",
       "      <td>#005379</td>\n",
       "    </tr>\n",
       "    <tr>\n",
       "      <th>6_PS</th>\n",
       "      <td>409053.0</td>\n",
       "      <td>CA consumption</td>\n",
       "      <td>Total discarded plastics</td>\n",
       "      <td>#FDDA64</td>\n",
       "    </tr>\n",
       "    <tr>\n",
       "      <th>7_Other</th>\n",
       "      <td>1556887.0</td>\n",
       "      <td>CA consumption</td>\n",
       "      <td>Total discarded plastics</td>\n",
       "      <td>#40E0FF</td>\n",
       "    </tr>\n",
       "  </tbody>\n",
       "</table>\n",
       "<p>94 rows × 4 columns</p>\n",
       "</div>"
      ],
      "text/plain": [
       "                                                                        VALUE  \\\n",
       "Variable                                           Resin_Selection              \n",
       "Collected plastic sent directly for disposal or... 1_PET             558060.0   \n",
       "                                                   2_HDPE            689349.0   \n",
       "                                                   3_PVC             310500.0   \n",
       "                                                   4_LDPE, LLDPE     851786.0   \n",
       "                                                   5_PP              527089.0   \n",
       "...                                                                       ...   \n",
       "Total discarded plastic in products                3_PVC             313150.0   \n",
       "                                                   4_LDPE, LLDPE     859309.0   \n",
       "                                                   5_PP              531344.0   \n",
       "                                                   6_PS              409053.0   \n",
       "                                                   7_Other          1556887.0   \n",
       "\n",
       "                                                                                        From  \\\n",
       "Variable                                           Resin_Selection                             \n",
       "Collected plastic sent directly for disposal or... 1_PET            Total discarded plastics   \n",
       "                                                   2_HDPE           Total discarded plastics   \n",
       "                                                   3_PVC            Total discarded plastics   \n",
       "                                                   4_LDPE, LLDPE    Total discarded plastics   \n",
       "                                                   5_PP             Total discarded plastics   \n",
       "...                                                                                      ...   \n",
       "Total discarded plastic in products                3_PVC                      CA consumption   \n",
       "                                                   4_LDPE, LLDPE              CA consumption   \n",
       "                                                   5_PP                       CA consumption   \n",
       "                                                   6_PS                       CA consumption   \n",
       "                                                   7_Other                    CA consumption   \n",
       "\n",
       "                                                                                          To  \\\n",
       "Variable                                           Resin_Selection                             \n",
       "Collected plastic sent directly for disposal or... 1_PET                          Collection   \n",
       "                                                   2_HDPE                         Collection   \n",
       "                                                   3_PVC                          Collection   \n",
       "                                                   4_LDPE, LLDPE                  Collection   \n",
       "                                                   5_PP                           Collection   \n",
       "...                                                                                      ...   \n",
       "Total discarded plastic in products                3_PVC            Total discarded plastics   \n",
       "                                                   4_LDPE, LLDPE    Total discarded plastics   \n",
       "                                                   5_PP             Total discarded plastics   \n",
       "                                                   6_PS             Total discarded plastics   \n",
       "                                                   7_Other          Total discarded plastics   \n",
       "\n",
       "                                                                   Colour_HEX  \n",
       "Variable                                           Resin_Selection             \n",
       "Collected plastic sent directly for disposal or... 1_PET              #00A1C0  \n",
       "                                                   2_HDPE             #FA961E  \n",
       "                                                   3_PVC              #0BAC43  \n",
       "                                                   4_LDPE, LLDPE      #B91E32  \n",
       "                                                   5_PP               #005379  \n",
       "...                                                                       ...  \n",
       "Total discarded plastic in products                3_PVC              #0BAC43  \n",
       "                                                   4_LDPE, LLDPE      #B91E32  \n",
       "                                                   5_PP               #005379  \n",
       "                                                   6_PS               #FDDA64  \n",
       "                                                   7_Other            #40E0FF  \n",
       "\n",
       "[94 rows x 4 columns]"
      ]
     },
     "execution_count": 108,
     "metadata": {},
     "output_type": "execute_result"
    }
   ],
   "source": [
    "#turn VALUE into absolute values\n",
    "links['VALUE'] =links['VALUE'].apply(lambda x: abs(x))\n",
    "links"
   ]
  },
  {
   "cell_type": "code",
   "execution_count": 109,
   "id": "d5b5e43a",
   "metadata": {},
   "outputs": [
    {
     "data": {
      "text/plain": [
       "['Total discarded plastics',\n",
       " 'Collection',\n",
       " 'Total disposed plastics',\n",
       " 'CA consumption',\n",
       " 'Net trade of new products',\n",
       " 'Material recovery',\n",
       " 'CA domestic production',\n",
       " 'Recycling',\n",
       " 'Incineration (WtE) or gasification',\n",
       " 'Landfill or incineration',\n",
       " 'Net in-use stock addition',\n",
       " 'Net trade disposed plastics',\n",
       " 'Net trade baled plastic',\n",
       " 'Leak into environment',\n",
       " 'Secondary feedstock']"
      ]
     },
     "execution_count": 109,
     "metadata": {},
     "output_type": "execute_result"
    }
   ],
   "source": [
    "#create unique list of source/from and target/to for plotly\n",
    "unique_from_to = list(pd.unique(links[['From','To']].values.ravel('K')))\n",
    "unique_from_to\n"
   ]
  },
  {
   "cell_type": "code",
   "execution_count": 110,
   "id": "d5f38ba2",
   "metadata": {},
   "outputs": [
    {
     "data": {
      "text/plain": [
       "{'VALUE': [558060.0,\n",
       "  689349.0,\n",
       "  310500.0,\n",
       "  851786.0,\n",
       "  527089.0,\n",
       "  405727.0,\n",
       "  1544778.0,\n",
       "  266201.0,\n",
       "  518059.0,\n",
       "  253096.0,\n",
       "  773897.0,\n",
       "  376061.0,\n",
       "  332029.0,\n",
       "  1117217.0,\n",
       "  107577.0,\n",
       "  3916862.0,\n",
       "  291620.0,\n",
       "  170868.0,\n",
       "  57273.0,\n",
       "  77681.0,\n",
       "  150782.0,\n",
       "  73596.0,\n",
       "  426846.0,\n",
       "  236585.0,\n",
       "  373535.0,\n",
       "  323871.0,\n",
       "  105011.0,\n",
       "  164939.0,\n",
       "  360412.0,\n",
       "  629060.0,\n",
       "  496166.0,\n",
       "  201889.0,\n",
       "  358620.0,\n",
       "  195324.0,\n",
       "  417550.0,\n",
       "  266220.0,\n",
       "  210306.0,\n",
       "  996424.0,\n",
       "  1119.0,\n",
       "  313.0,\n",
       "  809.0,\n",
       "  589.0,\n",
       "  12.0,\n",
       "  1026.0,\n",
       "  426.0,\n",
       "  597458.0,\n",
       "  710065.0,\n",
       "  441698.0,\n",
       "  546769.0,\n",
       "  430063.0,\n",
       "  559158.0,\n",
       "  1189522.0,\n",
       "  4702.0,\n",
       "  5802.0,\n",
       "  2650.0,\n",
       "  7522.0,\n",
       "  4255.0,\n",
       "  3326.0,\n",
       "  12110.0,\n",
       "  113027.0,\n",
       "  94711.0,\n",
       "  10559.0,\n",
       "  51172.0,\n",
       "  18631.0,\n",
       "  9648.0,\n",
       "  64504.0,\n",
       "  19708.0,\n",
       "  17460.0,\n",
       "  2638.0,\n",
       "  13609.0,\n",
       "  4454.0,\n",
       "  2449.0,\n",
       "  14473.0,\n",
       "  159984.0,\n",
       "  58992.0,\n",
       "  43218.0,\n",
       "  13365.0,\n",
       "  127279.0,\n",
       "  60466.0,\n",
       "  345949.0,\n",
       "  131636.0,\n",
       "  111877.0,\n",
       "  14055.0,\n",
       "  64315.0,\n",
       "  23503.0,\n",
       "  13129.0,\n",
       "  80898.0,\n",
       "  562762.0,\n",
       "  695150.0,\n",
       "  313150.0,\n",
       "  859309.0,\n",
       "  531344.0,\n",
       "  409053.0,\n",
       "  1556887.0],\n",
       " 'From': [0,\n",
       "  0,\n",
       "  0,\n",
       "  0,\n",
       "  0,\n",
       "  0,\n",
       "  0,\n",
       "  1,\n",
       "  1,\n",
       "  1,\n",
       "  1,\n",
       "  1,\n",
       "  1,\n",
       "  1,\n",
       "  2,\n",
       "  2,\n",
       "  1,\n",
       "  1,\n",
       "  1,\n",
       "  1,\n",
       "  1,\n",
       "  1,\n",
       "  1,\n",
       "  3,\n",
       "  3,\n",
       "  3,\n",
       "  3,\n",
       "  3,\n",
       "  3,\n",
       "  3,\n",
       "  2,\n",
       "  4,\n",
       "  4,\n",
       "  4,\n",
       "  4,\n",
       "  4,\n",
       "  4,\n",
       "  4,\n",
       "  5,\n",
       "  5,\n",
       "  5,\n",
       "  5,\n",
       "  5,\n",
       "  5,\n",
       "  5,\n",
       "  6,\n",
       "  6,\n",
       "  6,\n",
       "  6,\n",
       "  6,\n",
       "  6,\n",
       "  6,\n",
       "  0,\n",
       "  0,\n",
       "  0,\n",
       "  0,\n",
       "  0,\n",
       "  0,\n",
       "  0,\n",
       "  7,\n",
       "  7,\n",
       "  7,\n",
       "  7,\n",
       "  7,\n",
       "  7,\n",
       "  7,\n",
       "  7,\n",
       "  7,\n",
       "  7,\n",
       "  7,\n",
       "  7,\n",
       "  7,\n",
       "  7,\n",
       "  5,\n",
       "  5,\n",
       "  5,\n",
       "  5,\n",
       "  5,\n",
       "  5,\n",
       "  5,\n",
       "  5,\n",
       "  5,\n",
       "  5,\n",
       "  5,\n",
       "  5,\n",
       "  5,\n",
       "  5,\n",
       "  3,\n",
       "  3,\n",
       "  3,\n",
       "  3,\n",
       "  3,\n",
       "  3,\n",
       "  3],\n",
       " 'To': [1,\n",
       "  1,\n",
       "  1,\n",
       "  1,\n",
       "  1,\n",
       "  1,\n",
       "  1,\n",
       "  2,\n",
       "  2,\n",
       "  2,\n",
       "  2,\n",
       "  2,\n",
       "  2,\n",
       "  2,\n",
       "  8,\n",
       "  9,\n",
       "  5,\n",
       "  5,\n",
       "  5,\n",
       "  5,\n",
       "  5,\n",
       "  5,\n",
       "  5,\n",
       "  10,\n",
       "  10,\n",
       "  10,\n",
       "  10,\n",
       "  10,\n",
       "  10,\n",
       "  10,\n",
       "  11,\n",
       "  3,\n",
       "  3,\n",
       "  3,\n",
       "  3,\n",
       "  3,\n",
       "  3,\n",
       "  3,\n",
       "  12,\n",
       "  12,\n",
       "  12,\n",
       "  12,\n",
       "  12,\n",
       "  12,\n",
       "  12,\n",
       "  3,\n",
       "  3,\n",
       "  3,\n",
       "  3,\n",
       "  3,\n",
       "  3,\n",
       "  3,\n",
       "  13,\n",
       "  13,\n",
       "  13,\n",
       "  13,\n",
       "  13,\n",
       "  13,\n",
       "  13,\n",
       "  14,\n",
       "  14,\n",
       "  14,\n",
       "  14,\n",
       "  14,\n",
       "  14,\n",
       "  14,\n",
       "  2,\n",
       "  2,\n",
       "  2,\n",
       "  2,\n",
       "  2,\n",
       "  2,\n",
       "  2,\n",
       "  2,\n",
       "  2,\n",
       "  2,\n",
       "  2,\n",
       "  2,\n",
       "  2,\n",
       "  2,\n",
       "  7,\n",
       "  7,\n",
       "  7,\n",
       "  7,\n",
       "  7,\n",
       "  7,\n",
       "  7,\n",
       "  0,\n",
       "  0,\n",
       "  0,\n",
       "  0,\n",
       "  0,\n",
       "  0,\n",
       "  0],\n",
       " 'Colour_HEX': ['#00A1C0',\n",
       "  '#FA961E',\n",
       "  '#0BAC43',\n",
       "  '#B91E32',\n",
       "  '#005379',\n",
       "  '#FDDA64',\n",
       "  '#40E0FF',\n",
       "  '#00A1C0',\n",
       "  '#FA961E',\n",
       "  '#0BAC43',\n",
       "  '#B91E32',\n",
       "  '#005379',\n",
       "  '#FDDA64',\n",
       "  '#40E0FF',\n",
       "  '#7F7F7F',\n",
       "  '#7F7F7F',\n",
       "  '#00A1C0',\n",
       "  '#FA961E',\n",
       "  '#0BAC43',\n",
       "  '#B91E32',\n",
       "  '#005379',\n",
       "  '#FDDA64',\n",
       "  '#40E0FF',\n",
       "  '#00A1C0',\n",
       "  '#FA961E',\n",
       "  '#0BAC43',\n",
       "  '#B91E32',\n",
       "  '#005379',\n",
       "  '#FDDA64',\n",
       "  '#40E0FF',\n",
       "  '#7F7F7F',\n",
       "  '#00A1C0',\n",
       "  '#FA961E',\n",
       "  '#0BAC43',\n",
       "  '#B91E32',\n",
       "  '#005379',\n",
       "  '#FDDA64',\n",
       "  '#40E0FF',\n",
       "  '#00A1C0',\n",
       "  '#FA961E',\n",
       "  '#0BAC43',\n",
       "  '#B91E32',\n",
       "  '#005379',\n",
       "  '#FDDA64',\n",
       "  '#40E0FF',\n",
       "  '#00A1C0',\n",
       "  '#FA961E',\n",
       "  '#0BAC43',\n",
       "  '#B91E32',\n",
       "  '#005379',\n",
       "  '#FDDA64',\n",
       "  '#40E0FF',\n",
       "  '#00A1C0',\n",
       "  '#FA961E',\n",
       "  '#0BAC43',\n",
       "  '#B91E32',\n",
       "  '#005379',\n",
       "  '#FDDA64',\n",
       "  '#40E0FF',\n",
       "  '#00A1C0',\n",
       "  '#FA961E',\n",
       "  '#0BAC43',\n",
       "  '#B91E32',\n",
       "  '#005379',\n",
       "  '#FDDA64',\n",
       "  '#40E0FF',\n",
       "  '#00A1C0',\n",
       "  '#FA961E',\n",
       "  '#0BAC43',\n",
       "  '#B91E32',\n",
       "  '#005379',\n",
       "  '#FDDA64',\n",
       "  '#40E0FF',\n",
       "  '#00A1C0',\n",
       "  '#FA961E',\n",
       "  '#0BAC43',\n",
       "  '#B91E32',\n",
       "  '#005379',\n",
       "  '#FDDA64',\n",
       "  '#40E0FF',\n",
       "  '#00A1C0',\n",
       "  '#FA961E',\n",
       "  '#0BAC43',\n",
       "  '#B91E32',\n",
       "  '#005379',\n",
       "  '#FDDA64',\n",
       "  '#40E0FF',\n",
       "  '#00A1C0',\n",
       "  '#FA961E',\n",
       "  '#0BAC43',\n",
       "  '#B91E32',\n",
       "  '#005379',\n",
       "  '#FDDA64',\n",
       "  '#40E0FF']}"
      ]
     },
     "execution_count": 110,
     "metadata": {},
     "output_type": "execute_result"
    }
   ],
   "source": [
    "mapping_dict={k:v for v,k in enumerate(unique_from_to)}\n",
    "mapping_dict\n",
    "links['From']=links['From'].map(mapping_dict)\n",
    "links['To']=links['To'].map(mapping_dict)\n",
    "links_dict=links.to_dict(orient='list')\n",
    "links_dict"
   ]
  },
  {
   "cell_type": "code",
   "execution_count": 111,
   "id": "509f88b9",
   "metadata": {},
   "outputs": [
    {
     "data": {
      "application/vnd.plotly.v1+json": {
       "config": {
        "plotlyServerURL": "https://plot.ly"
       },
       "data": [
        {
         "link": {
          "color": [
           "#00A1C0",
           "#FA961E",
           "#0BAC43",
           "#B91E32",
           "#005379",
           "#FDDA64",
           "#40E0FF",
           "#00A1C0",
           "#FA961E",
           "#0BAC43",
           "#B91E32",
           "#005379",
           "#FDDA64",
           "#40E0FF",
           "#7F7F7F",
           "#7F7F7F",
           "#00A1C0",
           "#FA961E",
           "#0BAC43",
           "#B91E32",
           "#005379",
           "#FDDA64",
           "#40E0FF",
           "#00A1C0",
           "#FA961E",
           "#0BAC43",
           "#B91E32",
           "#005379",
           "#FDDA64",
           "#40E0FF",
           "#7F7F7F",
           "#00A1C0",
           "#FA961E",
           "#0BAC43",
           "#B91E32",
           "#005379",
           "#FDDA64",
           "#40E0FF",
           "#00A1C0",
           "#FA961E",
           "#0BAC43",
           "#B91E32",
           "#005379",
           "#FDDA64",
           "#40E0FF",
           "#00A1C0",
           "#FA961E",
           "#0BAC43",
           "#B91E32",
           "#005379",
           "#FDDA64",
           "#40E0FF",
           "#00A1C0",
           "#FA961E",
           "#0BAC43",
           "#B91E32",
           "#005379",
           "#FDDA64",
           "#40E0FF",
           "#00A1C0",
           "#FA961E",
           "#0BAC43",
           "#B91E32",
           "#005379",
           "#FDDA64",
           "#40E0FF",
           "#00A1C0",
           "#FA961E",
           "#0BAC43",
           "#B91E32",
           "#005379",
           "#FDDA64",
           "#40E0FF",
           "#00A1C0",
           "#FA961E",
           "#0BAC43",
           "#B91E32",
           "#005379",
           "#FDDA64",
           "#40E0FF",
           "#00A1C0",
           "#FA961E",
           "#0BAC43",
           "#B91E32",
           "#005379",
           "#FDDA64",
           "#40E0FF",
           "#00A1C0",
           "#FA961E",
           "#0BAC43",
           "#B91E32",
           "#005379",
           "#FDDA64",
           "#40E0FF"
          ],
          "source": [
           0,
           0,
           0,
           0,
           0,
           0,
           0,
           1,
           1,
           1,
           1,
           1,
           1,
           1,
           2,
           2,
           1,
           1,
           1,
           1,
           1,
           1,
           1,
           3,
           3,
           3,
           3,
           3,
           3,
           3,
           2,
           4,
           4,
           4,
           4,
           4,
           4,
           4,
           5,
           5,
           5,
           5,
           5,
           5,
           5,
           6,
           6,
           6,
           6,
           6,
           6,
           6,
           0,
           0,
           0,
           0,
           0,
           0,
           0,
           7,
           7,
           7,
           7,
           7,
           7,
           7,
           7,
           7,
           7,
           7,
           7,
           7,
           7,
           5,
           5,
           5,
           5,
           5,
           5,
           5,
           5,
           5,
           5,
           5,
           5,
           5,
           5,
           3,
           3,
           3,
           3,
           3,
           3,
           3
          ],
          "target": [
           1,
           1,
           1,
           1,
           1,
           1,
           1,
           2,
           2,
           2,
           2,
           2,
           2,
           2,
           8,
           9,
           5,
           5,
           5,
           5,
           5,
           5,
           5,
           10,
           10,
           10,
           10,
           10,
           10,
           10,
           11,
           3,
           3,
           3,
           3,
           3,
           3,
           3,
           12,
           12,
           12,
           12,
           12,
           12,
           12,
           3,
           3,
           3,
           3,
           3,
           3,
           3,
           13,
           13,
           13,
           13,
           13,
           13,
           13,
           14,
           14,
           14,
           14,
           14,
           14,
           14,
           2,
           2,
           2,
           2,
           2,
           2,
           2,
           2,
           2,
           2,
           2,
           2,
           2,
           2,
           7,
           7,
           7,
           7,
           7,
           7,
           7,
           0,
           0,
           0,
           0,
           0,
           0,
           0
          ],
          "value": [
           558060,
           689349,
           310500,
           851786,
           527089,
           405727,
           1544778,
           266201,
           518059,
           253096,
           773897,
           376061,
           332029,
           1117217,
           107577,
           3916862,
           291620,
           170868,
           57273,
           77681,
           150782,
           73596,
           426846,
           236585,
           373535,
           323871,
           105011,
           164939,
           360412,
           629060,
           496166,
           201889,
           358620,
           195324,
           417550,
           266220,
           210306,
           996424,
           1119,
           313,
           809,
           589,
           12,
           1026,
           426,
           597458,
           710065,
           441698,
           546769,
           430063,
           559158,
           1189522,
           4702,
           5802,
           2650,
           7522,
           4255,
           3326,
           12110,
           113027,
           94711,
           10559,
           51172,
           18631,
           9648,
           64504,
           19708,
           17460,
           2638,
           13609,
           4454,
           2449,
           14473,
           159984,
           58992,
           43218,
           13365,
           127279,
           60466,
           345949,
           131636,
           111877,
           14055,
           64315,
           23503,
           13129,
           80898,
           562762,
           695150,
           313150,
           859309,
           531344,
           409053,
           1556887
          ]
         },
         "node": {
          "color": "#7F7F7F",
          "label": [
           "Total discarded plastics",
           "Collection",
           "Total disposed plastics",
           "CA consumption",
           "Net trade of new products",
           "Material recovery",
           "CA domestic production",
           "Recycling",
           "Incineration (WtE) or gasification",
           "Landfill or incineration",
           "Net in-use stock addition",
           "Net trade disposed plastics",
           "Net trade baled plastic",
           "Leak into environment",
           "Secondary feedstock"
          ],
          "line": {
           "color": "black",
           "width": 0.5
          },
          "pad": 15,
          "thickness": 20
         },
         "type": "sankey",
         "valuesuffix": "t"
        }
       ],
       "layout": {
        "font": {
         "size": 10
        },
        "template": {
         "data": {
          "bar": [
           {
            "error_x": {
             "color": "#2a3f5f"
            },
            "error_y": {
             "color": "#2a3f5f"
            },
            "marker": {
             "line": {
              "color": "#E5ECF6",
              "width": 0.5
             },
             "pattern": {
              "fillmode": "overlay",
              "size": 10,
              "solidity": 0.2
             }
            },
            "type": "bar"
           }
          ],
          "barpolar": [
           {
            "marker": {
             "line": {
              "color": "#E5ECF6",
              "width": 0.5
             },
             "pattern": {
              "fillmode": "overlay",
              "size": 10,
              "solidity": 0.2
             }
            },
            "type": "barpolar"
           }
          ],
          "carpet": [
           {
            "aaxis": {
             "endlinecolor": "#2a3f5f",
             "gridcolor": "white",
             "linecolor": "white",
             "minorgridcolor": "white",
             "startlinecolor": "#2a3f5f"
            },
            "baxis": {
             "endlinecolor": "#2a3f5f",
             "gridcolor": "white",
             "linecolor": "white",
             "minorgridcolor": "white",
             "startlinecolor": "#2a3f5f"
            },
            "type": "carpet"
           }
          ],
          "choropleth": [
           {
            "colorbar": {
             "outlinewidth": 0,
             "ticks": ""
            },
            "type": "choropleth"
           }
          ],
          "contour": [
           {
            "colorbar": {
             "outlinewidth": 0,
             "ticks": ""
            },
            "colorscale": [
             [
              0,
              "#0d0887"
             ],
             [
              0.1111111111111111,
              "#46039f"
             ],
             [
              0.2222222222222222,
              "#7201a8"
             ],
             [
              0.3333333333333333,
              "#9c179e"
             ],
             [
              0.4444444444444444,
              "#bd3786"
             ],
             [
              0.5555555555555556,
              "#d8576b"
             ],
             [
              0.6666666666666666,
              "#ed7953"
             ],
             [
              0.7777777777777778,
              "#fb9f3a"
             ],
             [
              0.8888888888888888,
              "#fdca26"
             ],
             [
              1,
              "#f0f921"
             ]
            ],
            "type": "contour"
           }
          ],
          "contourcarpet": [
           {
            "colorbar": {
             "outlinewidth": 0,
             "ticks": ""
            },
            "type": "contourcarpet"
           }
          ],
          "heatmap": [
           {
            "colorbar": {
             "outlinewidth": 0,
             "ticks": ""
            },
            "colorscale": [
             [
              0,
              "#0d0887"
             ],
             [
              0.1111111111111111,
              "#46039f"
             ],
             [
              0.2222222222222222,
              "#7201a8"
             ],
             [
              0.3333333333333333,
              "#9c179e"
             ],
             [
              0.4444444444444444,
              "#bd3786"
             ],
             [
              0.5555555555555556,
              "#d8576b"
             ],
             [
              0.6666666666666666,
              "#ed7953"
             ],
             [
              0.7777777777777778,
              "#fb9f3a"
             ],
             [
              0.8888888888888888,
              "#fdca26"
             ],
             [
              1,
              "#f0f921"
             ]
            ],
            "type": "heatmap"
           }
          ],
          "heatmapgl": [
           {
            "colorbar": {
             "outlinewidth": 0,
             "ticks": ""
            },
            "colorscale": [
             [
              0,
              "#0d0887"
             ],
             [
              0.1111111111111111,
              "#46039f"
             ],
             [
              0.2222222222222222,
              "#7201a8"
             ],
             [
              0.3333333333333333,
              "#9c179e"
             ],
             [
              0.4444444444444444,
              "#bd3786"
             ],
             [
              0.5555555555555556,
              "#d8576b"
             ],
             [
              0.6666666666666666,
              "#ed7953"
             ],
             [
              0.7777777777777778,
              "#fb9f3a"
             ],
             [
              0.8888888888888888,
              "#fdca26"
             ],
             [
              1,
              "#f0f921"
             ]
            ],
            "type": "heatmapgl"
           }
          ],
          "histogram": [
           {
            "marker": {
             "pattern": {
              "fillmode": "overlay",
              "size": 10,
              "solidity": 0.2
             }
            },
            "type": "histogram"
           }
          ],
          "histogram2d": [
           {
            "colorbar": {
             "outlinewidth": 0,
             "ticks": ""
            },
            "colorscale": [
             [
              0,
              "#0d0887"
             ],
             [
              0.1111111111111111,
              "#46039f"
             ],
             [
              0.2222222222222222,
              "#7201a8"
             ],
             [
              0.3333333333333333,
              "#9c179e"
             ],
             [
              0.4444444444444444,
              "#bd3786"
             ],
             [
              0.5555555555555556,
              "#d8576b"
             ],
             [
              0.6666666666666666,
              "#ed7953"
             ],
             [
              0.7777777777777778,
              "#fb9f3a"
             ],
             [
              0.8888888888888888,
              "#fdca26"
             ],
             [
              1,
              "#f0f921"
             ]
            ],
            "type": "histogram2d"
           }
          ],
          "histogram2dcontour": [
           {
            "colorbar": {
             "outlinewidth": 0,
             "ticks": ""
            },
            "colorscale": [
             [
              0,
              "#0d0887"
             ],
             [
              0.1111111111111111,
              "#46039f"
             ],
             [
              0.2222222222222222,
              "#7201a8"
             ],
             [
              0.3333333333333333,
              "#9c179e"
             ],
             [
              0.4444444444444444,
              "#bd3786"
             ],
             [
              0.5555555555555556,
              "#d8576b"
             ],
             [
              0.6666666666666666,
              "#ed7953"
             ],
             [
              0.7777777777777778,
              "#fb9f3a"
             ],
             [
              0.8888888888888888,
              "#fdca26"
             ],
             [
              1,
              "#f0f921"
             ]
            ],
            "type": "histogram2dcontour"
           }
          ],
          "mesh3d": [
           {
            "colorbar": {
             "outlinewidth": 0,
             "ticks": ""
            },
            "type": "mesh3d"
           }
          ],
          "parcoords": [
           {
            "line": {
             "colorbar": {
              "outlinewidth": 0,
              "ticks": ""
             }
            },
            "type": "parcoords"
           }
          ],
          "pie": [
           {
            "automargin": true,
            "type": "pie"
           }
          ],
          "scatter": [
           {
            "fillpattern": {
             "fillmode": "overlay",
             "size": 10,
             "solidity": 0.2
            },
            "type": "scatter"
           }
          ],
          "scatter3d": [
           {
            "line": {
             "colorbar": {
              "outlinewidth": 0,
              "ticks": ""
             }
            },
            "marker": {
             "colorbar": {
              "outlinewidth": 0,
              "ticks": ""
             }
            },
            "type": "scatter3d"
           }
          ],
          "scattercarpet": [
           {
            "marker": {
             "colorbar": {
              "outlinewidth": 0,
              "ticks": ""
             }
            },
            "type": "scattercarpet"
           }
          ],
          "scattergeo": [
           {
            "marker": {
             "colorbar": {
              "outlinewidth": 0,
              "ticks": ""
             }
            },
            "type": "scattergeo"
           }
          ],
          "scattergl": [
           {
            "marker": {
             "colorbar": {
              "outlinewidth": 0,
              "ticks": ""
             }
            },
            "type": "scattergl"
           }
          ],
          "scattermapbox": [
           {
            "marker": {
             "colorbar": {
              "outlinewidth": 0,
              "ticks": ""
             }
            },
            "type": "scattermapbox"
           }
          ],
          "scatterpolar": [
           {
            "marker": {
             "colorbar": {
              "outlinewidth": 0,
              "ticks": ""
             }
            },
            "type": "scatterpolar"
           }
          ],
          "scatterpolargl": [
           {
            "marker": {
             "colorbar": {
              "outlinewidth": 0,
              "ticks": ""
             }
            },
            "type": "scatterpolargl"
           }
          ],
          "scatterternary": [
           {
            "marker": {
             "colorbar": {
              "outlinewidth": 0,
              "ticks": ""
             }
            },
            "type": "scatterternary"
           }
          ],
          "surface": [
           {
            "colorbar": {
             "outlinewidth": 0,
             "ticks": ""
            },
            "colorscale": [
             [
              0,
              "#0d0887"
             ],
             [
              0.1111111111111111,
              "#46039f"
             ],
             [
              0.2222222222222222,
              "#7201a8"
             ],
             [
              0.3333333333333333,
              "#9c179e"
             ],
             [
              0.4444444444444444,
              "#bd3786"
             ],
             [
              0.5555555555555556,
              "#d8576b"
             ],
             [
              0.6666666666666666,
              "#ed7953"
             ],
             [
              0.7777777777777778,
              "#fb9f3a"
             ],
             [
              0.8888888888888888,
              "#fdca26"
             ],
             [
              1,
              "#f0f921"
             ]
            ],
            "type": "surface"
           }
          ],
          "table": [
           {
            "cells": {
             "fill": {
              "color": "#EBF0F8"
             },
             "line": {
              "color": "white"
             }
            },
            "header": {
             "fill": {
              "color": "#C8D4E3"
             },
             "line": {
              "color": "white"
             }
            },
            "type": "table"
           }
          ]
         },
         "layout": {
          "annotationdefaults": {
           "arrowcolor": "#2a3f5f",
           "arrowhead": 0,
           "arrowwidth": 1
          },
          "autotypenumbers": "strict",
          "coloraxis": {
           "colorbar": {
            "outlinewidth": 0,
            "ticks": ""
           }
          },
          "colorscale": {
           "diverging": [
            [
             0,
             "#8e0152"
            ],
            [
             0.1,
             "#c51b7d"
            ],
            [
             0.2,
             "#de77ae"
            ],
            [
             0.3,
             "#f1b6da"
            ],
            [
             0.4,
             "#fde0ef"
            ],
            [
             0.5,
             "#f7f7f7"
            ],
            [
             0.6,
             "#e6f5d0"
            ],
            [
             0.7,
             "#b8e186"
            ],
            [
             0.8,
             "#7fbc41"
            ],
            [
             0.9,
             "#4d9221"
            ],
            [
             1,
             "#276419"
            ]
           ],
           "sequential": [
            [
             0,
             "#0d0887"
            ],
            [
             0.1111111111111111,
             "#46039f"
            ],
            [
             0.2222222222222222,
             "#7201a8"
            ],
            [
             0.3333333333333333,
             "#9c179e"
            ],
            [
             0.4444444444444444,
             "#bd3786"
            ],
            [
             0.5555555555555556,
             "#d8576b"
            ],
            [
             0.6666666666666666,
             "#ed7953"
            ],
            [
             0.7777777777777778,
             "#fb9f3a"
            ],
            [
             0.8888888888888888,
             "#fdca26"
            ],
            [
             1,
             "#f0f921"
            ]
           ],
           "sequentialminus": [
            [
             0,
             "#0d0887"
            ],
            [
             0.1111111111111111,
             "#46039f"
            ],
            [
             0.2222222222222222,
             "#7201a8"
            ],
            [
             0.3333333333333333,
             "#9c179e"
            ],
            [
             0.4444444444444444,
             "#bd3786"
            ],
            [
             0.5555555555555556,
             "#d8576b"
            ],
            [
             0.6666666666666666,
             "#ed7953"
            ],
            [
             0.7777777777777778,
             "#fb9f3a"
            ],
            [
             0.8888888888888888,
             "#fdca26"
            ],
            [
             1,
             "#f0f921"
            ]
           ]
          },
          "colorway": [
           "#636efa",
           "#EF553B",
           "#00cc96",
           "#ab63fa",
           "#FFA15A",
           "#19d3f3",
           "#FF6692",
           "#B6E880",
           "#FF97FF",
           "#FECB52"
          ],
          "font": {
           "color": "#2a3f5f"
          },
          "geo": {
           "bgcolor": "white",
           "lakecolor": "white",
           "landcolor": "#E5ECF6",
           "showlakes": true,
           "showland": true,
           "subunitcolor": "white"
          },
          "hoverlabel": {
           "align": "left"
          },
          "hovermode": "closest",
          "mapbox": {
           "style": "light"
          },
          "paper_bgcolor": "white",
          "plot_bgcolor": "#E5ECF6",
          "polar": {
           "angularaxis": {
            "gridcolor": "white",
            "linecolor": "white",
            "ticks": ""
           },
           "bgcolor": "#E5ECF6",
           "radialaxis": {
            "gridcolor": "white",
            "linecolor": "white",
            "ticks": ""
           }
          },
          "scene": {
           "xaxis": {
            "backgroundcolor": "#E5ECF6",
            "gridcolor": "white",
            "gridwidth": 2,
            "linecolor": "white",
            "showbackground": true,
            "ticks": "",
            "zerolinecolor": "white"
           },
           "yaxis": {
            "backgroundcolor": "#E5ECF6",
            "gridcolor": "white",
            "gridwidth": 2,
            "linecolor": "white",
            "showbackground": true,
            "ticks": "",
            "zerolinecolor": "white"
           },
           "zaxis": {
            "backgroundcolor": "#E5ECF6",
            "gridcolor": "white",
            "gridwidth": 2,
            "linecolor": "white",
            "showbackground": true,
            "ticks": "",
            "zerolinecolor": "white"
           }
          },
          "shapedefaults": {
           "line": {
            "color": "#2a3f5f"
           }
          },
          "ternary": {
           "aaxis": {
            "gridcolor": "white",
            "linecolor": "white",
            "ticks": ""
           },
           "baxis": {
            "gridcolor": "white",
            "linecolor": "white",
            "ticks": ""
           },
           "bgcolor": "#E5ECF6",
           "caxis": {
            "gridcolor": "white",
            "linecolor": "white",
            "ticks": ""
           }
          },
          "title": {
           "x": 0.05
          },
          "xaxis": {
           "automargin": true,
           "gridcolor": "white",
           "linecolor": "white",
           "ticks": "",
           "title": {
            "standoff": 15
           },
           "zerolinecolor": "white",
           "zerolinewidth": 2
          },
          "yaxis": {
           "automargin": true,
           "gridcolor": "white",
           "linecolor": "white",
           "ticks": "",
           "title": {
            "standoff": 15
           },
           "zerolinecolor": "white",
           "zerolinewidth": 2
          }
         }
        },
        "title": {
         "text": "Plastics by resin, 2020, Canada"
        }
       }
      },
      "text/html": [
       "<div>                            <div id=\"18259aad-55d3-489d-9463-db316aebd963\" class=\"plotly-graph-div\" style=\"height:525px; width:100%;\"></div>            <script type=\"text/javascript\">                require([\"plotly\"], function(Plotly) {                    window.PLOTLYENV=window.PLOTLYENV || {};                                    if (document.getElementById(\"18259aad-55d3-489d-9463-db316aebd963\")) {                    Plotly.newPlot(                        \"18259aad-55d3-489d-9463-db316aebd963\",                        [{\"link\":{\"color\":[\"#00A1C0\",\"#FA961E\",\"#0BAC43\",\"#B91E32\",\"#005379\",\"#FDDA64\",\"#40E0FF\",\"#00A1C0\",\"#FA961E\",\"#0BAC43\",\"#B91E32\",\"#005379\",\"#FDDA64\",\"#40E0FF\",\"#7F7F7F\",\"#7F7F7F\",\"#00A1C0\",\"#FA961E\",\"#0BAC43\",\"#B91E32\",\"#005379\",\"#FDDA64\",\"#40E0FF\",\"#00A1C0\",\"#FA961E\",\"#0BAC43\",\"#B91E32\",\"#005379\",\"#FDDA64\",\"#40E0FF\",\"#7F7F7F\",\"#00A1C0\",\"#FA961E\",\"#0BAC43\",\"#B91E32\",\"#005379\",\"#FDDA64\",\"#40E0FF\",\"#00A1C0\",\"#FA961E\",\"#0BAC43\",\"#B91E32\",\"#005379\",\"#FDDA64\",\"#40E0FF\",\"#00A1C0\",\"#FA961E\",\"#0BAC43\",\"#B91E32\",\"#005379\",\"#FDDA64\",\"#40E0FF\",\"#00A1C0\",\"#FA961E\",\"#0BAC43\",\"#B91E32\",\"#005379\",\"#FDDA64\",\"#40E0FF\",\"#00A1C0\",\"#FA961E\",\"#0BAC43\",\"#B91E32\",\"#005379\",\"#FDDA64\",\"#40E0FF\",\"#00A1C0\",\"#FA961E\",\"#0BAC43\",\"#B91E32\",\"#005379\",\"#FDDA64\",\"#40E0FF\",\"#00A1C0\",\"#FA961E\",\"#0BAC43\",\"#B91E32\",\"#005379\",\"#FDDA64\",\"#40E0FF\",\"#00A1C0\",\"#FA961E\",\"#0BAC43\",\"#B91E32\",\"#005379\",\"#FDDA64\",\"#40E0FF\",\"#00A1C0\",\"#FA961E\",\"#0BAC43\",\"#B91E32\",\"#005379\",\"#FDDA64\",\"#40E0FF\"],\"source\":[0,0,0,0,0,0,0,1,1,1,1,1,1,1,2,2,1,1,1,1,1,1,1,3,3,3,3,3,3,3,2,4,4,4,4,4,4,4,5,5,5,5,5,5,5,6,6,6,6,6,6,6,0,0,0,0,0,0,0,7,7,7,7,7,7,7,7,7,7,7,7,7,7,5,5,5,5,5,5,5,5,5,5,5,5,5,5,3,3,3,3,3,3,3],\"target\":[1,1,1,1,1,1,1,2,2,2,2,2,2,2,8,9,5,5,5,5,5,5,5,10,10,10,10,10,10,10,11,3,3,3,3,3,3,3,12,12,12,12,12,12,12,3,3,3,3,3,3,3,13,13,13,13,13,13,13,14,14,14,14,14,14,14,2,2,2,2,2,2,2,2,2,2,2,2,2,2,7,7,7,7,7,7,7,0,0,0,0,0,0,0],\"value\":[558060.0,689349.0,310500.0,851786.0,527089.0,405727.0,1544778.0,266201.0,518059.0,253096.0,773897.0,376061.0,332029.0,1117217.0,107577.0,3916862.0,291620.0,170868.0,57273.0,77681.0,150782.0,73596.0,426846.0,236585.0,373535.0,323871.0,105011.0,164939.0,360412.0,629060.0,496166.0,201889.0,358620.0,195324.0,417550.0,266220.0,210306.0,996424.0,1119.0,313.0,809.0,589.0,12.0,1026.0,426.0,597458.0,710065.0,441698.0,546769.0,430063.0,559158.0,1189522.0,4702.0,5802.0,2650.0,7522.0,4255.0,3326.0,12110.0,113027.0,94711.0,10559.0,51172.0,18631.0,9648.0,64504.0,19708.0,17460.0,2638.0,13609.0,4454.0,2449.0,14473.0,159984.0,58992.0,43218.0,13365.0,127279.0,60466.0,345949.0,131636.0,111877.0,14055.0,64315.0,23503.0,13129.0,80898.0,562762.0,695150.0,313150.0,859309.0,531344.0,409053.0,1556887.0]},\"node\":{\"color\":\"#7F7F7F\",\"label\":[\"Total discarded plastics\",\"Collection\",\"Total disposed plastics\",\"CA consumption\",\"Net trade of new products\",\"Material recovery\",\"CA domestic production\",\"Recycling\",\"Incineration (WtE) or gasification\",\"Landfill or incineration\",\"Net in-use stock addition\",\"Net trade disposed plastics\",\"Net trade baled plastic\",\"Leak into environment\",\"Secondary feedstock\"],\"line\":{\"color\":\"black\",\"width\":0.5},\"pad\":15,\"thickness\":20},\"valuesuffix\":\"t\",\"type\":\"sankey\"}],                        {\"template\":{\"data\":{\"histogram2dcontour\":[{\"type\":\"histogram2dcontour\",\"colorbar\":{\"outlinewidth\":0,\"ticks\":\"\"},\"colorscale\":[[0.0,\"#0d0887\"],[0.1111111111111111,\"#46039f\"],[0.2222222222222222,\"#7201a8\"],[0.3333333333333333,\"#9c179e\"],[0.4444444444444444,\"#bd3786\"],[0.5555555555555556,\"#d8576b\"],[0.6666666666666666,\"#ed7953\"],[0.7777777777777778,\"#fb9f3a\"],[0.8888888888888888,\"#fdca26\"],[1.0,\"#f0f921\"]]}],\"choropleth\":[{\"type\":\"choropleth\",\"colorbar\":{\"outlinewidth\":0,\"ticks\":\"\"}}],\"histogram2d\":[{\"type\":\"histogram2d\",\"colorbar\":{\"outlinewidth\":0,\"ticks\":\"\"},\"colorscale\":[[0.0,\"#0d0887\"],[0.1111111111111111,\"#46039f\"],[0.2222222222222222,\"#7201a8\"],[0.3333333333333333,\"#9c179e\"],[0.4444444444444444,\"#bd3786\"],[0.5555555555555556,\"#d8576b\"],[0.6666666666666666,\"#ed7953\"],[0.7777777777777778,\"#fb9f3a\"],[0.8888888888888888,\"#fdca26\"],[1.0,\"#f0f921\"]]}],\"heatmap\":[{\"type\":\"heatmap\",\"colorbar\":{\"outlinewidth\":0,\"ticks\":\"\"},\"colorscale\":[[0.0,\"#0d0887\"],[0.1111111111111111,\"#46039f\"],[0.2222222222222222,\"#7201a8\"],[0.3333333333333333,\"#9c179e\"],[0.4444444444444444,\"#bd3786\"],[0.5555555555555556,\"#d8576b\"],[0.6666666666666666,\"#ed7953\"],[0.7777777777777778,\"#fb9f3a\"],[0.8888888888888888,\"#fdca26\"],[1.0,\"#f0f921\"]]}],\"heatmapgl\":[{\"type\":\"heatmapgl\",\"colorbar\":{\"outlinewidth\":0,\"ticks\":\"\"},\"colorscale\":[[0.0,\"#0d0887\"],[0.1111111111111111,\"#46039f\"],[0.2222222222222222,\"#7201a8\"],[0.3333333333333333,\"#9c179e\"],[0.4444444444444444,\"#bd3786\"],[0.5555555555555556,\"#d8576b\"],[0.6666666666666666,\"#ed7953\"],[0.7777777777777778,\"#fb9f3a\"],[0.8888888888888888,\"#fdca26\"],[1.0,\"#f0f921\"]]}],\"contourcarpet\":[{\"type\":\"contourcarpet\",\"colorbar\":{\"outlinewidth\":0,\"ticks\":\"\"}}],\"contour\":[{\"type\":\"contour\",\"colorbar\":{\"outlinewidth\":0,\"ticks\":\"\"},\"colorscale\":[[0.0,\"#0d0887\"],[0.1111111111111111,\"#46039f\"],[0.2222222222222222,\"#7201a8\"],[0.3333333333333333,\"#9c179e\"],[0.4444444444444444,\"#bd3786\"],[0.5555555555555556,\"#d8576b\"],[0.6666666666666666,\"#ed7953\"],[0.7777777777777778,\"#fb9f3a\"],[0.8888888888888888,\"#fdca26\"],[1.0,\"#f0f921\"]]}],\"surface\":[{\"type\":\"surface\",\"colorbar\":{\"outlinewidth\":0,\"ticks\":\"\"},\"colorscale\":[[0.0,\"#0d0887\"],[0.1111111111111111,\"#46039f\"],[0.2222222222222222,\"#7201a8\"],[0.3333333333333333,\"#9c179e\"],[0.4444444444444444,\"#bd3786\"],[0.5555555555555556,\"#d8576b\"],[0.6666666666666666,\"#ed7953\"],[0.7777777777777778,\"#fb9f3a\"],[0.8888888888888888,\"#fdca26\"],[1.0,\"#f0f921\"]]}],\"mesh3d\":[{\"type\":\"mesh3d\",\"colorbar\":{\"outlinewidth\":0,\"ticks\":\"\"}}],\"scatter\":[{\"fillpattern\":{\"fillmode\":\"overlay\",\"size\":10,\"solidity\":0.2},\"type\":\"scatter\"}],\"parcoords\":[{\"type\":\"parcoords\",\"line\":{\"colorbar\":{\"outlinewidth\":0,\"ticks\":\"\"}}}],\"scatterpolargl\":[{\"type\":\"scatterpolargl\",\"marker\":{\"colorbar\":{\"outlinewidth\":0,\"ticks\":\"\"}}}],\"bar\":[{\"error_x\":{\"color\":\"#2a3f5f\"},\"error_y\":{\"color\":\"#2a3f5f\"},\"marker\":{\"line\":{\"color\":\"#E5ECF6\",\"width\":0.5},\"pattern\":{\"fillmode\":\"overlay\",\"size\":10,\"solidity\":0.2}},\"type\":\"bar\"}],\"scattergeo\":[{\"type\":\"scattergeo\",\"marker\":{\"colorbar\":{\"outlinewidth\":0,\"ticks\":\"\"}}}],\"scatterpolar\":[{\"type\":\"scatterpolar\",\"marker\":{\"colorbar\":{\"outlinewidth\":0,\"ticks\":\"\"}}}],\"histogram\":[{\"marker\":{\"pattern\":{\"fillmode\":\"overlay\",\"size\":10,\"solidity\":0.2}},\"type\":\"histogram\"}],\"scattergl\":[{\"type\":\"scattergl\",\"marker\":{\"colorbar\":{\"outlinewidth\":0,\"ticks\":\"\"}}}],\"scatter3d\":[{\"type\":\"scatter3d\",\"line\":{\"colorbar\":{\"outlinewidth\":0,\"ticks\":\"\"}},\"marker\":{\"colorbar\":{\"outlinewidth\":0,\"ticks\":\"\"}}}],\"scattermapbox\":[{\"type\":\"scattermapbox\",\"marker\":{\"colorbar\":{\"outlinewidth\":0,\"ticks\":\"\"}}}],\"scatterternary\":[{\"type\":\"scatterternary\",\"marker\":{\"colorbar\":{\"outlinewidth\":0,\"ticks\":\"\"}}}],\"scattercarpet\":[{\"type\":\"scattercarpet\",\"marker\":{\"colorbar\":{\"outlinewidth\":0,\"ticks\":\"\"}}}],\"carpet\":[{\"aaxis\":{\"endlinecolor\":\"#2a3f5f\",\"gridcolor\":\"white\",\"linecolor\":\"white\",\"minorgridcolor\":\"white\",\"startlinecolor\":\"#2a3f5f\"},\"baxis\":{\"endlinecolor\":\"#2a3f5f\",\"gridcolor\":\"white\",\"linecolor\":\"white\",\"minorgridcolor\":\"white\",\"startlinecolor\":\"#2a3f5f\"},\"type\":\"carpet\"}],\"table\":[{\"cells\":{\"fill\":{\"color\":\"#EBF0F8\"},\"line\":{\"color\":\"white\"}},\"header\":{\"fill\":{\"color\":\"#C8D4E3\"},\"line\":{\"color\":\"white\"}},\"type\":\"table\"}],\"barpolar\":[{\"marker\":{\"line\":{\"color\":\"#E5ECF6\",\"width\":0.5},\"pattern\":{\"fillmode\":\"overlay\",\"size\":10,\"solidity\":0.2}},\"type\":\"barpolar\"}],\"pie\":[{\"automargin\":true,\"type\":\"pie\"}]},\"layout\":{\"autotypenumbers\":\"strict\",\"colorway\":[\"#636efa\",\"#EF553B\",\"#00cc96\",\"#ab63fa\",\"#FFA15A\",\"#19d3f3\",\"#FF6692\",\"#B6E880\",\"#FF97FF\",\"#FECB52\"],\"font\":{\"color\":\"#2a3f5f\"},\"hovermode\":\"closest\",\"hoverlabel\":{\"align\":\"left\"},\"paper_bgcolor\":\"white\",\"plot_bgcolor\":\"#E5ECF6\",\"polar\":{\"bgcolor\":\"#E5ECF6\",\"angularaxis\":{\"gridcolor\":\"white\",\"linecolor\":\"white\",\"ticks\":\"\"},\"radialaxis\":{\"gridcolor\":\"white\",\"linecolor\":\"white\",\"ticks\":\"\"}},\"ternary\":{\"bgcolor\":\"#E5ECF6\",\"aaxis\":{\"gridcolor\":\"white\",\"linecolor\":\"white\",\"ticks\":\"\"},\"baxis\":{\"gridcolor\":\"white\",\"linecolor\":\"white\",\"ticks\":\"\"},\"caxis\":{\"gridcolor\":\"white\",\"linecolor\":\"white\",\"ticks\":\"\"}},\"coloraxis\":{\"colorbar\":{\"outlinewidth\":0,\"ticks\":\"\"}},\"colorscale\":{\"sequential\":[[0.0,\"#0d0887\"],[0.1111111111111111,\"#46039f\"],[0.2222222222222222,\"#7201a8\"],[0.3333333333333333,\"#9c179e\"],[0.4444444444444444,\"#bd3786\"],[0.5555555555555556,\"#d8576b\"],[0.6666666666666666,\"#ed7953\"],[0.7777777777777778,\"#fb9f3a\"],[0.8888888888888888,\"#fdca26\"],[1.0,\"#f0f921\"]],\"sequentialminus\":[[0.0,\"#0d0887\"],[0.1111111111111111,\"#46039f\"],[0.2222222222222222,\"#7201a8\"],[0.3333333333333333,\"#9c179e\"],[0.4444444444444444,\"#bd3786\"],[0.5555555555555556,\"#d8576b\"],[0.6666666666666666,\"#ed7953\"],[0.7777777777777778,\"#fb9f3a\"],[0.8888888888888888,\"#fdca26\"],[1.0,\"#f0f921\"]],\"diverging\":[[0,\"#8e0152\"],[0.1,\"#c51b7d\"],[0.2,\"#de77ae\"],[0.3,\"#f1b6da\"],[0.4,\"#fde0ef\"],[0.5,\"#f7f7f7\"],[0.6,\"#e6f5d0\"],[0.7,\"#b8e186\"],[0.8,\"#7fbc41\"],[0.9,\"#4d9221\"],[1,\"#276419\"]]},\"xaxis\":{\"gridcolor\":\"white\",\"linecolor\":\"white\",\"ticks\":\"\",\"title\":{\"standoff\":15},\"zerolinecolor\":\"white\",\"automargin\":true,\"zerolinewidth\":2},\"yaxis\":{\"gridcolor\":\"white\",\"linecolor\":\"white\",\"ticks\":\"\",\"title\":{\"standoff\":15},\"zerolinecolor\":\"white\",\"automargin\":true,\"zerolinewidth\":2},\"scene\":{\"xaxis\":{\"backgroundcolor\":\"#E5ECF6\",\"gridcolor\":\"white\",\"linecolor\":\"white\",\"showbackground\":true,\"ticks\":\"\",\"zerolinecolor\":\"white\",\"gridwidth\":2},\"yaxis\":{\"backgroundcolor\":\"#E5ECF6\",\"gridcolor\":\"white\",\"linecolor\":\"white\",\"showbackground\":true,\"ticks\":\"\",\"zerolinecolor\":\"white\",\"gridwidth\":2},\"zaxis\":{\"backgroundcolor\":\"#E5ECF6\",\"gridcolor\":\"white\",\"linecolor\":\"white\",\"showbackground\":true,\"ticks\":\"\",\"zerolinecolor\":\"white\",\"gridwidth\":2}},\"shapedefaults\":{\"line\":{\"color\":\"#2a3f5f\"}},\"annotationdefaults\":{\"arrowcolor\":\"#2a3f5f\",\"arrowhead\":0,\"arrowwidth\":1},\"geo\":{\"bgcolor\":\"white\",\"landcolor\":\"#E5ECF6\",\"subunitcolor\":\"white\",\"showland\":true,\"showlakes\":true,\"lakecolor\":\"white\"},\"title\":{\"x\":0.05},\"mapbox\":{\"style\":\"light\"}}},\"title\":{\"text\":\"Plastics by resin, 2020, Canada\"},\"font\":{\"size\":10}},                        {\"responsive\": true}                    ).then(function(){\n",
       "                            \n",
       "var gd = document.getElementById('18259aad-55d3-489d-9463-db316aebd963');\n",
       "var x = new MutationObserver(function (mutations, observer) {{\n",
       "        var display = window.getComputedStyle(gd).display;\n",
       "        if (!display || display === 'none') {{\n",
       "            console.log([gd, 'removed!']);\n",
       "            Plotly.purge(gd);\n",
       "            observer.disconnect();\n",
       "        }}\n",
       "}});\n",
       "\n",
       "// Listen for the removal of the full notebook cells\n",
       "var notebookContainer = gd.closest('#notebook-container');\n",
       "if (notebookContainer) {{\n",
       "    x.observe(notebookContainer, {childList: true});\n",
       "}}\n",
       "\n",
       "// Listen for the clearing of the current output cell\n",
       "var outputEl = gd.closest('.output');\n",
       "if (outputEl) {{\n",
       "    x.observe(outputEl, {childList: true});\n",
       "}}\n",
       "\n",
       "                        })                };                });            </script>        </div>"
      ]
     },
     "metadata": {},
     "output_type": "display_data"
    }
   ],
   "source": [
    "#add colours to flows based on resin\n",
    "#CIRAIG colour sequence in HEX format\n",
    "#colour = ['#00A1C0','#0BAC43','#FA961E','#B91E32','#005379','#FDDA64'#full colours\n",
    "         #'#40E0FF','#47F383','#FCC078','#E66777','#16B6FF','#FEE9A2'] #one shade brighter\n",
    "        # turqoise, green, orange, red, darkblue, yellow\n",
    "\n",
    "#named CSS color options:\n",
    "            #aliceblue, antiquewhite, aqua, aquamarine, azure,\n",
    "            #beige, bisque, black, blanchedalmond, blue,\n",
    "            #blueviolet, brown, burlywood, cadetblue,\n",
    "            #chartreuse, chocolate, coral, cornflowerblue,\n",
    "            #cornsilk, crimson, cyan, darkblue, darkcyan,\n",
    "            #darkgoldenrod, darkgray, darkgrey, darkgreen,\n",
    "            #darkkhaki, darkmagenta, darkolivegreen, darkorange,\n",
    "            #darkorchid, darkred, darksalmon, darkseagreen,\n",
    "            #darkslateblue, darkslategray, darkslategrey,\n",
    "            #darkturquoise, darkviolet, deeppink, deepskyblue,\n",
    "            #dimgray, dimgrey, dodgerblue, firebrick,\n",
    "            #floralwhite, forestgreen, fuchsia, gainsboro,\n",
    "            #ghostwhite, gold, goldenrod, gray, grey, green,\n",
    "            #greenyellow, honeydew, hotpink, indianred, indigo,\n",
    "            #ivory, khaki, lavender, lavenderblush, lawngreen,\n",
    "            #lemonchiffon, lightblue, lightcoral, lightcyan,\n",
    "            #lightgoldenrodyellow, lightgray, lightgrey,\n",
    "            #lightgreen, lightpink, lightsalmon, lightseagreen,\n",
    "            #lightskyblue, lightslategray, lightslategrey,\n",
    "            #lightsteelblue, lightyellow, lime, limegreen,\n",
    "            #linen, magenta, maroon, mediumaquamarine,\n",
    "            #mediumblue, mediumorchid, mediumpurple,\n",
    "            #mediumseagreen, mediumslateblue, mediumspringgreen,\n",
    "            #mediumturquoise, mediumvioletred, midnightblue,\n",
    "            #mintcream, mistyrose, moccasin, navajowhite, navy,\n",
    "            #oldlace, olive, olivedrab, orange, orangered,\n",
    "            #orchid, palegoldenrod, palegreen, paleturquoise,\n",
    "            #palevioletred, papayawhip, peachpuff, peru, pink,\n",
    "            #plum, powderblue, purple, red, rosybrown,\n",
    "            #royalblue, rebeccapurple, saddlebrown, salmon,\n",
    "            #sandybrown, seagreen, seashell, sienna, silver,\n",
    "            #skyblue, slateblue, slategray, slategrey, snow,\n",
    "            #springgreen, steelblue, tan, teal, thistle, tomato,\n",
    "            #turquoise, violet, wheat, white, whitesmoke,\n",
    "            #yellow, yellowgreen\n",
    "            \n",
    "fig = go.Figure(data=[go.Sankey(\n",
    "    valueformat = None,\n",
    "    valuesuffix = 't', #all flows in unit tonnes\n",
    "    node = dict(\n",
    "      pad = 15,\n",
    "      thickness = 20,\n",
    "      line = dict(color = \"black\", width = 0.5),\n",
    "      label = unique_from_to,\n",
    "      color = \"#7F7F7F\"\n",
    "    ),\n",
    "    link = dict(\n",
    "      source = links_dict['From'], # indices correspond to labels\n",
    "      target = links_dict['To'],\n",
    "      value = links_dict['VALUE'],\n",
    "        color = links_dict['Colour_HEX']\n",
    "  ))])\n",
    "\n",
    "\n",
    "fig.update_layout(title_text=\"Plastics by resin, 2020, Canada\", font_size=10)\n",
    "fig.show()"
   ]
  },
  {
   "cell_type": "code",
   "execution_count": 112,
   "id": "8cc99ff0",
   "metadata": {},
   "outputs": [
    {
     "data": {
      "text/plain": [
       "0     0_Total, all resins\n",
       "1                   1_PET\n",
       "2                 7_Other\n",
       "3           4_LDPE, LLDPE\n",
       "4           4_LDPE, LLDPE\n",
       "5                  2_HDPE\n",
       "6                 7_Other\n",
       "7                    6_PS\n",
       "8                 7_Other\n",
       "9                   3_PVC\n",
       "10                   5_PP\n",
       "11                7_Other\n",
       "12                7_Other\n",
       "13                7_Other\n",
       "14                7_Other\n",
       "15                7_Other\n",
       "16                7_Other\n",
       "17                7_Other\n",
       "18                7_Other\n",
       "19                7_Other\n",
       "Name: Resin_Selection, dtype: object"
      ]
     },
     "execution_count": 112,
     "metadata": {},
     "output_type": "execute_result"
    }
   ],
   "source": [
    "#creat two lists for legend of resins and colour\n",
    "categories= data_selection_StatCan_resin['Resin_Selection']\n",
    "colors= data_selection_StatCan_resin['Colour_HEX']\n",
    "categories"
   ]
  },
  {
   "cell_type": "code",
   "execution_count": 113,
   "id": "f96a3b62",
   "metadata": {},
   "outputs": [
    {
     "data": {
      "text/plain": [
       "0     0_Total, all resins\n",
       "1                   1_PET\n",
       "3           4_LDPE, LLDPE\n",
       "5                  2_HDPE\n",
       "7                    6_PS\n",
       "9                   3_PVC\n",
       "10                   5_PP\n",
       "11                7_Other\n",
       "Name: Resin_Selection, dtype: object"
      ]
     },
     "execution_count": 113,
     "metadata": {},
     "output_type": "execute_result"
    }
   ],
   "source": [
    "#remove doubled categories and colours, since resin were grouped (LDPE & LLDPE, and 'other' category)\n",
    "    #remove index 2,4,6,8,12,13,14,15,16,17,18,19\n",
    "categories= categories.drop([2,4,6,8,12,13,14,15,16,17,18,19])\n",
    "colors= colors.drop([2,4,6,8,12,13,14,15,16,17,18,19])\n",
    "categories"
   ]
  },
  {
   "cell_type": "code",
   "execution_count": 114,
   "id": "f18b3c77",
   "metadata": {},
   "outputs": [],
   "source": [
    "# Create custom legend\n",
    "#legend_items = []\n",
    "#for category, color in zip(categories, colors):\n",
    "    #legend_items.append(go.Scatter(\n",
    "      #  mode='markers',\n",
    "      #  marker=dict(size=10, color=color),\n",
    "      #  name= category\n",
    "    #))\n",
    "\n",
    "# Add legend to the figure\n",
    "#fig.add_traces(legend_items)\n",
    "\n",
    "# Update layout\n",
    "#fig.update_layout(\n",
    "   # xaxis=dict(visible=False),\n",
    "   # yaxis=dict(visible=False),\n",
    "   # legend=dict(\n",
    "    #    title='Legend',\n",
    "     #   orientation='h',\n",
    "      #  yanchor='top',\n",
    "       # y=1.2,\n",
    "        #xanchor='right',\n",
    "        #x=1\n",
    "    #),\n",
    "    #plot_bgcolor='rgba(0,0,0,0)'\n",
    " #)\n",
    "\n",
    "#fig.show()"
   ]
  },
  {
   "cell_type": "code",
   "execution_count": 115,
   "id": "6679b1c9",
   "metadata": {},
   "outputs": [
    {
     "data": {
      "application/vnd.plotly.v1+json": {
       "config": {
        "plotlyServerURL": "https://plot.ly"
       },
       "data": [
        {
         "link": {
          "color": [
           "#00A1C0",
           "#FA961E",
           "#0BAC43",
           "#B91E32",
           "#005379",
           "#FDDA64",
           "#40E0FF",
           "#00A1C0",
           "#FA961E",
           "#0BAC43",
           "#B91E32",
           "#005379",
           "#FDDA64",
           "#40E0FF",
           "#7F7F7F",
           "#7F7F7F",
           "#00A1C0",
           "#FA961E",
           "#0BAC43",
           "#B91E32",
           "#005379",
           "#FDDA64",
           "#40E0FF",
           "#00A1C0",
           "#FA961E",
           "#0BAC43",
           "#B91E32",
           "#005379",
           "#FDDA64",
           "#40E0FF",
           "#7F7F7F",
           "#00A1C0",
           "#FA961E",
           "#0BAC43",
           "#B91E32",
           "#005379",
           "#FDDA64",
           "#40E0FF",
           "#00A1C0",
           "#FA961E",
           "#0BAC43",
           "#B91E32",
           "#005379",
           "#FDDA64",
           "#40E0FF",
           "#00A1C0",
           "#FA961E",
           "#0BAC43",
           "#B91E32",
           "#005379",
           "#FDDA64",
           "#40E0FF",
           "#00A1C0",
           "#FA961E",
           "#0BAC43",
           "#B91E32",
           "#005379",
           "#FDDA64",
           "#40E0FF",
           "#00A1C0",
           "#FA961E",
           "#0BAC43",
           "#B91E32",
           "#005379",
           "#FDDA64",
           "#40E0FF",
           "#00A1C0",
           "#FA961E",
           "#0BAC43",
           "#B91E32",
           "#005379",
           "#FDDA64",
           "#40E0FF",
           "#00A1C0",
           "#FA961E",
           "#0BAC43",
           "#B91E32",
           "#005379",
           "#FDDA64",
           "#40E0FF",
           "#00A1C0",
           "#FA961E",
           "#0BAC43",
           "#B91E32",
           "#005379",
           "#FDDA64",
           "#40E0FF",
           "#00A1C0",
           "#FA961E",
           "#0BAC43",
           "#B91E32",
           "#005379",
           "#FDDA64",
           "#40E0FF"
          ],
          "source": [
           0,
           0,
           0,
           0,
           0,
           0,
           0,
           1,
           1,
           1,
           1,
           1,
           1,
           1,
           2,
           2,
           1,
           1,
           1,
           1,
           1,
           1,
           1,
           3,
           3,
           3,
           3,
           3,
           3,
           3,
           2,
           4,
           4,
           4,
           4,
           4,
           4,
           4,
           5,
           5,
           5,
           5,
           5,
           5,
           5,
           6,
           6,
           6,
           6,
           6,
           6,
           6,
           0,
           0,
           0,
           0,
           0,
           0,
           0,
           7,
           7,
           7,
           7,
           7,
           7,
           7,
           7,
           7,
           7,
           7,
           7,
           7,
           7,
           5,
           5,
           5,
           5,
           5,
           5,
           5,
           5,
           5,
           5,
           5,
           5,
           5,
           5,
           3,
           3,
           3,
           3,
           3,
           3,
           3
          ],
          "target": [
           1,
           1,
           1,
           1,
           1,
           1,
           1,
           2,
           2,
           2,
           2,
           2,
           2,
           2,
           8,
           9,
           5,
           5,
           5,
           5,
           5,
           5,
           5,
           10,
           10,
           10,
           10,
           10,
           10,
           10,
           11,
           3,
           3,
           3,
           3,
           3,
           3,
           3,
           12,
           12,
           12,
           12,
           12,
           12,
           12,
           3,
           3,
           3,
           3,
           3,
           3,
           3,
           13,
           13,
           13,
           13,
           13,
           13,
           13,
           14,
           14,
           14,
           14,
           14,
           14,
           14,
           2,
           2,
           2,
           2,
           2,
           2,
           2,
           2,
           2,
           2,
           2,
           2,
           2,
           2,
           7,
           7,
           7,
           7,
           7,
           7,
           7,
           0,
           0,
           0,
           0,
           0,
           0,
           0
          ],
          "value": [
           558060,
           689349,
           310500,
           851786,
           527089,
           405727,
           1544778,
           266201,
           518059,
           253096,
           773897,
           376061,
           332029,
           1117217,
           107577,
           3916862,
           291620,
           170868,
           57273,
           77681,
           150782,
           73596,
           426846,
           236585,
           373535,
           323871,
           105011,
           164939,
           360412,
           629060,
           496166,
           201889,
           358620,
           195324,
           417550,
           266220,
           210306,
           996424,
           1119,
           313,
           809,
           589,
           12,
           1026,
           426,
           597458,
           710065,
           441698,
           546769,
           430063,
           559158,
           1189522,
           4702,
           5802,
           2650,
           7522,
           4255,
           3326,
           12110,
           113027,
           94711,
           10559,
           51172,
           18631,
           9648,
           64504,
           19708,
           17460,
           2638,
           13609,
           4454,
           2449,
           14473,
           159984,
           58992,
           43218,
           13365,
           127279,
           60466,
           345949,
           131636,
           111877,
           14055,
           64315,
           23503,
           13129,
           80898,
           562762,
           695150,
           313150,
           859309,
           531344,
           409053,
           1556887
          ]
         },
         "node": {
          "color": "#7F7F7F",
          "label": [
           "Total discarded plastics",
           "Collection",
           "Total disposed plastics",
           "CA consumption",
           "Net trade of new products",
           "Material recovery",
           "CA domestic production",
           "Recycling",
           "Incineration (WtE) or gasification",
           "Landfill or incineration",
           "Net in-use stock addition",
           "Net trade disposed plastics",
           "Net trade baled plastic",
           "Leak into environment",
           "Secondary feedstock"
          ],
          "line": {
           "color": "black",
           "width": 0.5
          },
          "pad": 15,
          "thickness": 20
         },
         "type": "sankey",
         "valuesuffix": "t"
        },
        {
         "marker": {
          "color": "#7F7F7F",
          "size": 10
         },
         "mode": "markers",
         "name": "0_Total, all resins",
         "type": "scatter",
         "x": [
          null
         ],
         "y": [
          null
         ]
        },
        {
         "marker": {
          "color": "#00A1C0",
          "size": 10
         },
         "mode": "markers",
         "name": "1_PET",
         "type": "scatter",
         "x": [
          null
         ],
         "y": [
          null
         ]
        },
        {
         "marker": {
          "color": "#B91E32",
          "size": 10
         },
         "mode": "markers",
         "name": "4_LDPE, LLDPE",
         "type": "scatter",
         "x": [
          null
         ],
         "y": [
          null
         ]
        },
        {
         "marker": {
          "color": "#FA961E",
          "size": 10
         },
         "mode": "markers",
         "name": "2_HDPE",
         "type": "scatter",
         "x": [
          null
         ],
         "y": [
          null
         ]
        },
        {
         "marker": {
          "color": "#FDDA64",
          "size": 10
         },
         "mode": "markers",
         "name": "6_PS",
         "type": "scatter",
         "x": [
          null
         ],
         "y": [
          null
         ]
        },
        {
         "marker": {
          "color": "#0BAC43",
          "size": 10
         },
         "mode": "markers",
         "name": "3_PVC",
         "type": "scatter",
         "x": [
          null
         ],
         "y": [
          null
         ]
        },
        {
         "marker": {
          "color": "#005379",
          "size": 10
         },
         "mode": "markers",
         "name": "5_PP",
         "type": "scatter",
         "x": [
          null
         ],
         "y": [
          null
         ]
        },
        {
         "marker": {
          "color": "#40E0FF",
          "size": 10
         },
         "mode": "markers",
         "name": "7_Other",
         "type": "scatter",
         "x": [
          null
         ],
         "y": [
          null
         ]
        }
       ],
       "layout": {
        "font": {
         "size": 20
        },
        "height": 900,
        "legend": {
         "orientation": "h",
         "title": {
          "text": "Legend"
         },
         "x": 1,
         "xanchor": "right",
         "y": 1.1,
         "yanchor": "top"
        },
        "plot_bgcolor": "rgba(0,0,0,0)",
        "showlegend": true,
        "template": {
         "data": {
          "bar": [
           {
            "error_x": {
             "color": "#2a3f5f"
            },
            "error_y": {
             "color": "#2a3f5f"
            },
            "marker": {
             "line": {
              "color": "#E5ECF6",
              "width": 0.5
             },
             "pattern": {
              "fillmode": "overlay",
              "size": 10,
              "solidity": 0.2
             }
            },
            "type": "bar"
           }
          ],
          "barpolar": [
           {
            "marker": {
             "line": {
              "color": "#E5ECF6",
              "width": 0.5
             },
             "pattern": {
              "fillmode": "overlay",
              "size": 10,
              "solidity": 0.2
             }
            },
            "type": "barpolar"
           }
          ],
          "carpet": [
           {
            "aaxis": {
             "endlinecolor": "#2a3f5f",
             "gridcolor": "white",
             "linecolor": "white",
             "minorgridcolor": "white",
             "startlinecolor": "#2a3f5f"
            },
            "baxis": {
             "endlinecolor": "#2a3f5f",
             "gridcolor": "white",
             "linecolor": "white",
             "minorgridcolor": "white",
             "startlinecolor": "#2a3f5f"
            },
            "type": "carpet"
           }
          ],
          "choropleth": [
           {
            "colorbar": {
             "outlinewidth": 0,
             "ticks": ""
            },
            "type": "choropleth"
           }
          ],
          "contour": [
           {
            "colorbar": {
             "outlinewidth": 0,
             "ticks": ""
            },
            "colorscale": [
             [
              0,
              "#0d0887"
             ],
             [
              0.1111111111111111,
              "#46039f"
             ],
             [
              0.2222222222222222,
              "#7201a8"
             ],
             [
              0.3333333333333333,
              "#9c179e"
             ],
             [
              0.4444444444444444,
              "#bd3786"
             ],
             [
              0.5555555555555556,
              "#d8576b"
             ],
             [
              0.6666666666666666,
              "#ed7953"
             ],
             [
              0.7777777777777778,
              "#fb9f3a"
             ],
             [
              0.8888888888888888,
              "#fdca26"
             ],
             [
              1,
              "#f0f921"
             ]
            ],
            "type": "contour"
           }
          ],
          "contourcarpet": [
           {
            "colorbar": {
             "outlinewidth": 0,
             "ticks": ""
            },
            "type": "contourcarpet"
           }
          ],
          "heatmap": [
           {
            "colorbar": {
             "outlinewidth": 0,
             "ticks": ""
            },
            "colorscale": [
             [
              0,
              "#0d0887"
             ],
             [
              0.1111111111111111,
              "#46039f"
             ],
             [
              0.2222222222222222,
              "#7201a8"
             ],
             [
              0.3333333333333333,
              "#9c179e"
             ],
             [
              0.4444444444444444,
              "#bd3786"
             ],
             [
              0.5555555555555556,
              "#d8576b"
             ],
             [
              0.6666666666666666,
              "#ed7953"
             ],
             [
              0.7777777777777778,
              "#fb9f3a"
             ],
             [
              0.8888888888888888,
              "#fdca26"
             ],
             [
              1,
              "#f0f921"
             ]
            ],
            "type": "heatmap"
           }
          ],
          "heatmapgl": [
           {
            "colorbar": {
             "outlinewidth": 0,
             "ticks": ""
            },
            "colorscale": [
             [
              0,
              "#0d0887"
             ],
             [
              0.1111111111111111,
              "#46039f"
             ],
             [
              0.2222222222222222,
              "#7201a8"
             ],
             [
              0.3333333333333333,
              "#9c179e"
             ],
             [
              0.4444444444444444,
              "#bd3786"
             ],
             [
              0.5555555555555556,
              "#d8576b"
             ],
             [
              0.6666666666666666,
              "#ed7953"
             ],
             [
              0.7777777777777778,
              "#fb9f3a"
             ],
             [
              0.8888888888888888,
              "#fdca26"
             ],
             [
              1,
              "#f0f921"
             ]
            ],
            "type": "heatmapgl"
           }
          ],
          "histogram": [
           {
            "marker": {
             "pattern": {
              "fillmode": "overlay",
              "size": 10,
              "solidity": 0.2
             }
            },
            "type": "histogram"
           }
          ],
          "histogram2d": [
           {
            "colorbar": {
             "outlinewidth": 0,
             "ticks": ""
            },
            "colorscale": [
             [
              0,
              "#0d0887"
             ],
             [
              0.1111111111111111,
              "#46039f"
             ],
             [
              0.2222222222222222,
              "#7201a8"
             ],
             [
              0.3333333333333333,
              "#9c179e"
             ],
             [
              0.4444444444444444,
              "#bd3786"
             ],
             [
              0.5555555555555556,
              "#d8576b"
             ],
             [
              0.6666666666666666,
              "#ed7953"
             ],
             [
              0.7777777777777778,
              "#fb9f3a"
             ],
             [
              0.8888888888888888,
              "#fdca26"
             ],
             [
              1,
              "#f0f921"
             ]
            ],
            "type": "histogram2d"
           }
          ],
          "histogram2dcontour": [
           {
            "colorbar": {
             "outlinewidth": 0,
             "ticks": ""
            },
            "colorscale": [
             [
              0,
              "#0d0887"
             ],
             [
              0.1111111111111111,
              "#46039f"
             ],
             [
              0.2222222222222222,
              "#7201a8"
             ],
             [
              0.3333333333333333,
              "#9c179e"
             ],
             [
              0.4444444444444444,
              "#bd3786"
             ],
             [
              0.5555555555555556,
              "#d8576b"
             ],
             [
              0.6666666666666666,
              "#ed7953"
             ],
             [
              0.7777777777777778,
              "#fb9f3a"
             ],
             [
              0.8888888888888888,
              "#fdca26"
             ],
             [
              1,
              "#f0f921"
             ]
            ],
            "type": "histogram2dcontour"
           }
          ],
          "mesh3d": [
           {
            "colorbar": {
             "outlinewidth": 0,
             "ticks": ""
            },
            "type": "mesh3d"
           }
          ],
          "parcoords": [
           {
            "line": {
             "colorbar": {
              "outlinewidth": 0,
              "ticks": ""
             }
            },
            "type": "parcoords"
           }
          ],
          "pie": [
           {
            "automargin": true,
            "type": "pie"
           }
          ],
          "scatter": [
           {
            "fillpattern": {
             "fillmode": "overlay",
             "size": 10,
             "solidity": 0.2
            },
            "type": "scatter"
           }
          ],
          "scatter3d": [
           {
            "line": {
             "colorbar": {
              "outlinewidth": 0,
              "ticks": ""
             }
            },
            "marker": {
             "colorbar": {
              "outlinewidth": 0,
              "ticks": ""
             }
            },
            "type": "scatter3d"
           }
          ],
          "scattercarpet": [
           {
            "marker": {
             "colorbar": {
              "outlinewidth": 0,
              "ticks": ""
             }
            },
            "type": "scattercarpet"
           }
          ],
          "scattergeo": [
           {
            "marker": {
             "colorbar": {
              "outlinewidth": 0,
              "ticks": ""
             }
            },
            "type": "scattergeo"
           }
          ],
          "scattergl": [
           {
            "marker": {
             "colorbar": {
              "outlinewidth": 0,
              "ticks": ""
             }
            },
            "type": "scattergl"
           }
          ],
          "scattermapbox": [
           {
            "marker": {
             "colorbar": {
              "outlinewidth": 0,
              "ticks": ""
             }
            },
            "type": "scattermapbox"
           }
          ],
          "scatterpolar": [
           {
            "marker": {
             "colorbar": {
              "outlinewidth": 0,
              "ticks": ""
             }
            },
            "type": "scatterpolar"
           }
          ],
          "scatterpolargl": [
           {
            "marker": {
             "colorbar": {
              "outlinewidth": 0,
              "ticks": ""
             }
            },
            "type": "scatterpolargl"
           }
          ],
          "scatterternary": [
           {
            "marker": {
             "colorbar": {
              "outlinewidth": 0,
              "ticks": ""
             }
            },
            "type": "scatterternary"
           }
          ],
          "surface": [
           {
            "colorbar": {
             "outlinewidth": 0,
             "ticks": ""
            },
            "colorscale": [
             [
              0,
              "#0d0887"
             ],
             [
              0.1111111111111111,
              "#46039f"
             ],
             [
              0.2222222222222222,
              "#7201a8"
             ],
             [
              0.3333333333333333,
              "#9c179e"
             ],
             [
              0.4444444444444444,
              "#bd3786"
             ],
             [
              0.5555555555555556,
              "#d8576b"
             ],
             [
              0.6666666666666666,
              "#ed7953"
             ],
             [
              0.7777777777777778,
              "#fb9f3a"
             ],
             [
              0.8888888888888888,
              "#fdca26"
             ],
             [
              1,
              "#f0f921"
             ]
            ],
            "type": "surface"
           }
          ],
          "table": [
           {
            "cells": {
             "fill": {
              "color": "#EBF0F8"
             },
             "line": {
              "color": "white"
             }
            },
            "header": {
             "fill": {
              "color": "#C8D4E3"
             },
             "line": {
              "color": "white"
             }
            },
            "type": "table"
           }
          ]
         },
         "layout": {
          "annotationdefaults": {
           "arrowcolor": "#2a3f5f",
           "arrowhead": 0,
           "arrowwidth": 1
          },
          "autotypenumbers": "strict",
          "coloraxis": {
           "colorbar": {
            "outlinewidth": 0,
            "ticks": ""
           }
          },
          "colorscale": {
           "diverging": [
            [
             0,
             "#8e0152"
            ],
            [
             0.1,
             "#c51b7d"
            ],
            [
             0.2,
             "#de77ae"
            ],
            [
             0.3,
             "#f1b6da"
            ],
            [
             0.4,
             "#fde0ef"
            ],
            [
             0.5,
             "#f7f7f7"
            ],
            [
             0.6,
             "#e6f5d0"
            ],
            [
             0.7,
             "#b8e186"
            ],
            [
             0.8,
             "#7fbc41"
            ],
            [
             0.9,
             "#4d9221"
            ],
            [
             1,
             "#276419"
            ]
           ],
           "sequential": [
            [
             0,
             "#0d0887"
            ],
            [
             0.1111111111111111,
             "#46039f"
            ],
            [
             0.2222222222222222,
             "#7201a8"
            ],
            [
             0.3333333333333333,
             "#9c179e"
            ],
            [
             0.4444444444444444,
             "#bd3786"
            ],
            [
             0.5555555555555556,
             "#d8576b"
            ],
            [
             0.6666666666666666,
             "#ed7953"
            ],
            [
             0.7777777777777778,
             "#fb9f3a"
            ],
            [
             0.8888888888888888,
             "#fdca26"
            ],
            [
             1,
             "#f0f921"
            ]
           ],
           "sequentialminus": [
            [
             0,
             "#0d0887"
            ],
            [
             0.1111111111111111,
             "#46039f"
            ],
            [
             0.2222222222222222,
             "#7201a8"
            ],
            [
             0.3333333333333333,
             "#9c179e"
            ],
            [
             0.4444444444444444,
             "#bd3786"
            ],
            [
             0.5555555555555556,
             "#d8576b"
            ],
            [
             0.6666666666666666,
             "#ed7953"
            ],
            [
             0.7777777777777778,
             "#fb9f3a"
            ],
            [
             0.8888888888888888,
             "#fdca26"
            ],
            [
             1,
             "#f0f921"
            ]
           ]
          },
          "colorway": [
           "#636efa",
           "#EF553B",
           "#00cc96",
           "#ab63fa",
           "#FFA15A",
           "#19d3f3",
           "#FF6692",
           "#B6E880",
           "#FF97FF",
           "#FECB52"
          ],
          "font": {
           "color": "#2a3f5f"
          },
          "geo": {
           "bgcolor": "white",
           "lakecolor": "white",
           "landcolor": "#E5ECF6",
           "showlakes": true,
           "showland": true,
           "subunitcolor": "white"
          },
          "hoverlabel": {
           "align": "left"
          },
          "hovermode": "closest",
          "mapbox": {
           "style": "light"
          },
          "paper_bgcolor": "white",
          "plot_bgcolor": "#E5ECF6",
          "polar": {
           "angularaxis": {
            "gridcolor": "white",
            "linecolor": "white",
            "ticks": ""
           },
           "bgcolor": "#E5ECF6",
           "radialaxis": {
            "gridcolor": "white",
            "linecolor": "white",
            "ticks": ""
           }
          },
          "scene": {
           "xaxis": {
            "backgroundcolor": "#E5ECF6",
            "gridcolor": "white",
            "gridwidth": 2,
            "linecolor": "white",
            "showbackground": true,
            "ticks": "",
            "zerolinecolor": "white"
           },
           "yaxis": {
            "backgroundcolor": "#E5ECF6",
            "gridcolor": "white",
            "gridwidth": 2,
            "linecolor": "white",
            "showbackground": true,
            "ticks": "",
            "zerolinecolor": "white"
           },
           "zaxis": {
            "backgroundcolor": "#E5ECF6",
            "gridcolor": "white",
            "gridwidth": 2,
            "linecolor": "white",
            "showbackground": true,
            "ticks": "",
            "zerolinecolor": "white"
           }
          },
          "shapedefaults": {
           "line": {
            "color": "#2a3f5f"
           }
          },
          "ternary": {
           "aaxis": {
            "gridcolor": "white",
            "linecolor": "white",
            "ticks": ""
           },
           "baxis": {
            "gridcolor": "white",
            "linecolor": "white",
            "ticks": ""
           },
           "bgcolor": "#E5ECF6",
           "caxis": {
            "gridcolor": "white",
            "linecolor": "white",
            "ticks": ""
           }
          },
          "title": {
           "x": 0.05
          },
          "xaxis": {
           "automargin": true,
           "gridcolor": "white",
           "linecolor": "white",
           "ticks": "",
           "title": {
            "standoff": 15
           },
           "zerolinecolor": "white",
           "zerolinewidth": 2
          },
          "yaxis": {
           "automargin": true,
           "gridcolor": "white",
           "linecolor": "white",
           "ticks": "",
           "title": {
            "standoff": 15
           },
           "zerolinecolor": "white",
           "zerolinewidth": 2
          }
         }
        },
        "title": {
         "text": ""
        },
        "width": 1920,
        "xaxis": {
         "visible": false
        },
        "yaxis": {
         "visible": false
        }
       }
      },
      "text/html": [
       "<div>                            <div id=\"619d3b12-60bf-4e99-b2e4-e4a3c53ce17c\" class=\"plotly-graph-div\" style=\"height:900px; width:1920px;\"></div>            <script type=\"text/javascript\">                require([\"plotly\"], function(Plotly) {                    window.PLOTLYENV=window.PLOTLYENV || {};                                    if (document.getElementById(\"619d3b12-60bf-4e99-b2e4-e4a3c53ce17c\")) {                    Plotly.newPlot(                        \"619d3b12-60bf-4e99-b2e4-e4a3c53ce17c\",                        [{\"link\":{\"color\":[\"#00A1C0\",\"#FA961E\",\"#0BAC43\",\"#B91E32\",\"#005379\",\"#FDDA64\",\"#40E0FF\",\"#00A1C0\",\"#FA961E\",\"#0BAC43\",\"#B91E32\",\"#005379\",\"#FDDA64\",\"#40E0FF\",\"#7F7F7F\",\"#7F7F7F\",\"#00A1C0\",\"#FA961E\",\"#0BAC43\",\"#B91E32\",\"#005379\",\"#FDDA64\",\"#40E0FF\",\"#00A1C0\",\"#FA961E\",\"#0BAC43\",\"#B91E32\",\"#005379\",\"#FDDA64\",\"#40E0FF\",\"#7F7F7F\",\"#00A1C0\",\"#FA961E\",\"#0BAC43\",\"#B91E32\",\"#005379\",\"#FDDA64\",\"#40E0FF\",\"#00A1C0\",\"#FA961E\",\"#0BAC43\",\"#B91E32\",\"#005379\",\"#FDDA64\",\"#40E0FF\",\"#00A1C0\",\"#FA961E\",\"#0BAC43\",\"#B91E32\",\"#005379\",\"#FDDA64\",\"#40E0FF\",\"#00A1C0\",\"#FA961E\",\"#0BAC43\",\"#B91E32\",\"#005379\",\"#FDDA64\",\"#40E0FF\",\"#00A1C0\",\"#FA961E\",\"#0BAC43\",\"#B91E32\",\"#005379\",\"#FDDA64\",\"#40E0FF\",\"#00A1C0\",\"#FA961E\",\"#0BAC43\",\"#B91E32\",\"#005379\",\"#FDDA64\",\"#40E0FF\",\"#00A1C0\",\"#FA961E\",\"#0BAC43\",\"#B91E32\",\"#005379\",\"#FDDA64\",\"#40E0FF\",\"#00A1C0\",\"#FA961E\",\"#0BAC43\",\"#B91E32\",\"#005379\",\"#FDDA64\",\"#40E0FF\",\"#00A1C0\",\"#FA961E\",\"#0BAC43\",\"#B91E32\",\"#005379\",\"#FDDA64\",\"#40E0FF\"],\"source\":[0,0,0,0,0,0,0,1,1,1,1,1,1,1,2,2,1,1,1,1,1,1,1,3,3,3,3,3,3,3,2,4,4,4,4,4,4,4,5,5,5,5,5,5,5,6,6,6,6,6,6,6,0,0,0,0,0,0,0,7,7,7,7,7,7,7,7,7,7,7,7,7,7,5,5,5,5,5,5,5,5,5,5,5,5,5,5,3,3,3,3,3,3,3],\"target\":[1,1,1,1,1,1,1,2,2,2,2,2,2,2,8,9,5,5,5,5,5,5,5,10,10,10,10,10,10,10,11,3,3,3,3,3,3,3,12,12,12,12,12,12,12,3,3,3,3,3,3,3,13,13,13,13,13,13,13,14,14,14,14,14,14,14,2,2,2,2,2,2,2,2,2,2,2,2,2,2,7,7,7,7,7,7,7,0,0,0,0,0,0,0],\"value\":[558060.0,689349.0,310500.0,851786.0,527089.0,405727.0,1544778.0,266201.0,518059.0,253096.0,773897.0,376061.0,332029.0,1117217.0,107577.0,3916862.0,291620.0,170868.0,57273.0,77681.0,150782.0,73596.0,426846.0,236585.0,373535.0,323871.0,105011.0,164939.0,360412.0,629060.0,496166.0,201889.0,358620.0,195324.0,417550.0,266220.0,210306.0,996424.0,1119.0,313.0,809.0,589.0,12.0,1026.0,426.0,597458.0,710065.0,441698.0,546769.0,430063.0,559158.0,1189522.0,4702.0,5802.0,2650.0,7522.0,4255.0,3326.0,12110.0,113027.0,94711.0,10559.0,51172.0,18631.0,9648.0,64504.0,19708.0,17460.0,2638.0,13609.0,4454.0,2449.0,14473.0,159984.0,58992.0,43218.0,13365.0,127279.0,60466.0,345949.0,131636.0,111877.0,14055.0,64315.0,23503.0,13129.0,80898.0,562762.0,695150.0,313150.0,859309.0,531344.0,409053.0,1556887.0]},\"node\":{\"color\":\"#7F7F7F\",\"label\":[\"Total discarded plastics\",\"Collection\",\"Total disposed plastics\",\"CA consumption\",\"Net trade of new products\",\"Material recovery\",\"CA domestic production\",\"Recycling\",\"Incineration (WtE) or gasification\",\"Landfill or incineration\",\"Net in-use stock addition\",\"Net trade disposed plastics\",\"Net trade baled plastic\",\"Leak into environment\",\"Secondary feedstock\"],\"line\":{\"color\":\"black\",\"width\":0.5},\"pad\":15,\"thickness\":20},\"valuesuffix\":\"t\",\"type\":\"sankey\"},{\"marker\":{\"color\":\"#7F7F7F\",\"size\":10},\"mode\":\"markers\",\"name\":\"0_Total, all resins\",\"x\":[null],\"y\":[null],\"type\":\"scatter\"},{\"marker\":{\"color\":\"#00A1C0\",\"size\":10},\"mode\":\"markers\",\"name\":\"1_PET\",\"x\":[null],\"y\":[null],\"type\":\"scatter\"},{\"marker\":{\"color\":\"#B91E32\",\"size\":10},\"mode\":\"markers\",\"name\":\"4_LDPE, LLDPE\",\"x\":[null],\"y\":[null],\"type\":\"scatter\"},{\"marker\":{\"color\":\"#FA961E\",\"size\":10},\"mode\":\"markers\",\"name\":\"2_HDPE\",\"x\":[null],\"y\":[null],\"type\":\"scatter\"},{\"marker\":{\"color\":\"#FDDA64\",\"size\":10},\"mode\":\"markers\",\"name\":\"6_PS\",\"x\":[null],\"y\":[null],\"type\":\"scatter\"},{\"marker\":{\"color\":\"#0BAC43\",\"size\":10},\"mode\":\"markers\",\"name\":\"3_PVC\",\"x\":[null],\"y\":[null],\"type\":\"scatter\"},{\"marker\":{\"color\":\"#005379\",\"size\":10},\"mode\":\"markers\",\"name\":\"5_PP\",\"x\":[null],\"y\":[null],\"type\":\"scatter\"},{\"marker\":{\"color\":\"#40E0FF\",\"size\":10},\"mode\":\"markers\",\"name\":\"7_Other\",\"x\":[null],\"y\":[null],\"type\":\"scatter\"}],                        {\"template\":{\"data\":{\"histogram2dcontour\":[{\"type\":\"histogram2dcontour\",\"colorbar\":{\"outlinewidth\":0,\"ticks\":\"\"},\"colorscale\":[[0.0,\"#0d0887\"],[0.1111111111111111,\"#46039f\"],[0.2222222222222222,\"#7201a8\"],[0.3333333333333333,\"#9c179e\"],[0.4444444444444444,\"#bd3786\"],[0.5555555555555556,\"#d8576b\"],[0.6666666666666666,\"#ed7953\"],[0.7777777777777778,\"#fb9f3a\"],[0.8888888888888888,\"#fdca26\"],[1.0,\"#f0f921\"]]}],\"choropleth\":[{\"type\":\"choropleth\",\"colorbar\":{\"outlinewidth\":0,\"ticks\":\"\"}}],\"histogram2d\":[{\"type\":\"histogram2d\",\"colorbar\":{\"outlinewidth\":0,\"ticks\":\"\"},\"colorscale\":[[0.0,\"#0d0887\"],[0.1111111111111111,\"#46039f\"],[0.2222222222222222,\"#7201a8\"],[0.3333333333333333,\"#9c179e\"],[0.4444444444444444,\"#bd3786\"],[0.5555555555555556,\"#d8576b\"],[0.6666666666666666,\"#ed7953\"],[0.7777777777777778,\"#fb9f3a\"],[0.8888888888888888,\"#fdca26\"],[1.0,\"#f0f921\"]]}],\"heatmap\":[{\"type\":\"heatmap\",\"colorbar\":{\"outlinewidth\":0,\"ticks\":\"\"},\"colorscale\":[[0.0,\"#0d0887\"],[0.1111111111111111,\"#46039f\"],[0.2222222222222222,\"#7201a8\"],[0.3333333333333333,\"#9c179e\"],[0.4444444444444444,\"#bd3786\"],[0.5555555555555556,\"#d8576b\"],[0.6666666666666666,\"#ed7953\"],[0.7777777777777778,\"#fb9f3a\"],[0.8888888888888888,\"#fdca26\"],[1.0,\"#f0f921\"]]}],\"heatmapgl\":[{\"type\":\"heatmapgl\",\"colorbar\":{\"outlinewidth\":0,\"ticks\":\"\"},\"colorscale\":[[0.0,\"#0d0887\"],[0.1111111111111111,\"#46039f\"],[0.2222222222222222,\"#7201a8\"],[0.3333333333333333,\"#9c179e\"],[0.4444444444444444,\"#bd3786\"],[0.5555555555555556,\"#d8576b\"],[0.6666666666666666,\"#ed7953\"],[0.7777777777777778,\"#fb9f3a\"],[0.8888888888888888,\"#fdca26\"],[1.0,\"#f0f921\"]]}],\"contourcarpet\":[{\"type\":\"contourcarpet\",\"colorbar\":{\"outlinewidth\":0,\"ticks\":\"\"}}],\"contour\":[{\"type\":\"contour\",\"colorbar\":{\"outlinewidth\":0,\"ticks\":\"\"},\"colorscale\":[[0.0,\"#0d0887\"],[0.1111111111111111,\"#46039f\"],[0.2222222222222222,\"#7201a8\"],[0.3333333333333333,\"#9c179e\"],[0.4444444444444444,\"#bd3786\"],[0.5555555555555556,\"#d8576b\"],[0.6666666666666666,\"#ed7953\"],[0.7777777777777778,\"#fb9f3a\"],[0.8888888888888888,\"#fdca26\"],[1.0,\"#f0f921\"]]}],\"surface\":[{\"type\":\"surface\",\"colorbar\":{\"outlinewidth\":0,\"ticks\":\"\"},\"colorscale\":[[0.0,\"#0d0887\"],[0.1111111111111111,\"#46039f\"],[0.2222222222222222,\"#7201a8\"],[0.3333333333333333,\"#9c179e\"],[0.4444444444444444,\"#bd3786\"],[0.5555555555555556,\"#d8576b\"],[0.6666666666666666,\"#ed7953\"],[0.7777777777777778,\"#fb9f3a\"],[0.8888888888888888,\"#fdca26\"],[1.0,\"#f0f921\"]]}],\"mesh3d\":[{\"type\":\"mesh3d\",\"colorbar\":{\"outlinewidth\":0,\"ticks\":\"\"}}],\"scatter\":[{\"fillpattern\":{\"fillmode\":\"overlay\",\"size\":10,\"solidity\":0.2},\"type\":\"scatter\"}],\"parcoords\":[{\"type\":\"parcoords\",\"line\":{\"colorbar\":{\"outlinewidth\":0,\"ticks\":\"\"}}}],\"scatterpolargl\":[{\"type\":\"scatterpolargl\",\"marker\":{\"colorbar\":{\"outlinewidth\":0,\"ticks\":\"\"}}}],\"bar\":[{\"error_x\":{\"color\":\"#2a3f5f\"},\"error_y\":{\"color\":\"#2a3f5f\"},\"marker\":{\"line\":{\"color\":\"#E5ECF6\",\"width\":0.5},\"pattern\":{\"fillmode\":\"overlay\",\"size\":10,\"solidity\":0.2}},\"type\":\"bar\"}],\"scattergeo\":[{\"type\":\"scattergeo\",\"marker\":{\"colorbar\":{\"outlinewidth\":0,\"ticks\":\"\"}}}],\"scatterpolar\":[{\"type\":\"scatterpolar\",\"marker\":{\"colorbar\":{\"outlinewidth\":0,\"ticks\":\"\"}}}],\"histogram\":[{\"marker\":{\"pattern\":{\"fillmode\":\"overlay\",\"size\":10,\"solidity\":0.2}},\"type\":\"histogram\"}],\"scattergl\":[{\"type\":\"scattergl\",\"marker\":{\"colorbar\":{\"outlinewidth\":0,\"ticks\":\"\"}}}],\"scatter3d\":[{\"type\":\"scatter3d\",\"line\":{\"colorbar\":{\"outlinewidth\":0,\"ticks\":\"\"}},\"marker\":{\"colorbar\":{\"outlinewidth\":0,\"ticks\":\"\"}}}],\"scattermapbox\":[{\"type\":\"scattermapbox\",\"marker\":{\"colorbar\":{\"outlinewidth\":0,\"ticks\":\"\"}}}],\"scatterternary\":[{\"type\":\"scatterternary\",\"marker\":{\"colorbar\":{\"outlinewidth\":0,\"ticks\":\"\"}}}],\"scattercarpet\":[{\"type\":\"scattercarpet\",\"marker\":{\"colorbar\":{\"outlinewidth\":0,\"ticks\":\"\"}}}],\"carpet\":[{\"aaxis\":{\"endlinecolor\":\"#2a3f5f\",\"gridcolor\":\"white\",\"linecolor\":\"white\",\"minorgridcolor\":\"white\",\"startlinecolor\":\"#2a3f5f\"},\"baxis\":{\"endlinecolor\":\"#2a3f5f\",\"gridcolor\":\"white\",\"linecolor\":\"white\",\"minorgridcolor\":\"white\",\"startlinecolor\":\"#2a3f5f\"},\"type\":\"carpet\"}],\"table\":[{\"cells\":{\"fill\":{\"color\":\"#EBF0F8\"},\"line\":{\"color\":\"white\"}},\"header\":{\"fill\":{\"color\":\"#C8D4E3\"},\"line\":{\"color\":\"white\"}},\"type\":\"table\"}],\"barpolar\":[{\"marker\":{\"line\":{\"color\":\"#E5ECF6\",\"width\":0.5},\"pattern\":{\"fillmode\":\"overlay\",\"size\":10,\"solidity\":0.2}},\"type\":\"barpolar\"}],\"pie\":[{\"automargin\":true,\"type\":\"pie\"}]},\"layout\":{\"autotypenumbers\":\"strict\",\"colorway\":[\"#636efa\",\"#EF553B\",\"#00cc96\",\"#ab63fa\",\"#FFA15A\",\"#19d3f3\",\"#FF6692\",\"#B6E880\",\"#FF97FF\",\"#FECB52\"],\"font\":{\"color\":\"#2a3f5f\"},\"hovermode\":\"closest\",\"hoverlabel\":{\"align\":\"left\"},\"paper_bgcolor\":\"white\",\"plot_bgcolor\":\"#E5ECF6\",\"polar\":{\"bgcolor\":\"#E5ECF6\",\"angularaxis\":{\"gridcolor\":\"white\",\"linecolor\":\"white\",\"ticks\":\"\"},\"radialaxis\":{\"gridcolor\":\"white\",\"linecolor\":\"white\",\"ticks\":\"\"}},\"ternary\":{\"bgcolor\":\"#E5ECF6\",\"aaxis\":{\"gridcolor\":\"white\",\"linecolor\":\"white\",\"ticks\":\"\"},\"baxis\":{\"gridcolor\":\"white\",\"linecolor\":\"white\",\"ticks\":\"\"},\"caxis\":{\"gridcolor\":\"white\",\"linecolor\":\"white\",\"ticks\":\"\"}},\"coloraxis\":{\"colorbar\":{\"outlinewidth\":0,\"ticks\":\"\"}},\"colorscale\":{\"sequential\":[[0.0,\"#0d0887\"],[0.1111111111111111,\"#46039f\"],[0.2222222222222222,\"#7201a8\"],[0.3333333333333333,\"#9c179e\"],[0.4444444444444444,\"#bd3786\"],[0.5555555555555556,\"#d8576b\"],[0.6666666666666666,\"#ed7953\"],[0.7777777777777778,\"#fb9f3a\"],[0.8888888888888888,\"#fdca26\"],[1.0,\"#f0f921\"]],\"sequentialminus\":[[0.0,\"#0d0887\"],[0.1111111111111111,\"#46039f\"],[0.2222222222222222,\"#7201a8\"],[0.3333333333333333,\"#9c179e\"],[0.4444444444444444,\"#bd3786\"],[0.5555555555555556,\"#d8576b\"],[0.6666666666666666,\"#ed7953\"],[0.7777777777777778,\"#fb9f3a\"],[0.8888888888888888,\"#fdca26\"],[1.0,\"#f0f921\"]],\"diverging\":[[0,\"#8e0152\"],[0.1,\"#c51b7d\"],[0.2,\"#de77ae\"],[0.3,\"#f1b6da\"],[0.4,\"#fde0ef\"],[0.5,\"#f7f7f7\"],[0.6,\"#e6f5d0\"],[0.7,\"#b8e186\"],[0.8,\"#7fbc41\"],[0.9,\"#4d9221\"],[1,\"#276419\"]]},\"xaxis\":{\"gridcolor\":\"white\",\"linecolor\":\"white\",\"ticks\":\"\",\"title\":{\"standoff\":15},\"zerolinecolor\":\"white\",\"automargin\":true,\"zerolinewidth\":2},\"yaxis\":{\"gridcolor\":\"white\",\"linecolor\":\"white\",\"ticks\":\"\",\"title\":{\"standoff\":15},\"zerolinecolor\":\"white\",\"automargin\":true,\"zerolinewidth\":2},\"scene\":{\"xaxis\":{\"backgroundcolor\":\"#E5ECF6\",\"gridcolor\":\"white\",\"linecolor\":\"white\",\"showbackground\":true,\"ticks\":\"\",\"zerolinecolor\":\"white\",\"gridwidth\":2},\"yaxis\":{\"backgroundcolor\":\"#E5ECF6\",\"gridcolor\":\"white\",\"linecolor\":\"white\",\"showbackground\":true,\"ticks\":\"\",\"zerolinecolor\":\"white\",\"gridwidth\":2},\"zaxis\":{\"backgroundcolor\":\"#E5ECF6\",\"gridcolor\":\"white\",\"linecolor\":\"white\",\"showbackground\":true,\"ticks\":\"\",\"zerolinecolor\":\"white\",\"gridwidth\":2}},\"shapedefaults\":{\"line\":{\"color\":\"#2a3f5f\"}},\"annotationdefaults\":{\"arrowcolor\":\"#2a3f5f\",\"arrowhead\":0,\"arrowwidth\":1},\"geo\":{\"bgcolor\":\"white\",\"landcolor\":\"#E5ECF6\",\"subunitcolor\":\"white\",\"showland\":true,\"showlakes\":true,\"lakecolor\":\"white\"},\"title\":{\"x\":0.05},\"mapbox\":{\"style\":\"light\"}}},\"title\":{\"text\":\"\"},\"font\":{\"size\":20},\"xaxis\":{\"visible\":false},\"yaxis\":{\"visible\":false},\"legend\":{\"title\":{\"text\":\"Legend\"},\"orientation\":\"h\",\"yanchor\":\"top\",\"y\":1.1,\"xanchor\":\"right\",\"x\":1},\"showlegend\":true,\"width\":1920,\"height\":900,\"plot_bgcolor\":\"rgba(0,0,0,0)\"},                        {\"responsive\": true}                    ).then(function(){\n",
       "                            \n",
       "var gd = document.getElementById('619d3b12-60bf-4e99-b2e4-e4a3c53ce17c');\n",
       "var x = new MutationObserver(function (mutations, observer) {{\n",
       "        var display = window.getComputedStyle(gd).display;\n",
       "        if (!display || display === 'none') {{\n",
       "            console.log([gd, 'removed!']);\n",
       "            Plotly.purge(gd);\n",
       "            observer.disconnect();\n",
       "        }}\n",
       "}});\n",
       "\n",
       "// Listen for the removal of the full notebook cells\n",
       "var notebookContainer = gd.closest('#notebook-container');\n",
       "if (notebookContainer) {{\n",
       "    x.observe(notebookContainer, {childList: true});\n",
       "}}\n",
       "\n",
       "// Listen for the clearing of the current output cell\n",
       "var outputEl = gd.closest('.output');\n",
       "if (outputEl) {{\n",
       "    x.observe(outputEl, {childList: true});\n",
       "}}\n",
       "\n",
       "                        })                };                });            </script>        </div>"
      ]
     },
     "metadata": {},
     "output_type": "display_data"
    }
   ],
   "source": [
    "#Try another way how to plot a legend on the graph\n",
    "\n",
    "# Create legend\n",
    "legend_trace = []\n",
    "for idx, (cat, color) in enumerate(zip(categories, colors)):\n",
    "    legend_trace.append(go.Scatter(\n",
    "        x=[None],\n",
    "        y=[None],\n",
    "        mode='markers',\n",
    "        marker=dict(size=10, color=color),\n",
    "        name=cat\n",
    "    ))\n",
    "\n",
    "# Add legend to the figure\n",
    "for trace in legend_trace:\n",
    "    fig.add_trace(trace)\n",
    "\n",
    "# Update layout of the legend plot\n",
    "fig.update_layout(\n",
    "    xaxis=dict(visible=False),\n",
    "    yaxis=dict(visible=False),\n",
    "    showlegend=True,\n",
    "    legend=dict(\n",
    "        title='Legend',\n",
    "        orientation='h',\n",
    "        yanchor='top',\n",
    "        y=1.1,\n",
    "        xanchor='right',\n",
    "        x=1),\n",
    "    width=1920,\n",
    "    height=900,\n",
    "    font=dict(size=20),\n",
    "    title=\"\",\n",
    "    plot_bgcolor='rgba(0,0,0,0)'\n",
    ")\n",
    "\n",
    "# Display the figure\n",
    "fig.show()\n"
   ]
  },
  {
   "cell_type": "code",
   "execution_count": null,
   "id": "a48af7d1",
   "metadata": {},
   "outputs": [],
   "source": []
  },
  {
   "cell_type": "code",
   "execution_count": null,
   "id": "62c13df3",
   "metadata": {},
   "outputs": [],
   "source": []
  }
 ],
 "metadata": {
  "kernelspec": {
   "display_name": "Python 3 (ipykernel)",
   "language": "python",
   "name": "python3"
  },
  "language_info": {
   "codemirror_mode": {
    "name": "ipython",
    "version": 3
   },
   "file_extension": ".py",
   "mimetype": "text/x-python",
   "name": "python",
   "nbconvert_exporter": "python",
   "pygments_lexer": "ipython3",
   "version": "3.10.9"
  }
 },
 "nbformat": 4,
 "nbformat_minor": 5
}
