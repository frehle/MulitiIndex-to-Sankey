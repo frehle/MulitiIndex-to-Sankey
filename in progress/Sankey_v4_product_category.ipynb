{
 "cells": [
  {
   "cell_type": "code",
   "execution_count": 51,
   "id": "5acc55cb",
   "metadata": {},
   "outputs": [],
   "source": [
    "import pandas as pd\n",
    "import plotly.graph_objects as go"
   ]
  },
  {
   "cell_type": "code",
   "execution_count": 52,
   "id": "96959a65",
   "metadata": {
    "scrolled": true
   },
   "outputs": [
    {
     "data": {
      "text/html": [
       "<div>\n",
       "<style scoped>\n",
       "    .dataframe tbody tr th:only-of-type {\n",
       "        vertical-align: middle;\n",
       "    }\n",
       "\n",
       "    .dataframe tbody tr th {\n",
       "        vertical-align: top;\n",
       "    }\n",
       "\n",
       "    .dataframe thead th {\n",
       "        text-align: right;\n",
       "    }\n",
       "</style>\n",
       "<table border=\"1\" class=\"dataframe\">\n",
       "  <thead>\n",
       "    <tr style=\"text-align: right;\">\n",
       "      <th></th>\n",
       "      <th>Unnamed: 0</th>\n",
       "      <th>Variable</th>\n",
       "      <th>Product category</th>\n",
       "      <th>UOM</th>\n",
       "      <th>COORDINATE</th>\n",
       "      <th>VALUE</th>\n",
       "      <th>From</th>\n",
       "      <th>To</th>\n",
       "    </tr>\n",
       "  </thead>\n",
       "  <tbody>\n",
       "    <tr>\n",
       "      <th>0</th>\n",
       "      <td>0</td>\n",
       "      <td>Plastic in domestically produced products</td>\n",
       "      <td>Total, all product categories</td>\n",
       "      <td>Tonnes</td>\n",
       "      <td>1.1.1</td>\n",
       "      <td>4474733.0</td>\n",
       "      <td>CA domestic production</td>\n",
       "      <td>CA consumption</td>\n",
       "    </tr>\n",
       "    <tr>\n",
       "      <th>1</th>\n",
       "      <td>1</td>\n",
       "      <td>Plastic in domestically produced products</td>\n",
       "      <td>Construction materials</td>\n",
       "      <td>Tonnes</td>\n",
       "      <td>1.1.2</td>\n",
       "      <td>1353236.0</td>\n",
       "      <td>CA domestic production</td>\n",
       "      <td>CA consumption</td>\n",
       "    </tr>\n",
       "    <tr>\n",
       "      <th>2</th>\n",
       "      <td>2</td>\n",
       "      <td>Plastic in domestically produced products</td>\n",
       "      <td>Electrical and electronic equipment</td>\n",
       "      <td>Tonnes</td>\n",
       "      <td>1.1.3</td>\n",
       "      <td>150005.0</td>\n",
       "      <td>CA domestic production</td>\n",
       "      <td>CA consumption</td>\n",
       "    </tr>\n",
       "    <tr>\n",
       "      <th>3</th>\n",
       "      <td>3</td>\n",
       "      <td>Plastic in domestically produced products</td>\n",
       "      <td>Electronics</td>\n",
       "      <td>Tonnes</td>\n",
       "      <td>1.1.4</td>\n",
       "      <td>7621.0</td>\n",
       "      <td>CA domestic production</td>\n",
       "      <td>CA consumption</td>\n",
       "    </tr>\n",
       "    <tr>\n",
       "      <th>4</th>\n",
       "      <td>4</td>\n",
       "      <td>Plastic in domestically produced products</td>\n",
       "      <td>Major appliances</td>\n",
       "      <td>Tonnes</td>\n",
       "      <td>1.1.5</td>\n",
       "      <td>10281.0</td>\n",
       "      <td>CA domestic production</td>\n",
       "      <td>CA consumption</td>\n",
       "    </tr>\n",
       "    <tr>\n",
       "      <th>...</th>\n",
       "      <td>...</td>\n",
       "      <td>...</td>\n",
       "      <td>...</td>\n",
       "      <td>...</td>\n",
       "      <td>...</td>\n",
       "      <td>...</td>\n",
       "      <td>...</td>\n",
       "      <td>...</td>\n",
       "    </tr>\n",
       "    <tr>\n",
       "      <th>220</th>\n",
       "      <td>220</td>\n",
       "      <td>Total disposed plastic waste and scrap</td>\n",
       "      <td>Vehicles</td>\n",
       "      <td>Tonnes</td>\n",
       "      <td>1.15.14</td>\n",
       "      <td>721398.0</td>\n",
       "      <td>NaN</td>\n",
       "      <td>NaN</td>\n",
       "    </tr>\n",
       "    <tr>\n",
       "      <th>221</th>\n",
       "      <td>221</td>\n",
       "      <td>Total disposed plastic waste and scrap</td>\n",
       "      <td>Other products</td>\n",
       "      <td>Tonnes</td>\n",
       "      <td>1.15.15</td>\n",
       "      <td>1225521.0</td>\n",
       "      <td>NaN</td>\n",
       "      <td>NaN</td>\n",
       "    </tr>\n",
       "    <tr>\n",
       "      <th>222</th>\n",
       "      <td>222</td>\n",
       "      <td>Disposed plastic waste and scrap sent to landf...</td>\n",
       "      <td>Total, all product categories</td>\n",
       "      <td>Tonnes</td>\n",
       "      <td>1.16.1</td>\n",
       "      <td>3916862.0</td>\n",
       "      <td>Total disposed plastics</td>\n",
       "      <td>Landfill or incineration</td>\n",
       "    </tr>\n",
       "    <tr>\n",
       "      <th>223</th>\n",
       "      <td>223</td>\n",
       "      <td>Disposed plastic waste and scrap sent for inci...</td>\n",
       "      <td>Total, all product categories</td>\n",
       "      <td>Tonnes</td>\n",
       "      <td>1.17.1</td>\n",
       "      <td>107577.0</td>\n",
       "      <td>Total disposed plastics</td>\n",
       "      <td>Incineration (WtE) or gasification</td>\n",
       "    </tr>\n",
       "    <tr>\n",
       "      <th>224</th>\n",
       "      <td>224</td>\n",
       "      <td>Net trade (imports less exports) of disposed p...</td>\n",
       "      <td>Total, all product categories</td>\n",
       "      <td>Tonnes</td>\n",
       "      <td>1.18.1</td>\n",
       "      <td>-496166.0</td>\n",
       "      <td>Total disposed plastics</td>\n",
       "      <td>Net trade disposed plastics</td>\n",
       "    </tr>\n",
       "  </tbody>\n",
       "</table>\n",
       "<p>225 rows × 8 columns</p>\n",
       "</div>"
      ],
      "text/plain": [
       "     Unnamed: 0                                           Variable  \\\n",
       "0             0          Plastic in domestically produced products   \n",
       "1             1          Plastic in domestically produced products   \n",
       "2             2          Plastic in domestically produced products   \n",
       "3             3          Plastic in domestically produced products   \n",
       "4             4          Plastic in domestically produced products   \n",
       "..          ...                                                ...   \n",
       "220         220             Total disposed plastic waste and scrap   \n",
       "221         221             Total disposed plastic waste and scrap   \n",
       "222         222  Disposed plastic waste and scrap sent to landf...   \n",
       "223         223  Disposed plastic waste and scrap sent for inci...   \n",
       "224         224  Net trade (imports less exports) of disposed p...   \n",
       "\n",
       "                        Product category     UOM COORDINATE      VALUE  \\\n",
       "0          Total, all product categories  Tonnes      1.1.1  4474733.0   \n",
       "1                 Construction materials  Tonnes      1.1.2  1353236.0   \n",
       "2    Electrical and electronic equipment  Tonnes      1.1.3   150005.0   \n",
       "3                            Electronics  Tonnes      1.1.4     7621.0   \n",
       "4                       Major appliances  Tonnes      1.1.5    10281.0   \n",
       "..                                   ...     ...        ...        ...   \n",
       "220                             Vehicles  Tonnes    1.15.14   721398.0   \n",
       "221                       Other products  Tonnes    1.15.15  1225521.0   \n",
       "222        Total, all product categories  Tonnes     1.16.1  3916862.0   \n",
       "223        Total, all product categories  Tonnes     1.17.1   107577.0   \n",
       "224        Total, all product categories  Tonnes     1.18.1  -496166.0   \n",
       "\n",
       "                        From                                  To  \n",
       "0     CA domestic production                      CA consumption  \n",
       "1     CA domestic production                      CA consumption  \n",
       "2     CA domestic production                      CA consumption  \n",
       "3     CA domestic production                      CA consumption  \n",
       "4     CA domestic production                      CA consumption  \n",
       "..                       ...                                 ...  \n",
       "220                      NaN                                 NaN  \n",
       "221                      NaN                                 NaN  \n",
       "222  Total disposed plastics            Landfill or incineration  \n",
       "223  Total disposed plastics  Incineration (WtE) or gasification  \n",
       "224  Total disposed plastics         Net trade disposed plastics  \n",
       "\n",
       "[225 rows x 8 columns]"
      ]
     },
     "execution_count": 52,
     "metadata": {},
     "output_type": "execute_result"
    }
   ],
   "source": [
    "#import df derived from Statistics Canada physical flow account for plastic material, by product category, \n",
    "#from .csv, release date: 2024-03-18\n",
    "#code used to process is in 'multiIndex_v4_from_to_StatCan_product_category'\n",
    "#merged_prod_data_2020_CA = pd.read_excel('38100150_df_2020_CA.xlsx')\n",
    "merged_prod_data_2020_CA = pd.read_csv('38100150_df_2020_CA.csv')\n",
    "merged_prod_data_2020_CA#.reset_index()"
   ]
  },
  {
   "cell_type": "code",
   "execution_count": 53,
   "id": "d8908690",
   "metadata": {},
   "outputs": [
    {
     "data": {
      "text/html": [
       "<div>\n",
       "<style scoped>\n",
       "    .dataframe tbody tr th:only-of-type {\n",
       "        vertical-align: middle;\n",
       "    }\n",
       "\n",
       "    .dataframe tbody tr th {\n",
       "        vertical-align: top;\n",
       "    }\n",
       "\n",
       "    .dataframe thead th {\n",
       "        text-align: right;\n",
       "    }\n",
       "</style>\n",
       "<table border=\"1\" class=\"dataframe\">\n",
       "  <thead>\n",
       "    <tr style=\"text-align: right;\">\n",
       "      <th></th>\n",
       "      <th>Unnamed: 0</th>\n",
       "      <th>Variable</th>\n",
       "      <th>Product category</th>\n",
       "      <th>UOM</th>\n",
       "      <th>COORDINATE</th>\n",
       "      <th>VALUE</th>\n",
       "      <th>From</th>\n",
       "      <th>To</th>\n",
       "    </tr>\n",
       "  </thead>\n",
       "  <tbody>\n",
       "    <tr>\n",
       "      <th>0</th>\n",
       "      <td>0</td>\n",
       "      <td>Plastic in domestically produced products</td>\n",
       "      <td>Total, all product categories</td>\n",
       "      <td>Tonnes</td>\n",
       "      <td>1.1.1</td>\n",
       "      <td>4474733.0</td>\n",
       "      <td>CA domestic production</td>\n",
       "      <td>CA consumption</td>\n",
       "    </tr>\n",
       "    <tr>\n",
       "      <th>1</th>\n",
       "      <td>1</td>\n",
       "      <td>Plastic in domestically produced products</td>\n",
       "      <td>Construction materials</td>\n",
       "      <td>Tonnes</td>\n",
       "      <td>1.1.2</td>\n",
       "      <td>1353236.0</td>\n",
       "      <td>CA domestic production</td>\n",
       "      <td>CA consumption</td>\n",
       "    </tr>\n",
       "    <tr>\n",
       "      <th>2</th>\n",
       "      <td>2</td>\n",
       "      <td>Plastic in domestically produced products</td>\n",
       "      <td>Electrical and electronic equipment</td>\n",
       "      <td>Tonnes</td>\n",
       "      <td>1.1.3</td>\n",
       "      <td>150005.0</td>\n",
       "      <td>CA domestic production</td>\n",
       "      <td>CA consumption</td>\n",
       "    </tr>\n",
       "    <tr>\n",
       "      <th>3</th>\n",
       "      <td>3</td>\n",
       "      <td>Plastic in domestically produced products</td>\n",
       "      <td>Electronics</td>\n",
       "      <td>Tonnes</td>\n",
       "      <td>1.1.4</td>\n",
       "      <td>7621.0</td>\n",
       "      <td>CA domestic production</td>\n",
       "      <td>CA consumption</td>\n",
       "    </tr>\n",
       "    <tr>\n",
       "      <th>4</th>\n",
       "      <td>4</td>\n",
       "      <td>Plastic in domestically produced products</td>\n",
       "      <td>Major appliances</td>\n",
       "      <td>Tonnes</td>\n",
       "      <td>1.1.5</td>\n",
       "      <td>10281.0</td>\n",
       "      <td>CA domestic production</td>\n",
       "      <td>CA consumption</td>\n",
       "    </tr>\n",
       "    <tr>\n",
       "      <th>...</th>\n",
       "      <td>...</td>\n",
       "      <td>...</td>\n",
       "      <td>...</td>\n",
       "      <td>...</td>\n",
       "      <td>...</td>\n",
       "      <td>...</td>\n",
       "      <td>...</td>\n",
       "      <td>...</td>\n",
       "    </tr>\n",
       "    <tr>\n",
       "      <th>220</th>\n",
       "      <td>220</td>\n",
       "      <td>Total disposed plastic waste and scrap</td>\n",
       "      <td>Vehicles</td>\n",
       "      <td>Tonnes</td>\n",
       "      <td>1.15.14</td>\n",
       "      <td>721398.0</td>\n",
       "      <td>NaN</td>\n",
       "      <td>NaN</td>\n",
       "    </tr>\n",
       "    <tr>\n",
       "      <th>221</th>\n",
       "      <td>221</td>\n",
       "      <td>Total disposed plastic waste and scrap</td>\n",
       "      <td>Other products</td>\n",
       "      <td>Tonnes</td>\n",
       "      <td>1.15.15</td>\n",
       "      <td>1225521.0</td>\n",
       "      <td>NaN</td>\n",
       "      <td>NaN</td>\n",
       "    </tr>\n",
       "    <tr>\n",
       "      <th>222</th>\n",
       "      <td>222</td>\n",
       "      <td>Disposed plastic waste and scrap sent to landf...</td>\n",
       "      <td>Total, all product categories</td>\n",
       "      <td>Tonnes</td>\n",
       "      <td>1.16.1</td>\n",
       "      <td>3916862.0</td>\n",
       "      <td>Total disposed plastics</td>\n",
       "      <td>Landfill or incineration</td>\n",
       "    </tr>\n",
       "    <tr>\n",
       "      <th>223</th>\n",
       "      <td>223</td>\n",
       "      <td>Disposed plastic waste and scrap sent for inci...</td>\n",
       "      <td>Total, all product categories</td>\n",
       "      <td>Tonnes</td>\n",
       "      <td>1.17.1</td>\n",
       "      <td>107577.0</td>\n",
       "      <td>Total disposed plastics</td>\n",
       "      <td>Incineration (WtE) or gasification</td>\n",
       "    </tr>\n",
       "    <tr>\n",
       "      <th>224</th>\n",
       "      <td>224</td>\n",
       "      <td>Net trade (imports less exports) of disposed p...</td>\n",
       "      <td>Total, all product categories</td>\n",
       "      <td>Tonnes</td>\n",
       "      <td>1.18.1</td>\n",
       "      <td>496166.0</td>\n",
       "      <td>Total disposed plastics</td>\n",
       "      <td>Net trade disposed plastics</td>\n",
       "    </tr>\n",
       "  </tbody>\n",
       "</table>\n",
       "<p>225 rows × 8 columns</p>\n",
       "</div>"
      ],
      "text/plain": [
       "     Unnamed: 0                                           Variable  \\\n",
       "0             0          Plastic in domestically produced products   \n",
       "1             1          Plastic in domestically produced products   \n",
       "2             2          Plastic in domestically produced products   \n",
       "3             3          Plastic in domestically produced products   \n",
       "4             4          Plastic in domestically produced products   \n",
       "..          ...                                                ...   \n",
       "220         220             Total disposed plastic waste and scrap   \n",
       "221         221             Total disposed plastic waste and scrap   \n",
       "222         222  Disposed plastic waste and scrap sent to landf...   \n",
       "223         223  Disposed plastic waste and scrap sent for inci...   \n",
       "224         224  Net trade (imports less exports) of disposed p...   \n",
       "\n",
       "                        Product category     UOM COORDINATE      VALUE  \\\n",
       "0          Total, all product categories  Tonnes      1.1.1  4474733.0   \n",
       "1                 Construction materials  Tonnes      1.1.2  1353236.0   \n",
       "2    Electrical and electronic equipment  Tonnes      1.1.3   150005.0   \n",
       "3                            Electronics  Tonnes      1.1.4     7621.0   \n",
       "4                       Major appliances  Tonnes      1.1.5    10281.0   \n",
       "..                                   ...     ...        ...        ...   \n",
       "220                             Vehicles  Tonnes    1.15.14   721398.0   \n",
       "221                       Other products  Tonnes    1.15.15  1225521.0   \n",
       "222        Total, all product categories  Tonnes     1.16.1  3916862.0   \n",
       "223        Total, all product categories  Tonnes     1.17.1   107577.0   \n",
       "224        Total, all product categories  Tonnes     1.18.1   496166.0   \n",
       "\n",
       "                        From                                  To  \n",
       "0     CA domestic production                      CA consumption  \n",
       "1     CA domestic production                      CA consumption  \n",
       "2     CA domestic production                      CA consumption  \n",
       "3     CA domestic production                      CA consumption  \n",
       "4     CA domestic production                      CA consumption  \n",
       "..                       ...                                 ...  \n",
       "220                      NaN                                 NaN  \n",
       "221                      NaN                                 NaN  \n",
       "222  Total disposed plastics            Landfill or incineration  \n",
       "223  Total disposed plastics  Incineration (WtE) or gasification  \n",
       "224  Total disposed plastics         Net trade disposed plastics  \n",
       "\n",
       "[225 rows x 8 columns]"
      ]
     },
     "execution_count": 53,
     "metadata": {},
     "output_type": "execute_result"
    }
   ],
   "source": [
    "#turn VALUE into absolute values\n",
    "merged_prod_data_2020_CA['VALUE'] =merged_prod_data_2020_CA['VALUE'].apply(lambda x: abs(x))\n",
    "merged_prod_data_2020_CA"
   ]
  },
  {
   "cell_type": "code",
   "execution_count": 54,
   "id": "50806804",
   "metadata": {
    "scrolled": true
   },
   "outputs": [
    {
     "data": {
      "text/html": [
       "<div>\n",
       "<style scoped>\n",
       "    .dataframe tbody tr th:only-of-type {\n",
       "        vertical-align: middle;\n",
       "    }\n",
       "\n",
       "    .dataframe tbody tr th {\n",
       "        vertical-align: top;\n",
       "    }\n",
       "\n",
       "    .dataframe thead th {\n",
       "        text-align: right;\n",
       "    }\n",
       "</style>\n",
       "<table border=\"1\" class=\"dataframe\">\n",
       "  <thead>\n",
       "    <tr style=\"text-align: right;\">\n",
       "      <th></th>\n",
       "      <th>Level</th>\n",
       "      <th>Product category</th>\n",
       "    </tr>\n",
       "  </thead>\n",
       "  <tbody>\n",
       "    <tr>\n",
       "      <th>0</th>\n",
       "      <td>1</td>\n",
       "      <td>Total, all product categories</td>\n",
       "    </tr>\n",
       "    <tr>\n",
       "      <th>1</th>\n",
       "      <td>2</td>\n",
       "      <td>Construction materials</td>\n",
       "    </tr>\n",
       "    <tr>\n",
       "      <th>2</th>\n",
       "      <td>2</td>\n",
       "      <td>Electrical and electronic equipment</td>\n",
       "    </tr>\n",
       "    <tr>\n",
       "      <th>3</th>\n",
       "      <td>3</td>\n",
       "      <td>Electronics</td>\n",
       "    </tr>\n",
       "    <tr>\n",
       "      <th>4</th>\n",
       "      <td>3</td>\n",
       "      <td>Major appliances</td>\n",
       "    </tr>\n",
       "    <tr>\n",
       "      <th>5</th>\n",
       "      <td>3</td>\n",
       "      <td>Other electrical and electronic equipment</td>\n",
       "    </tr>\n",
       "    <tr>\n",
       "      <th>6</th>\n",
       "      <td>2</td>\n",
       "      <td>Packaging</td>\n",
       "    </tr>\n",
       "    <tr>\n",
       "      <th>7</th>\n",
       "      <td>3</td>\n",
       "      <td>Bottles</td>\n",
       "    </tr>\n",
       "    <tr>\n",
       "      <th>8</th>\n",
       "      <td>3</td>\n",
       "      <td>Film</td>\n",
       "    </tr>\n",
       "    <tr>\n",
       "      <th>9</th>\n",
       "      <td>3</td>\n",
       "      <td>Non-bottle rigid</td>\n",
       "    </tr>\n",
       "    <tr>\n",
       "      <th>10</th>\n",
       "      <td>3</td>\n",
       "      <td>Other packaging products</td>\n",
       "    </tr>\n",
       "    <tr>\n",
       "      <th>11</th>\n",
       "      <td>2</td>\n",
       "      <td>Agriculture film</td>\n",
       "    </tr>\n",
       "    <tr>\n",
       "      <th>12</th>\n",
       "      <td>2</td>\n",
       "      <td>Textiles</td>\n",
       "    </tr>\n",
       "    <tr>\n",
       "      <th>13</th>\n",
       "      <td>2</td>\n",
       "      <td>Vehicles</td>\n",
       "    </tr>\n",
       "    <tr>\n",
       "      <th>14</th>\n",
       "      <td>2</td>\n",
       "      <td>Other products</td>\n",
       "    </tr>\n",
       "  </tbody>\n",
       "</table>\n",
       "</div>"
      ],
      "text/plain": [
       "    Level                           Product category\n",
       "0       1              Total, all product categories\n",
       "1       2                     Construction materials\n",
       "2       2        Electrical and electronic equipment\n",
       "3       3                                Electronics\n",
       "4       3                           Major appliances\n",
       "5       3  Other electrical and electronic equipment\n",
       "6       2                                  Packaging\n",
       "7       3                                    Bottles\n",
       "8       3                                       Film\n",
       "9       3                           Non-bottle rigid\n",
       "10      3                   Other packaging products\n",
       "11      2                           Agriculture film\n",
       "12      2                                   Textiles\n",
       "13      2                                   Vehicles\n",
       "14      2                             Other products"
      ]
     },
     "execution_count": 54,
     "metadata": {},
     "output_type": "execute_result"
    }
   ],
   "source": [
    "#import hierarchy of Product category, \n",
    "#compiled 2024-05-06\n",
    "data_hierarchy_StatCan_prod = pd.read_csv('38100150_product_category_hierarchy.csv',sep=',')\n",
    "data_hierarchy_StatCan_prod"
   ]
  },
  {
   "cell_type": "code",
   "execution_count": 55,
   "id": "a8baceb5",
   "metadata": {
    "scrolled": true
   },
   "outputs": [
    {
     "data": {
      "text/html": [
       "<div>\n",
       "<style scoped>\n",
       "    .dataframe tbody tr th:only-of-type {\n",
       "        vertical-align: middle;\n",
       "    }\n",
       "\n",
       "    .dataframe tbody tr th {\n",
       "        vertical-align: top;\n",
       "    }\n",
       "\n",
       "    .dataframe thead th {\n",
       "        text-align: right;\n",
       "    }\n",
       "</style>\n",
       "<table border=\"1\" class=\"dataframe\">\n",
       "  <thead>\n",
       "    <tr style=\"text-align: right;\">\n",
       "      <th></th>\n",
       "      <th>Unnamed: 0</th>\n",
       "      <th>Variable</th>\n",
       "      <th>Product category</th>\n",
       "      <th>UOM</th>\n",
       "      <th>COORDINATE</th>\n",
       "      <th>VALUE</th>\n",
       "      <th>From</th>\n",
       "      <th>To</th>\n",
       "      <th>Level</th>\n",
       "    </tr>\n",
       "  </thead>\n",
       "  <tbody>\n",
       "    <tr>\n",
       "      <th>0</th>\n",
       "      <td>0</td>\n",
       "      <td>Plastic in domestically produced products</td>\n",
       "      <td>Total, all product categories</td>\n",
       "      <td>Tonnes</td>\n",
       "      <td>1.1.1</td>\n",
       "      <td>4474733.0</td>\n",
       "      <td>CA domestic production</td>\n",
       "      <td>CA consumption</td>\n",
       "      <td>1</td>\n",
       "    </tr>\n",
       "    <tr>\n",
       "      <th>1</th>\n",
       "      <td>15</td>\n",
       "      <td>Net trade (imports less exports) of newly prod...</td>\n",
       "      <td>Total, all product categories</td>\n",
       "      <td>Tonnes</td>\n",
       "      <td>1.2.1</td>\n",
       "      <td>2646334.0</td>\n",
       "      <td>Net trade of new products</td>\n",
       "      <td>CA consumption</td>\n",
       "      <td>1</td>\n",
       "    </tr>\n",
       "    <tr>\n",
       "      <th>2</th>\n",
       "      <td>30</td>\n",
       "      <td>Plastic in products produced for Canadian cons...</td>\n",
       "      <td>Total, all product categories</td>\n",
       "      <td>Tonnes</td>\n",
       "      <td>1.3.1</td>\n",
       "      <td>7121068.0</td>\n",
       "      <td>NaN</td>\n",
       "      <td>NaN</td>\n",
       "      <td>1</td>\n",
       "    </tr>\n",
       "    <tr>\n",
       "      <th>3</th>\n",
       "      <td>45</td>\n",
       "      <td>Net stock of plastic in products that remain i...</td>\n",
       "      <td>Total, all product categories</td>\n",
       "      <td>Tonnes</td>\n",
       "      <td>1.4.1</td>\n",
       "      <td>2193412.0</td>\n",
       "      <td>CA consumption</td>\n",
       "      <td>Net in-use stock addition</td>\n",
       "      <td>1</td>\n",
       "    </tr>\n",
       "    <tr>\n",
       "      <th>4</th>\n",
       "      <td>60</td>\n",
       "      <td>Total discarded plastic in products</td>\n",
       "      <td>Total, all product categories</td>\n",
       "      <td>Tonnes</td>\n",
       "      <td>1.5.1</td>\n",
       "      <td>4927656.0</td>\n",
       "      <td>CA consumption</td>\n",
       "      <td>Total discarded plastics</td>\n",
       "      <td>1</td>\n",
       "    </tr>\n",
       "    <tr>\n",
       "      <th>...</th>\n",
       "      <td>...</td>\n",
       "      <td>...</td>\n",
       "      <td>...</td>\n",
       "      <td>...</td>\n",
       "      <td>...</td>\n",
       "      <td>...</td>\n",
       "      <td>...</td>\n",
       "      <td>...</td>\n",
       "      <td>...</td>\n",
       "    </tr>\n",
       "    <tr>\n",
       "      <th>220</th>\n",
       "      <td>164</td>\n",
       "      <td>Residual plastic waste and scrap sent for disp...</td>\n",
       "      <td>Other products</td>\n",
       "      <td>Tonnes</td>\n",
       "      <td>1.11.15</td>\n",
       "      <td>1492.0</td>\n",
       "      <td>Material recovery</td>\n",
       "      <td>Total disposed plastics</td>\n",
       "      <td>2</td>\n",
       "    </tr>\n",
       "    <tr>\n",
       "      <th>221</th>\n",
       "      <td>178</td>\n",
       "      <td>Net trade (imports less exports) of sorted and...</td>\n",
       "      <td>Other products</td>\n",
       "      <td>Tonnes</td>\n",
       "      <td>1.12.15</td>\n",
       "      <td>124.0</td>\n",
       "      <td>Material recovery</td>\n",
       "      <td>Net trade baled plastic</td>\n",
       "      <td>2</td>\n",
       "    </tr>\n",
       "    <tr>\n",
       "      <th>222</th>\n",
       "      <td>192</td>\n",
       "      <td>Recycled plastic pellets and flakes ready for ...</td>\n",
       "      <td>Other products</td>\n",
       "      <td>Tonnes</td>\n",
       "      <td>1.13.15</td>\n",
       "      <td>7520.0</td>\n",
       "      <td>Recycling</td>\n",
       "      <td>Secondary feedstock</td>\n",
       "      <td>2</td>\n",
       "    </tr>\n",
       "    <tr>\n",
       "      <th>223</th>\n",
       "      <td>206</td>\n",
       "      <td>Residual plastic waste and scrap sent for disp...</td>\n",
       "      <td>Other products</td>\n",
       "      <td>Tonnes</td>\n",
       "      <td>1.14.15</td>\n",
       "      <td>2083.0</td>\n",
       "      <td>Recycling</td>\n",
       "      <td>Total disposed plastics</td>\n",
       "      <td>2</td>\n",
       "    </tr>\n",
       "    <tr>\n",
       "      <th>224</th>\n",
       "      <td>221</td>\n",
       "      <td>Total disposed plastic waste and scrap</td>\n",
       "      <td>Other products</td>\n",
       "      <td>Tonnes</td>\n",
       "      <td>1.15.15</td>\n",
       "      <td>1225521.0</td>\n",
       "      <td>NaN</td>\n",
       "      <td>NaN</td>\n",
       "      <td>2</td>\n",
       "    </tr>\n",
       "  </tbody>\n",
       "</table>\n",
       "<p>225 rows × 9 columns</p>\n",
       "</div>"
      ],
      "text/plain": [
       "     Unnamed: 0                                           Variable  \\\n",
       "0             0          Plastic in domestically produced products   \n",
       "1            15  Net trade (imports less exports) of newly prod...   \n",
       "2            30  Plastic in products produced for Canadian cons...   \n",
       "3            45  Net stock of plastic in products that remain i...   \n",
       "4            60                Total discarded plastic in products   \n",
       "..          ...                                                ...   \n",
       "220         164  Residual plastic waste and scrap sent for disp...   \n",
       "221         178  Net trade (imports less exports) of sorted and...   \n",
       "222         192  Recycled plastic pellets and flakes ready for ...   \n",
       "223         206  Residual plastic waste and scrap sent for disp...   \n",
       "224         221             Total disposed plastic waste and scrap   \n",
       "\n",
       "                  Product category     UOM COORDINATE      VALUE  \\\n",
       "0    Total, all product categories  Tonnes      1.1.1  4474733.0   \n",
       "1    Total, all product categories  Tonnes      1.2.1  2646334.0   \n",
       "2    Total, all product categories  Tonnes      1.3.1  7121068.0   \n",
       "3    Total, all product categories  Tonnes      1.4.1  2193412.0   \n",
       "4    Total, all product categories  Tonnes      1.5.1  4927656.0   \n",
       "..                             ...     ...        ...        ...   \n",
       "220                 Other products  Tonnes    1.11.15     1492.0   \n",
       "221                 Other products  Tonnes    1.12.15      124.0   \n",
       "222                 Other products  Tonnes    1.13.15     7520.0   \n",
       "223                 Other products  Tonnes    1.14.15     2083.0   \n",
       "224                 Other products  Tonnes    1.15.15  1225521.0   \n",
       "\n",
       "                          From                         To  Level  \n",
       "0       CA domestic production             CA consumption      1  \n",
       "1    Net trade of new products             CA consumption      1  \n",
       "2                          NaN                        NaN      1  \n",
       "3               CA consumption  Net in-use stock addition      1  \n",
       "4               CA consumption   Total discarded plastics      1  \n",
       "..                         ...                        ...    ...  \n",
       "220          Material recovery    Total disposed plastics      2  \n",
       "221          Material recovery    Net trade baled plastic      2  \n",
       "222                  Recycling        Secondary feedstock      2  \n",
       "223                  Recycling    Total disposed plastics      2  \n",
       "224                        NaN                        NaN      2  \n",
       "\n",
       "[225 rows x 9 columns]"
      ]
     },
     "execution_count": 55,
     "metadata": {},
     "output_type": "execute_result"
    }
   ],
   "source": [
    "#merge data frames: merged_prod_data_2020_CA and hierarchy (Levels)\n",
    "merged_prod_data_2020_CA = pd.merge(merged_prod_data_2020_CA, data_hierarchy_StatCan_prod, on='Product category', how='outer',\n",
    "                          validate='many_to_many')\n",
    "merged_prod_data_2020_CA"
   ]
  },
  {
   "cell_type": "code",
   "execution_count": 56,
   "id": "abe7f6cd",
   "metadata": {},
   "outputs": [
    {
     "data": {
      "text/html": [
       "<div>\n",
       "<style scoped>\n",
       "    .dataframe tbody tr th:only-of-type {\n",
       "        vertical-align: middle;\n",
       "    }\n",
       "\n",
       "    .dataframe tbody tr th {\n",
       "        vertical-align: top;\n",
       "    }\n",
       "\n",
       "    .dataframe thead th {\n",
       "        text-align: right;\n",
       "    }\n",
       "</style>\n",
       "<table border=\"1\" class=\"dataframe\">\n",
       "  <thead>\n",
       "    <tr style=\"text-align: right;\">\n",
       "      <th></th>\n",
       "      <th>Unnamed: 0</th>\n",
       "      <th>Variable</th>\n",
       "      <th>Product category</th>\n",
       "      <th>UOM</th>\n",
       "      <th>COORDINATE</th>\n",
       "      <th>VALUE</th>\n",
       "      <th>From</th>\n",
       "      <th>To</th>\n",
       "      <th>Level</th>\n",
       "    </tr>\n",
       "  </thead>\n",
       "  <tbody>\n",
       "    <tr>\n",
       "      <th>15</th>\n",
       "      <td>222</td>\n",
       "      <td>Disposed plastic waste and scrap sent to landf...</td>\n",
       "      <td>Total, all product categories</td>\n",
       "      <td>Tonnes</td>\n",
       "      <td>1.16.1</td>\n",
       "      <td>3916862.0</td>\n",
       "      <td>Total disposed plastics</td>\n",
       "      <td>Landfill or incineration</td>\n",
       "      <td>2</td>\n",
       "    </tr>\n",
       "    <tr>\n",
       "      <th>16</th>\n",
       "      <td>223</td>\n",
       "      <td>Disposed plastic waste and scrap sent for inci...</td>\n",
       "      <td>Total, all product categories</td>\n",
       "      <td>Tonnes</td>\n",
       "      <td>1.17.1</td>\n",
       "      <td>107577.0</td>\n",
       "      <td>Total disposed plastics</td>\n",
       "      <td>Incineration (WtE) or gasification</td>\n",
       "      <td>2</td>\n",
       "    </tr>\n",
       "    <tr>\n",
       "      <th>17</th>\n",
       "      <td>224</td>\n",
       "      <td>Net trade (imports less exports) of disposed p...</td>\n",
       "      <td>Total, all product categories</td>\n",
       "      <td>Tonnes</td>\n",
       "      <td>1.18.1</td>\n",
       "      <td>496166.0</td>\n",
       "      <td>Total disposed plastics</td>\n",
       "      <td>Net trade disposed plastics</td>\n",
       "      <td>2</td>\n",
       "    </tr>\n",
       "    <tr>\n",
       "      <th>18</th>\n",
       "      <td>1</td>\n",
       "      <td>Plastic in domestically produced products</td>\n",
       "      <td>Construction materials</td>\n",
       "      <td>Tonnes</td>\n",
       "      <td>1.1.2</td>\n",
       "      <td>1353236.0</td>\n",
       "      <td>CA domestic production</td>\n",
       "      <td>CA consumption</td>\n",
       "      <td>2</td>\n",
       "    </tr>\n",
       "    <tr>\n",
       "      <th>19</th>\n",
       "      <td>16</td>\n",
       "      <td>Net trade (imports less exports) of newly prod...</td>\n",
       "      <td>Construction materials</td>\n",
       "      <td>Tonnes</td>\n",
       "      <td>1.2.2</td>\n",
       "      <td>192863.0</td>\n",
       "      <td>Net trade of new products</td>\n",
       "      <td>CA consumption</td>\n",
       "      <td>2</td>\n",
       "    </tr>\n",
       "    <tr>\n",
       "      <th>...</th>\n",
       "      <td>...</td>\n",
       "      <td>...</td>\n",
       "      <td>...</td>\n",
       "      <td>...</td>\n",
       "      <td>...</td>\n",
       "      <td>...</td>\n",
       "      <td>...</td>\n",
       "      <td>...</td>\n",
       "      <td>...</td>\n",
       "    </tr>\n",
       "    <tr>\n",
       "      <th>220</th>\n",
       "      <td>164</td>\n",
       "      <td>Residual plastic waste and scrap sent for disp...</td>\n",
       "      <td>Other products</td>\n",
       "      <td>Tonnes</td>\n",
       "      <td>1.11.15</td>\n",
       "      <td>1492.0</td>\n",
       "      <td>Material recovery</td>\n",
       "      <td>Total disposed plastics</td>\n",
       "      <td>2</td>\n",
       "    </tr>\n",
       "    <tr>\n",
       "      <th>221</th>\n",
       "      <td>178</td>\n",
       "      <td>Net trade (imports less exports) of sorted and...</td>\n",
       "      <td>Other products</td>\n",
       "      <td>Tonnes</td>\n",
       "      <td>1.12.15</td>\n",
       "      <td>124.0</td>\n",
       "      <td>Material recovery</td>\n",
       "      <td>Net trade baled plastic</td>\n",
       "      <td>2</td>\n",
       "    </tr>\n",
       "    <tr>\n",
       "      <th>222</th>\n",
       "      <td>192</td>\n",
       "      <td>Recycled plastic pellets and flakes ready for ...</td>\n",
       "      <td>Other products</td>\n",
       "      <td>Tonnes</td>\n",
       "      <td>1.13.15</td>\n",
       "      <td>7520.0</td>\n",
       "      <td>Recycling</td>\n",
       "      <td>Secondary feedstock</td>\n",
       "      <td>2</td>\n",
       "    </tr>\n",
       "    <tr>\n",
       "      <th>223</th>\n",
       "      <td>206</td>\n",
       "      <td>Residual plastic waste and scrap sent for disp...</td>\n",
       "      <td>Other products</td>\n",
       "      <td>Tonnes</td>\n",
       "      <td>1.14.15</td>\n",
       "      <td>2083.0</td>\n",
       "      <td>Recycling</td>\n",
       "      <td>Total disposed plastics</td>\n",
       "      <td>2</td>\n",
       "    </tr>\n",
       "    <tr>\n",
       "      <th>224</th>\n",
       "      <td>221</td>\n",
       "      <td>Total disposed plastic waste and scrap</td>\n",
       "      <td>Other products</td>\n",
       "      <td>Tonnes</td>\n",
       "      <td>1.15.15</td>\n",
       "      <td>1225521.0</td>\n",
       "      <td>NaN</td>\n",
       "      <td>NaN</td>\n",
       "      <td>2</td>\n",
       "    </tr>\n",
       "  </tbody>\n",
       "</table>\n",
       "<p>105 rows × 9 columns</p>\n",
       "</div>"
      ],
      "text/plain": [
       "     Unnamed: 0                                           Variable  \\\n",
       "15          222  Disposed plastic waste and scrap sent to landf...   \n",
       "16          223  Disposed plastic waste and scrap sent for inci...   \n",
       "17          224  Net trade (imports less exports) of disposed p...   \n",
       "18            1          Plastic in domestically produced products   \n",
       "19           16  Net trade (imports less exports) of newly prod...   \n",
       "..          ...                                                ...   \n",
       "220         164  Residual plastic waste and scrap sent for disp...   \n",
       "221         178  Net trade (imports less exports) of sorted and...   \n",
       "222         192  Recycled plastic pellets and flakes ready for ...   \n",
       "223         206  Residual plastic waste and scrap sent for disp...   \n",
       "224         221             Total disposed plastic waste and scrap   \n",
       "\n",
       "                  Product category     UOM COORDINATE      VALUE  \\\n",
       "15   Total, all product categories  Tonnes     1.16.1  3916862.0   \n",
       "16   Total, all product categories  Tonnes     1.17.1   107577.0   \n",
       "17   Total, all product categories  Tonnes     1.18.1   496166.0   \n",
       "18          Construction materials  Tonnes      1.1.2  1353236.0   \n",
       "19          Construction materials  Tonnes      1.2.2   192863.0   \n",
       "..                             ...     ...        ...        ...   \n",
       "220                 Other products  Tonnes    1.11.15     1492.0   \n",
       "221                 Other products  Tonnes    1.12.15      124.0   \n",
       "222                 Other products  Tonnes    1.13.15     7520.0   \n",
       "223                 Other products  Tonnes    1.14.15     2083.0   \n",
       "224                 Other products  Tonnes    1.15.15  1225521.0   \n",
       "\n",
       "                          From                                  To  Level  \n",
       "15     Total disposed plastics            Landfill or incineration      2  \n",
       "16     Total disposed plastics  Incineration (WtE) or gasification      2  \n",
       "17     Total disposed plastics         Net trade disposed plastics      2  \n",
       "18      CA domestic production                      CA consumption      2  \n",
       "19   Net trade of new products                      CA consumption      2  \n",
       "..                         ...                                 ...    ...  \n",
       "220          Material recovery             Total disposed plastics      2  \n",
       "221          Material recovery             Net trade baled plastic      2  \n",
       "222                  Recycling                 Secondary feedstock      2  \n",
       "223                  Recycling             Total disposed plastics      2  \n",
       "224                        NaN                                 NaN      2  \n",
       "\n",
       "[105 rows x 9 columns]"
      ]
     },
     "execution_count": 56,
     "metadata": {},
     "output_type": "execute_result"
    }
   ],
   "source": [
    "#Set Level of End-of-life flows level 2 (even though only for 'Total, all product categories')\n",
    "    #Disposed plastic waste and scrap sent to landfill or incinerated without energy recovery\n",
    "    #Disposed plastic waste and scrap sent for incineration or gasification with energy recovery\n",
    "    #Net trade (imports less exports) of disposed plastic waste and scrap\n",
    "merged_prod_data_2020_CA.loc[merged_prod_data_2020_CA['Variable'] \n",
    "== 'Disposed plastic waste and scrap sent to landfill or incinerated without energy recovery','Level']=2\n",
    "\n",
    "merged_prod_data_2020_CA.loc[merged_prod_data_2020_CA['Variable'] \n",
    "== 'Disposed plastic waste and scrap sent for incineration or gasification with energy recovery','Level']=2\n",
    "\n",
    "merged_prod_data_2020_CA.loc[merged_prod_data_2020_CA['Variable'] \n",
    "== 'Net trade (imports less exports) of disposed plastic waste and scrap','Level']=2\n",
    "#exclude all other levels (1,3)\n",
    "merged_prod_data_2020_CA_2 = merged_prod_data_2020_CA[merged_prod_data_2020_CA['Level']== 2]\n",
    "merged_prod_data_2020_CA_2"
   ]
  },
  {
   "cell_type": "code",
   "execution_count": 57,
   "id": "35ffab4b",
   "metadata": {},
   "outputs": [
    {
     "data": {
      "text/html": [
       "<div>\n",
       "<style scoped>\n",
       "    .dataframe tbody tr th:only-of-type {\n",
       "        vertical-align: middle;\n",
       "    }\n",
       "\n",
       "    .dataframe tbody tr th {\n",
       "        vertical-align: top;\n",
       "    }\n",
       "\n",
       "    .dataframe thead th {\n",
       "        text-align: right;\n",
       "    }\n",
       "</style>\n",
       "<table border=\"1\" class=\"dataframe\">\n",
       "  <thead>\n",
       "    <tr style=\"text-align: right;\">\n",
       "      <th></th>\n",
       "      <th>VALUE</th>\n",
       "      <th>From</th>\n",
       "      <th>To</th>\n",
       "      <th>Level</th>\n",
       "    </tr>\n",
       "  </thead>\n",
       "  <tbody>\n",
       "    <tr>\n",
       "      <th>15</th>\n",
       "      <td>3916862.0</td>\n",
       "      <td>Total disposed plastics</td>\n",
       "      <td>Landfill or incineration</td>\n",
       "      <td>2</td>\n",
       "    </tr>\n",
       "    <tr>\n",
       "      <th>16</th>\n",
       "      <td>107577.0</td>\n",
       "      <td>Total disposed plastics</td>\n",
       "      <td>Incineration (WtE) or gasification</td>\n",
       "      <td>2</td>\n",
       "    </tr>\n",
       "    <tr>\n",
       "      <th>17</th>\n",
       "      <td>496166.0</td>\n",
       "      <td>Total disposed plastics</td>\n",
       "      <td>Net trade disposed plastics</td>\n",
       "      <td>2</td>\n",
       "    </tr>\n",
       "    <tr>\n",
       "      <th>18</th>\n",
       "      <td>1353236.0</td>\n",
       "      <td>CA domestic production</td>\n",
       "      <td>CA consumption</td>\n",
       "      <td>2</td>\n",
       "    </tr>\n",
       "    <tr>\n",
       "      <th>19</th>\n",
       "      <td>192863.0</td>\n",
       "      <td>Net trade of new products</td>\n",
       "      <td>CA consumption</td>\n",
       "      <td>2</td>\n",
       "    </tr>\n",
       "    <tr>\n",
       "      <th>...</th>\n",
       "      <td>...</td>\n",
       "      <td>...</td>\n",
       "      <td>...</td>\n",
       "      <td>...</td>\n",
       "    </tr>\n",
       "    <tr>\n",
       "      <th>220</th>\n",
       "      <td>1492.0</td>\n",
       "      <td>Material recovery</td>\n",
       "      <td>Total disposed plastics</td>\n",
       "      <td>2</td>\n",
       "    </tr>\n",
       "    <tr>\n",
       "      <th>221</th>\n",
       "      <td>124.0</td>\n",
       "      <td>Material recovery</td>\n",
       "      <td>Net trade baled plastic</td>\n",
       "      <td>2</td>\n",
       "    </tr>\n",
       "    <tr>\n",
       "      <th>222</th>\n",
       "      <td>7520.0</td>\n",
       "      <td>Recycling</td>\n",
       "      <td>Secondary feedstock</td>\n",
       "      <td>2</td>\n",
       "    </tr>\n",
       "    <tr>\n",
       "      <th>223</th>\n",
       "      <td>2083.0</td>\n",
       "      <td>Recycling</td>\n",
       "      <td>Total disposed plastics</td>\n",
       "      <td>2</td>\n",
       "    </tr>\n",
       "    <tr>\n",
       "      <th>224</th>\n",
       "      <td>1225521.0</td>\n",
       "      <td>NaN</td>\n",
       "      <td>NaN</td>\n",
       "      <td>2</td>\n",
       "    </tr>\n",
       "  </tbody>\n",
       "</table>\n",
       "<p>105 rows × 4 columns</p>\n",
       "</div>"
      ],
      "text/plain": [
       "         VALUE                       From                                  To  \\\n",
       "15   3916862.0    Total disposed plastics            Landfill or incineration   \n",
       "16    107577.0    Total disposed plastics  Incineration (WtE) or gasification   \n",
       "17    496166.0    Total disposed plastics         Net trade disposed plastics   \n",
       "18   1353236.0     CA domestic production                      CA consumption   \n",
       "19    192863.0  Net trade of new products                      CA consumption   \n",
       "..         ...                        ...                                 ...   \n",
       "220     1492.0          Material recovery             Total disposed plastics   \n",
       "221      124.0          Material recovery             Net trade baled plastic   \n",
       "222     7520.0                  Recycling                 Secondary feedstock   \n",
       "223     2083.0                  Recycling             Total disposed plastics   \n",
       "224  1225521.0                        NaN                                 NaN   \n",
       "\n",
       "     Level  \n",
       "15       2  \n",
       "16       2  \n",
       "17       2  \n",
       "18       2  \n",
       "19       2  \n",
       "..     ...  \n",
       "220      2  \n",
       "221      2  \n",
       "222      2  \n",
       "223      2  \n",
       "224      2  \n",
       "\n",
       "[105 rows x 4 columns]"
      ]
     },
     "execution_count": 57,
     "metadata": {},
     "output_type": "execute_result"
    }
   ],
   "source": [
    "#reduce df to only VALUE, From and To that are needed for the Sankey\n",
    "links = pd.DataFrame(merged_prod_data_2020_CA_2, columns=['VALUE','From','To','Level'])\n",
    "links"
   ]
  },
  {
   "cell_type": "code",
   "execution_count": 58,
   "id": "5c02d1df",
   "metadata": {},
   "outputs": [
    {
     "data": {
      "text/html": [
       "<div>\n",
       "<style scoped>\n",
       "    .dataframe tbody tr th:only-of-type {\n",
       "        vertical-align: middle;\n",
       "    }\n",
       "\n",
       "    .dataframe tbody tr th {\n",
       "        vertical-align: top;\n",
       "    }\n",
       "\n",
       "    .dataframe thead th {\n",
       "        text-align: right;\n",
       "    }\n",
       "</style>\n",
       "<table border=\"1\" class=\"dataframe\">\n",
       "  <thead>\n",
       "    <tr style=\"text-align: right;\">\n",
       "      <th></th>\n",
       "      <th>VALUE</th>\n",
       "      <th>From</th>\n",
       "      <th>To</th>\n",
       "      <th>Level</th>\n",
       "    </tr>\n",
       "  </thead>\n",
       "  <tbody>\n",
       "    <tr>\n",
       "      <th>15</th>\n",
       "      <td>3916862.0</td>\n",
       "      <td>Total disposed plastics</td>\n",
       "      <td>Landfill or incineration</td>\n",
       "      <td>2</td>\n",
       "    </tr>\n",
       "    <tr>\n",
       "      <th>16</th>\n",
       "      <td>107577.0</td>\n",
       "      <td>Total disposed plastics</td>\n",
       "      <td>Incineration (WtE) or gasification</td>\n",
       "      <td>2</td>\n",
       "    </tr>\n",
       "    <tr>\n",
       "      <th>17</th>\n",
       "      <td>496166.0</td>\n",
       "      <td>Total disposed plastics</td>\n",
       "      <td>Net trade disposed plastics</td>\n",
       "      <td>2</td>\n",
       "    </tr>\n",
       "    <tr>\n",
       "      <th>18</th>\n",
       "      <td>1353236.0</td>\n",
       "      <td>CA domestic production</td>\n",
       "      <td>CA consumption</td>\n",
       "      <td>2</td>\n",
       "    </tr>\n",
       "    <tr>\n",
       "      <th>19</th>\n",
       "      <td>192863.0</td>\n",
       "      <td>Net trade of new products</td>\n",
       "      <td>CA consumption</td>\n",
       "      <td>2</td>\n",
       "    </tr>\n",
       "    <tr>\n",
       "      <th>...</th>\n",
       "      <td>...</td>\n",
       "      <td>...</td>\n",
       "      <td>...</td>\n",
       "      <td>...</td>\n",
       "    </tr>\n",
       "    <tr>\n",
       "      <th>219</th>\n",
       "      <td>9479.0</td>\n",
       "      <td>Material recovery</td>\n",
       "      <td>Recycling</td>\n",
       "      <td>2</td>\n",
       "    </tr>\n",
       "    <tr>\n",
       "      <th>220</th>\n",
       "      <td>1492.0</td>\n",
       "      <td>Material recovery</td>\n",
       "      <td>Total disposed plastics</td>\n",
       "      <td>2</td>\n",
       "    </tr>\n",
       "    <tr>\n",
       "      <th>221</th>\n",
       "      <td>124.0</td>\n",
       "      <td>Material recovery</td>\n",
       "      <td>Net trade baled plastic</td>\n",
       "      <td>2</td>\n",
       "    </tr>\n",
       "    <tr>\n",
       "      <th>222</th>\n",
       "      <td>7520.0</td>\n",
       "      <td>Recycling</td>\n",
       "      <td>Secondary feedstock</td>\n",
       "      <td>2</td>\n",
       "    </tr>\n",
       "    <tr>\n",
       "      <th>223</th>\n",
       "      <td>2083.0</td>\n",
       "      <td>Recycling</td>\n",
       "      <td>Total disposed plastics</td>\n",
       "      <td>2</td>\n",
       "    </tr>\n",
       "  </tbody>\n",
       "</table>\n",
       "<p>91 rows × 4 columns</p>\n",
       "</div>"
      ],
      "text/plain": [
       "         VALUE                       From                                  To  \\\n",
       "15   3916862.0    Total disposed plastics            Landfill or incineration   \n",
       "16    107577.0    Total disposed plastics  Incineration (WtE) or gasification   \n",
       "17    496166.0    Total disposed plastics         Net trade disposed plastics   \n",
       "18   1353236.0     CA domestic production                      CA consumption   \n",
       "19    192863.0  Net trade of new products                      CA consumption   \n",
       "..         ...                        ...                                 ...   \n",
       "219     9479.0          Material recovery                           Recycling   \n",
       "220     1492.0          Material recovery             Total disposed plastics   \n",
       "221      124.0          Material recovery             Net trade baled plastic   \n",
       "222     7520.0                  Recycling                 Secondary feedstock   \n",
       "223     2083.0                  Recycling             Total disposed plastics   \n",
       "\n",
       "     Level  \n",
       "15       2  \n",
       "16       2  \n",
       "17       2  \n",
       "18       2  \n",
       "19       2  \n",
       "..     ...  \n",
       "219      2  \n",
       "220      2  \n",
       "221      2  \n",
       "222      2  \n",
       "223      2  \n",
       "\n",
       "[91 rows x 4 columns]"
      ]
     },
     "execution_count": 58,
     "metadata": {},
     "output_type": "execute_result"
    }
   ],
   "source": [
    "#remove rows where From (and To) are \"NaN\"\n",
    "links = links.dropna(subset=['From'])\n",
    "links"
   ]
  },
  {
   "cell_type": "code",
   "execution_count": 59,
   "id": "e333289a",
   "metadata": {},
   "outputs": [
    {
     "data": {
      "text/plain": [
       "['Total disposed plastics',\n",
       " 'CA domestic production',\n",
       " 'Net trade of new products',\n",
       " 'CA consumption',\n",
       " 'Total discarded plastics',\n",
       " 'Collection',\n",
       " 'Material recovery',\n",
       " 'Recycling',\n",
       " 'Landfill or incineration',\n",
       " 'Incineration (WtE) or gasification',\n",
       " 'Net trade disposed plastics',\n",
       " 'Net in-use stock addition',\n",
       " 'Leak into environment',\n",
       " 'Net trade baled plastic',\n",
       " 'Secondary feedstock']"
      ]
     },
     "execution_count": 59,
     "metadata": {},
     "output_type": "execute_result"
    }
   ],
   "source": [
    "#create unique list of source/from and target/to for plotly\n",
    "unique_from_to = list(pd.unique(links[['From','To']].values.ravel('K')))\n",
    "unique_from_to"
   ]
  },
  {
   "cell_type": "code",
   "execution_count": 60,
   "id": "5190268c",
   "metadata": {},
   "outputs": [
    {
     "name": "stderr",
     "output_type": "stream",
     "text": [
      "C:\\Users\\franz\\AppData\\Local\\Temp\\ipykernel_14896\\2426557929.py:3: SettingWithCopyWarning:\n",
      "\n",
      "\n",
      "A value is trying to be set on a copy of a slice from a DataFrame.\n",
      "Try using .loc[row_indexer,col_indexer] = value instead\n",
      "\n",
      "See the caveats in the documentation: https://pandas.pydata.org/pandas-docs/stable/user_guide/indexing.html#returning-a-view-versus-a-copy\n",
      "\n",
      "C:\\Users\\franz\\AppData\\Local\\Temp\\ipykernel_14896\\2426557929.py:4: SettingWithCopyWarning:\n",
      "\n",
      "\n",
      "A value is trying to be set on a copy of a slice from a DataFrame.\n",
      "Try using .loc[row_indexer,col_indexer] = value instead\n",
      "\n",
      "See the caveats in the documentation: https://pandas.pydata.org/pandas-docs/stable/user_guide/indexing.html#returning-a-view-versus-a-copy\n",
      "\n"
     ]
    },
    {
     "data": {
      "text/plain": [
       "{'VALUE': [3916862.0,\n",
       "  107577.0,\n",
       "  496166.0,\n",
       "  1353236.0,\n",
       "  192863.0,\n",
       "  1380024.0,\n",
       "  166074.0,\n",
       "  1463.0,\n",
       "  164611.0,\n",
       "  11306.0,\n",
       "  153304.0,\n",
       "  9769.0,\n",
       "  1537.0,\n",
       "  5164.0,\n",
       "  3684.0,\n",
       "  921.0,\n",
       "  150005.0,\n",
       "  514365.0,\n",
       "  221161.0,\n",
       "  443209.0,\n",
       "  4006.0,\n",
       "  439203.0,\n",
       "  56202.0,\n",
       "  382850.0,\n",
       "  29366.0,\n",
       "  26835.0,\n",
       "  147.0,\n",
       "  24193.0,\n",
       "  5321.0,\n",
       "  1208134.0,\n",
       "  959097.0,\n",
       "  149169.0,\n",
       "  2018063.0,\n",
       "  17781.0,\n",
       "  2000281.0,\n",
       "  429986.0,\n",
       "  1569399.0,\n",
       "  373048.0,\n",
       "  56938.0,\n",
       "  4639.0,\n",
       "  313507.0,\n",
       "  64180.0,\n",
       "  45374.0,\n",
       "  7770.0,\n",
       "  8863.0,\n",
       "  44281.0,\n",
       "  390.0,\n",
       "  43891.0,\n",
       "  10191.0,\n",
       "  33699.0,\n",
       "  8357.0,\n",
       "  1834.0,\n",
       "  0.0,\n",
       "  7185.0,\n",
       "  1172.0,\n",
       "  68678.0,\n",
       "  221772.0,\n",
       "  9834.0,\n",
       "  280616.0,\n",
       "  2473.0,\n",
       "  278143.0,\n",
       "  2450.0,\n",
       "  275362.0,\n",
       "  2116.0,\n",
       "  333.0,\n",
       "  760703.0,\n",
       "  149584.0,\n",
       "  177688.0,\n",
       "  732599.0,\n",
       "  4977.0,\n",
       "  727622.0,\n",
       "  727559.0,\n",
       "  0.0,\n",
       "  7276.0,\n",
       "  720284.0,\n",
       "  0.0,\n",
       "  6161.0,\n",
       "  1114.0,\n",
       "  888604.0,\n",
       "  600883.0,\n",
       "  246672.0,\n",
       "  1242814.0,\n",
       "  9276.0,\n",
       "  1233538.0,\n",
       "  10971.0,\n",
       "  1221946.0,\n",
       "  9479.0,\n",
       "  1492.0,\n",
       "  124.0,\n",
       "  7520.0,\n",
       "  2083.0],\n",
       " 'From': [0,\n",
       "  0,\n",
       "  0,\n",
       "  1,\n",
       "  2,\n",
       "  3,\n",
       "  3,\n",
       "  4,\n",
       "  4,\n",
       "  5,\n",
       "  5,\n",
       "  6,\n",
       "  6,\n",
       "  6,\n",
       "  7,\n",
       "  7,\n",
       "  1,\n",
       "  2,\n",
       "  3,\n",
       "  3,\n",
       "  4,\n",
       "  4,\n",
       "  5,\n",
       "  5,\n",
       "  6,\n",
       "  6,\n",
       "  6,\n",
       "  7,\n",
       "  7,\n",
       "  1,\n",
       "  2,\n",
       "  3,\n",
       "  3,\n",
       "  4,\n",
       "  4,\n",
       "  5,\n",
       "  5,\n",
       "  6,\n",
       "  6,\n",
       "  6,\n",
       "  7,\n",
       "  7,\n",
       "  1,\n",
       "  2,\n",
       "  3,\n",
       "  3,\n",
       "  4,\n",
       "  4,\n",
       "  5,\n",
       "  5,\n",
       "  6,\n",
       "  6,\n",
       "  6,\n",
       "  7,\n",
       "  7,\n",
       "  1,\n",
       "  2,\n",
       "  3,\n",
       "  3,\n",
       "  4,\n",
       "  4,\n",
       "  5,\n",
       "  5,\n",
       "  6,\n",
       "  6,\n",
       "  1,\n",
       "  2,\n",
       "  3,\n",
       "  3,\n",
       "  4,\n",
       "  4,\n",
       "  5,\n",
       "  5,\n",
       "  6,\n",
       "  6,\n",
       "  6,\n",
       "  7,\n",
       "  7,\n",
       "  1,\n",
       "  2,\n",
       "  3,\n",
       "  3,\n",
       "  4,\n",
       "  4,\n",
       "  5,\n",
       "  5,\n",
       "  6,\n",
       "  6,\n",
       "  6,\n",
       "  7,\n",
       "  7],\n",
       " 'To': [8,\n",
       "  9,\n",
       "  10,\n",
       "  3,\n",
       "  3,\n",
       "  11,\n",
       "  4,\n",
       "  12,\n",
       "  5,\n",
       "  6,\n",
       "  0,\n",
       "  7,\n",
       "  0,\n",
       "  13,\n",
       "  14,\n",
       "  0,\n",
       "  3,\n",
       "  3,\n",
       "  11,\n",
       "  4,\n",
       "  12,\n",
       "  5,\n",
       "  6,\n",
       "  0,\n",
       "  7,\n",
       "  0,\n",
       "  13,\n",
       "  14,\n",
       "  0,\n",
       "  3,\n",
       "  3,\n",
       "  11,\n",
       "  4,\n",
       "  12,\n",
       "  5,\n",
       "  6,\n",
       "  0,\n",
       "  7,\n",
       "  0,\n",
       "  13,\n",
       "  14,\n",
       "  0,\n",
       "  3,\n",
       "  3,\n",
       "  11,\n",
       "  4,\n",
       "  12,\n",
       "  5,\n",
       "  6,\n",
       "  0,\n",
       "  7,\n",
       "  0,\n",
       "  13,\n",
       "  14,\n",
       "  0,\n",
       "  3,\n",
       "  3,\n",
       "  11,\n",
       "  4,\n",
       "  12,\n",
       "  5,\n",
       "  6,\n",
       "  0,\n",
       "  7,\n",
       "  0,\n",
       "  3,\n",
       "  3,\n",
       "  11,\n",
       "  4,\n",
       "  12,\n",
       "  5,\n",
       "  6,\n",
       "  0,\n",
       "  7,\n",
       "  0,\n",
       "  13,\n",
       "  14,\n",
       "  0,\n",
       "  3,\n",
       "  3,\n",
       "  11,\n",
       "  4,\n",
       "  12,\n",
       "  5,\n",
       "  6,\n",
       "  0,\n",
       "  7,\n",
       "  0,\n",
       "  13,\n",
       "  14,\n",
       "  0],\n",
       " 'Level': [2,\n",
       "  2,\n",
       "  2,\n",
       "  2,\n",
       "  2,\n",
       "  2,\n",
       "  2,\n",
       "  2,\n",
       "  2,\n",
       "  2,\n",
       "  2,\n",
       "  2,\n",
       "  2,\n",
       "  2,\n",
       "  2,\n",
       "  2,\n",
       "  2,\n",
       "  2,\n",
       "  2,\n",
       "  2,\n",
       "  2,\n",
       "  2,\n",
       "  2,\n",
       "  2,\n",
       "  2,\n",
       "  2,\n",
       "  2,\n",
       "  2,\n",
       "  2,\n",
       "  2,\n",
       "  2,\n",
       "  2,\n",
       "  2,\n",
       "  2,\n",
       "  2,\n",
       "  2,\n",
       "  2,\n",
       "  2,\n",
       "  2,\n",
       "  2,\n",
       "  2,\n",
       "  2,\n",
       "  2,\n",
       "  2,\n",
       "  2,\n",
       "  2,\n",
       "  2,\n",
       "  2,\n",
       "  2,\n",
       "  2,\n",
       "  2,\n",
       "  2,\n",
       "  2,\n",
       "  2,\n",
       "  2,\n",
       "  2,\n",
       "  2,\n",
       "  2,\n",
       "  2,\n",
       "  2,\n",
       "  2,\n",
       "  2,\n",
       "  2,\n",
       "  2,\n",
       "  2,\n",
       "  2,\n",
       "  2,\n",
       "  2,\n",
       "  2,\n",
       "  2,\n",
       "  2,\n",
       "  2,\n",
       "  2,\n",
       "  2,\n",
       "  2,\n",
       "  2,\n",
       "  2,\n",
       "  2,\n",
       "  2,\n",
       "  2,\n",
       "  2,\n",
       "  2,\n",
       "  2,\n",
       "  2,\n",
       "  2,\n",
       "  2,\n",
       "  2,\n",
       "  2,\n",
       "  2,\n",
       "  2,\n",
       "  2]}"
      ]
     },
     "execution_count": 60,
     "metadata": {},
     "output_type": "execute_result"
    }
   ],
   "source": [
    "mapping_dict={k:v for v,k in enumerate(unique_from_to)}\n",
    "mapping_dict\n",
    "links['From']=links['From'].map(mapping_dict)\n",
    "links['To']=links['To'].map(mapping_dict)\n",
    "links_dict=links.to_dict(orient='list')\n",
    "links_dict"
   ]
  },
  {
   "cell_type": "code",
   "execution_count": 61,
   "id": "0111a372",
   "metadata": {},
   "outputs": [
    {
     "data": {
      "application/vnd.plotly.v1+json": {
       "config": {
        "plotlyServerURL": "https://plot.ly"
       },
       "data": [
        {
         "link": {
          "source": [
           0,
           0,
           0,
           1,
           2,
           3,
           3,
           4,
           4,
           5,
           5,
           6,
           6,
           6,
           7,
           7,
           1,
           2,
           3,
           3,
           4,
           4,
           5,
           5,
           6,
           6,
           6,
           7,
           7,
           1,
           2,
           3,
           3,
           4,
           4,
           5,
           5,
           6,
           6,
           6,
           7,
           7,
           1,
           2,
           3,
           3,
           4,
           4,
           5,
           5,
           6,
           6,
           6,
           7,
           7,
           1,
           2,
           3,
           3,
           4,
           4,
           5,
           5,
           6,
           6,
           1,
           2,
           3,
           3,
           4,
           4,
           5,
           5,
           6,
           6,
           6,
           7,
           7,
           1,
           2,
           3,
           3,
           4,
           4,
           5,
           5,
           6,
           6,
           6,
           7,
           7
          ],
          "target": [
           8,
           9,
           10,
           3,
           3,
           11,
           4,
           12,
           5,
           6,
           0,
           7,
           0,
           13,
           14,
           0,
           3,
           3,
           11,
           4,
           12,
           5,
           6,
           0,
           7,
           0,
           13,
           14,
           0,
           3,
           3,
           11,
           4,
           12,
           5,
           6,
           0,
           7,
           0,
           13,
           14,
           0,
           3,
           3,
           11,
           4,
           12,
           5,
           6,
           0,
           7,
           0,
           13,
           14,
           0,
           3,
           3,
           11,
           4,
           12,
           5,
           6,
           0,
           7,
           0,
           3,
           3,
           11,
           4,
           12,
           5,
           6,
           0,
           7,
           0,
           13,
           14,
           0,
           3,
           3,
           11,
           4,
           12,
           5,
           6,
           0,
           7,
           0,
           13,
           14,
           0
          ],
          "value": [
           3916862,
           107577,
           496166,
           1353236,
           192863,
           1380024,
           166074,
           1463,
           164611,
           11306,
           153304,
           9769,
           1537,
           5164,
           3684,
           921,
           150005,
           514365,
           221161,
           443209,
           4006,
           439203,
           56202,
           382850,
           29366,
           26835,
           147,
           24193,
           5321,
           1208134,
           959097,
           149169,
           2018063,
           17781,
           2000281,
           429986,
           1569399,
           373048,
           56938,
           4639,
           313507,
           64180,
           45374,
           7770,
           8863,
           44281,
           390,
           43891,
           10191,
           33699,
           8357,
           1834,
           0,
           7185,
           1172,
           68678,
           221772,
           9834,
           280616,
           2473,
           278143,
           2450,
           275362,
           2116,
           333,
           760703,
           149584,
           177688,
           732599,
           4977,
           727622,
           727559,
           0,
           7276,
           720284,
           0,
           6161,
           1114,
           888604,
           600883,
           246672,
           1242814,
           9276,
           1233538,
           10971,
           1221946,
           9479,
           1492,
           124,
           7520,
           2083
          ]
         },
         "node": {
          "color": "black",
          "label": [
           "Total disposed plastics",
           "CA domestic production",
           "Net trade of new products",
           "CA consumption",
           "Total discarded plastics",
           "Collection",
           "Material recovery",
           "Recycling",
           "Landfill or incineration",
           "Incineration (WtE) or gasification",
           "Net trade disposed plastics",
           "Net in-use stock addition",
           "Leak into environment",
           "Net trade baled plastic",
           "Secondary feedstock"
          ],
          "line": {
           "color": "black",
           "width": 0.5
          },
          "pad": 15,
          "thickness": 20
         },
         "type": "sankey"
        }
       ],
       "layout": {
        "font": {
         "size": 10
        },
        "template": {
         "data": {
          "bar": [
           {
            "error_x": {
             "color": "#2a3f5f"
            },
            "error_y": {
             "color": "#2a3f5f"
            },
            "marker": {
             "line": {
              "color": "#E5ECF6",
              "width": 0.5
             },
             "pattern": {
              "fillmode": "overlay",
              "size": 10,
              "solidity": 0.2
             }
            },
            "type": "bar"
           }
          ],
          "barpolar": [
           {
            "marker": {
             "line": {
              "color": "#E5ECF6",
              "width": 0.5
             },
             "pattern": {
              "fillmode": "overlay",
              "size": 10,
              "solidity": 0.2
             }
            },
            "type": "barpolar"
           }
          ],
          "carpet": [
           {
            "aaxis": {
             "endlinecolor": "#2a3f5f",
             "gridcolor": "white",
             "linecolor": "white",
             "minorgridcolor": "white",
             "startlinecolor": "#2a3f5f"
            },
            "baxis": {
             "endlinecolor": "#2a3f5f",
             "gridcolor": "white",
             "linecolor": "white",
             "minorgridcolor": "white",
             "startlinecolor": "#2a3f5f"
            },
            "type": "carpet"
           }
          ],
          "choropleth": [
           {
            "colorbar": {
             "outlinewidth": 0,
             "ticks": ""
            },
            "type": "choropleth"
           }
          ],
          "contour": [
           {
            "colorbar": {
             "outlinewidth": 0,
             "ticks": ""
            },
            "colorscale": [
             [
              0,
              "#0d0887"
             ],
             [
              0.1111111111111111,
              "#46039f"
             ],
             [
              0.2222222222222222,
              "#7201a8"
             ],
             [
              0.3333333333333333,
              "#9c179e"
             ],
             [
              0.4444444444444444,
              "#bd3786"
             ],
             [
              0.5555555555555556,
              "#d8576b"
             ],
             [
              0.6666666666666666,
              "#ed7953"
             ],
             [
              0.7777777777777778,
              "#fb9f3a"
             ],
             [
              0.8888888888888888,
              "#fdca26"
             ],
             [
              1,
              "#f0f921"
             ]
            ],
            "type": "contour"
           }
          ],
          "contourcarpet": [
           {
            "colorbar": {
             "outlinewidth": 0,
             "ticks": ""
            },
            "type": "contourcarpet"
           }
          ],
          "heatmap": [
           {
            "colorbar": {
             "outlinewidth": 0,
             "ticks": ""
            },
            "colorscale": [
             [
              0,
              "#0d0887"
             ],
             [
              0.1111111111111111,
              "#46039f"
             ],
             [
              0.2222222222222222,
              "#7201a8"
             ],
             [
              0.3333333333333333,
              "#9c179e"
             ],
             [
              0.4444444444444444,
              "#bd3786"
             ],
             [
              0.5555555555555556,
              "#d8576b"
             ],
             [
              0.6666666666666666,
              "#ed7953"
             ],
             [
              0.7777777777777778,
              "#fb9f3a"
             ],
             [
              0.8888888888888888,
              "#fdca26"
             ],
             [
              1,
              "#f0f921"
             ]
            ],
            "type": "heatmap"
           }
          ],
          "heatmapgl": [
           {
            "colorbar": {
             "outlinewidth": 0,
             "ticks": ""
            },
            "colorscale": [
             [
              0,
              "#0d0887"
             ],
             [
              0.1111111111111111,
              "#46039f"
             ],
             [
              0.2222222222222222,
              "#7201a8"
             ],
             [
              0.3333333333333333,
              "#9c179e"
             ],
             [
              0.4444444444444444,
              "#bd3786"
             ],
             [
              0.5555555555555556,
              "#d8576b"
             ],
             [
              0.6666666666666666,
              "#ed7953"
             ],
             [
              0.7777777777777778,
              "#fb9f3a"
             ],
             [
              0.8888888888888888,
              "#fdca26"
             ],
             [
              1,
              "#f0f921"
             ]
            ],
            "type": "heatmapgl"
           }
          ],
          "histogram": [
           {
            "marker": {
             "pattern": {
              "fillmode": "overlay",
              "size": 10,
              "solidity": 0.2
             }
            },
            "type": "histogram"
           }
          ],
          "histogram2d": [
           {
            "colorbar": {
             "outlinewidth": 0,
             "ticks": ""
            },
            "colorscale": [
             [
              0,
              "#0d0887"
             ],
             [
              0.1111111111111111,
              "#46039f"
             ],
             [
              0.2222222222222222,
              "#7201a8"
             ],
             [
              0.3333333333333333,
              "#9c179e"
             ],
             [
              0.4444444444444444,
              "#bd3786"
             ],
             [
              0.5555555555555556,
              "#d8576b"
             ],
             [
              0.6666666666666666,
              "#ed7953"
             ],
             [
              0.7777777777777778,
              "#fb9f3a"
             ],
             [
              0.8888888888888888,
              "#fdca26"
             ],
             [
              1,
              "#f0f921"
             ]
            ],
            "type": "histogram2d"
           }
          ],
          "histogram2dcontour": [
           {
            "colorbar": {
             "outlinewidth": 0,
             "ticks": ""
            },
            "colorscale": [
             [
              0,
              "#0d0887"
             ],
             [
              0.1111111111111111,
              "#46039f"
             ],
             [
              0.2222222222222222,
              "#7201a8"
             ],
             [
              0.3333333333333333,
              "#9c179e"
             ],
             [
              0.4444444444444444,
              "#bd3786"
             ],
             [
              0.5555555555555556,
              "#d8576b"
             ],
             [
              0.6666666666666666,
              "#ed7953"
             ],
             [
              0.7777777777777778,
              "#fb9f3a"
             ],
             [
              0.8888888888888888,
              "#fdca26"
             ],
             [
              1,
              "#f0f921"
             ]
            ],
            "type": "histogram2dcontour"
           }
          ],
          "mesh3d": [
           {
            "colorbar": {
             "outlinewidth": 0,
             "ticks": ""
            },
            "type": "mesh3d"
           }
          ],
          "parcoords": [
           {
            "line": {
             "colorbar": {
              "outlinewidth": 0,
              "ticks": ""
             }
            },
            "type": "parcoords"
           }
          ],
          "pie": [
           {
            "automargin": true,
            "type": "pie"
           }
          ],
          "scatter": [
           {
            "fillpattern": {
             "fillmode": "overlay",
             "size": 10,
             "solidity": 0.2
            },
            "type": "scatter"
           }
          ],
          "scatter3d": [
           {
            "line": {
             "colorbar": {
              "outlinewidth": 0,
              "ticks": ""
             }
            },
            "marker": {
             "colorbar": {
              "outlinewidth": 0,
              "ticks": ""
             }
            },
            "type": "scatter3d"
           }
          ],
          "scattercarpet": [
           {
            "marker": {
             "colorbar": {
              "outlinewidth": 0,
              "ticks": ""
             }
            },
            "type": "scattercarpet"
           }
          ],
          "scattergeo": [
           {
            "marker": {
             "colorbar": {
              "outlinewidth": 0,
              "ticks": ""
             }
            },
            "type": "scattergeo"
           }
          ],
          "scattergl": [
           {
            "marker": {
             "colorbar": {
              "outlinewidth": 0,
              "ticks": ""
             }
            },
            "type": "scattergl"
           }
          ],
          "scattermapbox": [
           {
            "marker": {
             "colorbar": {
              "outlinewidth": 0,
              "ticks": ""
             }
            },
            "type": "scattermapbox"
           }
          ],
          "scatterpolar": [
           {
            "marker": {
             "colorbar": {
              "outlinewidth": 0,
              "ticks": ""
             }
            },
            "type": "scatterpolar"
           }
          ],
          "scatterpolargl": [
           {
            "marker": {
             "colorbar": {
              "outlinewidth": 0,
              "ticks": ""
             }
            },
            "type": "scatterpolargl"
           }
          ],
          "scatterternary": [
           {
            "marker": {
             "colorbar": {
              "outlinewidth": 0,
              "ticks": ""
             }
            },
            "type": "scatterternary"
           }
          ],
          "surface": [
           {
            "colorbar": {
             "outlinewidth": 0,
             "ticks": ""
            },
            "colorscale": [
             [
              0,
              "#0d0887"
             ],
             [
              0.1111111111111111,
              "#46039f"
             ],
             [
              0.2222222222222222,
              "#7201a8"
             ],
             [
              0.3333333333333333,
              "#9c179e"
             ],
             [
              0.4444444444444444,
              "#bd3786"
             ],
             [
              0.5555555555555556,
              "#d8576b"
             ],
             [
              0.6666666666666666,
              "#ed7953"
             ],
             [
              0.7777777777777778,
              "#fb9f3a"
             ],
             [
              0.8888888888888888,
              "#fdca26"
             ],
             [
              1,
              "#f0f921"
             ]
            ],
            "type": "surface"
           }
          ],
          "table": [
           {
            "cells": {
             "fill": {
              "color": "#EBF0F8"
             },
             "line": {
              "color": "white"
             }
            },
            "header": {
             "fill": {
              "color": "#C8D4E3"
             },
             "line": {
              "color": "white"
             }
            },
            "type": "table"
           }
          ]
         },
         "layout": {
          "annotationdefaults": {
           "arrowcolor": "#2a3f5f",
           "arrowhead": 0,
           "arrowwidth": 1
          },
          "autotypenumbers": "strict",
          "coloraxis": {
           "colorbar": {
            "outlinewidth": 0,
            "ticks": ""
           }
          },
          "colorscale": {
           "diverging": [
            [
             0,
             "#8e0152"
            ],
            [
             0.1,
             "#c51b7d"
            ],
            [
             0.2,
             "#de77ae"
            ],
            [
             0.3,
             "#f1b6da"
            ],
            [
             0.4,
             "#fde0ef"
            ],
            [
             0.5,
             "#f7f7f7"
            ],
            [
             0.6,
             "#e6f5d0"
            ],
            [
             0.7,
             "#b8e186"
            ],
            [
             0.8,
             "#7fbc41"
            ],
            [
             0.9,
             "#4d9221"
            ],
            [
             1,
             "#276419"
            ]
           ],
           "sequential": [
            [
             0,
             "#0d0887"
            ],
            [
             0.1111111111111111,
             "#46039f"
            ],
            [
             0.2222222222222222,
             "#7201a8"
            ],
            [
             0.3333333333333333,
             "#9c179e"
            ],
            [
             0.4444444444444444,
             "#bd3786"
            ],
            [
             0.5555555555555556,
             "#d8576b"
            ],
            [
             0.6666666666666666,
             "#ed7953"
            ],
            [
             0.7777777777777778,
             "#fb9f3a"
            ],
            [
             0.8888888888888888,
             "#fdca26"
            ],
            [
             1,
             "#f0f921"
            ]
           ],
           "sequentialminus": [
            [
             0,
             "#0d0887"
            ],
            [
             0.1111111111111111,
             "#46039f"
            ],
            [
             0.2222222222222222,
             "#7201a8"
            ],
            [
             0.3333333333333333,
             "#9c179e"
            ],
            [
             0.4444444444444444,
             "#bd3786"
            ],
            [
             0.5555555555555556,
             "#d8576b"
            ],
            [
             0.6666666666666666,
             "#ed7953"
            ],
            [
             0.7777777777777778,
             "#fb9f3a"
            ],
            [
             0.8888888888888888,
             "#fdca26"
            ],
            [
             1,
             "#f0f921"
            ]
           ]
          },
          "colorway": [
           "#636efa",
           "#EF553B",
           "#00cc96",
           "#ab63fa",
           "#FFA15A",
           "#19d3f3",
           "#FF6692",
           "#B6E880",
           "#FF97FF",
           "#FECB52"
          ],
          "font": {
           "color": "#2a3f5f"
          },
          "geo": {
           "bgcolor": "white",
           "lakecolor": "white",
           "landcolor": "#E5ECF6",
           "showlakes": true,
           "showland": true,
           "subunitcolor": "white"
          },
          "hoverlabel": {
           "align": "left"
          },
          "hovermode": "closest",
          "mapbox": {
           "style": "light"
          },
          "paper_bgcolor": "white",
          "plot_bgcolor": "#E5ECF6",
          "polar": {
           "angularaxis": {
            "gridcolor": "white",
            "linecolor": "white",
            "ticks": ""
           },
           "bgcolor": "#E5ECF6",
           "radialaxis": {
            "gridcolor": "white",
            "linecolor": "white",
            "ticks": ""
           }
          },
          "scene": {
           "xaxis": {
            "backgroundcolor": "#E5ECF6",
            "gridcolor": "white",
            "gridwidth": 2,
            "linecolor": "white",
            "showbackground": true,
            "ticks": "",
            "zerolinecolor": "white"
           },
           "yaxis": {
            "backgroundcolor": "#E5ECF6",
            "gridcolor": "white",
            "gridwidth": 2,
            "linecolor": "white",
            "showbackground": true,
            "ticks": "",
            "zerolinecolor": "white"
           },
           "zaxis": {
            "backgroundcolor": "#E5ECF6",
            "gridcolor": "white",
            "gridwidth": 2,
            "linecolor": "white",
            "showbackground": true,
            "ticks": "",
            "zerolinecolor": "white"
           }
          },
          "shapedefaults": {
           "line": {
            "color": "#2a3f5f"
           }
          },
          "ternary": {
           "aaxis": {
            "gridcolor": "white",
            "linecolor": "white",
            "ticks": ""
           },
           "baxis": {
            "gridcolor": "white",
            "linecolor": "white",
            "ticks": ""
           },
           "bgcolor": "#E5ECF6",
           "caxis": {
            "gridcolor": "white",
            "linecolor": "white",
            "ticks": ""
           }
          },
          "title": {
           "x": 0.05
          },
          "xaxis": {
           "automargin": true,
           "gridcolor": "white",
           "linecolor": "white",
           "ticks": "",
           "title": {
            "standoff": 15
           },
           "zerolinecolor": "white",
           "zerolinewidth": 2
          },
          "yaxis": {
           "automargin": true,
           "gridcolor": "white",
           "linecolor": "white",
           "ticks": "",
           "title": {
            "standoff": 15
           },
           "zerolinecolor": "white",
           "zerolinewidth": 2
          }
         }
        },
        "title": {
         "text": "Sankey Diagram, Plastics in products, 2020, Canada"
        }
       }
      },
      "text/html": [
       "<div>                            <div id=\"77b9a5a1-04d1-40c1-8ae1-2392cda2e676\" class=\"plotly-graph-div\" style=\"height:525px; width:100%;\"></div>            <script type=\"text/javascript\">                require([\"plotly\"], function(Plotly) {                    window.PLOTLYENV=window.PLOTLYENV || {};                                    if (document.getElementById(\"77b9a5a1-04d1-40c1-8ae1-2392cda2e676\")) {                    Plotly.newPlot(                        \"77b9a5a1-04d1-40c1-8ae1-2392cda2e676\",                        [{\"link\":{\"source\":[0,0,0,1,2,3,3,4,4,5,5,6,6,6,7,7,1,2,3,3,4,4,5,5,6,6,6,7,7,1,2,3,3,4,4,5,5,6,6,6,7,7,1,2,3,3,4,4,5,5,6,6,6,7,7,1,2,3,3,4,4,5,5,6,6,1,2,3,3,4,4,5,5,6,6,6,7,7,1,2,3,3,4,4,5,5,6,6,6,7,7],\"target\":[8,9,10,3,3,11,4,12,5,6,0,7,0,13,14,0,3,3,11,4,12,5,6,0,7,0,13,14,0,3,3,11,4,12,5,6,0,7,0,13,14,0,3,3,11,4,12,5,6,0,7,0,13,14,0,3,3,11,4,12,5,6,0,7,0,3,3,11,4,12,5,6,0,7,0,13,14,0,3,3,11,4,12,5,6,0,7,0,13,14,0],\"value\":[3916862.0,107577.0,496166.0,1353236.0,192863.0,1380024.0,166074.0,1463.0,164611.0,11306.0,153304.0,9769.0,1537.0,5164.0,3684.0,921.0,150005.0,514365.0,221161.0,443209.0,4006.0,439203.0,56202.0,382850.0,29366.0,26835.0,147.0,24193.0,5321.0,1208134.0,959097.0,149169.0,2018063.0,17781.0,2000281.0,429986.0,1569399.0,373048.0,56938.0,4639.0,313507.0,64180.0,45374.0,7770.0,8863.0,44281.0,390.0,43891.0,10191.0,33699.0,8357.0,1834.0,0.0,7185.0,1172.0,68678.0,221772.0,9834.0,280616.0,2473.0,278143.0,2450.0,275362.0,2116.0,333.0,760703.0,149584.0,177688.0,732599.0,4977.0,727622.0,727559.0,0.0,7276.0,720284.0,0.0,6161.0,1114.0,888604.0,600883.0,246672.0,1242814.0,9276.0,1233538.0,10971.0,1221946.0,9479.0,1492.0,124.0,7520.0,2083.0]},\"node\":{\"color\":\"black\",\"label\":[\"Total disposed plastics\",\"CA domestic production\",\"Net trade of new products\",\"CA consumption\",\"Total discarded plastics\",\"Collection\",\"Material recovery\",\"Recycling\",\"Landfill or incineration\",\"Incineration (WtE) or gasification\",\"Net trade disposed plastics\",\"Net in-use stock addition\",\"Leak into environment\",\"Net trade baled plastic\",\"Secondary feedstock\"],\"line\":{\"color\":\"black\",\"width\":0.5},\"pad\":15,\"thickness\":20},\"type\":\"sankey\"}],                        {\"template\":{\"data\":{\"histogram2dcontour\":[{\"type\":\"histogram2dcontour\",\"colorbar\":{\"outlinewidth\":0,\"ticks\":\"\"},\"colorscale\":[[0.0,\"#0d0887\"],[0.1111111111111111,\"#46039f\"],[0.2222222222222222,\"#7201a8\"],[0.3333333333333333,\"#9c179e\"],[0.4444444444444444,\"#bd3786\"],[0.5555555555555556,\"#d8576b\"],[0.6666666666666666,\"#ed7953\"],[0.7777777777777778,\"#fb9f3a\"],[0.8888888888888888,\"#fdca26\"],[1.0,\"#f0f921\"]]}],\"choropleth\":[{\"type\":\"choropleth\",\"colorbar\":{\"outlinewidth\":0,\"ticks\":\"\"}}],\"histogram2d\":[{\"type\":\"histogram2d\",\"colorbar\":{\"outlinewidth\":0,\"ticks\":\"\"},\"colorscale\":[[0.0,\"#0d0887\"],[0.1111111111111111,\"#46039f\"],[0.2222222222222222,\"#7201a8\"],[0.3333333333333333,\"#9c179e\"],[0.4444444444444444,\"#bd3786\"],[0.5555555555555556,\"#d8576b\"],[0.6666666666666666,\"#ed7953\"],[0.7777777777777778,\"#fb9f3a\"],[0.8888888888888888,\"#fdca26\"],[1.0,\"#f0f921\"]]}],\"heatmap\":[{\"type\":\"heatmap\",\"colorbar\":{\"outlinewidth\":0,\"ticks\":\"\"},\"colorscale\":[[0.0,\"#0d0887\"],[0.1111111111111111,\"#46039f\"],[0.2222222222222222,\"#7201a8\"],[0.3333333333333333,\"#9c179e\"],[0.4444444444444444,\"#bd3786\"],[0.5555555555555556,\"#d8576b\"],[0.6666666666666666,\"#ed7953\"],[0.7777777777777778,\"#fb9f3a\"],[0.8888888888888888,\"#fdca26\"],[1.0,\"#f0f921\"]]}],\"heatmapgl\":[{\"type\":\"heatmapgl\",\"colorbar\":{\"outlinewidth\":0,\"ticks\":\"\"},\"colorscale\":[[0.0,\"#0d0887\"],[0.1111111111111111,\"#46039f\"],[0.2222222222222222,\"#7201a8\"],[0.3333333333333333,\"#9c179e\"],[0.4444444444444444,\"#bd3786\"],[0.5555555555555556,\"#d8576b\"],[0.6666666666666666,\"#ed7953\"],[0.7777777777777778,\"#fb9f3a\"],[0.8888888888888888,\"#fdca26\"],[1.0,\"#f0f921\"]]}],\"contourcarpet\":[{\"type\":\"contourcarpet\",\"colorbar\":{\"outlinewidth\":0,\"ticks\":\"\"}}],\"contour\":[{\"type\":\"contour\",\"colorbar\":{\"outlinewidth\":0,\"ticks\":\"\"},\"colorscale\":[[0.0,\"#0d0887\"],[0.1111111111111111,\"#46039f\"],[0.2222222222222222,\"#7201a8\"],[0.3333333333333333,\"#9c179e\"],[0.4444444444444444,\"#bd3786\"],[0.5555555555555556,\"#d8576b\"],[0.6666666666666666,\"#ed7953\"],[0.7777777777777778,\"#fb9f3a\"],[0.8888888888888888,\"#fdca26\"],[1.0,\"#f0f921\"]]}],\"surface\":[{\"type\":\"surface\",\"colorbar\":{\"outlinewidth\":0,\"ticks\":\"\"},\"colorscale\":[[0.0,\"#0d0887\"],[0.1111111111111111,\"#46039f\"],[0.2222222222222222,\"#7201a8\"],[0.3333333333333333,\"#9c179e\"],[0.4444444444444444,\"#bd3786\"],[0.5555555555555556,\"#d8576b\"],[0.6666666666666666,\"#ed7953\"],[0.7777777777777778,\"#fb9f3a\"],[0.8888888888888888,\"#fdca26\"],[1.0,\"#f0f921\"]]}],\"mesh3d\":[{\"type\":\"mesh3d\",\"colorbar\":{\"outlinewidth\":0,\"ticks\":\"\"}}],\"scatter\":[{\"fillpattern\":{\"fillmode\":\"overlay\",\"size\":10,\"solidity\":0.2},\"type\":\"scatter\"}],\"parcoords\":[{\"type\":\"parcoords\",\"line\":{\"colorbar\":{\"outlinewidth\":0,\"ticks\":\"\"}}}],\"scatterpolargl\":[{\"type\":\"scatterpolargl\",\"marker\":{\"colorbar\":{\"outlinewidth\":0,\"ticks\":\"\"}}}],\"bar\":[{\"error_x\":{\"color\":\"#2a3f5f\"},\"error_y\":{\"color\":\"#2a3f5f\"},\"marker\":{\"line\":{\"color\":\"#E5ECF6\",\"width\":0.5},\"pattern\":{\"fillmode\":\"overlay\",\"size\":10,\"solidity\":0.2}},\"type\":\"bar\"}],\"scattergeo\":[{\"type\":\"scattergeo\",\"marker\":{\"colorbar\":{\"outlinewidth\":0,\"ticks\":\"\"}}}],\"scatterpolar\":[{\"type\":\"scatterpolar\",\"marker\":{\"colorbar\":{\"outlinewidth\":0,\"ticks\":\"\"}}}],\"histogram\":[{\"marker\":{\"pattern\":{\"fillmode\":\"overlay\",\"size\":10,\"solidity\":0.2}},\"type\":\"histogram\"}],\"scattergl\":[{\"type\":\"scattergl\",\"marker\":{\"colorbar\":{\"outlinewidth\":0,\"ticks\":\"\"}}}],\"scatter3d\":[{\"type\":\"scatter3d\",\"line\":{\"colorbar\":{\"outlinewidth\":0,\"ticks\":\"\"}},\"marker\":{\"colorbar\":{\"outlinewidth\":0,\"ticks\":\"\"}}}],\"scattermapbox\":[{\"type\":\"scattermapbox\",\"marker\":{\"colorbar\":{\"outlinewidth\":0,\"ticks\":\"\"}}}],\"scatterternary\":[{\"type\":\"scatterternary\",\"marker\":{\"colorbar\":{\"outlinewidth\":0,\"ticks\":\"\"}}}],\"scattercarpet\":[{\"type\":\"scattercarpet\",\"marker\":{\"colorbar\":{\"outlinewidth\":0,\"ticks\":\"\"}}}],\"carpet\":[{\"aaxis\":{\"endlinecolor\":\"#2a3f5f\",\"gridcolor\":\"white\",\"linecolor\":\"white\",\"minorgridcolor\":\"white\",\"startlinecolor\":\"#2a3f5f\"},\"baxis\":{\"endlinecolor\":\"#2a3f5f\",\"gridcolor\":\"white\",\"linecolor\":\"white\",\"minorgridcolor\":\"white\",\"startlinecolor\":\"#2a3f5f\"},\"type\":\"carpet\"}],\"table\":[{\"cells\":{\"fill\":{\"color\":\"#EBF0F8\"},\"line\":{\"color\":\"white\"}},\"header\":{\"fill\":{\"color\":\"#C8D4E3\"},\"line\":{\"color\":\"white\"}},\"type\":\"table\"}],\"barpolar\":[{\"marker\":{\"line\":{\"color\":\"#E5ECF6\",\"width\":0.5},\"pattern\":{\"fillmode\":\"overlay\",\"size\":10,\"solidity\":0.2}},\"type\":\"barpolar\"}],\"pie\":[{\"automargin\":true,\"type\":\"pie\"}]},\"layout\":{\"autotypenumbers\":\"strict\",\"colorway\":[\"#636efa\",\"#EF553B\",\"#00cc96\",\"#ab63fa\",\"#FFA15A\",\"#19d3f3\",\"#FF6692\",\"#B6E880\",\"#FF97FF\",\"#FECB52\"],\"font\":{\"color\":\"#2a3f5f\"},\"hovermode\":\"closest\",\"hoverlabel\":{\"align\":\"left\"},\"paper_bgcolor\":\"white\",\"plot_bgcolor\":\"#E5ECF6\",\"polar\":{\"bgcolor\":\"#E5ECF6\",\"angularaxis\":{\"gridcolor\":\"white\",\"linecolor\":\"white\",\"ticks\":\"\"},\"radialaxis\":{\"gridcolor\":\"white\",\"linecolor\":\"white\",\"ticks\":\"\"}},\"ternary\":{\"bgcolor\":\"#E5ECF6\",\"aaxis\":{\"gridcolor\":\"white\",\"linecolor\":\"white\",\"ticks\":\"\"},\"baxis\":{\"gridcolor\":\"white\",\"linecolor\":\"white\",\"ticks\":\"\"},\"caxis\":{\"gridcolor\":\"white\",\"linecolor\":\"white\",\"ticks\":\"\"}},\"coloraxis\":{\"colorbar\":{\"outlinewidth\":0,\"ticks\":\"\"}},\"colorscale\":{\"sequential\":[[0.0,\"#0d0887\"],[0.1111111111111111,\"#46039f\"],[0.2222222222222222,\"#7201a8\"],[0.3333333333333333,\"#9c179e\"],[0.4444444444444444,\"#bd3786\"],[0.5555555555555556,\"#d8576b\"],[0.6666666666666666,\"#ed7953\"],[0.7777777777777778,\"#fb9f3a\"],[0.8888888888888888,\"#fdca26\"],[1.0,\"#f0f921\"]],\"sequentialminus\":[[0.0,\"#0d0887\"],[0.1111111111111111,\"#46039f\"],[0.2222222222222222,\"#7201a8\"],[0.3333333333333333,\"#9c179e\"],[0.4444444444444444,\"#bd3786\"],[0.5555555555555556,\"#d8576b\"],[0.6666666666666666,\"#ed7953\"],[0.7777777777777778,\"#fb9f3a\"],[0.8888888888888888,\"#fdca26\"],[1.0,\"#f0f921\"]],\"diverging\":[[0,\"#8e0152\"],[0.1,\"#c51b7d\"],[0.2,\"#de77ae\"],[0.3,\"#f1b6da\"],[0.4,\"#fde0ef\"],[0.5,\"#f7f7f7\"],[0.6,\"#e6f5d0\"],[0.7,\"#b8e186\"],[0.8,\"#7fbc41\"],[0.9,\"#4d9221\"],[1,\"#276419\"]]},\"xaxis\":{\"gridcolor\":\"white\",\"linecolor\":\"white\",\"ticks\":\"\",\"title\":{\"standoff\":15},\"zerolinecolor\":\"white\",\"automargin\":true,\"zerolinewidth\":2},\"yaxis\":{\"gridcolor\":\"white\",\"linecolor\":\"white\",\"ticks\":\"\",\"title\":{\"standoff\":15},\"zerolinecolor\":\"white\",\"automargin\":true,\"zerolinewidth\":2},\"scene\":{\"xaxis\":{\"backgroundcolor\":\"#E5ECF6\",\"gridcolor\":\"white\",\"linecolor\":\"white\",\"showbackground\":true,\"ticks\":\"\",\"zerolinecolor\":\"white\",\"gridwidth\":2},\"yaxis\":{\"backgroundcolor\":\"#E5ECF6\",\"gridcolor\":\"white\",\"linecolor\":\"white\",\"showbackground\":true,\"ticks\":\"\",\"zerolinecolor\":\"white\",\"gridwidth\":2},\"zaxis\":{\"backgroundcolor\":\"#E5ECF6\",\"gridcolor\":\"white\",\"linecolor\":\"white\",\"showbackground\":true,\"ticks\":\"\",\"zerolinecolor\":\"white\",\"gridwidth\":2}},\"shapedefaults\":{\"line\":{\"color\":\"#2a3f5f\"}},\"annotationdefaults\":{\"arrowcolor\":\"#2a3f5f\",\"arrowhead\":0,\"arrowwidth\":1},\"geo\":{\"bgcolor\":\"white\",\"landcolor\":\"#E5ECF6\",\"subunitcolor\":\"white\",\"showland\":true,\"showlakes\":true,\"lakecolor\":\"white\"},\"title\":{\"x\":0.05},\"mapbox\":{\"style\":\"light\"}}},\"title\":{\"text\":\"Sankey Diagram, Plastics in products, 2020, Canada\"},\"font\":{\"size\":10}},                        {\"responsive\": true}                    ).then(function(){\n",
       "                            \n",
       "var gd = document.getElementById('77b9a5a1-04d1-40c1-8ae1-2392cda2e676');\n",
       "var x = new MutationObserver(function (mutations, observer) {{\n",
       "        var display = window.getComputedStyle(gd).display;\n",
       "        if (!display || display === 'none') {{\n",
       "            console.log([gd, 'removed!']);\n",
       "            Plotly.purge(gd);\n",
       "            observer.disconnect();\n",
       "        }}\n",
       "}});\n",
       "\n",
       "// Listen for the removal of the full notebook cells\n",
       "var notebookContainer = gd.closest('#notebook-container');\n",
       "if (notebookContainer) {{\n",
       "    x.observe(notebookContainer, {childList: true});\n",
       "}}\n",
       "\n",
       "// Listen for the clearing of the current output cell\n",
       "var outputEl = gd.closest('.output');\n",
       "if (outputEl) {{\n",
       "    x.observe(outputEl, {childList: true});\n",
       "}}\n",
       "\n",
       "                        })                };                });            </script>        </div>"
      ]
     },
     "metadata": {},
     "output_type": "display_data"
    }
   ],
   "source": [
    "#test of basic plotly Sankey\n",
    "fig = go.Figure(data=[go.Sankey(\n",
    "    node = dict(\n",
    "      pad = 15,\n",
    "      thickness = 20,\n",
    "      line = dict(color = \"black\", width = 0.5),\n",
    "      label = unique_from_to,\n",
    "      color = \"black\"\n",
    "    ),\n",
    "    link = dict(\n",
    "      source = links_dict['From'], # indices correspond to labels\n",
    "      target = links_dict['To'],\n",
    "      value = links_dict['VALUE']\n",
    "  ))])\n",
    "\n",
    "fig.update_layout(title_text=\"Sankey Diagram, Plastics in products, 2020, Canada\", font_size=10)\n",
    "fig.show()"
   ]
  },
  {
   "cell_type": "code",
   "execution_count": 62,
   "id": "6629b793",
   "metadata": {},
   "outputs": [
    {
     "data": {
      "application/vnd.plotly.v1+json": {
       "config": {
        "plotlyServerURL": "https://plot.ly"
       },
       "data": [
        {
         "link": {
          "source": [
           0,
           0,
           0,
           1,
           2,
           3,
           3,
           4,
           4,
           5,
           5,
           6,
           6,
           6,
           7,
           7,
           1,
           2,
           3,
           3,
           4,
           4,
           5,
           5,
           6,
           6,
           6,
           7,
           7,
           1,
           2,
           3,
           3,
           4,
           4,
           5,
           5,
           6,
           6,
           6,
           7,
           7,
           1,
           2,
           3,
           3,
           4,
           4,
           5,
           5,
           6,
           6,
           6,
           7,
           7,
           1,
           2,
           3,
           3,
           4,
           4,
           5,
           5,
           6,
           6,
           1,
           2,
           3,
           3,
           4,
           4,
           5,
           5,
           6,
           6,
           6,
           7,
           7,
           1,
           2,
           3,
           3,
           4,
           4,
           5,
           5,
           6,
           6,
           6,
           7,
           7
          ],
          "target": [
           8,
           9,
           10,
           3,
           3,
           11,
           4,
           12,
           5,
           6,
           0,
           7,
           0,
           13,
           14,
           0,
           3,
           3,
           11,
           4,
           12,
           5,
           6,
           0,
           7,
           0,
           13,
           14,
           0,
           3,
           3,
           11,
           4,
           12,
           5,
           6,
           0,
           7,
           0,
           13,
           14,
           0,
           3,
           3,
           11,
           4,
           12,
           5,
           6,
           0,
           7,
           0,
           13,
           14,
           0,
           3,
           3,
           11,
           4,
           12,
           5,
           6,
           0,
           7,
           0,
           3,
           3,
           11,
           4,
           12,
           5,
           6,
           0,
           7,
           0,
           13,
           14,
           0,
           3,
           3,
           11,
           4,
           12,
           5,
           6,
           0,
           7,
           0,
           13,
           14,
           0
          ],
          "value": [
           3916862,
           107577,
           496166,
           1353236,
           192863,
           1380024,
           166074,
           1463,
           164611,
           11306,
           153304,
           9769,
           1537,
           5164,
           3684,
           921,
           150005,
           514365,
           221161,
           443209,
           4006,
           439203,
           56202,
           382850,
           29366,
           26835,
           147,
           24193,
           5321,
           1208134,
           959097,
           149169,
           2018063,
           17781,
           2000281,
           429986,
           1569399,
           373048,
           56938,
           4639,
           313507,
           64180,
           45374,
           7770,
           8863,
           44281,
           390,
           43891,
           10191,
           33699,
           8357,
           1834,
           0,
           7185,
           1172,
           68678,
           221772,
           9834,
           280616,
           2473,
           278143,
           2450,
           275362,
           2116,
           333,
           760703,
           149584,
           177688,
           732599,
           4977,
           727622,
           727559,
           0,
           7276,
           720284,
           0,
           6161,
           1114,
           888604,
           600883,
           246672,
           1242814,
           9276,
           1233538,
           10971,
           1221946,
           9479,
           1492,
           124,
           7520,
           2083
          ]
         },
         "node": {
          "color": "black",
          "label": [
           "Total disposed plastics",
           "CA domestic production",
           "Net trade of new products",
           "CA consumption",
           "Total discarded plastics",
           "Collection",
           "Material recovery",
           "Recycling",
           "Landfill or incineration",
           "Incineration (WtE) or gasification",
           "Net trade disposed plastics",
           "Net in-use stock addition",
           "Leak into environment",
           "Net trade baled plastic",
           "Secondary feedstock"
          ],
          "line": {
           "color": "black",
           "width": 0.5
          },
          "pad": 15,
          "thickness": 20
         },
         "type": "sankey",
         "valuesuffix": "t"
        }
       ],
       "layout": {
        "font": {
         "size": 10
        },
        "template": {
         "data": {
          "bar": [
           {
            "error_x": {
             "color": "#2a3f5f"
            },
            "error_y": {
             "color": "#2a3f5f"
            },
            "marker": {
             "line": {
              "color": "#E5ECF6",
              "width": 0.5
             },
             "pattern": {
              "fillmode": "overlay",
              "size": 10,
              "solidity": 0.2
             }
            },
            "type": "bar"
           }
          ],
          "barpolar": [
           {
            "marker": {
             "line": {
              "color": "#E5ECF6",
              "width": 0.5
             },
             "pattern": {
              "fillmode": "overlay",
              "size": 10,
              "solidity": 0.2
             }
            },
            "type": "barpolar"
           }
          ],
          "carpet": [
           {
            "aaxis": {
             "endlinecolor": "#2a3f5f",
             "gridcolor": "white",
             "linecolor": "white",
             "minorgridcolor": "white",
             "startlinecolor": "#2a3f5f"
            },
            "baxis": {
             "endlinecolor": "#2a3f5f",
             "gridcolor": "white",
             "linecolor": "white",
             "minorgridcolor": "white",
             "startlinecolor": "#2a3f5f"
            },
            "type": "carpet"
           }
          ],
          "choropleth": [
           {
            "colorbar": {
             "outlinewidth": 0,
             "ticks": ""
            },
            "type": "choropleth"
           }
          ],
          "contour": [
           {
            "colorbar": {
             "outlinewidth": 0,
             "ticks": ""
            },
            "colorscale": [
             [
              0,
              "#0d0887"
             ],
             [
              0.1111111111111111,
              "#46039f"
             ],
             [
              0.2222222222222222,
              "#7201a8"
             ],
             [
              0.3333333333333333,
              "#9c179e"
             ],
             [
              0.4444444444444444,
              "#bd3786"
             ],
             [
              0.5555555555555556,
              "#d8576b"
             ],
             [
              0.6666666666666666,
              "#ed7953"
             ],
             [
              0.7777777777777778,
              "#fb9f3a"
             ],
             [
              0.8888888888888888,
              "#fdca26"
             ],
             [
              1,
              "#f0f921"
             ]
            ],
            "type": "contour"
           }
          ],
          "contourcarpet": [
           {
            "colorbar": {
             "outlinewidth": 0,
             "ticks": ""
            },
            "type": "contourcarpet"
           }
          ],
          "heatmap": [
           {
            "colorbar": {
             "outlinewidth": 0,
             "ticks": ""
            },
            "colorscale": [
             [
              0,
              "#0d0887"
             ],
             [
              0.1111111111111111,
              "#46039f"
             ],
             [
              0.2222222222222222,
              "#7201a8"
             ],
             [
              0.3333333333333333,
              "#9c179e"
             ],
             [
              0.4444444444444444,
              "#bd3786"
             ],
             [
              0.5555555555555556,
              "#d8576b"
             ],
             [
              0.6666666666666666,
              "#ed7953"
             ],
             [
              0.7777777777777778,
              "#fb9f3a"
             ],
             [
              0.8888888888888888,
              "#fdca26"
             ],
             [
              1,
              "#f0f921"
             ]
            ],
            "type": "heatmap"
           }
          ],
          "heatmapgl": [
           {
            "colorbar": {
             "outlinewidth": 0,
             "ticks": ""
            },
            "colorscale": [
             [
              0,
              "#0d0887"
             ],
             [
              0.1111111111111111,
              "#46039f"
             ],
             [
              0.2222222222222222,
              "#7201a8"
             ],
             [
              0.3333333333333333,
              "#9c179e"
             ],
             [
              0.4444444444444444,
              "#bd3786"
             ],
             [
              0.5555555555555556,
              "#d8576b"
             ],
             [
              0.6666666666666666,
              "#ed7953"
             ],
             [
              0.7777777777777778,
              "#fb9f3a"
             ],
             [
              0.8888888888888888,
              "#fdca26"
             ],
             [
              1,
              "#f0f921"
             ]
            ],
            "type": "heatmapgl"
           }
          ],
          "histogram": [
           {
            "marker": {
             "pattern": {
              "fillmode": "overlay",
              "size": 10,
              "solidity": 0.2
             }
            },
            "type": "histogram"
           }
          ],
          "histogram2d": [
           {
            "colorbar": {
             "outlinewidth": 0,
             "ticks": ""
            },
            "colorscale": [
             [
              0,
              "#0d0887"
             ],
             [
              0.1111111111111111,
              "#46039f"
             ],
             [
              0.2222222222222222,
              "#7201a8"
             ],
             [
              0.3333333333333333,
              "#9c179e"
             ],
             [
              0.4444444444444444,
              "#bd3786"
             ],
             [
              0.5555555555555556,
              "#d8576b"
             ],
             [
              0.6666666666666666,
              "#ed7953"
             ],
             [
              0.7777777777777778,
              "#fb9f3a"
             ],
             [
              0.8888888888888888,
              "#fdca26"
             ],
             [
              1,
              "#f0f921"
             ]
            ],
            "type": "histogram2d"
           }
          ],
          "histogram2dcontour": [
           {
            "colorbar": {
             "outlinewidth": 0,
             "ticks": ""
            },
            "colorscale": [
             [
              0,
              "#0d0887"
             ],
             [
              0.1111111111111111,
              "#46039f"
             ],
             [
              0.2222222222222222,
              "#7201a8"
             ],
             [
              0.3333333333333333,
              "#9c179e"
             ],
             [
              0.4444444444444444,
              "#bd3786"
             ],
             [
              0.5555555555555556,
              "#d8576b"
             ],
             [
              0.6666666666666666,
              "#ed7953"
             ],
             [
              0.7777777777777778,
              "#fb9f3a"
             ],
             [
              0.8888888888888888,
              "#fdca26"
             ],
             [
              1,
              "#f0f921"
             ]
            ],
            "type": "histogram2dcontour"
           }
          ],
          "mesh3d": [
           {
            "colorbar": {
             "outlinewidth": 0,
             "ticks": ""
            },
            "type": "mesh3d"
           }
          ],
          "parcoords": [
           {
            "line": {
             "colorbar": {
              "outlinewidth": 0,
              "ticks": ""
             }
            },
            "type": "parcoords"
           }
          ],
          "pie": [
           {
            "automargin": true,
            "type": "pie"
           }
          ],
          "scatter": [
           {
            "fillpattern": {
             "fillmode": "overlay",
             "size": 10,
             "solidity": 0.2
            },
            "type": "scatter"
           }
          ],
          "scatter3d": [
           {
            "line": {
             "colorbar": {
              "outlinewidth": 0,
              "ticks": ""
             }
            },
            "marker": {
             "colorbar": {
              "outlinewidth": 0,
              "ticks": ""
             }
            },
            "type": "scatter3d"
           }
          ],
          "scattercarpet": [
           {
            "marker": {
             "colorbar": {
              "outlinewidth": 0,
              "ticks": ""
             }
            },
            "type": "scattercarpet"
           }
          ],
          "scattergeo": [
           {
            "marker": {
             "colorbar": {
              "outlinewidth": 0,
              "ticks": ""
             }
            },
            "type": "scattergeo"
           }
          ],
          "scattergl": [
           {
            "marker": {
             "colorbar": {
              "outlinewidth": 0,
              "ticks": ""
             }
            },
            "type": "scattergl"
           }
          ],
          "scattermapbox": [
           {
            "marker": {
             "colorbar": {
              "outlinewidth": 0,
              "ticks": ""
             }
            },
            "type": "scattermapbox"
           }
          ],
          "scatterpolar": [
           {
            "marker": {
             "colorbar": {
              "outlinewidth": 0,
              "ticks": ""
             }
            },
            "type": "scatterpolar"
           }
          ],
          "scatterpolargl": [
           {
            "marker": {
             "colorbar": {
              "outlinewidth": 0,
              "ticks": ""
             }
            },
            "type": "scatterpolargl"
           }
          ],
          "scatterternary": [
           {
            "marker": {
             "colorbar": {
              "outlinewidth": 0,
              "ticks": ""
             }
            },
            "type": "scatterternary"
           }
          ],
          "surface": [
           {
            "colorbar": {
             "outlinewidth": 0,
             "ticks": ""
            },
            "colorscale": [
             [
              0,
              "#0d0887"
             ],
             [
              0.1111111111111111,
              "#46039f"
             ],
             [
              0.2222222222222222,
              "#7201a8"
             ],
             [
              0.3333333333333333,
              "#9c179e"
             ],
             [
              0.4444444444444444,
              "#bd3786"
             ],
             [
              0.5555555555555556,
              "#d8576b"
             ],
             [
              0.6666666666666666,
              "#ed7953"
             ],
             [
              0.7777777777777778,
              "#fb9f3a"
             ],
             [
              0.8888888888888888,
              "#fdca26"
             ],
             [
              1,
              "#f0f921"
             ]
            ],
            "type": "surface"
           }
          ],
          "table": [
           {
            "cells": {
             "fill": {
              "color": "#EBF0F8"
             },
             "line": {
              "color": "white"
             }
            },
            "header": {
             "fill": {
              "color": "#C8D4E3"
             },
             "line": {
              "color": "white"
             }
            },
            "type": "table"
           }
          ]
         },
         "layout": {
          "annotationdefaults": {
           "arrowcolor": "#2a3f5f",
           "arrowhead": 0,
           "arrowwidth": 1
          },
          "autotypenumbers": "strict",
          "coloraxis": {
           "colorbar": {
            "outlinewidth": 0,
            "ticks": ""
           }
          },
          "colorscale": {
           "diverging": [
            [
             0,
             "#8e0152"
            ],
            [
             0.1,
             "#c51b7d"
            ],
            [
             0.2,
             "#de77ae"
            ],
            [
             0.3,
             "#f1b6da"
            ],
            [
             0.4,
             "#fde0ef"
            ],
            [
             0.5,
             "#f7f7f7"
            ],
            [
             0.6,
             "#e6f5d0"
            ],
            [
             0.7,
             "#b8e186"
            ],
            [
             0.8,
             "#7fbc41"
            ],
            [
             0.9,
             "#4d9221"
            ],
            [
             1,
             "#276419"
            ]
           ],
           "sequential": [
            [
             0,
             "#0d0887"
            ],
            [
             0.1111111111111111,
             "#46039f"
            ],
            [
             0.2222222222222222,
             "#7201a8"
            ],
            [
             0.3333333333333333,
             "#9c179e"
            ],
            [
             0.4444444444444444,
             "#bd3786"
            ],
            [
             0.5555555555555556,
             "#d8576b"
            ],
            [
             0.6666666666666666,
             "#ed7953"
            ],
            [
             0.7777777777777778,
             "#fb9f3a"
            ],
            [
             0.8888888888888888,
             "#fdca26"
            ],
            [
             1,
             "#f0f921"
            ]
           ],
           "sequentialminus": [
            [
             0,
             "#0d0887"
            ],
            [
             0.1111111111111111,
             "#46039f"
            ],
            [
             0.2222222222222222,
             "#7201a8"
            ],
            [
             0.3333333333333333,
             "#9c179e"
            ],
            [
             0.4444444444444444,
             "#bd3786"
            ],
            [
             0.5555555555555556,
             "#d8576b"
            ],
            [
             0.6666666666666666,
             "#ed7953"
            ],
            [
             0.7777777777777778,
             "#fb9f3a"
            ],
            [
             0.8888888888888888,
             "#fdca26"
            ],
            [
             1,
             "#f0f921"
            ]
           ]
          },
          "colorway": [
           "#636efa",
           "#EF553B",
           "#00cc96",
           "#ab63fa",
           "#FFA15A",
           "#19d3f3",
           "#FF6692",
           "#B6E880",
           "#FF97FF",
           "#FECB52"
          ],
          "font": {
           "color": "#2a3f5f"
          },
          "geo": {
           "bgcolor": "white",
           "lakecolor": "white",
           "landcolor": "#E5ECF6",
           "showlakes": true,
           "showland": true,
           "subunitcolor": "white"
          },
          "hoverlabel": {
           "align": "left"
          },
          "hovermode": "closest",
          "mapbox": {
           "style": "light"
          },
          "paper_bgcolor": "white",
          "plot_bgcolor": "#E5ECF6",
          "polar": {
           "angularaxis": {
            "gridcolor": "white",
            "linecolor": "white",
            "ticks": ""
           },
           "bgcolor": "#E5ECF6",
           "radialaxis": {
            "gridcolor": "white",
            "linecolor": "white",
            "ticks": ""
           }
          },
          "scene": {
           "xaxis": {
            "backgroundcolor": "#E5ECF6",
            "gridcolor": "white",
            "gridwidth": 2,
            "linecolor": "white",
            "showbackground": true,
            "ticks": "",
            "zerolinecolor": "white"
           },
           "yaxis": {
            "backgroundcolor": "#E5ECF6",
            "gridcolor": "white",
            "gridwidth": 2,
            "linecolor": "white",
            "showbackground": true,
            "ticks": "",
            "zerolinecolor": "white"
           },
           "zaxis": {
            "backgroundcolor": "#E5ECF6",
            "gridcolor": "white",
            "gridwidth": 2,
            "linecolor": "white",
            "showbackground": true,
            "ticks": "",
            "zerolinecolor": "white"
           }
          },
          "shapedefaults": {
           "line": {
            "color": "#2a3f5f"
           }
          },
          "ternary": {
           "aaxis": {
            "gridcolor": "white",
            "linecolor": "white",
            "ticks": ""
           },
           "baxis": {
            "gridcolor": "white",
            "linecolor": "white",
            "ticks": ""
           },
           "bgcolor": "#E5ECF6",
           "caxis": {
            "gridcolor": "white",
            "linecolor": "white",
            "ticks": ""
           }
          },
          "title": {
           "x": 0.05
          },
          "xaxis": {
           "automargin": true,
           "gridcolor": "white",
           "linecolor": "white",
           "ticks": "",
           "title": {
            "standoff": 15
           },
           "zerolinecolor": "white",
           "zerolinewidth": 2
          },
          "yaxis": {
           "automargin": true,
           "gridcolor": "white",
           "linecolor": "white",
           "ticks": "",
           "title": {
            "standoff": 15
           },
           "zerolinecolor": "white",
           "zerolinewidth": 2
          }
         }
        },
        "title": {
         "text": "Sankey Diagram, Plastics in products, 2020, Canada"
        }
       }
      },
      "text/html": [
       "<div>                            <div id=\"57134b35-e0b8-4b34-9ff9-821715efd161\" class=\"plotly-graph-div\" style=\"height:525px; width:100%;\"></div>            <script type=\"text/javascript\">                require([\"plotly\"], function(Plotly) {                    window.PLOTLYENV=window.PLOTLYENV || {};                                    if (document.getElementById(\"57134b35-e0b8-4b34-9ff9-821715efd161\")) {                    Plotly.newPlot(                        \"57134b35-e0b8-4b34-9ff9-821715efd161\",                        [{\"link\":{\"source\":[0,0,0,1,2,3,3,4,4,5,5,6,6,6,7,7,1,2,3,3,4,4,5,5,6,6,6,7,7,1,2,3,3,4,4,5,5,6,6,6,7,7,1,2,3,3,4,4,5,5,6,6,6,7,7,1,2,3,3,4,4,5,5,6,6,1,2,3,3,4,4,5,5,6,6,6,7,7,1,2,3,3,4,4,5,5,6,6,6,7,7],\"target\":[8,9,10,3,3,11,4,12,5,6,0,7,0,13,14,0,3,3,11,4,12,5,6,0,7,0,13,14,0,3,3,11,4,12,5,6,0,7,0,13,14,0,3,3,11,4,12,5,6,0,7,0,13,14,0,3,3,11,4,12,5,6,0,7,0,3,3,11,4,12,5,6,0,7,0,13,14,0,3,3,11,4,12,5,6,0,7,0,13,14,0],\"value\":[3916862.0,107577.0,496166.0,1353236.0,192863.0,1380024.0,166074.0,1463.0,164611.0,11306.0,153304.0,9769.0,1537.0,5164.0,3684.0,921.0,150005.0,514365.0,221161.0,443209.0,4006.0,439203.0,56202.0,382850.0,29366.0,26835.0,147.0,24193.0,5321.0,1208134.0,959097.0,149169.0,2018063.0,17781.0,2000281.0,429986.0,1569399.0,373048.0,56938.0,4639.0,313507.0,64180.0,45374.0,7770.0,8863.0,44281.0,390.0,43891.0,10191.0,33699.0,8357.0,1834.0,0.0,7185.0,1172.0,68678.0,221772.0,9834.0,280616.0,2473.0,278143.0,2450.0,275362.0,2116.0,333.0,760703.0,149584.0,177688.0,732599.0,4977.0,727622.0,727559.0,0.0,7276.0,720284.0,0.0,6161.0,1114.0,888604.0,600883.0,246672.0,1242814.0,9276.0,1233538.0,10971.0,1221946.0,9479.0,1492.0,124.0,7520.0,2083.0]},\"node\":{\"color\":\"black\",\"label\":[\"Total disposed plastics\",\"CA domestic production\",\"Net trade of new products\",\"CA consumption\",\"Total discarded plastics\",\"Collection\",\"Material recovery\",\"Recycling\",\"Landfill or incineration\",\"Incineration (WtE) or gasification\",\"Net trade disposed plastics\",\"Net in-use stock addition\",\"Leak into environment\",\"Net trade baled plastic\",\"Secondary feedstock\"],\"line\":{\"color\":\"black\",\"width\":0.5},\"pad\":15,\"thickness\":20},\"valuesuffix\":\"t\",\"type\":\"sankey\"}],                        {\"template\":{\"data\":{\"histogram2dcontour\":[{\"type\":\"histogram2dcontour\",\"colorbar\":{\"outlinewidth\":0,\"ticks\":\"\"},\"colorscale\":[[0.0,\"#0d0887\"],[0.1111111111111111,\"#46039f\"],[0.2222222222222222,\"#7201a8\"],[0.3333333333333333,\"#9c179e\"],[0.4444444444444444,\"#bd3786\"],[0.5555555555555556,\"#d8576b\"],[0.6666666666666666,\"#ed7953\"],[0.7777777777777778,\"#fb9f3a\"],[0.8888888888888888,\"#fdca26\"],[1.0,\"#f0f921\"]]}],\"choropleth\":[{\"type\":\"choropleth\",\"colorbar\":{\"outlinewidth\":0,\"ticks\":\"\"}}],\"histogram2d\":[{\"type\":\"histogram2d\",\"colorbar\":{\"outlinewidth\":0,\"ticks\":\"\"},\"colorscale\":[[0.0,\"#0d0887\"],[0.1111111111111111,\"#46039f\"],[0.2222222222222222,\"#7201a8\"],[0.3333333333333333,\"#9c179e\"],[0.4444444444444444,\"#bd3786\"],[0.5555555555555556,\"#d8576b\"],[0.6666666666666666,\"#ed7953\"],[0.7777777777777778,\"#fb9f3a\"],[0.8888888888888888,\"#fdca26\"],[1.0,\"#f0f921\"]]}],\"heatmap\":[{\"type\":\"heatmap\",\"colorbar\":{\"outlinewidth\":0,\"ticks\":\"\"},\"colorscale\":[[0.0,\"#0d0887\"],[0.1111111111111111,\"#46039f\"],[0.2222222222222222,\"#7201a8\"],[0.3333333333333333,\"#9c179e\"],[0.4444444444444444,\"#bd3786\"],[0.5555555555555556,\"#d8576b\"],[0.6666666666666666,\"#ed7953\"],[0.7777777777777778,\"#fb9f3a\"],[0.8888888888888888,\"#fdca26\"],[1.0,\"#f0f921\"]]}],\"heatmapgl\":[{\"type\":\"heatmapgl\",\"colorbar\":{\"outlinewidth\":0,\"ticks\":\"\"},\"colorscale\":[[0.0,\"#0d0887\"],[0.1111111111111111,\"#46039f\"],[0.2222222222222222,\"#7201a8\"],[0.3333333333333333,\"#9c179e\"],[0.4444444444444444,\"#bd3786\"],[0.5555555555555556,\"#d8576b\"],[0.6666666666666666,\"#ed7953\"],[0.7777777777777778,\"#fb9f3a\"],[0.8888888888888888,\"#fdca26\"],[1.0,\"#f0f921\"]]}],\"contourcarpet\":[{\"type\":\"contourcarpet\",\"colorbar\":{\"outlinewidth\":0,\"ticks\":\"\"}}],\"contour\":[{\"type\":\"contour\",\"colorbar\":{\"outlinewidth\":0,\"ticks\":\"\"},\"colorscale\":[[0.0,\"#0d0887\"],[0.1111111111111111,\"#46039f\"],[0.2222222222222222,\"#7201a8\"],[0.3333333333333333,\"#9c179e\"],[0.4444444444444444,\"#bd3786\"],[0.5555555555555556,\"#d8576b\"],[0.6666666666666666,\"#ed7953\"],[0.7777777777777778,\"#fb9f3a\"],[0.8888888888888888,\"#fdca26\"],[1.0,\"#f0f921\"]]}],\"surface\":[{\"type\":\"surface\",\"colorbar\":{\"outlinewidth\":0,\"ticks\":\"\"},\"colorscale\":[[0.0,\"#0d0887\"],[0.1111111111111111,\"#46039f\"],[0.2222222222222222,\"#7201a8\"],[0.3333333333333333,\"#9c179e\"],[0.4444444444444444,\"#bd3786\"],[0.5555555555555556,\"#d8576b\"],[0.6666666666666666,\"#ed7953\"],[0.7777777777777778,\"#fb9f3a\"],[0.8888888888888888,\"#fdca26\"],[1.0,\"#f0f921\"]]}],\"mesh3d\":[{\"type\":\"mesh3d\",\"colorbar\":{\"outlinewidth\":0,\"ticks\":\"\"}}],\"scatter\":[{\"fillpattern\":{\"fillmode\":\"overlay\",\"size\":10,\"solidity\":0.2},\"type\":\"scatter\"}],\"parcoords\":[{\"type\":\"parcoords\",\"line\":{\"colorbar\":{\"outlinewidth\":0,\"ticks\":\"\"}}}],\"scatterpolargl\":[{\"type\":\"scatterpolargl\",\"marker\":{\"colorbar\":{\"outlinewidth\":0,\"ticks\":\"\"}}}],\"bar\":[{\"error_x\":{\"color\":\"#2a3f5f\"},\"error_y\":{\"color\":\"#2a3f5f\"},\"marker\":{\"line\":{\"color\":\"#E5ECF6\",\"width\":0.5},\"pattern\":{\"fillmode\":\"overlay\",\"size\":10,\"solidity\":0.2}},\"type\":\"bar\"}],\"scattergeo\":[{\"type\":\"scattergeo\",\"marker\":{\"colorbar\":{\"outlinewidth\":0,\"ticks\":\"\"}}}],\"scatterpolar\":[{\"type\":\"scatterpolar\",\"marker\":{\"colorbar\":{\"outlinewidth\":0,\"ticks\":\"\"}}}],\"histogram\":[{\"marker\":{\"pattern\":{\"fillmode\":\"overlay\",\"size\":10,\"solidity\":0.2}},\"type\":\"histogram\"}],\"scattergl\":[{\"type\":\"scattergl\",\"marker\":{\"colorbar\":{\"outlinewidth\":0,\"ticks\":\"\"}}}],\"scatter3d\":[{\"type\":\"scatter3d\",\"line\":{\"colorbar\":{\"outlinewidth\":0,\"ticks\":\"\"}},\"marker\":{\"colorbar\":{\"outlinewidth\":0,\"ticks\":\"\"}}}],\"scattermapbox\":[{\"type\":\"scattermapbox\",\"marker\":{\"colorbar\":{\"outlinewidth\":0,\"ticks\":\"\"}}}],\"scatterternary\":[{\"type\":\"scatterternary\",\"marker\":{\"colorbar\":{\"outlinewidth\":0,\"ticks\":\"\"}}}],\"scattercarpet\":[{\"type\":\"scattercarpet\",\"marker\":{\"colorbar\":{\"outlinewidth\":0,\"ticks\":\"\"}}}],\"carpet\":[{\"aaxis\":{\"endlinecolor\":\"#2a3f5f\",\"gridcolor\":\"white\",\"linecolor\":\"white\",\"minorgridcolor\":\"white\",\"startlinecolor\":\"#2a3f5f\"},\"baxis\":{\"endlinecolor\":\"#2a3f5f\",\"gridcolor\":\"white\",\"linecolor\":\"white\",\"minorgridcolor\":\"white\",\"startlinecolor\":\"#2a3f5f\"},\"type\":\"carpet\"}],\"table\":[{\"cells\":{\"fill\":{\"color\":\"#EBF0F8\"},\"line\":{\"color\":\"white\"}},\"header\":{\"fill\":{\"color\":\"#C8D4E3\"},\"line\":{\"color\":\"white\"}},\"type\":\"table\"}],\"barpolar\":[{\"marker\":{\"line\":{\"color\":\"#E5ECF6\",\"width\":0.5},\"pattern\":{\"fillmode\":\"overlay\",\"size\":10,\"solidity\":0.2}},\"type\":\"barpolar\"}],\"pie\":[{\"automargin\":true,\"type\":\"pie\"}]},\"layout\":{\"autotypenumbers\":\"strict\",\"colorway\":[\"#636efa\",\"#EF553B\",\"#00cc96\",\"#ab63fa\",\"#FFA15A\",\"#19d3f3\",\"#FF6692\",\"#B6E880\",\"#FF97FF\",\"#FECB52\"],\"font\":{\"color\":\"#2a3f5f\"},\"hovermode\":\"closest\",\"hoverlabel\":{\"align\":\"left\"},\"paper_bgcolor\":\"white\",\"plot_bgcolor\":\"#E5ECF6\",\"polar\":{\"bgcolor\":\"#E5ECF6\",\"angularaxis\":{\"gridcolor\":\"white\",\"linecolor\":\"white\",\"ticks\":\"\"},\"radialaxis\":{\"gridcolor\":\"white\",\"linecolor\":\"white\",\"ticks\":\"\"}},\"ternary\":{\"bgcolor\":\"#E5ECF6\",\"aaxis\":{\"gridcolor\":\"white\",\"linecolor\":\"white\",\"ticks\":\"\"},\"baxis\":{\"gridcolor\":\"white\",\"linecolor\":\"white\",\"ticks\":\"\"},\"caxis\":{\"gridcolor\":\"white\",\"linecolor\":\"white\",\"ticks\":\"\"}},\"coloraxis\":{\"colorbar\":{\"outlinewidth\":0,\"ticks\":\"\"}},\"colorscale\":{\"sequential\":[[0.0,\"#0d0887\"],[0.1111111111111111,\"#46039f\"],[0.2222222222222222,\"#7201a8\"],[0.3333333333333333,\"#9c179e\"],[0.4444444444444444,\"#bd3786\"],[0.5555555555555556,\"#d8576b\"],[0.6666666666666666,\"#ed7953\"],[0.7777777777777778,\"#fb9f3a\"],[0.8888888888888888,\"#fdca26\"],[1.0,\"#f0f921\"]],\"sequentialminus\":[[0.0,\"#0d0887\"],[0.1111111111111111,\"#46039f\"],[0.2222222222222222,\"#7201a8\"],[0.3333333333333333,\"#9c179e\"],[0.4444444444444444,\"#bd3786\"],[0.5555555555555556,\"#d8576b\"],[0.6666666666666666,\"#ed7953\"],[0.7777777777777778,\"#fb9f3a\"],[0.8888888888888888,\"#fdca26\"],[1.0,\"#f0f921\"]],\"diverging\":[[0,\"#8e0152\"],[0.1,\"#c51b7d\"],[0.2,\"#de77ae\"],[0.3,\"#f1b6da\"],[0.4,\"#fde0ef\"],[0.5,\"#f7f7f7\"],[0.6,\"#e6f5d0\"],[0.7,\"#b8e186\"],[0.8,\"#7fbc41\"],[0.9,\"#4d9221\"],[1,\"#276419\"]]},\"xaxis\":{\"gridcolor\":\"white\",\"linecolor\":\"white\",\"ticks\":\"\",\"title\":{\"standoff\":15},\"zerolinecolor\":\"white\",\"automargin\":true,\"zerolinewidth\":2},\"yaxis\":{\"gridcolor\":\"white\",\"linecolor\":\"white\",\"ticks\":\"\",\"title\":{\"standoff\":15},\"zerolinecolor\":\"white\",\"automargin\":true,\"zerolinewidth\":2},\"scene\":{\"xaxis\":{\"backgroundcolor\":\"#E5ECF6\",\"gridcolor\":\"white\",\"linecolor\":\"white\",\"showbackground\":true,\"ticks\":\"\",\"zerolinecolor\":\"white\",\"gridwidth\":2},\"yaxis\":{\"backgroundcolor\":\"#E5ECF6\",\"gridcolor\":\"white\",\"linecolor\":\"white\",\"showbackground\":true,\"ticks\":\"\",\"zerolinecolor\":\"white\",\"gridwidth\":2},\"zaxis\":{\"backgroundcolor\":\"#E5ECF6\",\"gridcolor\":\"white\",\"linecolor\":\"white\",\"showbackground\":true,\"ticks\":\"\",\"zerolinecolor\":\"white\",\"gridwidth\":2}},\"shapedefaults\":{\"line\":{\"color\":\"#2a3f5f\"}},\"annotationdefaults\":{\"arrowcolor\":\"#2a3f5f\",\"arrowhead\":0,\"arrowwidth\":1},\"geo\":{\"bgcolor\":\"white\",\"landcolor\":\"#E5ECF6\",\"subunitcolor\":\"white\",\"showland\":true,\"showlakes\":true,\"lakecolor\":\"white\"},\"title\":{\"x\":0.05},\"mapbox\":{\"style\":\"light\"}}},\"title\":{\"text\":\"Sankey Diagram, Plastics in products, 2020, Canada\"},\"font\":{\"size\":10}},                        {\"responsive\": true}                    ).then(function(){\n",
       "                            \n",
       "var gd = document.getElementById('57134b35-e0b8-4b34-9ff9-821715efd161');\n",
       "var x = new MutationObserver(function (mutations, observer) {{\n",
       "        var display = window.getComputedStyle(gd).display;\n",
       "        if (!display || display === 'none') {{\n",
       "            console.log([gd, 'removed!']);\n",
       "            Plotly.purge(gd);\n",
       "            observer.disconnect();\n",
       "        }}\n",
       "}});\n",
       "\n",
       "// Listen for the removal of the full notebook cells\n",
       "var notebookContainer = gd.closest('#notebook-container');\n",
       "if (notebookContainer) {{\n",
       "    x.observe(notebookContainer, {childList: true});\n",
       "}}\n",
       "\n",
       "// Listen for the clearing of the current output cell\n",
       "var outputEl = gd.closest('.output');\n",
       "if (outputEl) {{\n",
       "    x.observe(outputEl, {childList: true});\n",
       "}}\n",
       "\n",
       "                        })                };                });            </script>        </div>"
      ]
     },
     "metadata": {},
     "output_type": "display_data"
    }
   ],
   "source": [
    "#add unit: valuesuffix\n",
    "fig = go.Figure(data=[go.Sankey(\n",
    "    valueformat = None,\n",
    "    valuesuffix = 't', #all flows in unit tonnes\n",
    "    node = dict(\n",
    "      pad = 15,\n",
    "      thickness = 20,\n",
    "      line = dict(color = \"black\", width = 0.5),\n",
    "      label = unique_from_to,\n",
    "      color = \"black\"\n",
    "    ),\n",
    "    link = dict(\n",
    "      source = links_dict['From'], # indices correspond to labels\n",
    "      target = links_dict['To'],\n",
    "      value = links_dict['VALUE']\n",
    "  ))])\n",
    "\n",
    "fig.update_layout(title_text=\"Sankey Diagram, Plastics in products, 2020, Canada\", font_size=10)\n",
    "fig.show()"
   ]
  },
  {
   "cell_type": "markdown",
   "id": "f3b72bcf",
   "metadata": {},
   "source": [
    "## Coloured Sankey"
   ]
  },
  {
   "cell_type": "code",
   "execution_count": 94,
   "id": "c1317824",
   "metadata": {},
   "outputs": [
    {
     "data": {
      "text/html": [
       "<div>\n",
       "<style scoped>\n",
       "    .dataframe tbody tr th:only-of-type {\n",
       "        vertical-align: middle;\n",
       "    }\n",
       "\n",
       "    .dataframe tbody tr th {\n",
       "        vertical-align: top;\n",
       "    }\n",
       "\n",
       "    .dataframe thead th {\n",
       "        text-align: right;\n",
       "    }\n",
       "</style>\n",
       "<table border=\"1\" class=\"dataframe\">\n",
       "  <thead>\n",
       "    <tr style=\"text-align: right;\">\n",
       "      <th></th>\n",
       "      <th>Product category</th>\n",
       "      <th>Colour_HEX</th>\n",
       "    </tr>\n",
       "  </thead>\n",
       "  <tbody>\n",
       "    <tr>\n",
       "      <th>0</th>\n",
       "      <td>Total, all product categories</td>\n",
       "      <td>#7F7F7F</td>\n",
       "    </tr>\n",
       "    <tr>\n",
       "      <th>1</th>\n",
       "      <td>Construction materials</td>\n",
       "      <td>#00A1C0</td>\n",
       "    </tr>\n",
       "    <tr>\n",
       "      <th>2</th>\n",
       "      <td>Electrical and electronic equipment</td>\n",
       "      <td>#FA961E</td>\n",
       "    </tr>\n",
       "    <tr>\n",
       "      <th>3</th>\n",
       "      <td>Electronics</td>\n",
       "      <td>#FEE9A2</td>\n",
       "    </tr>\n",
       "    <tr>\n",
       "      <th>4</th>\n",
       "      <td>Major appliances</td>\n",
       "      <td>#FEE9A2</td>\n",
       "    </tr>\n",
       "    <tr>\n",
       "      <th>5</th>\n",
       "      <td>Other electrical and electronic equipment</td>\n",
       "      <td>#FEE9A2</td>\n",
       "    </tr>\n",
       "    <tr>\n",
       "      <th>6</th>\n",
       "      <td>Packaging</td>\n",
       "      <td>#0BAC43</td>\n",
       "    </tr>\n",
       "    <tr>\n",
       "      <th>7</th>\n",
       "      <td>Bottles</td>\n",
       "      <td>#47F383</td>\n",
       "    </tr>\n",
       "    <tr>\n",
       "      <th>8</th>\n",
       "      <td>Film</td>\n",
       "      <td>#47F383</td>\n",
       "    </tr>\n",
       "    <tr>\n",
       "      <th>9</th>\n",
       "      <td>Non-bottle rigid</td>\n",
       "      <td>#47F383</td>\n",
       "    </tr>\n",
       "    <tr>\n",
       "      <th>10</th>\n",
       "      <td>Other packaging products</td>\n",
       "      <td>#47F383</td>\n",
       "    </tr>\n",
       "    <tr>\n",
       "      <th>11</th>\n",
       "      <td>Agriculture film</td>\n",
       "      <td>#B91E32</td>\n",
       "    </tr>\n",
       "    <tr>\n",
       "      <th>12</th>\n",
       "      <td>Textiles</td>\n",
       "      <td>#005379</td>\n",
       "    </tr>\n",
       "    <tr>\n",
       "      <th>13</th>\n",
       "      <td>Vehicles</td>\n",
       "      <td>#FDDA64</td>\n",
       "    </tr>\n",
       "    <tr>\n",
       "      <th>14</th>\n",
       "      <td>Other products</td>\n",
       "      <td>#40E0FF</td>\n",
       "    </tr>\n",
       "  </tbody>\n",
       "</table>\n",
       "</div>"
      ],
      "text/plain": [
       "                             Product category Colour_HEX\n",
       "0               Total, all product categories    #7F7F7F\n",
       "1                      Construction materials    #00A1C0\n",
       "2         Electrical and electronic equipment    #FA961E\n",
       "3                                 Electronics    #FEE9A2\n",
       "4                            Major appliances    #FEE9A2\n",
       "5   Other electrical and electronic equipment    #FEE9A2\n",
       "6                                   Packaging    #0BAC43\n",
       "7                                     Bottles    #47F383\n",
       "8                                        Film    #47F383\n",
       "9                            Non-bottle rigid    #47F383\n",
       "10                   Other packaging products    #47F383\n",
       "11                           Agriculture film    #B91E32\n",
       "12                                   Textiles    #005379\n",
       "13                                   Vehicles    #FDDA64\n",
       "14                             Other products    #40E0FF"
      ]
     },
     "execution_count": 94,
     "metadata": {},
     "output_type": "execute_result"
    }
   ],
   "source": [
    "#import CIRAIG colour df (created 2024-05-08)\n",
    "df_prod_category_colours = pd.read_csv('38100150_flow_product-category_colour_matching.csv',sep=',')\n",
    "df_prod_category_colours = pd.DataFrame(df_prod_category_colours, columns=['Product category', 'Colour_HEX'])\n",
    "df_prod_category_colours"
   ]
  },
  {
   "cell_type": "code",
   "execution_count": 95,
   "id": "3fd720cb",
   "metadata": {},
   "outputs": [
    {
     "data": {
      "text/html": [
       "<div>\n",
       "<style scoped>\n",
       "    .dataframe tbody tr th:only-of-type {\n",
       "        vertical-align: middle;\n",
       "    }\n",
       "\n",
       "    .dataframe tbody tr th {\n",
       "        vertical-align: top;\n",
       "    }\n",
       "\n",
       "    .dataframe thead th {\n",
       "        text-align: right;\n",
       "    }\n",
       "</style>\n",
       "<table border=\"1\" class=\"dataframe\">\n",
       "  <thead>\n",
       "    <tr style=\"text-align: right;\">\n",
       "      <th></th>\n",
       "      <th>Unnamed: 0</th>\n",
       "      <th>Variable</th>\n",
       "      <th>Product category</th>\n",
       "      <th>UOM</th>\n",
       "      <th>COORDINATE</th>\n",
       "      <th>VALUE</th>\n",
       "      <th>From</th>\n",
       "      <th>To</th>\n",
       "      <th>Level</th>\n",
       "      <th>Colour_HEX</th>\n",
       "    </tr>\n",
       "  </thead>\n",
       "  <tbody>\n",
       "    <tr>\n",
       "      <th>0</th>\n",
       "      <td>222.0</td>\n",
       "      <td>Disposed plastic waste and scrap sent to landf...</td>\n",
       "      <td>Total, all product categories</td>\n",
       "      <td>Tonnes</td>\n",
       "      <td>1.16.1</td>\n",
       "      <td>3916862.0</td>\n",
       "      <td>Total disposed plastics</td>\n",
       "      <td>Landfill or incineration</td>\n",
       "      <td>2.0</td>\n",
       "      <td>#7F7F7F</td>\n",
       "    </tr>\n",
       "    <tr>\n",
       "      <th>1</th>\n",
       "      <td>223.0</td>\n",
       "      <td>Disposed plastic waste and scrap sent for inci...</td>\n",
       "      <td>Total, all product categories</td>\n",
       "      <td>Tonnes</td>\n",
       "      <td>1.17.1</td>\n",
       "      <td>107577.0</td>\n",
       "      <td>Total disposed plastics</td>\n",
       "      <td>Incineration (WtE) or gasification</td>\n",
       "      <td>2.0</td>\n",
       "      <td>#7F7F7F</td>\n",
       "    </tr>\n",
       "    <tr>\n",
       "      <th>2</th>\n",
       "      <td>224.0</td>\n",
       "      <td>Net trade (imports less exports) of disposed p...</td>\n",
       "      <td>Total, all product categories</td>\n",
       "      <td>Tonnes</td>\n",
       "      <td>1.18.1</td>\n",
       "      <td>496166.0</td>\n",
       "      <td>Total disposed plastics</td>\n",
       "      <td>Net trade disposed plastics</td>\n",
       "      <td>2.0</td>\n",
       "      <td>#7F7F7F</td>\n",
       "    </tr>\n",
       "    <tr>\n",
       "      <th>3</th>\n",
       "      <td>1.0</td>\n",
       "      <td>Plastic in domestically produced products</td>\n",
       "      <td>Construction materials</td>\n",
       "      <td>Tonnes</td>\n",
       "      <td>1.1.2</td>\n",
       "      <td>1353236.0</td>\n",
       "      <td>CA domestic production</td>\n",
       "      <td>CA consumption</td>\n",
       "      <td>2.0</td>\n",
       "      <td>#00A1C0</td>\n",
       "    </tr>\n",
       "    <tr>\n",
       "      <th>4</th>\n",
       "      <td>16.0</td>\n",
       "      <td>Net trade (imports less exports) of newly prod...</td>\n",
       "      <td>Construction materials</td>\n",
       "      <td>Tonnes</td>\n",
       "      <td>1.2.2</td>\n",
       "      <td>192863.0</td>\n",
       "      <td>Net trade of new products</td>\n",
       "      <td>CA consumption</td>\n",
       "      <td>2.0</td>\n",
       "      <td>#00A1C0</td>\n",
       "    </tr>\n",
       "    <tr>\n",
       "      <th>...</th>\n",
       "      <td>...</td>\n",
       "      <td>...</td>\n",
       "      <td>...</td>\n",
       "      <td>...</td>\n",
       "      <td>...</td>\n",
       "      <td>...</td>\n",
       "      <td>...</td>\n",
       "      <td>...</td>\n",
       "      <td>...</td>\n",
       "      <td>...</td>\n",
       "    </tr>\n",
       "    <tr>\n",
       "      <th>107</th>\n",
       "      <td>NaN</td>\n",
       "      <td>NaN</td>\n",
       "      <td>Other electrical and electronic equipment</td>\n",
       "      <td>NaN</td>\n",
       "      <td>NaN</td>\n",
       "      <td>NaN</td>\n",
       "      <td>NaN</td>\n",
       "      <td>NaN</td>\n",
       "      <td>NaN</td>\n",
       "      <td>#FEE9A2</td>\n",
       "    </tr>\n",
       "    <tr>\n",
       "      <th>108</th>\n",
       "      <td>NaN</td>\n",
       "      <td>NaN</td>\n",
       "      <td>Bottles</td>\n",
       "      <td>NaN</td>\n",
       "      <td>NaN</td>\n",
       "      <td>NaN</td>\n",
       "      <td>NaN</td>\n",
       "      <td>NaN</td>\n",
       "      <td>NaN</td>\n",
       "      <td>#47F383</td>\n",
       "    </tr>\n",
       "    <tr>\n",
       "      <th>109</th>\n",
       "      <td>NaN</td>\n",
       "      <td>NaN</td>\n",
       "      <td>Film</td>\n",
       "      <td>NaN</td>\n",
       "      <td>NaN</td>\n",
       "      <td>NaN</td>\n",
       "      <td>NaN</td>\n",
       "      <td>NaN</td>\n",
       "      <td>NaN</td>\n",
       "      <td>#47F383</td>\n",
       "    </tr>\n",
       "    <tr>\n",
       "      <th>110</th>\n",
       "      <td>NaN</td>\n",
       "      <td>NaN</td>\n",
       "      <td>Non-bottle rigid</td>\n",
       "      <td>NaN</td>\n",
       "      <td>NaN</td>\n",
       "      <td>NaN</td>\n",
       "      <td>NaN</td>\n",
       "      <td>NaN</td>\n",
       "      <td>NaN</td>\n",
       "      <td>#47F383</td>\n",
       "    </tr>\n",
       "    <tr>\n",
       "      <th>111</th>\n",
       "      <td>NaN</td>\n",
       "      <td>NaN</td>\n",
       "      <td>Other packaging products</td>\n",
       "      <td>NaN</td>\n",
       "      <td>NaN</td>\n",
       "      <td>NaN</td>\n",
       "      <td>NaN</td>\n",
       "      <td>NaN</td>\n",
       "      <td>NaN</td>\n",
       "      <td>#47F383</td>\n",
       "    </tr>\n",
       "  </tbody>\n",
       "</table>\n",
       "<p>112 rows × 10 columns</p>\n",
       "</div>"
      ],
      "text/plain": [
       "     Unnamed: 0                                           Variable  \\\n",
       "0         222.0  Disposed plastic waste and scrap sent to landf...   \n",
       "1         223.0  Disposed plastic waste and scrap sent for inci...   \n",
       "2         224.0  Net trade (imports less exports) of disposed p...   \n",
       "3           1.0          Plastic in domestically produced products   \n",
       "4          16.0  Net trade (imports less exports) of newly prod...   \n",
       "..          ...                                                ...   \n",
       "107         NaN                                                NaN   \n",
       "108         NaN                                                NaN   \n",
       "109         NaN                                                NaN   \n",
       "110         NaN                                                NaN   \n",
       "111         NaN                                                NaN   \n",
       "\n",
       "                              Product category     UOM COORDINATE      VALUE  \\\n",
       "0                Total, all product categories  Tonnes     1.16.1  3916862.0   \n",
       "1                Total, all product categories  Tonnes     1.17.1   107577.0   \n",
       "2                Total, all product categories  Tonnes     1.18.1   496166.0   \n",
       "3                       Construction materials  Tonnes      1.1.2  1353236.0   \n",
       "4                       Construction materials  Tonnes      1.2.2   192863.0   \n",
       "..                                         ...     ...        ...        ...   \n",
       "107  Other electrical and electronic equipment     NaN        NaN        NaN   \n",
       "108                                    Bottles     NaN        NaN        NaN   \n",
       "109                                       Film     NaN        NaN        NaN   \n",
       "110                           Non-bottle rigid     NaN        NaN        NaN   \n",
       "111                   Other packaging products     NaN        NaN        NaN   \n",
       "\n",
       "                          From                                  To  Level  \\\n",
       "0      Total disposed plastics            Landfill or incineration    2.0   \n",
       "1      Total disposed plastics  Incineration (WtE) or gasification    2.0   \n",
       "2      Total disposed plastics         Net trade disposed plastics    2.0   \n",
       "3       CA domestic production                      CA consumption    2.0   \n",
       "4    Net trade of new products                      CA consumption    2.0   \n",
       "..                         ...                                 ...    ...   \n",
       "107                        NaN                                 NaN    NaN   \n",
       "108                        NaN                                 NaN    NaN   \n",
       "109                        NaN                                 NaN    NaN   \n",
       "110                        NaN                                 NaN    NaN   \n",
       "111                        NaN                                 NaN    NaN   \n",
       "\n",
       "    Colour_HEX  \n",
       "0      #7F7F7F  \n",
       "1      #7F7F7F  \n",
       "2      #7F7F7F  \n",
       "3      #00A1C0  \n",
       "4      #00A1C0  \n",
       "..         ...  \n",
       "107    #FEE9A2  \n",
       "108    #47F383  \n",
       "109    #47F383  \n",
       "110    #47F383  \n",
       "111    #47F383  \n",
       "\n",
       "[112 rows x 10 columns]"
      ]
     },
     "execution_count": 95,
     "metadata": {},
     "output_type": "execute_result"
    }
   ],
   "source": [
    "#Merge colour df with merged_prod_data_2020_CA_2\n",
    "merged_prod_data_2020_CA_2_colour = pd.merge(merged_prod_data_2020_CA_2, df_prod_category_colours, on='Product category', how='outer',\n",
    "                          validate='many_to_many')\n",
    "merged_prod_data_2020_CA_2_colour"
   ]
  },
  {
   "cell_type": "code",
   "execution_count": 96,
   "id": "8a6d0d72",
   "metadata": {},
   "outputs": [
    {
     "data": {
      "text/html": [
       "<div>\n",
       "<style scoped>\n",
       "    .dataframe tbody tr th:only-of-type {\n",
       "        vertical-align: middle;\n",
       "    }\n",
       "\n",
       "    .dataframe tbody tr th {\n",
       "        vertical-align: top;\n",
       "    }\n",
       "\n",
       "    .dataframe thead th {\n",
       "        text-align: right;\n",
       "    }\n",
       "</style>\n",
       "<table border=\"1\" class=\"dataframe\">\n",
       "  <thead>\n",
       "    <tr style=\"text-align: right;\">\n",
       "      <th></th>\n",
       "      <th>VALUE</th>\n",
       "      <th>From</th>\n",
       "      <th>To</th>\n",
       "      <th>Colour_HEX</th>\n",
       "    </tr>\n",
       "  </thead>\n",
       "  <tbody>\n",
       "    <tr>\n",
       "      <th>0</th>\n",
       "      <td>3916862.0</td>\n",
       "      <td>Total disposed plastics</td>\n",
       "      <td>Landfill or incineration</td>\n",
       "      <td>#7F7F7F</td>\n",
       "    </tr>\n",
       "    <tr>\n",
       "      <th>1</th>\n",
       "      <td>107577.0</td>\n",
       "      <td>Total disposed plastics</td>\n",
       "      <td>Incineration (WtE) or gasification</td>\n",
       "      <td>#7F7F7F</td>\n",
       "    </tr>\n",
       "    <tr>\n",
       "      <th>2</th>\n",
       "      <td>496166.0</td>\n",
       "      <td>Total disposed plastics</td>\n",
       "      <td>Net trade disposed plastics</td>\n",
       "      <td>#7F7F7F</td>\n",
       "    </tr>\n",
       "    <tr>\n",
       "      <th>3</th>\n",
       "      <td>1353236.0</td>\n",
       "      <td>CA domestic production</td>\n",
       "      <td>CA consumption</td>\n",
       "      <td>#00A1C0</td>\n",
       "    </tr>\n",
       "    <tr>\n",
       "      <th>4</th>\n",
       "      <td>192863.0</td>\n",
       "      <td>Net trade of new products</td>\n",
       "      <td>CA consumption</td>\n",
       "      <td>#00A1C0</td>\n",
       "    </tr>\n",
       "    <tr>\n",
       "      <th>...</th>\n",
       "      <td>...</td>\n",
       "      <td>...</td>\n",
       "      <td>...</td>\n",
       "      <td>...</td>\n",
       "    </tr>\n",
       "    <tr>\n",
       "      <th>99</th>\n",
       "      <td>9479.0</td>\n",
       "      <td>Material recovery</td>\n",
       "      <td>Recycling</td>\n",
       "      <td>#40E0FF</td>\n",
       "    </tr>\n",
       "    <tr>\n",
       "      <th>100</th>\n",
       "      <td>1492.0</td>\n",
       "      <td>Material recovery</td>\n",
       "      <td>Total disposed plastics</td>\n",
       "      <td>#40E0FF</td>\n",
       "    </tr>\n",
       "    <tr>\n",
       "      <th>101</th>\n",
       "      <td>124.0</td>\n",
       "      <td>Material recovery</td>\n",
       "      <td>Net trade baled plastic</td>\n",
       "      <td>#40E0FF</td>\n",
       "    </tr>\n",
       "    <tr>\n",
       "      <th>102</th>\n",
       "      <td>7520.0</td>\n",
       "      <td>Recycling</td>\n",
       "      <td>Secondary feedstock</td>\n",
       "      <td>#40E0FF</td>\n",
       "    </tr>\n",
       "    <tr>\n",
       "      <th>103</th>\n",
       "      <td>2083.0</td>\n",
       "      <td>Recycling</td>\n",
       "      <td>Total disposed plastics</td>\n",
       "      <td>#40E0FF</td>\n",
       "    </tr>\n",
       "  </tbody>\n",
       "</table>\n",
       "<p>91 rows × 4 columns</p>\n",
       "</div>"
      ],
      "text/plain": [
       "         VALUE                       From                                  To  \\\n",
       "0    3916862.0    Total disposed plastics            Landfill or incineration   \n",
       "1     107577.0    Total disposed plastics  Incineration (WtE) or gasification   \n",
       "2     496166.0    Total disposed plastics         Net trade disposed plastics   \n",
       "3    1353236.0     CA domestic production                      CA consumption   \n",
       "4     192863.0  Net trade of new products                      CA consumption   \n",
       "..         ...                        ...                                 ...   \n",
       "99      9479.0          Material recovery                           Recycling   \n",
       "100     1492.0          Material recovery             Total disposed plastics   \n",
       "101      124.0          Material recovery             Net trade baled plastic   \n",
       "102     7520.0                  Recycling                 Secondary feedstock   \n",
       "103     2083.0                  Recycling             Total disposed plastics   \n",
       "\n",
       "    Colour_HEX  \n",
       "0      #7F7F7F  \n",
       "1      #7F7F7F  \n",
       "2      #7F7F7F  \n",
       "3      #00A1C0  \n",
       "4      #00A1C0  \n",
       "..         ...  \n",
       "99     #40E0FF  \n",
       "100    #40E0FF  \n",
       "101    #40E0FF  \n",
       "102    #40E0FF  \n",
       "103    #40E0FF  \n",
       "\n",
       "[91 rows x 4 columns]"
      ]
     },
     "execution_count": 96,
     "metadata": {},
     "output_type": "execute_result"
    }
   ],
   "source": [
    "#reduce df to only VALUE, From, To and Colour_HEX that are needed for the Sankey\n",
    "links = pd.DataFrame(merged_prod_data_2020_CA_2_colour, columns=['VALUE','From','To','Colour_HEX']) #'Level' not needed anymore\n",
    "\n",
    "#remove rows where From (and To) are \"NaN\"\n",
    "links = links.dropna(subset=['From'])\n",
    "links"
   ]
  },
  {
   "cell_type": "code",
   "execution_count": 97,
   "id": "d5b5e43a",
   "metadata": {},
   "outputs": [
    {
     "data": {
      "text/plain": [
       "['Total disposed plastics',\n",
       " 'CA domestic production',\n",
       " 'Net trade of new products',\n",
       " 'CA consumption',\n",
       " 'Total discarded plastics',\n",
       " 'Collection',\n",
       " 'Material recovery',\n",
       " 'Recycling',\n",
       " 'Landfill or incineration',\n",
       " 'Incineration (WtE) or gasification',\n",
       " 'Net trade disposed plastics',\n",
       " 'Net in-use stock addition',\n",
       " 'Leak into environment',\n",
       " 'Net trade baled plastic',\n",
       " 'Secondary feedstock']"
      ]
     },
     "execution_count": 97,
     "metadata": {},
     "output_type": "execute_result"
    }
   ],
   "source": [
    "#create unique list of source/from and target/to for plotly\n",
    "unique_from_to = list(pd.unique(links[['From','To']].values.ravel('K')))\n",
    "unique_from_to\n"
   ]
  },
  {
   "cell_type": "code",
   "execution_count": 98,
   "id": "d5f38ba2",
   "metadata": {},
   "outputs": [
    {
     "data": {
      "text/plain": [
       "{'VALUE': [3916862.0,\n",
       "  107577.0,\n",
       "  496166.0,\n",
       "  1353236.0,\n",
       "  192863.0,\n",
       "  1380024.0,\n",
       "  166074.0,\n",
       "  1463.0,\n",
       "  164611.0,\n",
       "  11306.0,\n",
       "  153304.0,\n",
       "  9769.0,\n",
       "  1537.0,\n",
       "  5164.0,\n",
       "  3684.0,\n",
       "  921.0,\n",
       "  150005.0,\n",
       "  514365.0,\n",
       "  221161.0,\n",
       "  443209.0,\n",
       "  4006.0,\n",
       "  439203.0,\n",
       "  56202.0,\n",
       "  382850.0,\n",
       "  29366.0,\n",
       "  26835.0,\n",
       "  147.0,\n",
       "  24193.0,\n",
       "  5321.0,\n",
       "  1208134.0,\n",
       "  959097.0,\n",
       "  149169.0,\n",
       "  2018063.0,\n",
       "  17781.0,\n",
       "  2000281.0,\n",
       "  429986.0,\n",
       "  1569399.0,\n",
       "  373048.0,\n",
       "  56938.0,\n",
       "  4639.0,\n",
       "  313507.0,\n",
       "  64180.0,\n",
       "  45374.0,\n",
       "  7770.0,\n",
       "  8863.0,\n",
       "  44281.0,\n",
       "  390.0,\n",
       "  43891.0,\n",
       "  10191.0,\n",
       "  33699.0,\n",
       "  8357.0,\n",
       "  1834.0,\n",
       "  0.0,\n",
       "  7185.0,\n",
       "  1172.0,\n",
       "  68678.0,\n",
       "  221772.0,\n",
       "  9834.0,\n",
       "  280616.0,\n",
       "  2473.0,\n",
       "  278143.0,\n",
       "  2450.0,\n",
       "  275362.0,\n",
       "  2116.0,\n",
       "  333.0,\n",
       "  760703.0,\n",
       "  149584.0,\n",
       "  177688.0,\n",
       "  732599.0,\n",
       "  4977.0,\n",
       "  727622.0,\n",
       "  727559.0,\n",
       "  0.0,\n",
       "  7276.0,\n",
       "  720284.0,\n",
       "  0.0,\n",
       "  6161.0,\n",
       "  1114.0,\n",
       "  888604.0,\n",
       "  600883.0,\n",
       "  246672.0,\n",
       "  1242814.0,\n",
       "  9276.0,\n",
       "  1233538.0,\n",
       "  10971.0,\n",
       "  1221946.0,\n",
       "  9479.0,\n",
       "  1492.0,\n",
       "  124.0,\n",
       "  7520.0,\n",
       "  2083.0],\n",
       " 'From': [0,\n",
       "  0,\n",
       "  0,\n",
       "  1,\n",
       "  2,\n",
       "  3,\n",
       "  3,\n",
       "  4,\n",
       "  4,\n",
       "  5,\n",
       "  5,\n",
       "  6,\n",
       "  6,\n",
       "  6,\n",
       "  7,\n",
       "  7,\n",
       "  1,\n",
       "  2,\n",
       "  3,\n",
       "  3,\n",
       "  4,\n",
       "  4,\n",
       "  5,\n",
       "  5,\n",
       "  6,\n",
       "  6,\n",
       "  6,\n",
       "  7,\n",
       "  7,\n",
       "  1,\n",
       "  2,\n",
       "  3,\n",
       "  3,\n",
       "  4,\n",
       "  4,\n",
       "  5,\n",
       "  5,\n",
       "  6,\n",
       "  6,\n",
       "  6,\n",
       "  7,\n",
       "  7,\n",
       "  1,\n",
       "  2,\n",
       "  3,\n",
       "  3,\n",
       "  4,\n",
       "  4,\n",
       "  5,\n",
       "  5,\n",
       "  6,\n",
       "  6,\n",
       "  6,\n",
       "  7,\n",
       "  7,\n",
       "  1,\n",
       "  2,\n",
       "  3,\n",
       "  3,\n",
       "  4,\n",
       "  4,\n",
       "  5,\n",
       "  5,\n",
       "  6,\n",
       "  6,\n",
       "  1,\n",
       "  2,\n",
       "  3,\n",
       "  3,\n",
       "  4,\n",
       "  4,\n",
       "  5,\n",
       "  5,\n",
       "  6,\n",
       "  6,\n",
       "  6,\n",
       "  7,\n",
       "  7,\n",
       "  1,\n",
       "  2,\n",
       "  3,\n",
       "  3,\n",
       "  4,\n",
       "  4,\n",
       "  5,\n",
       "  5,\n",
       "  6,\n",
       "  6,\n",
       "  6,\n",
       "  7,\n",
       "  7],\n",
       " 'To': [8,\n",
       "  9,\n",
       "  10,\n",
       "  3,\n",
       "  3,\n",
       "  11,\n",
       "  4,\n",
       "  12,\n",
       "  5,\n",
       "  6,\n",
       "  0,\n",
       "  7,\n",
       "  0,\n",
       "  13,\n",
       "  14,\n",
       "  0,\n",
       "  3,\n",
       "  3,\n",
       "  11,\n",
       "  4,\n",
       "  12,\n",
       "  5,\n",
       "  6,\n",
       "  0,\n",
       "  7,\n",
       "  0,\n",
       "  13,\n",
       "  14,\n",
       "  0,\n",
       "  3,\n",
       "  3,\n",
       "  11,\n",
       "  4,\n",
       "  12,\n",
       "  5,\n",
       "  6,\n",
       "  0,\n",
       "  7,\n",
       "  0,\n",
       "  13,\n",
       "  14,\n",
       "  0,\n",
       "  3,\n",
       "  3,\n",
       "  11,\n",
       "  4,\n",
       "  12,\n",
       "  5,\n",
       "  6,\n",
       "  0,\n",
       "  7,\n",
       "  0,\n",
       "  13,\n",
       "  14,\n",
       "  0,\n",
       "  3,\n",
       "  3,\n",
       "  11,\n",
       "  4,\n",
       "  12,\n",
       "  5,\n",
       "  6,\n",
       "  0,\n",
       "  7,\n",
       "  0,\n",
       "  3,\n",
       "  3,\n",
       "  11,\n",
       "  4,\n",
       "  12,\n",
       "  5,\n",
       "  6,\n",
       "  0,\n",
       "  7,\n",
       "  0,\n",
       "  13,\n",
       "  14,\n",
       "  0,\n",
       "  3,\n",
       "  3,\n",
       "  11,\n",
       "  4,\n",
       "  12,\n",
       "  5,\n",
       "  6,\n",
       "  0,\n",
       "  7,\n",
       "  0,\n",
       "  13,\n",
       "  14,\n",
       "  0],\n",
       " 'Colour_HEX': ['#7F7F7F',\n",
       "  '#7F7F7F',\n",
       "  '#7F7F7F',\n",
       "  '#00A1C0',\n",
       "  '#00A1C0',\n",
       "  '#00A1C0',\n",
       "  '#00A1C0',\n",
       "  '#00A1C0',\n",
       "  '#00A1C0',\n",
       "  '#00A1C0',\n",
       "  '#00A1C0',\n",
       "  '#00A1C0',\n",
       "  '#00A1C0',\n",
       "  '#00A1C0',\n",
       "  '#00A1C0',\n",
       "  '#00A1C0',\n",
       "  '#FA961E',\n",
       "  '#FA961E',\n",
       "  '#FA961E',\n",
       "  '#FA961E',\n",
       "  '#FA961E',\n",
       "  '#FA961E',\n",
       "  '#FA961E',\n",
       "  '#FA961E',\n",
       "  '#FA961E',\n",
       "  '#FA961E',\n",
       "  '#FA961E',\n",
       "  '#FA961E',\n",
       "  '#FA961E',\n",
       "  '#0BAC43',\n",
       "  '#0BAC43',\n",
       "  '#0BAC43',\n",
       "  '#0BAC43',\n",
       "  '#0BAC43',\n",
       "  '#0BAC43',\n",
       "  '#0BAC43',\n",
       "  '#0BAC43',\n",
       "  '#0BAC43',\n",
       "  '#0BAC43',\n",
       "  '#0BAC43',\n",
       "  '#0BAC43',\n",
       "  '#0BAC43',\n",
       "  '#B91E32',\n",
       "  '#B91E32',\n",
       "  '#B91E32',\n",
       "  '#B91E32',\n",
       "  '#B91E32',\n",
       "  '#B91E32',\n",
       "  '#B91E32',\n",
       "  '#B91E32',\n",
       "  '#B91E32',\n",
       "  '#B91E32',\n",
       "  '#B91E32',\n",
       "  '#B91E32',\n",
       "  '#B91E32',\n",
       "  '#005379',\n",
       "  '#005379',\n",
       "  '#005379',\n",
       "  '#005379',\n",
       "  '#005379',\n",
       "  '#005379',\n",
       "  '#005379',\n",
       "  '#005379',\n",
       "  '#005379',\n",
       "  '#005379',\n",
       "  '#FDDA64',\n",
       "  '#FDDA64',\n",
       "  '#FDDA64',\n",
       "  '#FDDA64',\n",
       "  '#FDDA64',\n",
       "  '#FDDA64',\n",
       "  '#FDDA64',\n",
       "  '#FDDA64',\n",
       "  '#FDDA64',\n",
       "  '#FDDA64',\n",
       "  '#FDDA64',\n",
       "  '#FDDA64',\n",
       "  '#FDDA64',\n",
       "  '#40E0FF',\n",
       "  '#40E0FF',\n",
       "  '#40E0FF',\n",
       "  '#40E0FF',\n",
       "  '#40E0FF',\n",
       "  '#40E0FF',\n",
       "  '#40E0FF',\n",
       "  '#40E0FF',\n",
       "  '#40E0FF',\n",
       "  '#40E0FF',\n",
       "  '#40E0FF',\n",
       "  '#40E0FF',\n",
       "  '#40E0FF']}"
      ]
     },
     "execution_count": 98,
     "metadata": {},
     "output_type": "execute_result"
    }
   ],
   "source": [
    "mapping_dict={k:v for v,k in enumerate(unique_from_to)}\n",
    "mapping_dict\n",
    "links['From']=links['From'].map(mapping_dict)\n",
    "links['To']=links['To'].map(mapping_dict)\n",
    "links_dict=links.to_dict(orient='list')\n",
    "links_dict"
   ]
  },
  {
   "cell_type": "code",
   "execution_count": 99,
   "id": "509f88b9",
   "metadata": {},
   "outputs": [
    {
     "data": {
      "application/vnd.plotly.v1+json": {
       "config": {
        "plotlyServerURL": "https://plot.ly"
       },
       "data": [
        {
         "link": {
          "color": [
           "#7F7F7F",
           "#7F7F7F",
           "#7F7F7F",
           "#00A1C0",
           "#00A1C0",
           "#00A1C0",
           "#00A1C0",
           "#00A1C0",
           "#00A1C0",
           "#00A1C0",
           "#00A1C0",
           "#00A1C0",
           "#00A1C0",
           "#00A1C0",
           "#00A1C0",
           "#00A1C0",
           "#FA961E",
           "#FA961E",
           "#FA961E",
           "#FA961E",
           "#FA961E",
           "#FA961E",
           "#FA961E",
           "#FA961E",
           "#FA961E",
           "#FA961E",
           "#FA961E",
           "#FA961E",
           "#FA961E",
           "#0BAC43",
           "#0BAC43",
           "#0BAC43",
           "#0BAC43",
           "#0BAC43",
           "#0BAC43",
           "#0BAC43",
           "#0BAC43",
           "#0BAC43",
           "#0BAC43",
           "#0BAC43",
           "#0BAC43",
           "#0BAC43",
           "#B91E32",
           "#B91E32",
           "#B91E32",
           "#B91E32",
           "#B91E32",
           "#B91E32",
           "#B91E32",
           "#B91E32",
           "#B91E32",
           "#B91E32",
           "#B91E32",
           "#B91E32",
           "#B91E32",
           "#005379",
           "#005379",
           "#005379",
           "#005379",
           "#005379",
           "#005379",
           "#005379",
           "#005379",
           "#005379",
           "#005379",
           "#FDDA64",
           "#FDDA64",
           "#FDDA64",
           "#FDDA64",
           "#FDDA64",
           "#FDDA64",
           "#FDDA64",
           "#FDDA64",
           "#FDDA64",
           "#FDDA64",
           "#FDDA64",
           "#FDDA64",
           "#FDDA64",
           "#40E0FF",
           "#40E0FF",
           "#40E0FF",
           "#40E0FF",
           "#40E0FF",
           "#40E0FF",
           "#40E0FF",
           "#40E0FF",
           "#40E0FF",
           "#40E0FF",
           "#40E0FF",
           "#40E0FF",
           "#40E0FF"
          ],
          "source": [
           0,
           0,
           0,
           1,
           2,
           3,
           3,
           4,
           4,
           5,
           5,
           6,
           6,
           6,
           7,
           7,
           1,
           2,
           3,
           3,
           4,
           4,
           5,
           5,
           6,
           6,
           6,
           7,
           7,
           1,
           2,
           3,
           3,
           4,
           4,
           5,
           5,
           6,
           6,
           6,
           7,
           7,
           1,
           2,
           3,
           3,
           4,
           4,
           5,
           5,
           6,
           6,
           6,
           7,
           7,
           1,
           2,
           3,
           3,
           4,
           4,
           5,
           5,
           6,
           6,
           1,
           2,
           3,
           3,
           4,
           4,
           5,
           5,
           6,
           6,
           6,
           7,
           7,
           1,
           2,
           3,
           3,
           4,
           4,
           5,
           5,
           6,
           6,
           6,
           7,
           7
          ],
          "target": [
           8,
           9,
           10,
           3,
           3,
           11,
           4,
           12,
           5,
           6,
           0,
           7,
           0,
           13,
           14,
           0,
           3,
           3,
           11,
           4,
           12,
           5,
           6,
           0,
           7,
           0,
           13,
           14,
           0,
           3,
           3,
           11,
           4,
           12,
           5,
           6,
           0,
           7,
           0,
           13,
           14,
           0,
           3,
           3,
           11,
           4,
           12,
           5,
           6,
           0,
           7,
           0,
           13,
           14,
           0,
           3,
           3,
           11,
           4,
           12,
           5,
           6,
           0,
           7,
           0,
           3,
           3,
           11,
           4,
           12,
           5,
           6,
           0,
           7,
           0,
           13,
           14,
           0,
           3,
           3,
           11,
           4,
           12,
           5,
           6,
           0,
           7,
           0,
           13,
           14,
           0
          ],
          "value": [
           3916862,
           107577,
           496166,
           1353236,
           192863,
           1380024,
           166074,
           1463,
           164611,
           11306,
           153304,
           9769,
           1537,
           5164,
           3684,
           921,
           150005,
           514365,
           221161,
           443209,
           4006,
           439203,
           56202,
           382850,
           29366,
           26835,
           147,
           24193,
           5321,
           1208134,
           959097,
           149169,
           2018063,
           17781,
           2000281,
           429986,
           1569399,
           373048,
           56938,
           4639,
           313507,
           64180,
           45374,
           7770,
           8863,
           44281,
           390,
           43891,
           10191,
           33699,
           8357,
           1834,
           0,
           7185,
           1172,
           68678,
           221772,
           9834,
           280616,
           2473,
           278143,
           2450,
           275362,
           2116,
           333,
           760703,
           149584,
           177688,
           732599,
           4977,
           727622,
           727559,
           0,
           7276,
           720284,
           0,
           6161,
           1114,
           888604,
           600883,
           246672,
           1242814,
           9276,
           1233538,
           10971,
           1221946,
           9479,
           1492,
           124,
           7520,
           2083
          ]
         },
         "node": {
          "color": "#7F7F7F",
          "label": [
           "Total disposed plastics",
           "CA domestic production",
           "Net trade of new products",
           "CA consumption",
           "Total discarded plastics",
           "Collection",
           "Material recovery",
           "Recycling",
           "Landfill or incineration",
           "Incineration (WtE) or gasification",
           "Net trade disposed plastics",
           "Net in-use stock addition",
           "Leak into environment",
           "Net trade baled plastic",
           "Secondary feedstock"
          ],
          "line": {
           "color": "black",
           "width": 0.5
          },
          "pad": 15,
          "thickness": 20
         },
         "type": "sankey",
         "valuesuffix": "t"
        }
       ],
       "layout": {
        "font": {
         "size": 10
        },
        "template": {
         "data": {
          "bar": [
           {
            "error_x": {
             "color": "#2a3f5f"
            },
            "error_y": {
             "color": "#2a3f5f"
            },
            "marker": {
             "line": {
              "color": "#E5ECF6",
              "width": 0.5
             },
             "pattern": {
              "fillmode": "overlay",
              "size": 10,
              "solidity": 0.2
             }
            },
            "type": "bar"
           }
          ],
          "barpolar": [
           {
            "marker": {
             "line": {
              "color": "#E5ECF6",
              "width": 0.5
             },
             "pattern": {
              "fillmode": "overlay",
              "size": 10,
              "solidity": 0.2
             }
            },
            "type": "barpolar"
           }
          ],
          "carpet": [
           {
            "aaxis": {
             "endlinecolor": "#2a3f5f",
             "gridcolor": "white",
             "linecolor": "white",
             "minorgridcolor": "white",
             "startlinecolor": "#2a3f5f"
            },
            "baxis": {
             "endlinecolor": "#2a3f5f",
             "gridcolor": "white",
             "linecolor": "white",
             "minorgridcolor": "white",
             "startlinecolor": "#2a3f5f"
            },
            "type": "carpet"
           }
          ],
          "choropleth": [
           {
            "colorbar": {
             "outlinewidth": 0,
             "ticks": ""
            },
            "type": "choropleth"
           }
          ],
          "contour": [
           {
            "colorbar": {
             "outlinewidth": 0,
             "ticks": ""
            },
            "colorscale": [
             [
              0,
              "#0d0887"
             ],
             [
              0.1111111111111111,
              "#46039f"
             ],
             [
              0.2222222222222222,
              "#7201a8"
             ],
             [
              0.3333333333333333,
              "#9c179e"
             ],
             [
              0.4444444444444444,
              "#bd3786"
             ],
             [
              0.5555555555555556,
              "#d8576b"
             ],
             [
              0.6666666666666666,
              "#ed7953"
             ],
             [
              0.7777777777777778,
              "#fb9f3a"
             ],
             [
              0.8888888888888888,
              "#fdca26"
             ],
             [
              1,
              "#f0f921"
             ]
            ],
            "type": "contour"
           }
          ],
          "contourcarpet": [
           {
            "colorbar": {
             "outlinewidth": 0,
             "ticks": ""
            },
            "type": "contourcarpet"
           }
          ],
          "heatmap": [
           {
            "colorbar": {
             "outlinewidth": 0,
             "ticks": ""
            },
            "colorscale": [
             [
              0,
              "#0d0887"
             ],
             [
              0.1111111111111111,
              "#46039f"
             ],
             [
              0.2222222222222222,
              "#7201a8"
             ],
             [
              0.3333333333333333,
              "#9c179e"
             ],
             [
              0.4444444444444444,
              "#bd3786"
             ],
             [
              0.5555555555555556,
              "#d8576b"
             ],
             [
              0.6666666666666666,
              "#ed7953"
             ],
             [
              0.7777777777777778,
              "#fb9f3a"
             ],
             [
              0.8888888888888888,
              "#fdca26"
             ],
             [
              1,
              "#f0f921"
             ]
            ],
            "type": "heatmap"
           }
          ],
          "heatmapgl": [
           {
            "colorbar": {
             "outlinewidth": 0,
             "ticks": ""
            },
            "colorscale": [
             [
              0,
              "#0d0887"
             ],
             [
              0.1111111111111111,
              "#46039f"
             ],
             [
              0.2222222222222222,
              "#7201a8"
             ],
             [
              0.3333333333333333,
              "#9c179e"
             ],
             [
              0.4444444444444444,
              "#bd3786"
             ],
             [
              0.5555555555555556,
              "#d8576b"
             ],
             [
              0.6666666666666666,
              "#ed7953"
             ],
             [
              0.7777777777777778,
              "#fb9f3a"
             ],
             [
              0.8888888888888888,
              "#fdca26"
             ],
             [
              1,
              "#f0f921"
             ]
            ],
            "type": "heatmapgl"
           }
          ],
          "histogram": [
           {
            "marker": {
             "pattern": {
              "fillmode": "overlay",
              "size": 10,
              "solidity": 0.2
             }
            },
            "type": "histogram"
           }
          ],
          "histogram2d": [
           {
            "colorbar": {
             "outlinewidth": 0,
             "ticks": ""
            },
            "colorscale": [
             [
              0,
              "#0d0887"
             ],
             [
              0.1111111111111111,
              "#46039f"
             ],
             [
              0.2222222222222222,
              "#7201a8"
             ],
             [
              0.3333333333333333,
              "#9c179e"
             ],
             [
              0.4444444444444444,
              "#bd3786"
             ],
             [
              0.5555555555555556,
              "#d8576b"
             ],
             [
              0.6666666666666666,
              "#ed7953"
             ],
             [
              0.7777777777777778,
              "#fb9f3a"
             ],
             [
              0.8888888888888888,
              "#fdca26"
             ],
             [
              1,
              "#f0f921"
             ]
            ],
            "type": "histogram2d"
           }
          ],
          "histogram2dcontour": [
           {
            "colorbar": {
             "outlinewidth": 0,
             "ticks": ""
            },
            "colorscale": [
             [
              0,
              "#0d0887"
             ],
             [
              0.1111111111111111,
              "#46039f"
             ],
             [
              0.2222222222222222,
              "#7201a8"
             ],
             [
              0.3333333333333333,
              "#9c179e"
             ],
             [
              0.4444444444444444,
              "#bd3786"
             ],
             [
              0.5555555555555556,
              "#d8576b"
             ],
             [
              0.6666666666666666,
              "#ed7953"
             ],
             [
              0.7777777777777778,
              "#fb9f3a"
             ],
             [
              0.8888888888888888,
              "#fdca26"
             ],
             [
              1,
              "#f0f921"
             ]
            ],
            "type": "histogram2dcontour"
           }
          ],
          "mesh3d": [
           {
            "colorbar": {
             "outlinewidth": 0,
             "ticks": ""
            },
            "type": "mesh3d"
           }
          ],
          "parcoords": [
           {
            "line": {
             "colorbar": {
              "outlinewidth": 0,
              "ticks": ""
             }
            },
            "type": "parcoords"
           }
          ],
          "pie": [
           {
            "automargin": true,
            "type": "pie"
           }
          ],
          "scatter": [
           {
            "fillpattern": {
             "fillmode": "overlay",
             "size": 10,
             "solidity": 0.2
            },
            "type": "scatter"
           }
          ],
          "scatter3d": [
           {
            "line": {
             "colorbar": {
              "outlinewidth": 0,
              "ticks": ""
             }
            },
            "marker": {
             "colorbar": {
              "outlinewidth": 0,
              "ticks": ""
             }
            },
            "type": "scatter3d"
           }
          ],
          "scattercarpet": [
           {
            "marker": {
             "colorbar": {
              "outlinewidth": 0,
              "ticks": ""
             }
            },
            "type": "scattercarpet"
           }
          ],
          "scattergeo": [
           {
            "marker": {
             "colorbar": {
              "outlinewidth": 0,
              "ticks": ""
             }
            },
            "type": "scattergeo"
           }
          ],
          "scattergl": [
           {
            "marker": {
             "colorbar": {
              "outlinewidth": 0,
              "ticks": ""
             }
            },
            "type": "scattergl"
           }
          ],
          "scattermapbox": [
           {
            "marker": {
             "colorbar": {
              "outlinewidth": 0,
              "ticks": ""
             }
            },
            "type": "scattermapbox"
           }
          ],
          "scatterpolar": [
           {
            "marker": {
             "colorbar": {
              "outlinewidth": 0,
              "ticks": ""
             }
            },
            "type": "scatterpolar"
           }
          ],
          "scatterpolargl": [
           {
            "marker": {
             "colorbar": {
              "outlinewidth": 0,
              "ticks": ""
             }
            },
            "type": "scatterpolargl"
           }
          ],
          "scatterternary": [
           {
            "marker": {
             "colorbar": {
              "outlinewidth": 0,
              "ticks": ""
             }
            },
            "type": "scatterternary"
           }
          ],
          "surface": [
           {
            "colorbar": {
             "outlinewidth": 0,
             "ticks": ""
            },
            "colorscale": [
             [
              0,
              "#0d0887"
             ],
             [
              0.1111111111111111,
              "#46039f"
             ],
             [
              0.2222222222222222,
              "#7201a8"
             ],
             [
              0.3333333333333333,
              "#9c179e"
             ],
             [
              0.4444444444444444,
              "#bd3786"
             ],
             [
              0.5555555555555556,
              "#d8576b"
             ],
             [
              0.6666666666666666,
              "#ed7953"
             ],
             [
              0.7777777777777778,
              "#fb9f3a"
             ],
             [
              0.8888888888888888,
              "#fdca26"
             ],
             [
              1,
              "#f0f921"
             ]
            ],
            "type": "surface"
           }
          ],
          "table": [
           {
            "cells": {
             "fill": {
              "color": "#EBF0F8"
             },
             "line": {
              "color": "white"
             }
            },
            "header": {
             "fill": {
              "color": "#C8D4E3"
             },
             "line": {
              "color": "white"
             }
            },
            "type": "table"
           }
          ]
         },
         "layout": {
          "annotationdefaults": {
           "arrowcolor": "#2a3f5f",
           "arrowhead": 0,
           "arrowwidth": 1
          },
          "autotypenumbers": "strict",
          "coloraxis": {
           "colorbar": {
            "outlinewidth": 0,
            "ticks": ""
           }
          },
          "colorscale": {
           "diverging": [
            [
             0,
             "#8e0152"
            ],
            [
             0.1,
             "#c51b7d"
            ],
            [
             0.2,
             "#de77ae"
            ],
            [
             0.3,
             "#f1b6da"
            ],
            [
             0.4,
             "#fde0ef"
            ],
            [
             0.5,
             "#f7f7f7"
            ],
            [
             0.6,
             "#e6f5d0"
            ],
            [
             0.7,
             "#b8e186"
            ],
            [
             0.8,
             "#7fbc41"
            ],
            [
             0.9,
             "#4d9221"
            ],
            [
             1,
             "#276419"
            ]
           ],
           "sequential": [
            [
             0,
             "#0d0887"
            ],
            [
             0.1111111111111111,
             "#46039f"
            ],
            [
             0.2222222222222222,
             "#7201a8"
            ],
            [
             0.3333333333333333,
             "#9c179e"
            ],
            [
             0.4444444444444444,
             "#bd3786"
            ],
            [
             0.5555555555555556,
             "#d8576b"
            ],
            [
             0.6666666666666666,
             "#ed7953"
            ],
            [
             0.7777777777777778,
             "#fb9f3a"
            ],
            [
             0.8888888888888888,
             "#fdca26"
            ],
            [
             1,
             "#f0f921"
            ]
           ],
           "sequentialminus": [
            [
             0,
             "#0d0887"
            ],
            [
             0.1111111111111111,
             "#46039f"
            ],
            [
             0.2222222222222222,
             "#7201a8"
            ],
            [
             0.3333333333333333,
             "#9c179e"
            ],
            [
             0.4444444444444444,
             "#bd3786"
            ],
            [
             0.5555555555555556,
             "#d8576b"
            ],
            [
             0.6666666666666666,
             "#ed7953"
            ],
            [
             0.7777777777777778,
             "#fb9f3a"
            ],
            [
             0.8888888888888888,
             "#fdca26"
            ],
            [
             1,
             "#f0f921"
            ]
           ]
          },
          "colorway": [
           "#636efa",
           "#EF553B",
           "#00cc96",
           "#ab63fa",
           "#FFA15A",
           "#19d3f3",
           "#FF6692",
           "#B6E880",
           "#FF97FF",
           "#FECB52"
          ],
          "font": {
           "color": "#2a3f5f"
          },
          "geo": {
           "bgcolor": "white",
           "lakecolor": "white",
           "landcolor": "#E5ECF6",
           "showlakes": true,
           "showland": true,
           "subunitcolor": "white"
          },
          "hoverlabel": {
           "align": "left"
          },
          "hovermode": "closest",
          "mapbox": {
           "style": "light"
          },
          "paper_bgcolor": "white",
          "plot_bgcolor": "#E5ECF6",
          "polar": {
           "angularaxis": {
            "gridcolor": "white",
            "linecolor": "white",
            "ticks": ""
           },
           "bgcolor": "#E5ECF6",
           "radialaxis": {
            "gridcolor": "white",
            "linecolor": "white",
            "ticks": ""
           }
          },
          "scene": {
           "xaxis": {
            "backgroundcolor": "#E5ECF6",
            "gridcolor": "white",
            "gridwidth": 2,
            "linecolor": "white",
            "showbackground": true,
            "ticks": "",
            "zerolinecolor": "white"
           },
           "yaxis": {
            "backgroundcolor": "#E5ECF6",
            "gridcolor": "white",
            "gridwidth": 2,
            "linecolor": "white",
            "showbackground": true,
            "ticks": "",
            "zerolinecolor": "white"
           },
           "zaxis": {
            "backgroundcolor": "#E5ECF6",
            "gridcolor": "white",
            "gridwidth": 2,
            "linecolor": "white",
            "showbackground": true,
            "ticks": "",
            "zerolinecolor": "white"
           }
          },
          "shapedefaults": {
           "line": {
            "color": "#2a3f5f"
           }
          },
          "ternary": {
           "aaxis": {
            "gridcolor": "white",
            "linecolor": "white",
            "ticks": ""
           },
           "baxis": {
            "gridcolor": "white",
            "linecolor": "white",
            "ticks": ""
           },
           "bgcolor": "#E5ECF6",
           "caxis": {
            "gridcolor": "white",
            "linecolor": "white",
            "ticks": ""
           }
          },
          "title": {
           "x": 0.05
          },
          "xaxis": {
           "automargin": true,
           "gridcolor": "white",
           "linecolor": "white",
           "ticks": "",
           "title": {
            "standoff": 15
           },
           "zerolinecolor": "white",
           "zerolinewidth": 2
          },
          "yaxis": {
           "automargin": true,
           "gridcolor": "white",
           "linecolor": "white",
           "ticks": "",
           "title": {
            "standoff": 15
           },
           "zerolinecolor": "white",
           "zerolinewidth": 2
          }
         }
        },
        "title": {
         "text": "Plastics in products, 2020, Canada"
        }
       }
      },
      "text/html": [
       "<div>                            <div id=\"6c7b83ed-7bf3-4a91-b10d-566c3a79c466\" class=\"plotly-graph-div\" style=\"height:525px; width:100%;\"></div>            <script type=\"text/javascript\">                require([\"plotly\"], function(Plotly) {                    window.PLOTLYENV=window.PLOTLYENV || {};                                    if (document.getElementById(\"6c7b83ed-7bf3-4a91-b10d-566c3a79c466\")) {                    Plotly.newPlot(                        \"6c7b83ed-7bf3-4a91-b10d-566c3a79c466\",                        [{\"link\":{\"color\":[\"#7F7F7F\",\"#7F7F7F\",\"#7F7F7F\",\"#00A1C0\",\"#00A1C0\",\"#00A1C0\",\"#00A1C0\",\"#00A1C0\",\"#00A1C0\",\"#00A1C0\",\"#00A1C0\",\"#00A1C0\",\"#00A1C0\",\"#00A1C0\",\"#00A1C0\",\"#00A1C0\",\"#FA961E\",\"#FA961E\",\"#FA961E\",\"#FA961E\",\"#FA961E\",\"#FA961E\",\"#FA961E\",\"#FA961E\",\"#FA961E\",\"#FA961E\",\"#FA961E\",\"#FA961E\",\"#FA961E\",\"#0BAC43\",\"#0BAC43\",\"#0BAC43\",\"#0BAC43\",\"#0BAC43\",\"#0BAC43\",\"#0BAC43\",\"#0BAC43\",\"#0BAC43\",\"#0BAC43\",\"#0BAC43\",\"#0BAC43\",\"#0BAC43\",\"#B91E32\",\"#B91E32\",\"#B91E32\",\"#B91E32\",\"#B91E32\",\"#B91E32\",\"#B91E32\",\"#B91E32\",\"#B91E32\",\"#B91E32\",\"#B91E32\",\"#B91E32\",\"#B91E32\",\"#005379\",\"#005379\",\"#005379\",\"#005379\",\"#005379\",\"#005379\",\"#005379\",\"#005379\",\"#005379\",\"#005379\",\"#FDDA64\",\"#FDDA64\",\"#FDDA64\",\"#FDDA64\",\"#FDDA64\",\"#FDDA64\",\"#FDDA64\",\"#FDDA64\",\"#FDDA64\",\"#FDDA64\",\"#FDDA64\",\"#FDDA64\",\"#FDDA64\",\"#40E0FF\",\"#40E0FF\",\"#40E0FF\",\"#40E0FF\",\"#40E0FF\",\"#40E0FF\",\"#40E0FF\",\"#40E0FF\",\"#40E0FF\",\"#40E0FF\",\"#40E0FF\",\"#40E0FF\",\"#40E0FF\"],\"source\":[0,0,0,1,2,3,3,4,4,5,5,6,6,6,7,7,1,2,3,3,4,4,5,5,6,6,6,7,7,1,2,3,3,4,4,5,5,6,6,6,7,7,1,2,3,3,4,4,5,5,6,6,6,7,7,1,2,3,3,4,4,5,5,6,6,1,2,3,3,4,4,5,5,6,6,6,7,7,1,2,3,3,4,4,5,5,6,6,6,7,7],\"target\":[8,9,10,3,3,11,4,12,5,6,0,7,0,13,14,0,3,3,11,4,12,5,6,0,7,0,13,14,0,3,3,11,4,12,5,6,0,7,0,13,14,0,3,3,11,4,12,5,6,0,7,0,13,14,0,3,3,11,4,12,5,6,0,7,0,3,3,11,4,12,5,6,0,7,0,13,14,0,3,3,11,4,12,5,6,0,7,0,13,14,0],\"value\":[3916862.0,107577.0,496166.0,1353236.0,192863.0,1380024.0,166074.0,1463.0,164611.0,11306.0,153304.0,9769.0,1537.0,5164.0,3684.0,921.0,150005.0,514365.0,221161.0,443209.0,4006.0,439203.0,56202.0,382850.0,29366.0,26835.0,147.0,24193.0,5321.0,1208134.0,959097.0,149169.0,2018063.0,17781.0,2000281.0,429986.0,1569399.0,373048.0,56938.0,4639.0,313507.0,64180.0,45374.0,7770.0,8863.0,44281.0,390.0,43891.0,10191.0,33699.0,8357.0,1834.0,0.0,7185.0,1172.0,68678.0,221772.0,9834.0,280616.0,2473.0,278143.0,2450.0,275362.0,2116.0,333.0,760703.0,149584.0,177688.0,732599.0,4977.0,727622.0,727559.0,0.0,7276.0,720284.0,0.0,6161.0,1114.0,888604.0,600883.0,246672.0,1242814.0,9276.0,1233538.0,10971.0,1221946.0,9479.0,1492.0,124.0,7520.0,2083.0]},\"node\":{\"color\":\"#7F7F7F\",\"label\":[\"Total disposed plastics\",\"CA domestic production\",\"Net trade of new products\",\"CA consumption\",\"Total discarded plastics\",\"Collection\",\"Material recovery\",\"Recycling\",\"Landfill or incineration\",\"Incineration (WtE) or gasification\",\"Net trade disposed plastics\",\"Net in-use stock addition\",\"Leak into environment\",\"Net trade baled plastic\",\"Secondary feedstock\"],\"line\":{\"color\":\"black\",\"width\":0.5},\"pad\":15,\"thickness\":20},\"valuesuffix\":\"t\",\"type\":\"sankey\"}],                        {\"template\":{\"data\":{\"histogram2dcontour\":[{\"type\":\"histogram2dcontour\",\"colorbar\":{\"outlinewidth\":0,\"ticks\":\"\"},\"colorscale\":[[0.0,\"#0d0887\"],[0.1111111111111111,\"#46039f\"],[0.2222222222222222,\"#7201a8\"],[0.3333333333333333,\"#9c179e\"],[0.4444444444444444,\"#bd3786\"],[0.5555555555555556,\"#d8576b\"],[0.6666666666666666,\"#ed7953\"],[0.7777777777777778,\"#fb9f3a\"],[0.8888888888888888,\"#fdca26\"],[1.0,\"#f0f921\"]]}],\"choropleth\":[{\"type\":\"choropleth\",\"colorbar\":{\"outlinewidth\":0,\"ticks\":\"\"}}],\"histogram2d\":[{\"type\":\"histogram2d\",\"colorbar\":{\"outlinewidth\":0,\"ticks\":\"\"},\"colorscale\":[[0.0,\"#0d0887\"],[0.1111111111111111,\"#46039f\"],[0.2222222222222222,\"#7201a8\"],[0.3333333333333333,\"#9c179e\"],[0.4444444444444444,\"#bd3786\"],[0.5555555555555556,\"#d8576b\"],[0.6666666666666666,\"#ed7953\"],[0.7777777777777778,\"#fb9f3a\"],[0.8888888888888888,\"#fdca26\"],[1.0,\"#f0f921\"]]}],\"heatmap\":[{\"type\":\"heatmap\",\"colorbar\":{\"outlinewidth\":0,\"ticks\":\"\"},\"colorscale\":[[0.0,\"#0d0887\"],[0.1111111111111111,\"#46039f\"],[0.2222222222222222,\"#7201a8\"],[0.3333333333333333,\"#9c179e\"],[0.4444444444444444,\"#bd3786\"],[0.5555555555555556,\"#d8576b\"],[0.6666666666666666,\"#ed7953\"],[0.7777777777777778,\"#fb9f3a\"],[0.8888888888888888,\"#fdca26\"],[1.0,\"#f0f921\"]]}],\"heatmapgl\":[{\"type\":\"heatmapgl\",\"colorbar\":{\"outlinewidth\":0,\"ticks\":\"\"},\"colorscale\":[[0.0,\"#0d0887\"],[0.1111111111111111,\"#46039f\"],[0.2222222222222222,\"#7201a8\"],[0.3333333333333333,\"#9c179e\"],[0.4444444444444444,\"#bd3786\"],[0.5555555555555556,\"#d8576b\"],[0.6666666666666666,\"#ed7953\"],[0.7777777777777778,\"#fb9f3a\"],[0.8888888888888888,\"#fdca26\"],[1.0,\"#f0f921\"]]}],\"contourcarpet\":[{\"type\":\"contourcarpet\",\"colorbar\":{\"outlinewidth\":0,\"ticks\":\"\"}}],\"contour\":[{\"type\":\"contour\",\"colorbar\":{\"outlinewidth\":0,\"ticks\":\"\"},\"colorscale\":[[0.0,\"#0d0887\"],[0.1111111111111111,\"#46039f\"],[0.2222222222222222,\"#7201a8\"],[0.3333333333333333,\"#9c179e\"],[0.4444444444444444,\"#bd3786\"],[0.5555555555555556,\"#d8576b\"],[0.6666666666666666,\"#ed7953\"],[0.7777777777777778,\"#fb9f3a\"],[0.8888888888888888,\"#fdca26\"],[1.0,\"#f0f921\"]]}],\"surface\":[{\"type\":\"surface\",\"colorbar\":{\"outlinewidth\":0,\"ticks\":\"\"},\"colorscale\":[[0.0,\"#0d0887\"],[0.1111111111111111,\"#46039f\"],[0.2222222222222222,\"#7201a8\"],[0.3333333333333333,\"#9c179e\"],[0.4444444444444444,\"#bd3786\"],[0.5555555555555556,\"#d8576b\"],[0.6666666666666666,\"#ed7953\"],[0.7777777777777778,\"#fb9f3a\"],[0.8888888888888888,\"#fdca26\"],[1.0,\"#f0f921\"]]}],\"mesh3d\":[{\"type\":\"mesh3d\",\"colorbar\":{\"outlinewidth\":0,\"ticks\":\"\"}}],\"scatter\":[{\"fillpattern\":{\"fillmode\":\"overlay\",\"size\":10,\"solidity\":0.2},\"type\":\"scatter\"}],\"parcoords\":[{\"type\":\"parcoords\",\"line\":{\"colorbar\":{\"outlinewidth\":0,\"ticks\":\"\"}}}],\"scatterpolargl\":[{\"type\":\"scatterpolargl\",\"marker\":{\"colorbar\":{\"outlinewidth\":0,\"ticks\":\"\"}}}],\"bar\":[{\"error_x\":{\"color\":\"#2a3f5f\"},\"error_y\":{\"color\":\"#2a3f5f\"},\"marker\":{\"line\":{\"color\":\"#E5ECF6\",\"width\":0.5},\"pattern\":{\"fillmode\":\"overlay\",\"size\":10,\"solidity\":0.2}},\"type\":\"bar\"}],\"scattergeo\":[{\"type\":\"scattergeo\",\"marker\":{\"colorbar\":{\"outlinewidth\":0,\"ticks\":\"\"}}}],\"scatterpolar\":[{\"type\":\"scatterpolar\",\"marker\":{\"colorbar\":{\"outlinewidth\":0,\"ticks\":\"\"}}}],\"histogram\":[{\"marker\":{\"pattern\":{\"fillmode\":\"overlay\",\"size\":10,\"solidity\":0.2}},\"type\":\"histogram\"}],\"scattergl\":[{\"type\":\"scattergl\",\"marker\":{\"colorbar\":{\"outlinewidth\":0,\"ticks\":\"\"}}}],\"scatter3d\":[{\"type\":\"scatter3d\",\"line\":{\"colorbar\":{\"outlinewidth\":0,\"ticks\":\"\"}},\"marker\":{\"colorbar\":{\"outlinewidth\":0,\"ticks\":\"\"}}}],\"scattermapbox\":[{\"type\":\"scattermapbox\",\"marker\":{\"colorbar\":{\"outlinewidth\":0,\"ticks\":\"\"}}}],\"scatterternary\":[{\"type\":\"scatterternary\",\"marker\":{\"colorbar\":{\"outlinewidth\":0,\"ticks\":\"\"}}}],\"scattercarpet\":[{\"type\":\"scattercarpet\",\"marker\":{\"colorbar\":{\"outlinewidth\":0,\"ticks\":\"\"}}}],\"carpet\":[{\"aaxis\":{\"endlinecolor\":\"#2a3f5f\",\"gridcolor\":\"white\",\"linecolor\":\"white\",\"minorgridcolor\":\"white\",\"startlinecolor\":\"#2a3f5f\"},\"baxis\":{\"endlinecolor\":\"#2a3f5f\",\"gridcolor\":\"white\",\"linecolor\":\"white\",\"minorgridcolor\":\"white\",\"startlinecolor\":\"#2a3f5f\"},\"type\":\"carpet\"}],\"table\":[{\"cells\":{\"fill\":{\"color\":\"#EBF0F8\"},\"line\":{\"color\":\"white\"}},\"header\":{\"fill\":{\"color\":\"#C8D4E3\"},\"line\":{\"color\":\"white\"}},\"type\":\"table\"}],\"barpolar\":[{\"marker\":{\"line\":{\"color\":\"#E5ECF6\",\"width\":0.5},\"pattern\":{\"fillmode\":\"overlay\",\"size\":10,\"solidity\":0.2}},\"type\":\"barpolar\"}],\"pie\":[{\"automargin\":true,\"type\":\"pie\"}]},\"layout\":{\"autotypenumbers\":\"strict\",\"colorway\":[\"#636efa\",\"#EF553B\",\"#00cc96\",\"#ab63fa\",\"#FFA15A\",\"#19d3f3\",\"#FF6692\",\"#B6E880\",\"#FF97FF\",\"#FECB52\"],\"font\":{\"color\":\"#2a3f5f\"},\"hovermode\":\"closest\",\"hoverlabel\":{\"align\":\"left\"},\"paper_bgcolor\":\"white\",\"plot_bgcolor\":\"#E5ECF6\",\"polar\":{\"bgcolor\":\"#E5ECF6\",\"angularaxis\":{\"gridcolor\":\"white\",\"linecolor\":\"white\",\"ticks\":\"\"},\"radialaxis\":{\"gridcolor\":\"white\",\"linecolor\":\"white\",\"ticks\":\"\"}},\"ternary\":{\"bgcolor\":\"#E5ECF6\",\"aaxis\":{\"gridcolor\":\"white\",\"linecolor\":\"white\",\"ticks\":\"\"},\"baxis\":{\"gridcolor\":\"white\",\"linecolor\":\"white\",\"ticks\":\"\"},\"caxis\":{\"gridcolor\":\"white\",\"linecolor\":\"white\",\"ticks\":\"\"}},\"coloraxis\":{\"colorbar\":{\"outlinewidth\":0,\"ticks\":\"\"}},\"colorscale\":{\"sequential\":[[0.0,\"#0d0887\"],[0.1111111111111111,\"#46039f\"],[0.2222222222222222,\"#7201a8\"],[0.3333333333333333,\"#9c179e\"],[0.4444444444444444,\"#bd3786\"],[0.5555555555555556,\"#d8576b\"],[0.6666666666666666,\"#ed7953\"],[0.7777777777777778,\"#fb9f3a\"],[0.8888888888888888,\"#fdca26\"],[1.0,\"#f0f921\"]],\"sequentialminus\":[[0.0,\"#0d0887\"],[0.1111111111111111,\"#46039f\"],[0.2222222222222222,\"#7201a8\"],[0.3333333333333333,\"#9c179e\"],[0.4444444444444444,\"#bd3786\"],[0.5555555555555556,\"#d8576b\"],[0.6666666666666666,\"#ed7953\"],[0.7777777777777778,\"#fb9f3a\"],[0.8888888888888888,\"#fdca26\"],[1.0,\"#f0f921\"]],\"diverging\":[[0,\"#8e0152\"],[0.1,\"#c51b7d\"],[0.2,\"#de77ae\"],[0.3,\"#f1b6da\"],[0.4,\"#fde0ef\"],[0.5,\"#f7f7f7\"],[0.6,\"#e6f5d0\"],[0.7,\"#b8e186\"],[0.8,\"#7fbc41\"],[0.9,\"#4d9221\"],[1,\"#276419\"]]},\"xaxis\":{\"gridcolor\":\"white\",\"linecolor\":\"white\",\"ticks\":\"\",\"title\":{\"standoff\":15},\"zerolinecolor\":\"white\",\"automargin\":true,\"zerolinewidth\":2},\"yaxis\":{\"gridcolor\":\"white\",\"linecolor\":\"white\",\"ticks\":\"\",\"title\":{\"standoff\":15},\"zerolinecolor\":\"white\",\"automargin\":true,\"zerolinewidth\":2},\"scene\":{\"xaxis\":{\"backgroundcolor\":\"#E5ECF6\",\"gridcolor\":\"white\",\"linecolor\":\"white\",\"showbackground\":true,\"ticks\":\"\",\"zerolinecolor\":\"white\",\"gridwidth\":2},\"yaxis\":{\"backgroundcolor\":\"#E5ECF6\",\"gridcolor\":\"white\",\"linecolor\":\"white\",\"showbackground\":true,\"ticks\":\"\",\"zerolinecolor\":\"white\",\"gridwidth\":2},\"zaxis\":{\"backgroundcolor\":\"#E5ECF6\",\"gridcolor\":\"white\",\"linecolor\":\"white\",\"showbackground\":true,\"ticks\":\"\",\"zerolinecolor\":\"white\",\"gridwidth\":2}},\"shapedefaults\":{\"line\":{\"color\":\"#2a3f5f\"}},\"annotationdefaults\":{\"arrowcolor\":\"#2a3f5f\",\"arrowhead\":0,\"arrowwidth\":1},\"geo\":{\"bgcolor\":\"white\",\"landcolor\":\"#E5ECF6\",\"subunitcolor\":\"white\",\"showland\":true,\"showlakes\":true,\"lakecolor\":\"white\"},\"title\":{\"x\":0.05},\"mapbox\":{\"style\":\"light\"}}},\"title\":{\"text\":\"Plastics in products, 2020, Canada\"},\"font\":{\"size\":10}},                        {\"responsive\": true}                    ).then(function(){\n",
       "                            \n",
       "var gd = document.getElementById('6c7b83ed-7bf3-4a91-b10d-566c3a79c466');\n",
       "var x = new MutationObserver(function (mutations, observer) {{\n",
       "        var display = window.getComputedStyle(gd).display;\n",
       "        if (!display || display === 'none') {{\n",
       "            console.log([gd, 'removed!']);\n",
       "            Plotly.purge(gd);\n",
       "            observer.disconnect();\n",
       "        }}\n",
       "}});\n",
       "\n",
       "// Listen for the removal of the full notebook cells\n",
       "var notebookContainer = gd.closest('#notebook-container');\n",
       "if (notebookContainer) {{\n",
       "    x.observe(notebookContainer, {childList: true});\n",
       "}}\n",
       "\n",
       "// Listen for the clearing of the current output cell\n",
       "var outputEl = gd.closest('.output');\n",
       "if (outputEl) {{\n",
       "    x.observe(outputEl, {childList: true});\n",
       "}}\n",
       "\n",
       "                        })                };                });            </script>        </div>"
      ]
     },
     "metadata": {},
     "output_type": "display_data"
    }
   ],
   "source": [
    "#add colours to flows based on product category\n",
    "#CIRAIG colour sequence in HEX format\n",
    "#colour = ['#00A1C0','#0BAC43','#FA961E','#B91E32','#005379','#FDDA64'#full colours\n",
    "         #'#40E0FF','#47F383','#FCC078','#E66777','#16B6FF','#FEE9A2'] #one shade brighter\n",
    "        # turqoise, green, orange, red, darkblue, yellow\n",
    "\n",
    "#named CSS color options:\n",
    "            #aliceblue, antiquewhite, aqua, aquamarine, azure,\n",
    "            #beige, bisque, black, blanchedalmond, blue,\n",
    "            #blueviolet, brown, burlywood, cadetblue,\n",
    "            #chartreuse, chocolate, coral, cornflowerblue,\n",
    "            #cornsilk, crimson, cyan, darkblue, darkcyan,\n",
    "            #darkgoldenrod, darkgray, darkgrey, darkgreen,\n",
    "            #darkkhaki, darkmagenta, darkolivegreen, darkorange,\n",
    "            #darkorchid, darkred, darksalmon, darkseagreen,\n",
    "            #darkslateblue, darkslategray, darkslategrey,\n",
    "            #darkturquoise, darkviolet, deeppink, deepskyblue,\n",
    "            #dimgray, dimgrey, dodgerblue, firebrick,\n",
    "            #floralwhite, forestgreen, fuchsia, gainsboro,\n",
    "            #ghostwhite, gold, goldenrod, gray, grey, green,\n",
    "            #greenyellow, honeydew, hotpink, indianred, indigo,\n",
    "            #ivory, khaki, lavender, lavenderblush, lawngreen,\n",
    "            #lemonchiffon, lightblue, lightcoral, lightcyan,\n",
    "            #lightgoldenrodyellow, lightgray, lightgrey,\n",
    "            #lightgreen, lightpink, lightsalmon, lightseagreen,\n",
    "            #lightskyblue, lightslategray, lightslategrey,\n",
    "            #lightsteelblue, lightyellow, lime, limegreen,\n",
    "            #linen, magenta, maroon, mediumaquamarine,\n",
    "            #mediumblue, mediumorchid, mediumpurple,\n",
    "            #mediumseagreen, mediumslateblue, mediumspringgreen,\n",
    "            #mediumturquoise, mediumvioletred, midnightblue,\n",
    "            #mintcream, mistyrose, moccasin, navajowhite, navy,\n",
    "            #oldlace, olive, olivedrab, orange, orangered,\n",
    "            #orchid, palegoldenrod, palegreen, paleturquoise,\n",
    "            #palevioletred, papayawhip, peachpuff, peru, pink,\n",
    "            #plum, powderblue, purple, red, rosybrown,\n",
    "            #royalblue, rebeccapurple, saddlebrown, salmon,\n",
    "            #sandybrown, seagreen, seashell, sienna, silver,\n",
    "            #skyblue, slateblue, slategray, slategrey, snow,\n",
    "            #springgreen, steelblue, tan, teal, thistle, tomato,\n",
    "            #turquoise, violet, wheat, white, whitesmoke,\n",
    "            #yellow, yellowgreen\n",
    "            \n",
    "fig = go.Figure(data=[go.Sankey(\n",
    "    valueformat = None,\n",
    "    valuesuffix = 't', #all flows in unit tonnes\n",
    "    node = dict(\n",
    "      pad = 15,\n",
    "      thickness = 20,\n",
    "      line = dict(color = \"black\", width = 0.5),\n",
    "      label = unique_from_to,\n",
    "      color = \"#7F7F7F\"\n",
    "    ),\n",
    "    link = dict(\n",
    "      source = links_dict['From'], # indices correspond to labels\n",
    "      target = links_dict['To'],\n",
    "      value = links_dict['VALUE'],\n",
    "        color = links_dict['Colour_HEX']\n",
    "  ))])\n",
    "\n",
    "\n",
    "fig.update_layout(title_text=\"Plastics in products, 2020, Canada\", font_size=10)\n",
    "fig.show()"
   ]
  },
  {
   "cell_type": "code",
   "execution_count": 100,
   "id": "8cc99ff0",
   "metadata": {},
   "outputs": [
    {
     "data": {
      "text/plain": [
       "0     #7F7F7F\n",
       "1     #00A1C0\n",
       "2     #FA961E\n",
       "3     #FEE9A2\n",
       "4     #FEE9A2\n",
       "5     #FEE9A2\n",
       "6     #0BAC43\n",
       "7     #47F383\n",
       "8     #47F383\n",
       "9     #47F383\n",
       "10    #47F383\n",
       "11    #B91E32\n",
       "12    #005379\n",
       "13    #FDDA64\n",
       "14    #40E0FF\n",
       "Name: Colour_HEX, dtype: object"
      ]
     },
     "execution_count": 100,
     "metadata": {},
     "output_type": "execute_result"
    }
   ],
   "source": [
    "#creat two lists for legend of product categories and colour\n",
    "categories= df_prod_category_colours['Product category']\n",
    "colors= df_prod_category_colours['Colour_HEX']\n",
    "colors"
   ]
  },
  {
   "cell_type": "code",
   "execution_count": 101,
   "id": "f96a3b62",
   "metadata": {},
   "outputs": [
    {
     "data": {
      "text/plain": [
       "0     #7F7F7F\n",
       "1     #00A1C0\n",
       "2     #FA961E\n",
       "6     #0BAC43\n",
       "11    #B91E32\n",
       "12    #005379\n",
       "13    #FDDA64\n",
       "14    #40E0FF\n",
       "Name: Colour_HEX, dtype: object"
      ]
     },
     "execution_count": 101,
     "metadata": {},
     "output_type": "execute_result"
    }
   ],
   "source": [
    "#remove sub-categories of Electrical and electronic equipment (Electronics, Major appliances, Other electrical and electronic equipment)\n",
    "#and of Packaging (Bottles, Filmm Non-bottle rigid, Other packaging products)\n",
    "#since this level (3) is not displayed here\n",
    "    #remove index 3,4,5 and 7,8,9,10\n",
    "categories= categories.drop([3,4,5,7,8,9,10])\n",
    "colors= colors.drop([3,4,5,7,8,9,10])\n",
    "colors"
   ]
  },
  {
   "cell_type": "code",
   "execution_count": 102,
   "id": "f18b3c77",
   "metadata": {},
   "outputs": [],
   "source": [
    "# Create custom legend\n",
    "#legend_items = []\n",
    "#for category, color in zip(categories, colors):\n",
    "    #legend_items.append(go.Scatter(\n",
    "      #  mode='markers',\n",
    "      #  marker=dict(size=10, color=color),\n",
    "      #  name= category\n",
    "    #))\n",
    "\n",
    "# Add legend to the figure\n",
    "#fig.add_traces(legend_items)\n",
    "\n",
    "# Update layout\n",
    "#fig.update_layout(\n",
    "   # xaxis=dict(visible=False),\n",
    "   # yaxis=dict(visible=False),\n",
    "   # legend=dict(\n",
    "    #    title='Legend',\n",
    "     #   orientation='h',\n",
    "      #  yanchor='top',\n",
    "       # y=1.2,\n",
    "        #xanchor='right',\n",
    "        #x=1\n",
    "    #),\n",
    "    #plot_bgcolor='rgba(0,0,0,0)'\n",
    " #)\n",
    "\n",
    "#fig.show()"
   ]
  },
  {
   "cell_type": "code",
   "execution_count": 103,
   "id": "4436eecd",
   "metadata": {},
   "outputs": [
    {
     "data": {
      "application/vnd.plotly.v1+json": {
       "config": {
        "plotlyServerURL": "https://plot.ly"
       },
       "data": [
        {
         "link": {
          "color": [
           "#7F7F7F",
           "#7F7F7F",
           "#7F7F7F",
           "#00A1C0",
           "#00A1C0",
           "#00A1C0",
           "#00A1C0",
           "#00A1C0",
           "#00A1C0",
           "#00A1C0",
           "#00A1C0",
           "#00A1C0",
           "#00A1C0",
           "#00A1C0",
           "#00A1C0",
           "#00A1C0",
           "#FA961E",
           "#FA961E",
           "#FA961E",
           "#FA961E",
           "#FA961E",
           "#FA961E",
           "#FA961E",
           "#FA961E",
           "#FA961E",
           "#FA961E",
           "#FA961E",
           "#FA961E",
           "#FA961E",
           "#0BAC43",
           "#0BAC43",
           "#0BAC43",
           "#0BAC43",
           "#0BAC43",
           "#0BAC43",
           "#0BAC43",
           "#0BAC43",
           "#0BAC43",
           "#0BAC43",
           "#0BAC43",
           "#0BAC43",
           "#0BAC43",
           "#B91E32",
           "#B91E32",
           "#B91E32",
           "#B91E32",
           "#B91E32",
           "#B91E32",
           "#B91E32",
           "#B91E32",
           "#B91E32",
           "#B91E32",
           "#B91E32",
           "#B91E32",
           "#B91E32",
           "#005379",
           "#005379",
           "#005379",
           "#005379",
           "#005379",
           "#005379",
           "#005379",
           "#005379",
           "#005379",
           "#005379",
           "#FDDA64",
           "#FDDA64",
           "#FDDA64",
           "#FDDA64",
           "#FDDA64",
           "#FDDA64",
           "#FDDA64",
           "#FDDA64",
           "#FDDA64",
           "#FDDA64",
           "#FDDA64",
           "#FDDA64",
           "#FDDA64",
           "#40E0FF",
           "#40E0FF",
           "#40E0FF",
           "#40E0FF",
           "#40E0FF",
           "#40E0FF",
           "#40E0FF",
           "#40E0FF",
           "#40E0FF",
           "#40E0FF",
           "#40E0FF",
           "#40E0FF",
           "#40E0FF"
          ],
          "source": [
           0,
           0,
           0,
           1,
           2,
           3,
           3,
           4,
           4,
           5,
           5,
           6,
           6,
           6,
           7,
           7,
           1,
           2,
           3,
           3,
           4,
           4,
           5,
           5,
           6,
           6,
           6,
           7,
           7,
           1,
           2,
           3,
           3,
           4,
           4,
           5,
           5,
           6,
           6,
           6,
           7,
           7,
           1,
           2,
           3,
           3,
           4,
           4,
           5,
           5,
           6,
           6,
           6,
           7,
           7,
           1,
           2,
           3,
           3,
           4,
           4,
           5,
           5,
           6,
           6,
           1,
           2,
           3,
           3,
           4,
           4,
           5,
           5,
           6,
           6,
           6,
           7,
           7,
           1,
           2,
           3,
           3,
           4,
           4,
           5,
           5,
           6,
           6,
           6,
           7,
           7
          ],
          "target": [
           8,
           9,
           10,
           3,
           3,
           11,
           4,
           12,
           5,
           6,
           0,
           7,
           0,
           13,
           14,
           0,
           3,
           3,
           11,
           4,
           12,
           5,
           6,
           0,
           7,
           0,
           13,
           14,
           0,
           3,
           3,
           11,
           4,
           12,
           5,
           6,
           0,
           7,
           0,
           13,
           14,
           0,
           3,
           3,
           11,
           4,
           12,
           5,
           6,
           0,
           7,
           0,
           13,
           14,
           0,
           3,
           3,
           11,
           4,
           12,
           5,
           6,
           0,
           7,
           0,
           3,
           3,
           11,
           4,
           12,
           5,
           6,
           0,
           7,
           0,
           13,
           14,
           0,
           3,
           3,
           11,
           4,
           12,
           5,
           6,
           0,
           7,
           0,
           13,
           14,
           0
          ],
          "value": [
           3916862,
           107577,
           496166,
           1353236,
           192863,
           1380024,
           166074,
           1463,
           164611,
           11306,
           153304,
           9769,
           1537,
           5164,
           3684,
           921,
           150005,
           514365,
           221161,
           443209,
           4006,
           439203,
           56202,
           382850,
           29366,
           26835,
           147,
           24193,
           5321,
           1208134,
           959097,
           149169,
           2018063,
           17781,
           2000281,
           429986,
           1569399,
           373048,
           56938,
           4639,
           313507,
           64180,
           45374,
           7770,
           8863,
           44281,
           390,
           43891,
           10191,
           33699,
           8357,
           1834,
           0,
           7185,
           1172,
           68678,
           221772,
           9834,
           280616,
           2473,
           278143,
           2450,
           275362,
           2116,
           333,
           760703,
           149584,
           177688,
           732599,
           4977,
           727622,
           727559,
           0,
           7276,
           720284,
           0,
           6161,
           1114,
           888604,
           600883,
           246672,
           1242814,
           9276,
           1233538,
           10971,
           1221946,
           9479,
           1492,
           124,
           7520,
           2083
          ]
         },
         "node": {
          "color": "#7F7F7F",
          "label": [
           "Total disposed plastics",
           "CA domestic production",
           "Net trade of new products",
           "CA consumption",
           "Total discarded plastics",
           "Collection",
           "Material recovery",
           "Recycling",
           "Landfill or incineration",
           "Incineration (WtE) or gasification",
           "Net trade disposed plastics",
           "Net in-use stock addition",
           "Leak into environment",
           "Net trade baled plastic",
           "Secondary feedstock"
          ],
          "line": {
           "color": "black",
           "width": 0.5
          },
          "pad": 15,
          "thickness": 20
         },
         "type": "sankey",
         "valuesuffix": "t"
        },
        {
         "marker": {
          "color": "#7F7F7F",
          "size": 10
         },
         "mode": "markers",
         "name": "Total, all product categories",
         "type": "scatter",
         "x": [
          null
         ],
         "y": [
          null
         ]
        },
        {
         "marker": {
          "color": "#00A1C0",
          "size": 10
         },
         "mode": "markers",
         "name": "Construction materials",
         "type": "scatter",
         "x": [
          null
         ],
         "y": [
          null
         ]
        },
        {
         "marker": {
          "color": "#FA961E",
          "size": 10
         },
         "mode": "markers",
         "name": "Electrical and electronic equipment",
         "type": "scatter",
         "x": [
          null
         ],
         "y": [
          null
         ]
        },
        {
         "marker": {
          "color": "#0BAC43",
          "size": 10
         },
         "mode": "markers",
         "name": "Packaging",
         "type": "scatter",
         "x": [
          null
         ],
         "y": [
          null
         ]
        },
        {
         "marker": {
          "color": "#B91E32",
          "size": 10
         },
         "mode": "markers",
         "name": "Agriculture film",
         "type": "scatter",
         "x": [
          null
         ],
         "y": [
          null
         ]
        },
        {
         "marker": {
          "color": "#005379",
          "size": 10
         },
         "mode": "markers",
         "name": "Textiles",
         "type": "scatter",
         "x": [
          null
         ],
         "y": [
          null
         ]
        },
        {
         "marker": {
          "color": "#FDDA64",
          "size": 10
         },
         "mode": "markers",
         "name": "Vehicles",
         "type": "scatter",
         "x": [
          null
         ],
         "y": [
          null
         ]
        },
        {
         "marker": {
          "color": "#40E0FF",
          "size": 10
         },
         "mode": "markers",
         "name": "Other products",
         "type": "scatter",
         "x": [
          null
         ],
         "y": [
          null
         ]
        }
       ],
       "layout": {
        "font": {
         "size": 20
        },
        "height": 900,
        "legend": {
         "orientation": "h",
         "title": {
          "text": "Legend"
         },
         "x": 1,
         "xanchor": "right",
         "y": 1.1,
         "yanchor": "top"
        },
        "plot_bgcolor": "rgba(0,0,0,0)",
        "showlegend": true,
        "template": {
         "data": {
          "bar": [
           {
            "error_x": {
             "color": "#2a3f5f"
            },
            "error_y": {
             "color": "#2a3f5f"
            },
            "marker": {
             "line": {
              "color": "#E5ECF6",
              "width": 0.5
             },
             "pattern": {
              "fillmode": "overlay",
              "size": 10,
              "solidity": 0.2
             }
            },
            "type": "bar"
           }
          ],
          "barpolar": [
           {
            "marker": {
             "line": {
              "color": "#E5ECF6",
              "width": 0.5
             },
             "pattern": {
              "fillmode": "overlay",
              "size": 10,
              "solidity": 0.2
             }
            },
            "type": "barpolar"
           }
          ],
          "carpet": [
           {
            "aaxis": {
             "endlinecolor": "#2a3f5f",
             "gridcolor": "white",
             "linecolor": "white",
             "minorgridcolor": "white",
             "startlinecolor": "#2a3f5f"
            },
            "baxis": {
             "endlinecolor": "#2a3f5f",
             "gridcolor": "white",
             "linecolor": "white",
             "minorgridcolor": "white",
             "startlinecolor": "#2a3f5f"
            },
            "type": "carpet"
           }
          ],
          "choropleth": [
           {
            "colorbar": {
             "outlinewidth": 0,
             "ticks": ""
            },
            "type": "choropleth"
           }
          ],
          "contour": [
           {
            "colorbar": {
             "outlinewidth": 0,
             "ticks": ""
            },
            "colorscale": [
             [
              0,
              "#0d0887"
             ],
             [
              0.1111111111111111,
              "#46039f"
             ],
             [
              0.2222222222222222,
              "#7201a8"
             ],
             [
              0.3333333333333333,
              "#9c179e"
             ],
             [
              0.4444444444444444,
              "#bd3786"
             ],
             [
              0.5555555555555556,
              "#d8576b"
             ],
             [
              0.6666666666666666,
              "#ed7953"
             ],
             [
              0.7777777777777778,
              "#fb9f3a"
             ],
             [
              0.8888888888888888,
              "#fdca26"
             ],
             [
              1,
              "#f0f921"
             ]
            ],
            "type": "contour"
           }
          ],
          "contourcarpet": [
           {
            "colorbar": {
             "outlinewidth": 0,
             "ticks": ""
            },
            "type": "contourcarpet"
           }
          ],
          "heatmap": [
           {
            "colorbar": {
             "outlinewidth": 0,
             "ticks": ""
            },
            "colorscale": [
             [
              0,
              "#0d0887"
             ],
             [
              0.1111111111111111,
              "#46039f"
             ],
             [
              0.2222222222222222,
              "#7201a8"
             ],
             [
              0.3333333333333333,
              "#9c179e"
             ],
             [
              0.4444444444444444,
              "#bd3786"
             ],
             [
              0.5555555555555556,
              "#d8576b"
             ],
             [
              0.6666666666666666,
              "#ed7953"
             ],
             [
              0.7777777777777778,
              "#fb9f3a"
             ],
             [
              0.8888888888888888,
              "#fdca26"
             ],
             [
              1,
              "#f0f921"
             ]
            ],
            "type": "heatmap"
           }
          ],
          "heatmapgl": [
           {
            "colorbar": {
             "outlinewidth": 0,
             "ticks": ""
            },
            "colorscale": [
             [
              0,
              "#0d0887"
             ],
             [
              0.1111111111111111,
              "#46039f"
             ],
             [
              0.2222222222222222,
              "#7201a8"
             ],
             [
              0.3333333333333333,
              "#9c179e"
             ],
             [
              0.4444444444444444,
              "#bd3786"
             ],
             [
              0.5555555555555556,
              "#d8576b"
             ],
             [
              0.6666666666666666,
              "#ed7953"
             ],
             [
              0.7777777777777778,
              "#fb9f3a"
             ],
             [
              0.8888888888888888,
              "#fdca26"
             ],
             [
              1,
              "#f0f921"
             ]
            ],
            "type": "heatmapgl"
           }
          ],
          "histogram": [
           {
            "marker": {
             "pattern": {
              "fillmode": "overlay",
              "size": 10,
              "solidity": 0.2
             }
            },
            "type": "histogram"
           }
          ],
          "histogram2d": [
           {
            "colorbar": {
             "outlinewidth": 0,
             "ticks": ""
            },
            "colorscale": [
             [
              0,
              "#0d0887"
             ],
             [
              0.1111111111111111,
              "#46039f"
             ],
             [
              0.2222222222222222,
              "#7201a8"
             ],
             [
              0.3333333333333333,
              "#9c179e"
             ],
             [
              0.4444444444444444,
              "#bd3786"
             ],
             [
              0.5555555555555556,
              "#d8576b"
             ],
             [
              0.6666666666666666,
              "#ed7953"
             ],
             [
              0.7777777777777778,
              "#fb9f3a"
             ],
             [
              0.8888888888888888,
              "#fdca26"
             ],
             [
              1,
              "#f0f921"
             ]
            ],
            "type": "histogram2d"
           }
          ],
          "histogram2dcontour": [
           {
            "colorbar": {
             "outlinewidth": 0,
             "ticks": ""
            },
            "colorscale": [
             [
              0,
              "#0d0887"
             ],
             [
              0.1111111111111111,
              "#46039f"
             ],
             [
              0.2222222222222222,
              "#7201a8"
             ],
             [
              0.3333333333333333,
              "#9c179e"
             ],
             [
              0.4444444444444444,
              "#bd3786"
             ],
             [
              0.5555555555555556,
              "#d8576b"
             ],
             [
              0.6666666666666666,
              "#ed7953"
             ],
             [
              0.7777777777777778,
              "#fb9f3a"
             ],
             [
              0.8888888888888888,
              "#fdca26"
             ],
             [
              1,
              "#f0f921"
             ]
            ],
            "type": "histogram2dcontour"
           }
          ],
          "mesh3d": [
           {
            "colorbar": {
             "outlinewidth": 0,
             "ticks": ""
            },
            "type": "mesh3d"
           }
          ],
          "parcoords": [
           {
            "line": {
             "colorbar": {
              "outlinewidth": 0,
              "ticks": ""
             }
            },
            "type": "parcoords"
           }
          ],
          "pie": [
           {
            "automargin": true,
            "type": "pie"
           }
          ],
          "scatter": [
           {
            "fillpattern": {
             "fillmode": "overlay",
             "size": 10,
             "solidity": 0.2
            },
            "type": "scatter"
           }
          ],
          "scatter3d": [
           {
            "line": {
             "colorbar": {
              "outlinewidth": 0,
              "ticks": ""
             }
            },
            "marker": {
             "colorbar": {
              "outlinewidth": 0,
              "ticks": ""
             }
            },
            "type": "scatter3d"
           }
          ],
          "scattercarpet": [
           {
            "marker": {
             "colorbar": {
              "outlinewidth": 0,
              "ticks": ""
             }
            },
            "type": "scattercarpet"
           }
          ],
          "scattergeo": [
           {
            "marker": {
             "colorbar": {
              "outlinewidth": 0,
              "ticks": ""
             }
            },
            "type": "scattergeo"
           }
          ],
          "scattergl": [
           {
            "marker": {
             "colorbar": {
              "outlinewidth": 0,
              "ticks": ""
             }
            },
            "type": "scattergl"
           }
          ],
          "scattermapbox": [
           {
            "marker": {
             "colorbar": {
              "outlinewidth": 0,
              "ticks": ""
             }
            },
            "type": "scattermapbox"
           }
          ],
          "scatterpolar": [
           {
            "marker": {
             "colorbar": {
              "outlinewidth": 0,
              "ticks": ""
             }
            },
            "type": "scatterpolar"
           }
          ],
          "scatterpolargl": [
           {
            "marker": {
             "colorbar": {
              "outlinewidth": 0,
              "ticks": ""
             }
            },
            "type": "scatterpolargl"
           }
          ],
          "scatterternary": [
           {
            "marker": {
             "colorbar": {
              "outlinewidth": 0,
              "ticks": ""
             }
            },
            "type": "scatterternary"
           }
          ],
          "surface": [
           {
            "colorbar": {
             "outlinewidth": 0,
             "ticks": ""
            },
            "colorscale": [
             [
              0,
              "#0d0887"
             ],
             [
              0.1111111111111111,
              "#46039f"
             ],
             [
              0.2222222222222222,
              "#7201a8"
             ],
             [
              0.3333333333333333,
              "#9c179e"
             ],
             [
              0.4444444444444444,
              "#bd3786"
             ],
             [
              0.5555555555555556,
              "#d8576b"
             ],
             [
              0.6666666666666666,
              "#ed7953"
             ],
             [
              0.7777777777777778,
              "#fb9f3a"
             ],
             [
              0.8888888888888888,
              "#fdca26"
             ],
             [
              1,
              "#f0f921"
             ]
            ],
            "type": "surface"
           }
          ],
          "table": [
           {
            "cells": {
             "fill": {
              "color": "#EBF0F8"
             },
             "line": {
              "color": "white"
             }
            },
            "header": {
             "fill": {
              "color": "#C8D4E3"
             },
             "line": {
              "color": "white"
             }
            },
            "type": "table"
           }
          ]
         },
         "layout": {
          "annotationdefaults": {
           "arrowcolor": "#2a3f5f",
           "arrowhead": 0,
           "arrowwidth": 1
          },
          "autotypenumbers": "strict",
          "coloraxis": {
           "colorbar": {
            "outlinewidth": 0,
            "ticks": ""
           }
          },
          "colorscale": {
           "diverging": [
            [
             0,
             "#8e0152"
            ],
            [
             0.1,
             "#c51b7d"
            ],
            [
             0.2,
             "#de77ae"
            ],
            [
             0.3,
             "#f1b6da"
            ],
            [
             0.4,
             "#fde0ef"
            ],
            [
             0.5,
             "#f7f7f7"
            ],
            [
             0.6,
             "#e6f5d0"
            ],
            [
             0.7,
             "#b8e186"
            ],
            [
             0.8,
             "#7fbc41"
            ],
            [
             0.9,
             "#4d9221"
            ],
            [
             1,
             "#276419"
            ]
           ],
           "sequential": [
            [
             0,
             "#0d0887"
            ],
            [
             0.1111111111111111,
             "#46039f"
            ],
            [
             0.2222222222222222,
             "#7201a8"
            ],
            [
             0.3333333333333333,
             "#9c179e"
            ],
            [
             0.4444444444444444,
             "#bd3786"
            ],
            [
             0.5555555555555556,
             "#d8576b"
            ],
            [
             0.6666666666666666,
             "#ed7953"
            ],
            [
             0.7777777777777778,
             "#fb9f3a"
            ],
            [
             0.8888888888888888,
             "#fdca26"
            ],
            [
             1,
             "#f0f921"
            ]
           ],
           "sequentialminus": [
            [
             0,
             "#0d0887"
            ],
            [
             0.1111111111111111,
             "#46039f"
            ],
            [
             0.2222222222222222,
             "#7201a8"
            ],
            [
             0.3333333333333333,
             "#9c179e"
            ],
            [
             0.4444444444444444,
             "#bd3786"
            ],
            [
             0.5555555555555556,
             "#d8576b"
            ],
            [
             0.6666666666666666,
             "#ed7953"
            ],
            [
             0.7777777777777778,
             "#fb9f3a"
            ],
            [
             0.8888888888888888,
             "#fdca26"
            ],
            [
             1,
             "#f0f921"
            ]
           ]
          },
          "colorway": [
           "#636efa",
           "#EF553B",
           "#00cc96",
           "#ab63fa",
           "#FFA15A",
           "#19d3f3",
           "#FF6692",
           "#B6E880",
           "#FF97FF",
           "#FECB52"
          ],
          "font": {
           "color": "#2a3f5f"
          },
          "geo": {
           "bgcolor": "white",
           "lakecolor": "white",
           "landcolor": "#E5ECF6",
           "showlakes": true,
           "showland": true,
           "subunitcolor": "white"
          },
          "hoverlabel": {
           "align": "left"
          },
          "hovermode": "closest",
          "mapbox": {
           "style": "light"
          },
          "paper_bgcolor": "white",
          "plot_bgcolor": "#E5ECF6",
          "polar": {
           "angularaxis": {
            "gridcolor": "white",
            "linecolor": "white",
            "ticks": ""
           },
           "bgcolor": "#E5ECF6",
           "radialaxis": {
            "gridcolor": "white",
            "linecolor": "white",
            "ticks": ""
           }
          },
          "scene": {
           "xaxis": {
            "backgroundcolor": "#E5ECF6",
            "gridcolor": "white",
            "gridwidth": 2,
            "linecolor": "white",
            "showbackground": true,
            "ticks": "",
            "zerolinecolor": "white"
           },
           "yaxis": {
            "backgroundcolor": "#E5ECF6",
            "gridcolor": "white",
            "gridwidth": 2,
            "linecolor": "white",
            "showbackground": true,
            "ticks": "",
            "zerolinecolor": "white"
           },
           "zaxis": {
            "backgroundcolor": "#E5ECF6",
            "gridcolor": "white",
            "gridwidth": 2,
            "linecolor": "white",
            "showbackground": true,
            "ticks": "",
            "zerolinecolor": "white"
           }
          },
          "shapedefaults": {
           "line": {
            "color": "#2a3f5f"
           }
          },
          "ternary": {
           "aaxis": {
            "gridcolor": "white",
            "linecolor": "white",
            "ticks": ""
           },
           "baxis": {
            "gridcolor": "white",
            "linecolor": "white",
            "ticks": ""
           },
           "bgcolor": "#E5ECF6",
           "caxis": {
            "gridcolor": "white",
            "linecolor": "white",
            "ticks": ""
           }
          },
          "title": {
           "x": 0.05
          },
          "xaxis": {
           "automargin": true,
           "gridcolor": "white",
           "linecolor": "white",
           "ticks": "",
           "title": {
            "standoff": 15
           },
           "zerolinecolor": "white",
           "zerolinewidth": 2
          },
          "yaxis": {
           "automargin": true,
           "gridcolor": "white",
           "linecolor": "white",
           "ticks": "",
           "title": {
            "standoff": 15
           },
           "zerolinecolor": "white",
           "zerolinewidth": 2
          }
         }
        },
        "title": {
         "text": ""
        },
        "width": 1920,
        "xaxis": {
         "visible": false
        },
        "yaxis": {
         "visible": false
        }
       }
      },
      "text/html": [
       "<div>                            <div id=\"70d68003-2eff-4bb9-b019-752a19d9d6a6\" class=\"plotly-graph-div\" style=\"height:900px; width:1920px;\"></div>            <script type=\"text/javascript\">                require([\"plotly\"], function(Plotly) {                    window.PLOTLYENV=window.PLOTLYENV || {};                                    if (document.getElementById(\"70d68003-2eff-4bb9-b019-752a19d9d6a6\")) {                    Plotly.newPlot(                        \"70d68003-2eff-4bb9-b019-752a19d9d6a6\",                        [{\"link\":{\"color\":[\"#7F7F7F\",\"#7F7F7F\",\"#7F7F7F\",\"#00A1C0\",\"#00A1C0\",\"#00A1C0\",\"#00A1C0\",\"#00A1C0\",\"#00A1C0\",\"#00A1C0\",\"#00A1C0\",\"#00A1C0\",\"#00A1C0\",\"#00A1C0\",\"#00A1C0\",\"#00A1C0\",\"#FA961E\",\"#FA961E\",\"#FA961E\",\"#FA961E\",\"#FA961E\",\"#FA961E\",\"#FA961E\",\"#FA961E\",\"#FA961E\",\"#FA961E\",\"#FA961E\",\"#FA961E\",\"#FA961E\",\"#0BAC43\",\"#0BAC43\",\"#0BAC43\",\"#0BAC43\",\"#0BAC43\",\"#0BAC43\",\"#0BAC43\",\"#0BAC43\",\"#0BAC43\",\"#0BAC43\",\"#0BAC43\",\"#0BAC43\",\"#0BAC43\",\"#B91E32\",\"#B91E32\",\"#B91E32\",\"#B91E32\",\"#B91E32\",\"#B91E32\",\"#B91E32\",\"#B91E32\",\"#B91E32\",\"#B91E32\",\"#B91E32\",\"#B91E32\",\"#B91E32\",\"#005379\",\"#005379\",\"#005379\",\"#005379\",\"#005379\",\"#005379\",\"#005379\",\"#005379\",\"#005379\",\"#005379\",\"#FDDA64\",\"#FDDA64\",\"#FDDA64\",\"#FDDA64\",\"#FDDA64\",\"#FDDA64\",\"#FDDA64\",\"#FDDA64\",\"#FDDA64\",\"#FDDA64\",\"#FDDA64\",\"#FDDA64\",\"#FDDA64\",\"#40E0FF\",\"#40E0FF\",\"#40E0FF\",\"#40E0FF\",\"#40E0FF\",\"#40E0FF\",\"#40E0FF\",\"#40E0FF\",\"#40E0FF\",\"#40E0FF\",\"#40E0FF\",\"#40E0FF\",\"#40E0FF\"],\"source\":[0,0,0,1,2,3,3,4,4,5,5,6,6,6,7,7,1,2,3,3,4,4,5,5,6,6,6,7,7,1,2,3,3,4,4,5,5,6,6,6,7,7,1,2,3,3,4,4,5,5,6,6,6,7,7,1,2,3,3,4,4,5,5,6,6,1,2,3,3,4,4,5,5,6,6,6,7,7,1,2,3,3,4,4,5,5,6,6,6,7,7],\"target\":[8,9,10,3,3,11,4,12,5,6,0,7,0,13,14,0,3,3,11,4,12,5,6,0,7,0,13,14,0,3,3,11,4,12,5,6,0,7,0,13,14,0,3,3,11,4,12,5,6,0,7,0,13,14,0,3,3,11,4,12,5,6,0,7,0,3,3,11,4,12,5,6,0,7,0,13,14,0,3,3,11,4,12,5,6,0,7,0,13,14,0],\"value\":[3916862.0,107577.0,496166.0,1353236.0,192863.0,1380024.0,166074.0,1463.0,164611.0,11306.0,153304.0,9769.0,1537.0,5164.0,3684.0,921.0,150005.0,514365.0,221161.0,443209.0,4006.0,439203.0,56202.0,382850.0,29366.0,26835.0,147.0,24193.0,5321.0,1208134.0,959097.0,149169.0,2018063.0,17781.0,2000281.0,429986.0,1569399.0,373048.0,56938.0,4639.0,313507.0,64180.0,45374.0,7770.0,8863.0,44281.0,390.0,43891.0,10191.0,33699.0,8357.0,1834.0,0.0,7185.0,1172.0,68678.0,221772.0,9834.0,280616.0,2473.0,278143.0,2450.0,275362.0,2116.0,333.0,760703.0,149584.0,177688.0,732599.0,4977.0,727622.0,727559.0,0.0,7276.0,720284.0,0.0,6161.0,1114.0,888604.0,600883.0,246672.0,1242814.0,9276.0,1233538.0,10971.0,1221946.0,9479.0,1492.0,124.0,7520.0,2083.0]},\"node\":{\"color\":\"#7F7F7F\",\"label\":[\"Total disposed plastics\",\"CA domestic production\",\"Net trade of new products\",\"CA consumption\",\"Total discarded plastics\",\"Collection\",\"Material recovery\",\"Recycling\",\"Landfill or incineration\",\"Incineration (WtE) or gasification\",\"Net trade disposed plastics\",\"Net in-use stock addition\",\"Leak into environment\",\"Net trade baled plastic\",\"Secondary feedstock\"],\"line\":{\"color\":\"black\",\"width\":0.5},\"pad\":15,\"thickness\":20},\"valuesuffix\":\"t\",\"type\":\"sankey\"},{\"marker\":{\"color\":\"#7F7F7F\",\"size\":10},\"mode\":\"markers\",\"name\":\"Total, all product categories\",\"x\":[null],\"y\":[null],\"type\":\"scatter\"},{\"marker\":{\"color\":\"#00A1C0\",\"size\":10},\"mode\":\"markers\",\"name\":\"Construction materials\",\"x\":[null],\"y\":[null],\"type\":\"scatter\"},{\"marker\":{\"color\":\"#FA961E\",\"size\":10},\"mode\":\"markers\",\"name\":\"Electrical and electronic equipment\",\"x\":[null],\"y\":[null],\"type\":\"scatter\"},{\"marker\":{\"color\":\"#0BAC43\",\"size\":10},\"mode\":\"markers\",\"name\":\"Packaging\",\"x\":[null],\"y\":[null],\"type\":\"scatter\"},{\"marker\":{\"color\":\"#B91E32\",\"size\":10},\"mode\":\"markers\",\"name\":\"Agriculture film\",\"x\":[null],\"y\":[null],\"type\":\"scatter\"},{\"marker\":{\"color\":\"#005379\",\"size\":10},\"mode\":\"markers\",\"name\":\"Textiles\",\"x\":[null],\"y\":[null],\"type\":\"scatter\"},{\"marker\":{\"color\":\"#FDDA64\",\"size\":10},\"mode\":\"markers\",\"name\":\"Vehicles\",\"x\":[null],\"y\":[null],\"type\":\"scatter\"},{\"marker\":{\"color\":\"#40E0FF\",\"size\":10},\"mode\":\"markers\",\"name\":\"Other products\",\"x\":[null],\"y\":[null],\"type\":\"scatter\"}],                        {\"template\":{\"data\":{\"histogram2dcontour\":[{\"type\":\"histogram2dcontour\",\"colorbar\":{\"outlinewidth\":0,\"ticks\":\"\"},\"colorscale\":[[0.0,\"#0d0887\"],[0.1111111111111111,\"#46039f\"],[0.2222222222222222,\"#7201a8\"],[0.3333333333333333,\"#9c179e\"],[0.4444444444444444,\"#bd3786\"],[0.5555555555555556,\"#d8576b\"],[0.6666666666666666,\"#ed7953\"],[0.7777777777777778,\"#fb9f3a\"],[0.8888888888888888,\"#fdca26\"],[1.0,\"#f0f921\"]]}],\"choropleth\":[{\"type\":\"choropleth\",\"colorbar\":{\"outlinewidth\":0,\"ticks\":\"\"}}],\"histogram2d\":[{\"type\":\"histogram2d\",\"colorbar\":{\"outlinewidth\":0,\"ticks\":\"\"},\"colorscale\":[[0.0,\"#0d0887\"],[0.1111111111111111,\"#46039f\"],[0.2222222222222222,\"#7201a8\"],[0.3333333333333333,\"#9c179e\"],[0.4444444444444444,\"#bd3786\"],[0.5555555555555556,\"#d8576b\"],[0.6666666666666666,\"#ed7953\"],[0.7777777777777778,\"#fb9f3a\"],[0.8888888888888888,\"#fdca26\"],[1.0,\"#f0f921\"]]}],\"heatmap\":[{\"type\":\"heatmap\",\"colorbar\":{\"outlinewidth\":0,\"ticks\":\"\"},\"colorscale\":[[0.0,\"#0d0887\"],[0.1111111111111111,\"#46039f\"],[0.2222222222222222,\"#7201a8\"],[0.3333333333333333,\"#9c179e\"],[0.4444444444444444,\"#bd3786\"],[0.5555555555555556,\"#d8576b\"],[0.6666666666666666,\"#ed7953\"],[0.7777777777777778,\"#fb9f3a\"],[0.8888888888888888,\"#fdca26\"],[1.0,\"#f0f921\"]]}],\"heatmapgl\":[{\"type\":\"heatmapgl\",\"colorbar\":{\"outlinewidth\":0,\"ticks\":\"\"},\"colorscale\":[[0.0,\"#0d0887\"],[0.1111111111111111,\"#46039f\"],[0.2222222222222222,\"#7201a8\"],[0.3333333333333333,\"#9c179e\"],[0.4444444444444444,\"#bd3786\"],[0.5555555555555556,\"#d8576b\"],[0.6666666666666666,\"#ed7953\"],[0.7777777777777778,\"#fb9f3a\"],[0.8888888888888888,\"#fdca26\"],[1.0,\"#f0f921\"]]}],\"contourcarpet\":[{\"type\":\"contourcarpet\",\"colorbar\":{\"outlinewidth\":0,\"ticks\":\"\"}}],\"contour\":[{\"type\":\"contour\",\"colorbar\":{\"outlinewidth\":0,\"ticks\":\"\"},\"colorscale\":[[0.0,\"#0d0887\"],[0.1111111111111111,\"#46039f\"],[0.2222222222222222,\"#7201a8\"],[0.3333333333333333,\"#9c179e\"],[0.4444444444444444,\"#bd3786\"],[0.5555555555555556,\"#d8576b\"],[0.6666666666666666,\"#ed7953\"],[0.7777777777777778,\"#fb9f3a\"],[0.8888888888888888,\"#fdca26\"],[1.0,\"#f0f921\"]]}],\"surface\":[{\"type\":\"surface\",\"colorbar\":{\"outlinewidth\":0,\"ticks\":\"\"},\"colorscale\":[[0.0,\"#0d0887\"],[0.1111111111111111,\"#46039f\"],[0.2222222222222222,\"#7201a8\"],[0.3333333333333333,\"#9c179e\"],[0.4444444444444444,\"#bd3786\"],[0.5555555555555556,\"#d8576b\"],[0.6666666666666666,\"#ed7953\"],[0.7777777777777778,\"#fb9f3a\"],[0.8888888888888888,\"#fdca26\"],[1.0,\"#f0f921\"]]}],\"mesh3d\":[{\"type\":\"mesh3d\",\"colorbar\":{\"outlinewidth\":0,\"ticks\":\"\"}}],\"scatter\":[{\"fillpattern\":{\"fillmode\":\"overlay\",\"size\":10,\"solidity\":0.2},\"type\":\"scatter\"}],\"parcoords\":[{\"type\":\"parcoords\",\"line\":{\"colorbar\":{\"outlinewidth\":0,\"ticks\":\"\"}}}],\"scatterpolargl\":[{\"type\":\"scatterpolargl\",\"marker\":{\"colorbar\":{\"outlinewidth\":0,\"ticks\":\"\"}}}],\"bar\":[{\"error_x\":{\"color\":\"#2a3f5f\"},\"error_y\":{\"color\":\"#2a3f5f\"},\"marker\":{\"line\":{\"color\":\"#E5ECF6\",\"width\":0.5},\"pattern\":{\"fillmode\":\"overlay\",\"size\":10,\"solidity\":0.2}},\"type\":\"bar\"}],\"scattergeo\":[{\"type\":\"scattergeo\",\"marker\":{\"colorbar\":{\"outlinewidth\":0,\"ticks\":\"\"}}}],\"scatterpolar\":[{\"type\":\"scatterpolar\",\"marker\":{\"colorbar\":{\"outlinewidth\":0,\"ticks\":\"\"}}}],\"histogram\":[{\"marker\":{\"pattern\":{\"fillmode\":\"overlay\",\"size\":10,\"solidity\":0.2}},\"type\":\"histogram\"}],\"scattergl\":[{\"type\":\"scattergl\",\"marker\":{\"colorbar\":{\"outlinewidth\":0,\"ticks\":\"\"}}}],\"scatter3d\":[{\"type\":\"scatter3d\",\"line\":{\"colorbar\":{\"outlinewidth\":0,\"ticks\":\"\"}},\"marker\":{\"colorbar\":{\"outlinewidth\":0,\"ticks\":\"\"}}}],\"scattermapbox\":[{\"type\":\"scattermapbox\",\"marker\":{\"colorbar\":{\"outlinewidth\":0,\"ticks\":\"\"}}}],\"scatterternary\":[{\"type\":\"scatterternary\",\"marker\":{\"colorbar\":{\"outlinewidth\":0,\"ticks\":\"\"}}}],\"scattercarpet\":[{\"type\":\"scattercarpet\",\"marker\":{\"colorbar\":{\"outlinewidth\":0,\"ticks\":\"\"}}}],\"carpet\":[{\"aaxis\":{\"endlinecolor\":\"#2a3f5f\",\"gridcolor\":\"white\",\"linecolor\":\"white\",\"minorgridcolor\":\"white\",\"startlinecolor\":\"#2a3f5f\"},\"baxis\":{\"endlinecolor\":\"#2a3f5f\",\"gridcolor\":\"white\",\"linecolor\":\"white\",\"minorgridcolor\":\"white\",\"startlinecolor\":\"#2a3f5f\"},\"type\":\"carpet\"}],\"table\":[{\"cells\":{\"fill\":{\"color\":\"#EBF0F8\"},\"line\":{\"color\":\"white\"}},\"header\":{\"fill\":{\"color\":\"#C8D4E3\"},\"line\":{\"color\":\"white\"}},\"type\":\"table\"}],\"barpolar\":[{\"marker\":{\"line\":{\"color\":\"#E5ECF6\",\"width\":0.5},\"pattern\":{\"fillmode\":\"overlay\",\"size\":10,\"solidity\":0.2}},\"type\":\"barpolar\"}],\"pie\":[{\"automargin\":true,\"type\":\"pie\"}]},\"layout\":{\"autotypenumbers\":\"strict\",\"colorway\":[\"#636efa\",\"#EF553B\",\"#00cc96\",\"#ab63fa\",\"#FFA15A\",\"#19d3f3\",\"#FF6692\",\"#B6E880\",\"#FF97FF\",\"#FECB52\"],\"font\":{\"color\":\"#2a3f5f\"},\"hovermode\":\"closest\",\"hoverlabel\":{\"align\":\"left\"},\"paper_bgcolor\":\"white\",\"plot_bgcolor\":\"#E5ECF6\",\"polar\":{\"bgcolor\":\"#E5ECF6\",\"angularaxis\":{\"gridcolor\":\"white\",\"linecolor\":\"white\",\"ticks\":\"\"},\"radialaxis\":{\"gridcolor\":\"white\",\"linecolor\":\"white\",\"ticks\":\"\"}},\"ternary\":{\"bgcolor\":\"#E5ECF6\",\"aaxis\":{\"gridcolor\":\"white\",\"linecolor\":\"white\",\"ticks\":\"\"},\"baxis\":{\"gridcolor\":\"white\",\"linecolor\":\"white\",\"ticks\":\"\"},\"caxis\":{\"gridcolor\":\"white\",\"linecolor\":\"white\",\"ticks\":\"\"}},\"coloraxis\":{\"colorbar\":{\"outlinewidth\":0,\"ticks\":\"\"}},\"colorscale\":{\"sequential\":[[0.0,\"#0d0887\"],[0.1111111111111111,\"#46039f\"],[0.2222222222222222,\"#7201a8\"],[0.3333333333333333,\"#9c179e\"],[0.4444444444444444,\"#bd3786\"],[0.5555555555555556,\"#d8576b\"],[0.6666666666666666,\"#ed7953\"],[0.7777777777777778,\"#fb9f3a\"],[0.8888888888888888,\"#fdca26\"],[1.0,\"#f0f921\"]],\"sequentialminus\":[[0.0,\"#0d0887\"],[0.1111111111111111,\"#46039f\"],[0.2222222222222222,\"#7201a8\"],[0.3333333333333333,\"#9c179e\"],[0.4444444444444444,\"#bd3786\"],[0.5555555555555556,\"#d8576b\"],[0.6666666666666666,\"#ed7953\"],[0.7777777777777778,\"#fb9f3a\"],[0.8888888888888888,\"#fdca26\"],[1.0,\"#f0f921\"]],\"diverging\":[[0,\"#8e0152\"],[0.1,\"#c51b7d\"],[0.2,\"#de77ae\"],[0.3,\"#f1b6da\"],[0.4,\"#fde0ef\"],[0.5,\"#f7f7f7\"],[0.6,\"#e6f5d0\"],[0.7,\"#b8e186\"],[0.8,\"#7fbc41\"],[0.9,\"#4d9221\"],[1,\"#276419\"]]},\"xaxis\":{\"gridcolor\":\"white\",\"linecolor\":\"white\",\"ticks\":\"\",\"title\":{\"standoff\":15},\"zerolinecolor\":\"white\",\"automargin\":true,\"zerolinewidth\":2},\"yaxis\":{\"gridcolor\":\"white\",\"linecolor\":\"white\",\"ticks\":\"\",\"title\":{\"standoff\":15},\"zerolinecolor\":\"white\",\"automargin\":true,\"zerolinewidth\":2},\"scene\":{\"xaxis\":{\"backgroundcolor\":\"#E5ECF6\",\"gridcolor\":\"white\",\"linecolor\":\"white\",\"showbackground\":true,\"ticks\":\"\",\"zerolinecolor\":\"white\",\"gridwidth\":2},\"yaxis\":{\"backgroundcolor\":\"#E5ECF6\",\"gridcolor\":\"white\",\"linecolor\":\"white\",\"showbackground\":true,\"ticks\":\"\",\"zerolinecolor\":\"white\",\"gridwidth\":2},\"zaxis\":{\"backgroundcolor\":\"#E5ECF6\",\"gridcolor\":\"white\",\"linecolor\":\"white\",\"showbackground\":true,\"ticks\":\"\",\"zerolinecolor\":\"white\",\"gridwidth\":2}},\"shapedefaults\":{\"line\":{\"color\":\"#2a3f5f\"}},\"annotationdefaults\":{\"arrowcolor\":\"#2a3f5f\",\"arrowhead\":0,\"arrowwidth\":1},\"geo\":{\"bgcolor\":\"white\",\"landcolor\":\"#E5ECF6\",\"subunitcolor\":\"white\",\"showland\":true,\"showlakes\":true,\"lakecolor\":\"white\"},\"title\":{\"x\":0.05},\"mapbox\":{\"style\":\"light\"}}},\"title\":{\"text\":\"\"},\"font\":{\"size\":20},\"xaxis\":{\"visible\":false},\"yaxis\":{\"visible\":false},\"legend\":{\"title\":{\"text\":\"Legend\"},\"orientation\":\"h\",\"yanchor\":\"top\",\"y\":1.1,\"xanchor\":\"right\",\"x\":1},\"showlegend\":true,\"width\":1920,\"height\":900,\"plot_bgcolor\":\"rgba(0,0,0,0)\"},                        {\"responsive\": true}                    ).then(function(){\n",
       "                            \n",
       "var gd = document.getElementById('70d68003-2eff-4bb9-b019-752a19d9d6a6');\n",
       "var x = new MutationObserver(function (mutations, observer) {{\n",
       "        var display = window.getComputedStyle(gd).display;\n",
       "        if (!display || display === 'none') {{\n",
       "            console.log([gd, 'removed!']);\n",
       "            Plotly.purge(gd);\n",
       "            observer.disconnect();\n",
       "        }}\n",
       "}});\n",
       "\n",
       "// Listen for the removal of the full notebook cells\n",
       "var notebookContainer = gd.closest('#notebook-container');\n",
       "if (notebookContainer) {{\n",
       "    x.observe(notebookContainer, {childList: true});\n",
       "}}\n",
       "\n",
       "// Listen for the clearing of the current output cell\n",
       "var outputEl = gd.closest('.output');\n",
       "if (outputEl) {{\n",
       "    x.observe(outputEl, {childList: true});\n",
       "}}\n",
       "\n",
       "                        })                };                });            </script>        </div>"
      ]
     },
     "metadata": {},
     "output_type": "display_data"
    }
   ],
   "source": [
    "#Try another way how to plot a legend on the graph\n",
    "\n",
    "# Create legend\n",
    "legend_trace = []\n",
    "for idx, (cat, color) in enumerate(zip(categories, colors)):\n",
    "    legend_trace.append(go.Scatter(\n",
    "        x=[None],\n",
    "        y=[None],\n",
    "        mode='markers',\n",
    "        marker=dict(size=10, color=color),\n",
    "        name=cat\n",
    "    ))\n",
    "\n",
    "# Add legend to the figure\n",
    "for trace in legend_trace:\n",
    "    fig.add_trace(trace)\n",
    "\n",
    "# Update layout of the legend plot\n",
    "fig.update_layout(\n",
    "    xaxis=dict(visible=False),\n",
    "    yaxis=dict(visible=False),\n",
    "    showlegend=True,\n",
    "    legend=dict(\n",
    "        title='Legend',\n",
    "        orientation='h',\n",
    "        yanchor='top',\n",
    "        y=1.1,\n",
    "        xanchor='right',\n",
    "        x=1),\n",
    "    width=1920,\n",
    "    height=900,\n",
    "    font=dict(size=20),\n",
    "    title=\"\",\n",
    "    plot_bgcolor='rgba(0,0,0,0)'\n",
    ")\n",
    "\n",
    "# Display the figure\n",
    "fig.show()\n"
   ]
  },
  {
   "cell_type": "code",
   "execution_count": null,
   "id": "ef4f73dc",
   "metadata": {},
   "outputs": [],
   "source": []
  }
 ],
 "metadata": {
  "kernelspec": {
   "display_name": "Python 3 (ipykernel)",
   "language": "python",
   "name": "python3"
  },
  "language_info": {
   "codemirror_mode": {
    "name": "ipython",
    "version": 3
   },
   "file_extension": ".py",
   "mimetype": "text/x-python",
   "name": "python",
   "nbconvert_exporter": "python",
   "pygments_lexer": "ipython3",
   "version": "3.10.9"
  }
 },
 "nbformat": 4,
 "nbformat_minor": 5
}
